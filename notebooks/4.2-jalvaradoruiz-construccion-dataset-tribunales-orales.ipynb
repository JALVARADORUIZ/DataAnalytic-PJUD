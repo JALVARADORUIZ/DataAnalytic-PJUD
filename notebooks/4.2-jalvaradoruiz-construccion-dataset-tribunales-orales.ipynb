{
 "cells": [
  {
   "cell_type": "code",
   "execution_count": 1,
   "metadata": {},
   "outputs": [],
   "source": [
    "import re\n",
    "import os\n",
    "import pandas as pd\n",
    "import numpy as np\n",
    "\n",
    "from tqdm import tqdm\n",
    "from unicodedata import normalize\n",
    "\n",
    "from src.data import cleandata"
   ]
  },
  {
   "cell_type": "code",
   "execution_count": 2,
   "metadata": {},
   "outputs": [
    {
     "name": "stderr",
     "output_type": "stream",
     "text": [
      "/Users/jalvaradoruiz/opt/anaconda3/lib/python3.7/site-packages/tqdm/std.py:658: FutureWarning: The Panel class is removed from pandas. Accessing it from the top-level namespace will also be removed in the next version\n",
      "  from pandas import Panel\n"
     ]
    }
   ],
   "source": [
    "tqdm.pandas()"
   ]
  },
  {
   "cell_type": "code",
   "execution_count": null,
   "metadata": {},
   "outputs": [],
   "source": [
    "path_raw = \"../data/raw/cot\""
   ]
  },
  {
   "cell_type": "markdown",
   "metadata": {},
   "source": [
    "## Articulo 21 COT ref: TRIBUNALES ORALES\n"
   ]
  },
  {
   "cell_type": "code",
   "execution_count": 3,
   "metadata": {},
   "outputs": [],
   "source": [
    "with open(f'{path_raw}/Tribunales_orales.txt', 'r') as file:\n",
    "    contenido_top = ''\n",
    "    for line in file.readlines():\n",
    "        contenido_top += line"
   ]
  },
  {
   "cell_type": "code",
   "execution_count": 4,
   "metadata": {},
   "outputs": [],
   "source": [
    "regex_top=r\"(?:(?P<Region>^[\\w \\']+)\\:\\n)|(?P<JG>^[\\w. \\-]+)\\,\\scon\\s(?P<Jueces>[\\w.\\-]+)[a-z\\-\\s\\,]+(?P<Competencia>\\.|\\s[\\w. \\-\\,\\']+)\"\n",
    "matches = re.findall(regex_top, contenido_top, re.MULTILINE)\n",
    "#matches\n",
    "\n",
    "# GENERA UNA ARREGLO DE LISTA DE 4 ELEMENTOS\n",
    "\n",
    "# ELEMENTO 0 : REGIÓN\n",
    "# ELEMENTO 1: TRIBUNAL ORAL DE ...\n",
    "# ELEMENTO 2: Cantidad de Jueces\n",
    "# ELEMENTO 3: Competencia (. es lo mismo de 3 0 7) o varias ciudades (separadas por , o y)\n"
   ]
  },
  {
   "cell_type": "code",
   "execution_count": 5,
   "metadata": {},
   "outputs": [],
   "source": [
    "data_top=[]\n",
    "\n",
    "for item in range(0,len(matches)):\n",
    "    if matches[item][0] != '':\n",
    "        region = matches[item][0].upper()\n",
    "    else:    \n",
    "        if matches[item][1] != '':\n",
    "            ciudad = matches[item][1].upper() \n",
    "            if ciudad.find(\"TRIBUNAL\") != -1:\n",
    "                juzgado = ciudad\n",
    "                \n",
    "            else:\n",
    "                juzgado = f\"TRIBUNAL DE JUICIO ORAL EN LO PENAL {ciudad}\"\n",
    "\n",
    "        if matches[item][2] != '':\n",
    "            cantidad_jueces = cleandata.transforma_numero(matches[item][2])\n",
    "    \n",
    "        if matches[item][3] == '.':\n",
    "            competencia = ciudad\n",
    "        \n",
    "        else:  \n",
    "            if matches[item][3] != '':\n",
    "                competencia = matches[item][3].upper()\n",
    "        \n",
    "        competencia = competencia.replace(\" Y \",\",\")\n",
    "        competencia = competencia.replace(\" E \",\",\")\n",
    "        competencia = competencia.replace(\".\",\"\")\n",
    "        \n",
    "        comunas = competencia.split(\",\")\n",
    "        \n",
    "        for comuna in comunas:\n",
    "            data_top.append([region,juzgado,ciudad,cantidad_jueces,comuna.strip(),'ORAL'])\n",
    "   \n",
    "df_tribunal_oral = pd.DataFrame(data_top, columns = ['REGION','TRIBUNAL','ASIENTO','JUECES','COMUNA','TIPO JUZGADO'])\n"
   ]
  },
  {
   "cell_type": "code",
   "execution_count": 6,
   "metadata": {},
   "outputs": [
    {
     "name": "stderr",
     "output_type": "stream",
     "text": [
      "100%|██████████| 5/5 [00:00<00:00, 221.17it/s]\n"
     ]
    }
   ],
   "source": [
    "df_tribunal_oral['JUECES'] = df_tribunal_oral['JUECES'].fillna(0).astype(np.int8)\n",
    "\n",
    "cols = df_tribunal_oral.select_dtypes(include = [\"object\"]).columns\n",
    "df_tribunal_oral[cols] = df_tribunal_oral[cols].progress_apply(cleandata.elimina_tilde)"
   ]
  },
  {
   "cell_type": "code",
   "execution_count": 7,
   "metadata": {},
   "outputs": [
    {
     "data": {
      "text/html": [
       "<div>\n",
       "<style scoped>\n",
       "    .dataframe tbody tr th:only-of-type {\n",
       "        vertical-align: middle;\n",
       "    }\n",
       "\n",
       "    .dataframe tbody tr th {\n",
       "        vertical-align: top;\n",
       "    }\n",
       "\n",
       "    .dataframe thead th {\n",
       "        text-align: right;\n",
       "    }\n",
       "</style>\n",
       "<table border=\"1\" class=\"dataframe\">\n",
       "  <thead>\n",
       "    <tr style=\"text-align: right;\">\n",
       "      <th></th>\n",
       "      <th>REGION</th>\n",
       "      <th>TRIBUNAL</th>\n",
       "      <th>ASIENTO</th>\n",
       "      <th>JUECES</th>\n",
       "      <th>COMUNA</th>\n",
       "      <th>TIPO JUZGADO</th>\n",
       "    </tr>\n",
       "  </thead>\n",
       "  <tbody>\n",
       "    <tr>\n",
       "      <th>0</th>\n",
       "      <td>PRIMERA REGION DE TARAPACA</td>\n",
       "      <td>TRIBUNAL DE JUICIO ORAL EN LO PENAL IQUIQUE</td>\n",
       "      <td>IQUIQUE</td>\n",
       "      <td>13</td>\n",
       "      <td>HUARA</td>\n",
       "      <td>ORAL</td>\n",
       "    </tr>\n",
       "    <tr>\n",
       "      <th>1</th>\n",
       "      <td>PRIMERA REGION DE TARAPACA</td>\n",
       "      <td>TRIBUNAL DE JUICIO ORAL EN LO PENAL IQUIQUE</td>\n",
       "      <td>IQUIQUE</td>\n",
       "      <td>13</td>\n",
       "      <td>CAMIÑA</td>\n",
       "      <td>ORAL</td>\n",
       "    </tr>\n",
       "    <tr>\n",
       "      <th>2</th>\n",
       "      <td>PRIMERA REGION DE TARAPACA</td>\n",
       "      <td>TRIBUNAL DE JUICIO ORAL EN LO PENAL IQUIQUE</td>\n",
       "      <td>IQUIQUE</td>\n",
       "      <td>13</td>\n",
       "      <td>COLCHANE</td>\n",
       "      <td>ORAL</td>\n",
       "    </tr>\n",
       "    <tr>\n",
       "      <th>3</th>\n",
       "      <td>PRIMERA REGION DE TARAPACA</td>\n",
       "      <td>TRIBUNAL DE JUICIO ORAL EN LO PENAL IQUIQUE</td>\n",
       "      <td>IQUIQUE</td>\n",
       "      <td>13</td>\n",
       "      <td>IQUIQUE</td>\n",
       "      <td>ORAL</td>\n",
       "    </tr>\n",
       "    <tr>\n",
       "      <th>4</th>\n",
       "      <td>PRIMERA REGION DE TARAPACA</td>\n",
       "      <td>TRIBUNAL DE JUICIO ORAL EN LO PENAL IQUIQUE</td>\n",
       "      <td>IQUIQUE</td>\n",
       "      <td>13</td>\n",
       "      <td>POZO ALMONTE</td>\n",
       "      <td>ORAL</td>\n",
       "    </tr>\n",
       "    <tr>\n",
       "      <th>...</th>\n",
       "      <td>...</td>\n",
       "      <td>...</td>\n",
       "      <td>...</td>\n",
       "      <td>...</td>\n",
       "      <td>...</td>\n",
       "      <td>...</td>\n",
       "    </tr>\n",
       "    <tr>\n",
       "      <th>333</th>\n",
       "      <td>REGION DE ÑUBLE</td>\n",
       "      <td>TRIBUNAL DE JUICIO ORAL EN LO PENAL CHILLAN</td>\n",
       "      <td>CHILLAN</td>\n",
       "      <td>7</td>\n",
       "      <td>EL CARMEN</td>\n",
       "      <td>ORAL</td>\n",
       "    </tr>\n",
       "    <tr>\n",
       "      <th>334</th>\n",
       "      <td>REGION DE ÑUBLE</td>\n",
       "      <td>TRIBUNAL DE JUICIO ORAL EN LO PENAL CHILLAN</td>\n",
       "      <td>CHILLAN</td>\n",
       "      <td>7</td>\n",
       "      <td>PEMUCO</td>\n",
       "      <td>ORAL</td>\n",
       "    </tr>\n",
       "    <tr>\n",
       "      <th>335</th>\n",
       "      <td>REGION DE ÑUBLE</td>\n",
       "      <td>TRIBUNAL DE JUICIO ORAL EN LO PENAL CHILLAN</td>\n",
       "      <td>CHILLAN</td>\n",
       "      <td>7</td>\n",
       "      <td>YUNGAY</td>\n",
       "      <td>ORAL</td>\n",
       "    </tr>\n",
       "    <tr>\n",
       "      <th>336</th>\n",
       "      <td>REGION DE ÑUBLE</td>\n",
       "      <td>TRIBUNAL DE JUICIO ORAL EN LO PENAL CHILLAN</td>\n",
       "      <td>CHILLAN</td>\n",
       "      <td>7</td>\n",
       "      <td>TUCAPEL</td>\n",
       "      <td>ORAL</td>\n",
       "    </tr>\n",
       "    <tr>\n",
       "      <th>337</th>\n",
       "      <td>REGION DE ÑUBLE</td>\n",
       "      <td>TRIBUNAL DE JUICIO ORAL EN LO PENAL CHILLAN</td>\n",
       "      <td>CHILLAN</td>\n",
       "      <td>7</td>\n",
       "      <td>CHILLAN VIEJO</td>\n",
       "      <td>ORAL</td>\n",
       "    </tr>\n",
       "  </tbody>\n",
       "</table>\n",
       "<p>338 rows × 6 columns</p>\n",
       "</div>"
      ],
      "text/plain": [
       "                         REGION                                     TRIBUNAL  \\\n",
       "0    PRIMERA REGION DE TARAPACA  TRIBUNAL DE JUICIO ORAL EN LO PENAL IQUIQUE   \n",
       "1    PRIMERA REGION DE TARAPACA  TRIBUNAL DE JUICIO ORAL EN LO PENAL IQUIQUE   \n",
       "2    PRIMERA REGION DE TARAPACA  TRIBUNAL DE JUICIO ORAL EN LO PENAL IQUIQUE   \n",
       "3    PRIMERA REGION DE TARAPACA  TRIBUNAL DE JUICIO ORAL EN LO PENAL IQUIQUE   \n",
       "4    PRIMERA REGION DE TARAPACA  TRIBUNAL DE JUICIO ORAL EN LO PENAL IQUIQUE   \n",
       "..                          ...                                          ...   \n",
       "333             REGION DE ÑUBLE  TRIBUNAL DE JUICIO ORAL EN LO PENAL CHILLAN   \n",
       "334             REGION DE ÑUBLE  TRIBUNAL DE JUICIO ORAL EN LO PENAL CHILLAN   \n",
       "335             REGION DE ÑUBLE  TRIBUNAL DE JUICIO ORAL EN LO PENAL CHILLAN   \n",
       "336             REGION DE ÑUBLE  TRIBUNAL DE JUICIO ORAL EN LO PENAL CHILLAN   \n",
       "337             REGION DE ÑUBLE  TRIBUNAL DE JUICIO ORAL EN LO PENAL CHILLAN   \n",
       "\n",
       "     ASIENTO  JUECES         COMUNA TIPO JUZGADO  \n",
       "0    IQUIQUE      13          HUARA         ORAL  \n",
       "1    IQUIQUE      13         CAMIÑA         ORAL  \n",
       "2    IQUIQUE      13       COLCHANE         ORAL  \n",
       "3    IQUIQUE      13        IQUIQUE         ORAL  \n",
       "4    IQUIQUE      13   POZO ALMONTE         ORAL  \n",
       "..       ...     ...            ...          ...  \n",
       "333  CHILLAN       7      EL CARMEN         ORAL  \n",
       "334  CHILLAN       7         PEMUCO         ORAL  \n",
       "335  CHILLAN       7         YUNGAY         ORAL  \n",
       "336  CHILLAN       7        TUCAPEL         ORAL  \n",
       "337  CHILLAN       7  CHILLAN VIEJO         ORAL  \n",
       "\n",
       "[338 rows x 6 columns]"
      ]
     },
     "execution_count": 7,
     "metadata": {},
     "output_type": "execute_result"
    }
   ],
   "source": [
    "df_tribunal_oral"
   ]
  },
  {
   "cell_type": "code",
   "execution_count": 8,
   "metadata": {},
   "outputs": [],
   "source": [
    "# Reset el index para realizar feather\n",
    "\n",
    "df_tribunal_oral.reset_index(inplace = True)\n",
    "path_interim = \"../data/interim/pjud\"\n",
    "os.makedirs(path_interim, exist_ok = True) \n",
    "\n",
    "# Guardamos dataset como archivo feather\n",
    "df_tribunal_oral.to_feather(f'{path_interim}/TribunalOral_feather')\n"
   ]
  },
  {
   "cell_type": "code",
   "execution_count": null,
   "metadata": {},
   "outputs": [],
   "source": []
  }
 ],
 "metadata": {
  "kernelspec": {
   "display_name": "Python 3",
   "language": "python",
   "name": "python3"
  },
  "language_info": {
   "codemirror_mode": {
    "name": "ipython",
    "version": 3
   },
   "file_extension": ".py",
   "mimetype": "text/x-python",
   "name": "python",
   "nbconvert_exporter": "python",
   "pygments_lexer": "ipython3",
   "version": "3.7.6"
  }
 },
 "nbformat": 4,
 "nbformat_minor": 4
}
