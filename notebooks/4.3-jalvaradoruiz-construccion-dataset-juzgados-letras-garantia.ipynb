{
 "cells": [
  {
   "cell_type": "markdown",
   "metadata": {},
   "source": [
    "# Creación Data referente a JUZGADOS DE LETRAS Con competencia Penal\n",
    "\n",
    "Se realiza un analisis mediante expresiones regulares del art. 28 al 40 del Código Organico de Tribunales (COT). En estos artículos se definen las comunas de Chile donde tendrán asiento este tipo de Tribunales y además su territorio de jurisdiccion. \n",
    "\n",
    "En estos artículos no estan explicitamente definidos como Tribunales Penales, pero si se distinguen los que son Civiles, por lo que se deben omitir estos y estudiar los demás casos, y verificar que no existan Juzgados de Garantías en dichas comunas."
   ]
  },
  {
   "cell_type": "code",
   "execution_count": 1,
   "metadata": {},
   "outputs": [],
   "source": [
    "import re\n",
    "import os\n",
    "import pandas as pd\n",
    "import numpy as np\n",
    "\n",
    "from tqdm import tqdm\n",
    "from unicodedata import normalize\n",
    "\n",
    "from src.data import cleandata"
   ]
  },
  {
   "cell_type": "code",
   "execution_count": 2,
   "metadata": {},
   "outputs": [
    {
     "name": "stderr",
     "output_type": "stream",
     "text": [
      "/Users/jalvaradoruiz/opt/anaconda3/lib/python3.7/site-packages/tqdm/std.py:658: FutureWarning: The Panel class is removed from pandas. Accessing it from the top-level namespace will also be removed in the next version\n",
      "  from pandas import Panel\n"
     ]
    }
   ],
   "source": [
    "tqdm.pandas()"
   ]
  },
  {
   "cell_type": "code",
   "execution_count": null,
   "metadata": {},
   "outputs": [],
   "source": [
    "path_raw = \"../data/external/cot\""
   ]
  },
  {
   "cell_type": "markdown",
   "metadata": {},
   "source": [
    "# Articulo 28 al 40 COT ref: JUZGADOS DE LETRAS\n",
    "### BUSCAR SOLO LOS QUE TENGAN COMPETENCIA PENAL"
   ]
  },
  {
   "cell_type": "code",
   "execution_count": 3,
   "metadata": {},
   "outputs": [],
   "source": [
    "with open(f'{path_raw}/juzgadoletras.txt', 'r') as file:\n",
    "    contenido_jl = ''\n",
    "    for line in file.readlines():\n",
    "        contenido_jl += line"
   ]
  },
  {
   "cell_type": "markdown",
   "metadata": {},
   "source": [
    "Se construye una expresion regular para captar una lista con la información que se desea procesar, y así generar un dataframe."
   ]
  },
  {
   "cell_type": "code",
   "execution_count": 4,
   "metadata": {},
   "outputs": [],
   "source": [
    "regex_jl = r\"(?:Art.\\s[0-9\\s(bis|ter|quáter)]+\\.\\s[\\w\\s]+\\,(?P<Region>[\\w\\s\\']+)\\,[\\w\\s]+:\\s+)|(?:(?:^[A]\\.\\-\\s[\\w\\s]+:\\s+)(?:(?:[\\w\\s\\,]+[.|\\;])+))|(?:(?:[\\-\\s][\\w\\s]+\\:\\s*)|(?:\\s*(?:(?P<cant_juzg>[\\w]+)(?:\\s[J|j][a-z\\,\\s]+)(?P<JG>[\\w\\s]+)[\\,|y]\\s[\\w]+\\s(?P<Jueces>[\\w]+)\\s[a-z\\s\\,]+(?P<Competencia>[\\w|\\s|\\,]+)[\\;|\\.]$)\\s*))\"\n",
    "matches = re.findall(regex_jl, contenido_jl, re.MULTILINE)\n",
    "\n",
    "#matches\n",
    "# GENERA UNA ARREGLO DE LISTA DE 4 ELEMENTOS\n",
    "\n",
    "# ELEMENTO 0 : REGIÓN\n",
    "# ELEMENTO 1: Cantidad de juzgados ...\n",
    "# Elemento 2: Asiento juzgado \n",
    "# ELEMENTO 3: Cantidad de Jueces\n",
    "# ELEMENTO 4: Competencia (. es lo mismo de 3 0 7) o varias ciudades (separadas por , o y)"
   ]
  },
  {
   "cell_type": "code",
   "execution_count": 5,
   "metadata": {},
   "outputs": [],
   "source": [
    "data_jl = []\n",
    "\n",
    "for item in range(0,len(matches)):\n",
    "\n",
    "    if matches[item][0] != '':\n",
    "        region = f\"REGION{matches[item][0].upper()}\"\n",
    "    else:    \n",
    "        if matches[item][2] != '':\n",
    "            ciudad = matches[item][2].upper() \n",
    "            juzgado = f\"JUZGADO DE LETRAS Y GARANTIA {ciudad}\"\n",
    "\n",
    "        if matches[item][3] != '':\n",
    "            if matches[item][3] == 'competencia':\n",
    "                cantidad_jueces = 1\n",
    "            else:\n",
    "                cantidad_jueces = cleandata.transforma_numero(matches[item][3])\n",
    "    \n",
    "        if matches[item][4] != '':\n",
    "            if matches[item][4] == 'a':\n",
    "                competencia = ciudad\n",
    "        \n",
    "            else:  \n",
    "                if matches[item][4] != '':\n",
    "                    competencia = matches[item][4].upper()\n",
    "\n",
    "            competencia = competencia.replace(\" Y \",\",\")\n",
    "            competencia = competencia.replace(\" E \",\",\")\n",
    "            competencia = competencia.replace(\".\",\"\")\n",
    "        \n",
    "            comunas = competencia.split(\",\")\n",
    "        \n",
    "            for comuna in comunas:\n",
    "                data_jl.append([region,juzgado,ciudad,cantidad_jueces,comuna.strip(),'LETRAS Y GARANTIA'])\n",
    "\n",
    "\n",
    "df_juzgados_letras = pd.DataFrame(data_jl,columns = ['REGION','TRIBUNAL','ASIENTO','JUECES','COMUNA','TIPO JUZGADO'])\n"
   ]
  },
  {
   "cell_type": "code",
   "execution_count": 6,
   "metadata": {},
   "outputs": [
    {
     "name": "stderr",
     "output_type": "stream",
     "text": [
      "100%|██████████| 6/6 [00:00<00:00, 257.41it/s]\n"
     ]
    }
   ],
   "source": [
    "cols = df_juzgados_letras.select_dtypes(include = [\"object\"]).columns\n",
    "df_juzgados_letras[cols] = df_juzgados_letras[cols].progress_apply(cleandata.elimina_tilde)"
   ]
  },
  {
   "cell_type": "code",
   "execution_count": 7,
   "metadata": {},
   "outputs": [],
   "source": [
    "# Reset el index para realizar feather\n",
    "\n",
    "df_juzgados_letras.reset_index(inplace = True)\n",
    "path_interim = \"../data/interim/pjud\"\n",
    "os.makedirs(path_interim, exist_ok = True) \n",
    "\n",
    "# Guardamos dataset como archivo feather\n",
    "df_juzgados_letras.to_feather(f'{path_interim}/generates_JuzgadosLetras.feather')\n"
   ]
  },
  {
   "cell_type": "code",
   "execution_count": null,
   "metadata": {},
   "outputs": [],
   "source": []
  }
 ],
 "metadata": {
  "kernelspec": {
   "display_name": "Python 3",
   "language": "python",
   "name": "python3"
  },
  "language_info": {
   "codemirror_mode": {
    "name": "ipython",
    "version": 3
   },
   "file_extension": ".py",
   "mimetype": "text/x-python",
   "name": "python",
   "nbconvert_exporter": "python",
   "pygments_lexer": "ipython3",
   "version": "3.7.6"
  }
 },
 "nbformat": 4,
 "nbformat_minor": 4
}
