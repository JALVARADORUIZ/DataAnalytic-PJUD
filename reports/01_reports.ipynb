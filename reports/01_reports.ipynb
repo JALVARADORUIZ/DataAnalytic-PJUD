{
 "cells": [
  {
   "cell_type": "markdown",
   "metadata": {},
   "source": [
    "# Creacion Panel con data de Cortes de Apelaciones"
   ]
  },
  {
   "cell_type": "code",
   "execution_count": 31,
   "metadata": {},
   "outputs": [],
   "source": [
    "import pandas as pd\n",
    "import numpy as np\n",
    "import warnings\n",
    "\n",
    "# Bokeh Library\n",
    "from bokeh.io import show, output_notebook, output_file\n",
    "from bokeh.models import ColumnDataSource, FactorRange, CheckboxButtonGroup, CustomJS, DataTable, DateFormatter, TableColumn\n",
    "from bokeh.plotting import figure\n",
    "from bokeh.transform import factor_cmap\n",
    "from bokeh.models.widgets import Tabs, Panel\n",
    "\n"
   ]
  },
  {
   "cell_type": "code",
   "execution_count": 32,
   "metadata": {},
   "outputs": [],
   "source": [
    "# Output to file\n",
    "output_file('ingresos_terminos.html', \n",
    "            title='Ingresos y Terminos por Cortes de Apelaciones - 2015 al 2019')"
   ]
  },
  {
   "cell_type": "code",
   "execution_count": 33,
   "metadata": {},
   "outputs": [],
   "source": [
    "path_processed = \"../data/processed/pjud\""
   ]
  },
  {
   "cell_type": "code",
   "execution_count": 34,
   "metadata": {},
   "outputs": [],
   "source": [
    "# Carga de datos ...\n",
    "df_causas = pd.read_feather(f\"{path_processed}/consolidated_Fulldata_Causa.feather\")"
   ]
  },
  {
   "cell_type": "code",
   "execution_count": 35,
   "metadata": {},
   "outputs": [],
   "source": [
    "# Carga de datos ...\n",
    "df_cortes = pd.read_feather(f\"{path_processed}/processes_ListadoTribunalesyCortes.feather\")\n",
    "cortes = df_cortes['CORTE'].unique().tolist()"
   ]
  },
  {
   "cell_type": "code",
   "execution_count": 36,
   "metadata": {},
   "outputs": [],
   "source": [
    "ingresos_por_cortes = []\n",
    "\n",
    "for (corte, año_ingreso), sub_df in df_causas.groupby(by=['corte','año_ingreso']):\n",
    "    unique_rol = sub_df['tribunal_rit'].unique()\n",
    "    ingresos_por_cortes.append([corte, año_ingreso, len(unique_rol)])\n",
    "    \n",
    "   \n",
    "df_ingresos_cortes = pd.DataFrame(ingresos_por_cortes, columns=['corte','año_ingreso','total_causas'])"
   ]
  },
  {
   "cell_type": "code",
   "execution_count": 37,
   "metadata": {},
   "outputs": [],
   "source": [
    "terminos_por_cortes = []\n",
    "\n",
    "for (corte, año_termino), sub_df in df_causas.groupby(by=['corte','año_termino']):\n",
    "    unique_rol = sub_df['tribunal_rit'].unique()\n",
    "    terminos_por_cortes.append([corte, año_termino, len(unique_rol)])\n",
    "    \n",
    "   \n",
    "df_terminos_cortes = pd.DataFrame(terminos_por_cortes, columns=['corte','año_termino','total_causas'])"
   ]
  },
  {
   "cell_type": "code",
   "execution_count": 44,
   "metadata": {},
   "outputs": [],
   "source": [
    "# GENERO DICCIONARIO DE DATOS PARA GRAFICAR\n",
    "\n",
    "cortes = df_causas.corte.unique().tolist()\n",
    "data_ingresos ={}\n",
    "data_terminos ={}\n",
    "data_ingresos['cortes'] = cortes\n",
    "data_terminos['cortes'] = cortes\n",
    "\n",
    "years = []\n",
    "años = range(2015,2020)\n",
    "\n",
    "\n",
    "for año in años:\n",
    "    ingreso_año = []\n",
    "    termino_año = []\n",
    "    years.append(str(año))\n",
    "    for corte in cortes:\n",
    "        criterio_ingresos = f\"corte == '{corte}' and año_ingreso == {año}\"\n",
    "        criterio_terminos = f\"corte == '{corte}' and año_termino == {año}\"\n",
    "        total_ingreso = df_ingresos_cortes.query(criterio_ingresos).total_causas\n",
    "        total_termino = df_terminos_cortes.query(criterio_terminos).total_causas\n",
    "        ingreso_año.append(total_ingreso)\n",
    "        termino_año.append(total_termino)\n",
    "    data_ingresos[f'{año}'] = ingreso_año\n",
    "    data_terminos[f'{año}'] = termino_año\n",
    "\n",
    "palette = [\"#c9d9d3\", \"#718dbf\", \"#e84d60\", \"#CC8dbf\", \"#AB4d60\"]"
   ]
  },
  {
   "cell_type": "code",
   "execution_count": 45,
   "metadata": {},
   "outputs": [],
   "source": [
    "#output_file(\"CORTES DE APELACIONES_INGRESOS_CAUSAS_PENALES_2015_AL_2019.html\") Si deseo guardar el grafo debo d\n",
    "\n",
    "# GRAFO INGRESO\n",
    "x = [ (corte.replace(\"C.A. DE \",\"\"), year) for corte in cortes for year in years ]\n",
    "counts = sum(zip(data_ingresos['2015'], data_ingresos['2016'], data_ingresos['2017'], data_ingresos['2018'], data_ingresos['2019']), ()) # like an hstack\n",
    "\n",
    "source = ColumnDataSource(data=dict(x=x, counts=counts))\n",
    "\n",
    "plot_ingreso = figure(x_range=FactorRange(*x), plot_height=800, plot_width=1600, title=\"CORTES DE APELACIONES - INGRESOS CAUSAS PENALES - 2015 AL 2019\",\n",
    "           toolbar_location=None, tools=\"hover\", tooltips=\"INGRESOS C.A. @x: @counts\", y_axis_type=\"linear\", y_range=(10000,150000))\n",
    "\n",
    "plot_ingreso.vbar(x='x', top='counts', width=0.7, source=source, line_color=\"white\",\n",
    "       fill_color=factor_cmap('x', palette=palette, factors=years, start=1, end=2))\n",
    "\n",
    "\n",
    "plot_ingreso.y_range.start = 0\n",
    "plot_ingreso.x_range.range_padding = 0\n",
    "plot_ingreso.xaxis.major_label_orientation = 1\n",
    "plot_ingreso.xgrid.grid_line_color = None\n",
    "\n",
    "\n",
    "# GRAFO TERMINO\n",
    "x = [ (corte.replace(\"C.A. DE \",\"\"), year) for corte in cortes for year in years ]\n",
    "counts = sum(zip(data_terminos['2015'], data_terminos['2016'], data_terminos['2017'], data_terminos['2018'], data_terminos['2019']), ()) # like an hstack\n",
    "\n",
    "source = ColumnDataSource(data=dict(x=x, counts=counts))\n",
    "\n",
    "plot_termino = figure(x_range=FactorRange(*x), plot_height=800, plot_width=1600, title=\"CORTES DE APELACIONES - TERMINOS CAUSAS PENALES - 2015 AL 2019\",\n",
    "           toolbar_location=None, tools=\"hover\", tooltips=\"TÉRMINOS C.A. @x: @counts\", y_axis_type=\"linear\", y_range=(10000,150000))\n",
    "\n",
    "plot_termino.vbar(x='x', top='counts', width=0.7, source=source, line_color=\"white\",\n",
    "       fill_color=factor_cmap('x', palette=palette, factors=years, start=1, end=2))\n",
    "\n",
    "\n",
    "plot_termino.y_range.start = 0\n",
    "plot_termino.x_range.range_padding = 0\n",
    "plot_termino.xaxis.major_label_orientation = 1\n",
    "plot_termino.xgrid.grid_line_color = None\n"
   ]
  },
  {
   "cell_type": "markdown",
   "metadata": {},
   "source": [
    "## Creacion TABLA"
   ]
  },
  {
   "cell_type": "code",
   "execution_count": 46,
   "metadata": {},
   "outputs": [],
   "source": [
    "data_ingreso = dict(\n",
    "        corte = df_ingresos_cortes['corte'],\n",
    "        año = df_ingresos_cortes['año_ingreso'],\n",
    "        total = df_ingresos_cortes['total_causas']\n",
    "    )\n",
    "\n",
    "data_termino = dict(\n",
    "        corte = df_terminos_cortes['corte'],\n",
    "        año = df_terminos_cortes['año_termino'],\n",
    "        total = df_terminos_cortes['total_causas']\n",
    "    )\n",
    "source_ingreso = ColumnDataSource(data_ingreso)\n",
    "source_termino = ColumnDataSource(data_termino)\n",
    "\n",
    "columns_ingreso = [\n",
    "        TableColumn(field=\"corte\", title=\"Corte\"),\n",
    "        TableColumn(field=\"año\", title=\"Año Ingreso\"),\n",
    "        TableColumn(field=\"total\", title=\"Total Causas\"),\n",
    "    ]\n",
    "\n",
    "columns_termino = [\n",
    "        TableColumn(field=\"corte\", title=\"Corte\"),\n",
    "        TableColumn(field=\"año\", title=\"Año Termino\"),\n",
    "        TableColumn(field=\"total\", title=\"Total Causas\"),\n",
    "    ]\n",
    "\n",
    "data_table_ingreso = DataTable(source=source_ingreso, columns=columns_ingreso, width=600, height=2800)\n",
    "data_table_termino = DataTable(source=source_termino, columns=columns_termino, width=600, height=2800)\n"
   ]
  },
  {
   "cell_type": "code",
   "execution_count": 47,
   "metadata": {},
   "outputs": [],
   "source": [
    "# Creo panels\n",
    "ingreso_panel_grafo = Panel(child=plot_ingreso, title='GRÁFICO INGRESOS CAUSAS')\n",
    "termino_panel_grafo = Panel(child=plot_termino, title='GRÁFICO TERMINOS CAUSAS')\n",
    "ingreso_panel_table = Panel(child=data_table_ingreso, title='NUMEROS INGRESOS CAUSAS')\n",
    "termino_panel_table = Panel(child=data_table_termino, title='NUMEROS TERMINOS CAUSAS')\n",
    "\n",
    "# Assign the panels to Tabs\n",
    "tabs = Tabs(tabs=[ingreso_panel_grafo, termino_panel_grafo, ingreso_panel_table, termino_panel_table])\n",
    "\n",
    "# Show the tabbed layout\n",
    "show(tabs)"
   ]
  },
  {
   "cell_type": "code",
   "execution_count": null,
   "metadata": {},
   "outputs": [],
   "source": []
  }
 ],
 "metadata": {
  "kernelspec": {
   "display_name": "Python 3",
   "language": "python",
   "name": "python3"
  },
  "language_info": {
   "codemirror_mode": {
    "name": "ipython",
    "version": 3
   },
   "file_extension": ".py",
   "mimetype": "text/x-python",
   "name": "python",
   "nbconvert_exporter": "python",
   "pygments_lexer": "ipython3",
   "version": "3.9.1"
  }
 },
 "nbformat": 4,
 "nbformat_minor": 4
}
