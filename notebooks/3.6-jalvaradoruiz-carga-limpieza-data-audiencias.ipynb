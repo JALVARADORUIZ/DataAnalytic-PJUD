{
 "cells": [
  {
   "cell_type": "markdown",
   "metadata": {},
   "source": [
    "# Carga Data AUDIENCIAS\n",
    "\n",
    "Creación del DataFrame asociado a los audiencias\n",
    "\n",
    "Rev: 29-10-2020"
   ]
  },
  {
   "cell_type": "code",
   "execution_count": 24,
   "metadata": {},
   "outputs": [],
   "source": [
    "import os\n",
    "import pandas as pd\n",
    "import numpy as np\n",
    "from pyarrow import feather\n",
    "from tqdm import tqdm\n",
    "\n",
    "from src.data import cleandata"
   ]
  },
  {
   "cell_type": "code",
   "execution_count": 25,
   "metadata": {},
   "outputs": [
    {
     "name": "stderr",
     "output_type": "stream",
     "text": [
      "/Users/jalvaradoruiz/opt/anaconda3/lib/python3.7/site-packages/tqdm/std.py:658: FutureWarning: The Panel class is removed from pandas. Accessing it from the top-level namespace will also be removed in the next version\n",
      "  from pandas import Panel\n"
     ]
    }
   ],
   "source": [
    "path_raw = \"../data/raw/pjud\" \n",
    "archivos = os.listdir(path_raw) \n",
    "tqdm.pandas()"
   ]
  },
  {
   "cell_type": "code",
   "execution_count": 26,
   "metadata": {},
   "outputs": [],
   "source": [
    "# Creacion dataframe con los datos de Audiencias Realizadas Penal de los años 2015 a 2019\n",
    "\n",
    "dataframes = []\n",
    "\n",
    "for archivo in archivos:\n",
    "    if archivo.find(\"Audiencias Realizadas Penal\") != -1:\n",
    "        df = pd.read_csv(f\"{path_raw}/{archivo}\", sep = \";\", encoding = 'cp850', dtype = 'unicode', low_memory = True)\n",
    "        dataframes.append(df) \n",
    "        \n",
    "df_audiencias = pd.concat(dataframes, axis = 0)\n"
   ]
  },
  {
   "cell_type": "code",
   "execution_count": 27,
   "metadata": {},
   "outputs": [
    {
     "data": {
      "text/plain": [
       "Index(['CÓD. CORTE', 'CORTE', 'CÓD. TRIBUNAL', 'TRIBUNAL', 'RIT', 'TIPO CAUSA',\n",
       "       'TIPO DE AUDIENCIA', 'FECHA PROGRAMACIÓN AUDIENCIA', 'FECHA AUDIENCIA',\n",
       "       'AGENDAMIENTO (DÍAS CORRIDOS)', 'DURACIÓN AUDIENCIA (MINUTOS)',\n",
       "       'TOTAL AUDIENCIAS', 'TIPO AUDIENCIA',\n",
       "       'PLAZO AGENDAMIENTO (DIAS CORRIDOS)', 'DURACIÓN  AUDIENCIA'],\n",
       "      dtype='object')"
      ]
     },
     "execution_count": 27,
     "metadata": {},
     "output_type": "execute_result"
    }
   ],
   "source": [
    "df_audiencias.columns"
   ]
  },
  {
   "cell_type": "code",
   "execution_count": 28,
   "metadata": {
    "scrolled": true
   },
   "outputs": [],
   "source": [
    "df_audiencias.rename(columns = {'CÓD. CORTE':'COD. CORTE',\n",
    "                                'CÓD. TRIBUNAL':'COD. TRIBUNAL',\n",
    "                                'DURACIÓN  AUDIENCIA':'DURACION AUDIENCIA',\n",
    "                                'AGENDAMIENTO (DÍAS CORRIDOS)':'DIAS AGENDAMIENTO',\n",
    "                                'DURACIÓN AUDIENCIA (MINUTOS)':'DURACION AUDIENCIA (MIN)',\n",
    "                                'FECHA PROGRAMACIÓN AUDIENCIA':'FECHA PROGRAMACION AUDIENCIA'\n",
    "                               },\n",
    "                     inplace = True)\n",
    "\n",
    "# TRANSFORMAMOS DE FLOAT A INTEGER\n",
    "\n",
    "df_audiencias['COD. CORTE'] = df_audiencias['COD. CORTE'].fillna(0).astype(np.int16)\n",
    "df_audiencias['COD. TRIBUNAL'] = df_audiencias['COD. TRIBUNAL'].fillna(0).astype(np.int16)\n",
    "df_audiencias['TOTAL AUDIENCIAS'] = df_audiencias['TOTAL AUDIENCIAS'].fillna(0).astype(np.int8)"
   ]
  },
  {
   "cell_type": "code",
   "execution_count": 29,
   "metadata": {},
   "outputs": [],
   "source": [
    "# Podemos observar que existen columnas que se repiten, y que tienen datos NAN en algunas pero esos datos \n",
    "# en otras columnas, pasa en TIPO AUDIENCIA=TIPO DE AUDIENCIA, AGENDAMIENTO (DÍAS CORRIDOS)=PLAZO AGENDAMIENTO\n",
    "# (DÍAS CORRIDOS), DURACIÓN AUDIENCIA (MINUTOS)= DURACIÓN AUDIENCIA\n",
    "\n",
    "df_audiencias['TIPO DE AUDIENCIA'] = df_audiencias['TIPO DE AUDIENCIA'].fillna(df_audiencias['TIPO AUDIENCIA'])\n",
    "df_audiencias['DIAS AGENDAMIENTO'] = df_audiencias['DIAS AGENDAMIENTO'].fillna(df_audiencias['PLAZO AGENDAMIENTO (DIAS CORRIDOS)']).astype(np.int16)\n",
    "df_audiencias['DURACION AUDIENCIA (MIN)'] = df_audiencias['DURACION AUDIENCIA (MIN)'].fillna(df_audiencias['DURACION AUDIENCIA'])"
   ]
  },
  {
   "cell_type": "code",
   "execution_count": 30,
   "metadata": {},
   "outputs": [],
   "source": [
    "# Elimino las columnas reemplazadas\n",
    "\n",
    "df_audiencias.drop(['TIPO AUDIENCIA','PLAZO AGENDAMIENTO (DIAS CORRIDOS)','DURACION AUDIENCIA'], \n",
    "                   axis = 'columns', inplace = True)"
   ]
  },
  {
   "cell_type": "code",
   "execution_count": 31,
   "metadata": {},
   "outputs": [
    {
     "name": "stderr",
     "output_type": "stream",
     "text": [
      "100%|██████████| 6712514/6712514 [00:12<00:00, 536305.60it/s]\n",
      "100%|██████████| 6712514/6712514 [00:12<00:00, 541318.29it/s]\n"
     ]
    }
   ],
   "source": [
    "# Transformamos fechas\n",
    "\n",
    "df_audiencias['FECHA PROGRAMACION AUDIENCIA'] = df_audiencias['FECHA PROGRAMACION AUDIENCIA'].progress_apply(cleandata.convierte_fecha)\n",
    "df_audiencias['FECHA AUDIENCIA'] = df_audiencias['FECHA AUDIENCIA'].progress_apply(cleandata.convierte_fecha)"
   ]
  },
  {
   "cell_type": "code",
   "execution_count": 32,
   "metadata": {},
   "outputs": [
    {
     "name": "stderr",
     "output_type": "stream",
     "text": [
      "100%|██████████| 12/12 [01:06<00:00,  5.56s/it]\n"
     ]
    }
   ],
   "source": [
    "# Elimino espacios en las columnas tipo objetos\n",
    "\n",
    "df_audiencias = df_audiencias.progress_apply(cleandata.elimina_espacios, axis=0)"
   ]
  },
  {
   "cell_type": "code",
   "execution_count": 33,
   "metadata": {},
   "outputs": [
    {
     "name": "stderr",
     "output_type": "stream",
     "text": [
      "100%|██████████| 6/6 [01:51<00:00, 18.61s/it]\n"
     ]
    }
   ],
   "source": [
    "# Elimino tildes \n",
    "\n",
    "cols = df_audiencias.select_dtypes(include = [\"object\"]).columns\n",
    "df_audiencias[cols] = df_audiencias[cols].progress_apply(cleandata.elimina_tilde)"
   ]
  },
  {
   "cell_type": "code",
   "execution_count": 34,
   "metadata": {},
   "outputs": [],
   "source": [
    "# Categorizar\n",
    "\n",
    "df_audiencias['CORTE'] = df_audiencias['CORTE'].astype('category')"
   ]
  },
  {
   "cell_type": "markdown",
   "metadata": {},
   "source": [
    "Dejo solo causas Ordinarias"
   ]
  },
  {
   "cell_type": "code",
   "execution_count": 35,
   "metadata": {},
   "outputs": [
    {
     "data": {
      "text/plain": [
       "array(['Ordinaria', 'Exhorto', 'Extradición', 'Militar'], dtype=object)"
      ]
     },
     "execution_count": 35,
     "metadata": {},
     "output_type": "execute_result"
    }
   ],
   "source": [
    "df_audiencias['TIPO CAUSA'].unique()"
   ]
  },
  {
   "cell_type": "code",
   "execution_count": 36,
   "metadata": {},
   "outputs": [],
   "source": [
    "tipo_causa = df_audiencias[df_audiencias['TIPO CAUSA']!='Ordinaria']"
   ]
  },
  {
   "cell_type": "code",
   "execution_count": 37,
   "metadata": {},
   "outputs": [],
   "source": [
    "df_audiencias.drop(tipo_causa.index, axis=0, inplace=True)"
   ]
  },
  {
   "cell_type": "code",
   "execution_count": 38,
   "metadata": {},
   "outputs": [
    {
     "data": {
      "text/html": [
       "<div>\n",
       "<style scoped>\n",
       "    .dataframe tbody tr th:only-of-type {\n",
       "        vertical-align: middle;\n",
       "    }\n",
       "\n",
       "    .dataframe tbody tr th {\n",
       "        vertical-align: top;\n",
       "    }\n",
       "\n",
       "    .dataframe thead th {\n",
       "        text-align: right;\n",
       "    }\n",
       "</style>\n",
       "<table border=\"1\" class=\"dataframe\">\n",
       "  <thead>\n",
       "    <tr style=\"text-align: right;\">\n",
       "      <th></th>\n",
       "      <th>index</th>\n",
       "      <th>COD. CORTE</th>\n",
       "      <th>CORTE</th>\n",
       "      <th>COD. TRIBUNAL</th>\n",
       "      <th>TRIBUNAL</th>\n",
       "      <th>RIT</th>\n",
       "      <th>TIPO CAUSA</th>\n",
       "      <th>TIPO DE AUDIENCIA</th>\n",
       "      <th>FECHA PROGRAMACION AUDIENCIA</th>\n",
       "      <th>FECHA AUDIENCIA</th>\n",
       "      <th>DIAS AGENDAMIENTO</th>\n",
       "      <th>DURACION AUDIENCIA (MIN)</th>\n",
       "      <th>TOTAL AUDIENCIAS</th>\n",
       "    </tr>\n",
       "  </thead>\n",
       "  <tbody>\n",
       "    <tr>\n",
       "      <th>5911937</th>\n",
       "      <td>1028429</td>\n",
       "      <td>56</td>\n",
       "      <td>C.A. DE PUERTO MONTT</td>\n",
       "      <td>1090</td>\n",
       "      <td>JUZGADO DE GARANTIA DE PUERTO MONTT</td>\n",
       "      <td>624-2006</td>\n",
       "      <td>Ordinaria</td>\n",
       "      <td>AUDIENCIA DE COMUNI. NO PERSEV.  PROCED.</td>\n",
       "      <td>2007-04-25</td>\n",
       "      <td>2015-10-23</td>\n",
       "      <td>3103</td>\n",
       "      <td>1</td>\n",
       "      <td>1</td>\n",
       "    </tr>\n",
       "    <tr>\n",
       "      <th>5909127</th>\n",
       "      <td>1025242</td>\n",
       "      <td>56</td>\n",
       "      <td>C.A. DE PUERTO MONTT</td>\n",
       "      <td>1090</td>\n",
       "      <td>JUZGADO DE GARANTIA DE PUERTO MONTT</td>\n",
       "      <td>3818-2006</td>\n",
       "      <td>Ordinaria</td>\n",
       "      <td>AUDIENCIA DE MEDIDAS CAUTELARES.</td>\n",
       "      <td>2007-07-30</td>\n",
       "      <td>2015-10-15</td>\n",
       "      <td>2999</td>\n",
       "      <td>2</td>\n",
       "      <td>1</td>\n",
       "    </tr>\n",
       "    <tr>\n",
       "      <th>5906737</th>\n",
       "      <td>1022513</td>\n",
       "      <td>56</td>\n",
       "      <td>C.A. DE PUERTO MONTT</td>\n",
       "      <td>1090</td>\n",
       "      <td>JUZGADO DE GARANTIA DE PUERTO MONTT</td>\n",
       "      <td>1026-2005</td>\n",
       "      <td>Ordinaria</td>\n",
       "      <td>AUDIENCIA DE PROCEDIMIENTO ABREVIADO.</td>\n",
       "      <td>2008-02-14</td>\n",
       "      <td>2015-10-23</td>\n",
       "      <td>2808</td>\n",
       "      <td>5</td>\n",
       "      <td>1</td>\n",
       "    </tr>\n",
       "    <tr>\n",
       "      <th>5022886</th>\n",
       "      <td>57134</td>\n",
       "      <td>15</td>\n",
       "      <td>C.A. DE ANTOFAGASTA</td>\n",
       "      <td>952</td>\n",
       "      <td>JUZGADO DE GARANTIA DE ANTOFAGASTA</td>\n",
       "      <td>6143-2007</td>\n",
       "      <td>Ordinaria</td>\n",
       "      <td>AUDIENCIA DE PREPARACION JUICIO ORAL.</td>\n",
       "      <td>2008-03-31</td>\n",
       "      <td>2015-06-18</td>\n",
       "      <td>2635</td>\n",
       "      <td>5</td>\n",
       "      <td>1</td>\n",
       "    </tr>\n",
       "    <tr>\n",
       "      <th>625821</th>\n",
       "      <td>683790</td>\n",
       "      <td>10</td>\n",
       "      <td>C.A. DE ARICA</td>\n",
       "      <td>992</td>\n",
       "      <td>JUZGADO DE GARANTIA DE ARICA</td>\n",
       "      <td>1804-2006</td>\n",
       "      <td>Ordinaria</td>\n",
       "      <td>AUDIENCIA DE SOBRESEIMIENTO.</td>\n",
       "      <td>2008-10-01</td>\n",
       "      <td>2018-08-24</td>\n",
       "      <td>3614</td>\n",
       "      <td>15</td>\n",
       "      <td>1</td>\n",
       "    </tr>\n",
       "    <tr>\n",
       "      <th>...</th>\n",
       "      <td>...</td>\n",
       "      <td>...</td>\n",
       "      <td>...</td>\n",
       "      <td>...</td>\n",
       "      <td>...</td>\n",
       "      <td>...</td>\n",
       "      <td>...</td>\n",
       "      <td>...</td>\n",
       "      <td>...</td>\n",
       "      <td>...</td>\n",
       "      <td>...</td>\n",
       "      <td>...</td>\n",
       "      <td>...</td>\n",
       "    </tr>\n",
       "    <tr>\n",
       "      <th>3747420</th>\n",
       "      <td>1334990</td>\n",
       "      <td>91</td>\n",
       "      <td>C.A. DE SAN MIGUEL</td>\n",
       "      <td>1240</td>\n",
       "      <td>JUZGADO DE GARANTIA DE TALAGANTE</td>\n",
       "      <td>994-2016</td>\n",
       "      <td>Ordinaria</td>\n",
       "      <td>AUDIENCIA DE LEY 18.216.</td>\n",
       "      <td>NaT</td>\n",
       "      <td>2017-09-13</td>\n",
       "      <td>21</td>\n",
       "      <td>2</td>\n",
       "      <td>1</td>\n",
       "    </tr>\n",
       "    <tr>\n",
       "      <th>3747422</th>\n",
       "      <td>1334992</td>\n",
       "      <td>91</td>\n",
       "      <td>C.A. DE SAN MIGUEL</td>\n",
       "      <td>1240</td>\n",
       "      <td>JUZGADO DE GARANTIA DE TALAGANTE</td>\n",
       "      <td>997-2017</td>\n",
       "      <td>Ordinaria</td>\n",
       "      <td>AUDIENCIA DE FORMAL. DE LA INVESTIGACISN.</td>\n",
       "      <td>NaT</td>\n",
       "      <td>2017-12-04</td>\n",
       "      <td>39</td>\n",
       "      <td>1</td>\n",
       "      <td>1</td>\n",
       "    </tr>\n",
       "    <tr>\n",
       "      <th>3747425</th>\n",
       "      <td>1334995</td>\n",
       "      <td>91</td>\n",
       "      <td>C.A. DE SAN MIGUEL</td>\n",
       "      <td>1240</td>\n",
       "      <td>JUZGADO DE GARANTIA DE TALAGANTE</td>\n",
       "      <td>998-2017</td>\n",
       "      <td>Ordinaria</td>\n",
       "      <td>AUDIENCIA DE FORMAL. DE LA INVESTIGACISN.</td>\n",
       "      <td>NaT</td>\n",
       "      <td>2017-10-05</td>\n",
       "      <td>38</td>\n",
       "      <td>2</td>\n",
       "      <td>1</td>\n",
       "    </tr>\n",
       "    <tr>\n",
       "      <th>3747426</th>\n",
       "      <td>1334996</td>\n",
       "      <td>91</td>\n",
       "      <td>C.A. DE SAN MIGUEL</td>\n",
       "      <td>1240</td>\n",
       "      <td>JUZGADO DE GARANTIA DE TALAGANTE</td>\n",
       "      <td>998-2017</td>\n",
       "      <td>Ordinaria</td>\n",
       "      <td>AUDIENCIA DE FORMAL. DE LA INVESTIGACISN.</td>\n",
       "      <td>NaT</td>\n",
       "      <td>2017-11-16</td>\n",
       "      <td>42</td>\n",
       "      <td>5</td>\n",
       "      <td>1</td>\n",
       "    </tr>\n",
       "    <tr>\n",
       "      <th>3747427</th>\n",
       "      <td>1334997</td>\n",
       "      <td>91</td>\n",
       "      <td>C.A. DE SAN MIGUEL</td>\n",
       "      <td>1240</td>\n",
       "      <td>JUZGADO DE GARANTIA DE TALAGANTE</td>\n",
       "      <td>998-2017</td>\n",
       "      <td>Ordinaria</td>\n",
       "      <td>AUDIENCIA DE FORMAL. DE LA INVESTIGACISN.</td>\n",
       "      <td>NaT</td>\n",
       "      <td>2017-12-20</td>\n",
       "      <td>34</td>\n",
       "      <td>5</td>\n",
       "      <td>1</td>\n",
       "    </tr>\n",
       "  </tbody>\n",
       "</table>\n",
       "<p>6169226 rows × 13 columns</p>\n",
       "</div>"
      ],
      "text/plain": [
       "           index  COD. CORTE                 CORTE  COD. TRIBUNAL  \\\n",
       "5911937  1028429          56  C.A. DE PUERTO MONTT           1090   \n",
       "5909127  1025242          56  C.A. DE PUERTO MONTT           1090   \n",
       "5906737  1022513          56  C.A. DE PUERTO MONTT           1090   \n",
       "5022886    57134          15   C.A. DE ANTOFAGASTA            952   \n",
       "625821    683790          10         C.A. DE ARICA            992   \n",
       "...          ...         ...                   ...            ...   \n",
       "3747420  1334990          91    C.A. DE SAN MIGUEL           1240   \n",
       "3747422  1334992          91    C.A. DE SAN MIGUEL           1240   \n",
       "3747425  1334995          91    C.A. DE SAN MIGUEL           1240   \n",
       "3747426  1334996          91    C.A. DE SAN MIGUEL           1240   \n",
       "3747427  1334997          91    C.A. DE SAN MIGUEL           1240   \n",
       "\n",
       "                                    TRIBUNAL        RIT TIPO CAUSA  \\\n",
       "5911937  JUZGADO DE GARANTIA DE PUERTO MONTT   624-2006  Ordinaria   \n",
       "5909127  JUZGADO DE GARANTIA DE PUERTO MONTT  3818-2006  Ordinaria   \n",
       "5906737  JUZGADO DE GARANTIA DE PUERTO MONTT  1026-2005  Ordinaria   \n",
       "5022886   JUZGADO DE GARANTIA DE ANTOFAGASTA  6143-2007  Ordinaria   \n",
       "625821          JUZGADO DE GARANTIA DE ARICA  1804-2006  Ordinaria   \n",
       "...                                      ...        ...        ...   \n",
       "3747420     JUZGADO DE GARANTIA DE TALAGANTE   994-2016  Ordinaria   \n",
       "3747422     JUZGADO DE GARANTIA DE TALAGANTE   997-2017  Ordinaria   \n",
       "3747425     JUZGADO DE GARANTIA DE TALAGANTE   998-2017  Ordinaria   \n",
       "3747426     JUZGADO DE GARANTIA DE TALAGANTE   998-2017  Ordinaria   \n",
       "3747427     JUZGADO DE GARANTIA DE TALAGANTE   998-2017  Ordinaria   \n",
       "\n",
       "                                 TIPO DE AUDIENCIA  \\\n",
       "5911937   AUDIENCIA DE COMUNI. NO PERSEV.  PROCED.   \n",
       "5909127           AUDIENCIA DE MEDIDAS CAUTELARES.   \n",
       "5906737      AUDIENCIA DE PROCEDIMIENTO ABREVIADO.   \n",
       "5022886      AUDIENCIA DE PREPARACION JUICIO ORAL.   \n",
       "625821                AUDIENCIA DE SOBRESEIMIENTO.   \n",
       "...                                            ...   \n",
       "3747420                   AUDIENCIA DE LEY 18.216.   \n",
       "3747422  AUDIENCIA DE FORMAL. DE LA INVESTIGACISN.   \n",
       "3747425  AUDIENCIA DE FORMAL. DE LA INVESTIGACISN.   \n",
       "3747426  AUDIENCIA DE FORMAL. DE LA INVESTIGACISN.   \n",
       "3747427  AUDIENCIA DE FORMAL. DE LA INVESTIGACISN.   \n",
       "\n",
       "        FECHA PROGRAMACION AUDIENCIA FECHA AUDIENCIA  DIAS AGENDAMIENTO  \\\n",
       "5911937                   2007-04-25      2015-10-23               3103   \n",
       "5909127                   2007-07-30      2015-10-15               2999   \n",
       "5906737                   2008-02-14      2015-10-23               2808   \n",
       "5022886                   2008-03-31      2015-06-18               2635   \n",
       "625821                    2008-10-01      2018-08-24               3614   \n",
       "...                              ...             ...                ...   \n",
       "3747420                          NaT      2017-09-13                 21   \n",
       "3747422                          NaT      2017-12-04                 39   \n",
       "3747425                          NaT      2017-10-05                 38   \n",
       "3747426                          NaT      2017-11-16                 42   \n",
       "3747427                          NaT      2017-12-20                 34   \n",
       "\n",
       "        DURACION AUDIENCIA (MIN)  TOTAL AUDIENCIAS  \n",
       "5911937                        1                 1  \n",
       "5909127                        2                 1  \n",
       "5906737                        5                 1  \n",
       "5022886                        5                 1  \n",
       "625821                        15                 1  \n",
       "...                          ...               ...  \n",
       "3747420                        2                 1  \n",
       "3747422                        1                 1  \n",
       "3747425                        2                 1  \n",
       "3747426                        5                 1  \n",
       "3747427                        5                 1  \n",
       "\n",
       "[6169226 rows x 13 columns]"
      ]
     },
     "execution_count": 38,
     "metadata": {},
     "output_type": "execute_result"
    }
   ],
   "source": [
    "# Reset el index para realizar feather\n",
    "\n",
    "df_audiencias.reset_index(inplace = True)\n",
    "df_audiencias.sort_values('FECHA PROGRAMACION AUDIENCIA')"
   ]
  },
  {
   "cell_type": "code",
   "execution_count": 39,
   "metadata": {},
   "outputs": [],
   "source": [
    "# Guardamos dataset como archivo feather\n",
    "path_interim = \"../data/interim/pjud\"\n",
    "os.makedirs(path_interim, exist_ok = True) \n",
    "\n",
    "df_audiencias.to_feather(f'{path_interim}/clean_Audiencias.feather')"
   ]
  },
  {
   "cell_type": "code",
   "execution_count": null,
   "metadata": {},
   "outputs": [],
   "source": []
  }
 ],
 "metadata": {
  "kernelspec": {
   "display_name": "Python 3",
   "language": "python",
   "name": "python3"
  },
  "language_info": {
   "codemirror_mode": {
    "name": "ipython",
    "version": 3
   },
   "file_extension": ".py",
   "mimetype": "text/x-python",
   "name": "python",
   "nbconvert_exporter": "python",
   "pygments_lexer": "ipython3",
   "version": "3.7.6"
  }
 },
 "nbformat": 4,
 "nbformat_minor": 4
}
