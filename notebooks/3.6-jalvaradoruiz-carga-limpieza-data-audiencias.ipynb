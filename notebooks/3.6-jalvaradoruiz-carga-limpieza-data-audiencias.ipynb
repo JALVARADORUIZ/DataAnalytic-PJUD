{
 "cells": [
  {
   "cell_type": "markdown",
   "metadata": {},
   "source": [
    "## Carga Data AUDIENCIAS"
   ]
  },
  {
   "cell_type": "code",
   "execution_count": 1,
   "metadata": {},
   "outputs": [],
   "source": [
    "import os\n",
    "import pandas as pd\n",
    "import numpy as np\n",
    "from pyarrow import feather\n",
    "from tqdm import tqdm\n",
    "\n",
    "from src.data import cleandata"
   ]
  },
  {
   "cell_type": "code",
   "execution_count": 2,
   "metadata": {},
   "outputs": [
    {
     "name": "stderr",
     "output_type": "stream",
     "text": [
      "/Users/jalvaradoruiz/opt/anaconda3/lib/python3.7/site-packages/tqdm/std.py:658: FutureWarning: The Panel class is removed from pandas. Accessing it from the top-level namespace will also be removed in the next version\n",
      "  from pandas import Panel\n"
     ]
    }
   ],
   "source": [
    "path_raw = \"../data/raw/pjud\" \n",
    "archivos = os.listdir(path_raw) \n",
    "tqdm.pandas()"
   ]
  },
  {
   "cell_type": "code",
   "execution_count": 3,
   "metadata": {},
   "outputs": [],
   "source": [
    "# Creacion dataframe con los datos de Audiencias Realizadas Penal de los años 2015 a 2019\n",
    "\n",
    "dataframes = []\n",
    "\n",
    "for archivo in archivos:\n",
    "    if archivo.find(\"Audiencias Realizadas Penal\") != -1:\n",
    "        df = pd.read_csv(f\"{path_raw}/{archivo}\", sep = \";\", encoding = 'cp850', dtype = 'unicode', low_memory = True)\n",
    "        dataframes.append(df) \n",
    "        \n",
    "df_audiencias = pd.concat(dataframes, axis = 0)\n"
   ]
  },
  {
   "cell_type": "code",
   "execution_count": 4,
   "metadata": {
    "scrolled": true
   },
   "outputs": [],
   "source": [
    "df_audiencias.rename(columns = {'CÓD. CORTE':'COD. CORTE',\n",
    "                                'CÓD. TRIBUNAL':'COD. TRIBUNAL',\n",
    "                                'DURACIÓN  AUDIENCIA':'DURACION AUDIENCIA',\n",
    "                                'AGENDAMIENTO (DÍAS CORRIDOS)':'DIAS AGENDAMIENTO',\n",
    "                                'DURACIÓN AUDIENCIA (MINUTOS)':'DURACION AUDIENCIA (MIN)',\n",
    "                                'FECHA PROGRAMACIÓN AUDIENCIA':'FECHA PROGRAMACION AUDIENCIA'\n",
    "                               },\n",
    "                     inplace = True)\n",
    "\n",
    "# TRANSFORMAMOS DE FLOAT A INTEGER\n",
    "\n",
    "df_audiencias['COD. CORTE'] = df_audiencias['COD. CORTE'].fillna(0).astype(np.int16)\n",
    "df_audiencias['COD. TRIBUNAL'] = df_audiencias['COD. TRIBUNAL'].fillna(0).astype(np.int16)"
   ]
  },
  {
   "cell_type": "code",
   "execution_count": 5,
   "metadata": {},
   "outputs": [],
   "source": [
    "# Podemos observar que existen columnas que se repiten, y que tienen datos NAN en algunas pero esos datos \n",
    "# en otras columnas, pasa en TIPO AUDIENCIA=TIPO DE AUDIENCIA, AGENDAMIENTO (DÍAS CORRIDOS)=PLAZO AGENDAMIENTO\n",
    "# (DÍAS CORRIDOS), DURACIÓN AUDIENCIA (MINUTOS)= DURACIÓN AUDIENCIA\n",
    "\n",
    "df_audiencias['TIPO DE AUDIENCIA'] = df_audiencias['TIPO DE AUDIENCIA'].fillna(df_audiencias['TIPO AUDIENCIA'])\n",
    "df_audiencias['DIAS AGENDAMIENTO'] = df_audiencias['DIAS AGENDAMIENTO'].fillna(df_audiencias['PLAZO AGENDAMIENTO (DIAS CORRIDOS)']).astype(np.int16)\n",
    "df_audiencias['DURACION AUDIENCIA (MIN)'] = df_audiencias['DURACION AUDIENCIA (MIN)'].fillna(df_audiencias['DURACION AUDIENCIA'])"
   ]
  },
  {
   "cell_type": "code",
   "execution_count": 6,
   "metadata": {},
   "outputs": [],
   "source": [
    "# Elimino las columnas reemplazadas\n",
    "\n",
    "df_audiencias.drop(['TIPO AUDIENCIA','PLAZO AGENDAMIENTO (DIAS CORRIDOS)','DURACION AUDIENCIA','TOTAL AUDIENCIAS'], \n",
    "                   axis = 'columns', inplace = True)"
   ]
  },
  {
   "cell_type": "code",
   "execution_count": 7,
   "metadata": {},
   "outputs": [
    {
     "name": "stderr",
     "output_type": "stream",
     "text": [
      "100%|██████████| 6712514/6712514 [00:11<00:00, 560918.27it/s]\n",
      "100%|██████████| 6712514/6712514 [00:11<00:00, 571783.74it/s]\n"
     ]
    }
   ],
   "source": [
    "# Transformamos fechas\n",
    "\n",
    "df_audiencias['FECHA PROGRAMACION AUDIENCIA'] = df_audiencias['FECHA PROGRAMACION AUDIENCIA'].progress_apply(cleandata.convierte_fecha)\n",
    "df_audiencias['FECHA AUDIENCIA'] = df_audiencias['FECHA AUDIENCIA'].progress_apply(cleandata.convierte_fecha)"
   ]
  },
  {
   "cell_type": "code",
   "execution_count": 8,
   "metadata": {},
   "outputs": [
    {
     "name": "stderr",
     "output_type": "stream",
     "text": [
      "100%|██████████| 11/11 [00:53<00:00,  4.84s/it]\n"
     ]
    }
   ],
   "source": [
    "# Elimino espacios en las columnas tipo objetos\n",
    "\n",
    "df_audiencias = df_audiencias.progress_apply(cleandata.elimina_espacios, axis=0)"
   ]
  },
  {
   "cell_type": "code",
   "execution_count": 9,
   "metadata": {},
   "outputs": [
    {
     "name": "stderr",
     "output_type": "stream",
     "text": [
      "100%|██████████| 6/6 [01:36<00:00, 16.11s/it]\n"
     ]
    }
   ],
   "source": [
    "# Elimino tildes \n",
    "\n",
    "cols = df_audiencias.select_dtypes(include = [\"object\"]).columns\n",
    "df_audiencias[cols] = df_audiencias[cols].progress_apply(cleandata.elimina_tilde)"
   ]
  },
  {
   "cell_type": "code",
   "execution_count": 10,
   "metadata": {},
   "outputs": [],
   "source": [
    "# Categorizar\n",
    "\n",
    "df_audiencias['CORTE'] = df_audiencias['CORTE'].astype('category')\n",
    "df_audiencias['TIPO CAUSA'] = df_audiencias['TIPO CAUSA'].astype('category')"
   ]
  },
  {
   "cell_type": "code",
   "execution_count": 11,
   "metadata": {},
   "outputs": [
    {
     "data": {
      "text/html": [
       "<div>\n",
       "<style scoped>\n",
       "    .dataframe tbody tr th:only-of-type {\n",
       "        vertical-align: middle;\n",
       "    }\n",
       "\n",
       "    .dataframe tbody tr th {\n",
       "        vertical-align: top;\n",
       "    }\n",
       "\n",
       "    .dataframe thead th {\n",
       "        text-align: right;\n",
       "    }\n",
       "</style>\n",
       "<table border=\"1\" class=\"dataframe\">\n",
       "  <thead>\n",
       "    <tr style=\"text-align: right;\">\n",
       "      <th></th>\n",
       "      <th>index</th>\n",
       "      <th>COD. CORTE</th>\n",
       "      <th>CORTE</th>\n",
       "      <th>COD. TRIBUNAL</th>\n",
       "      <th>TRIBUNAL</th>\n",
       "      <th>RIT</th>\n",
       "      <th>TIPO CAUSA</th>\n",
       "      <th>TIPO DE AUDIENCIA</th>\n",
       "      <th>FECHA PROGRAMACION AUDIENCIA</th>\n",
       "      <th>FECHA AUDIENCIA</th>\n",
       "      <th>DIAS AGENDAMIENTO</th>\n",
       "      <th>DURACION AUDIENCIA (MIN)</th>\n",
       "    </tr>\n",
       "  </thead>\n",
       "  <tbody>\n",
       "    <tr>\n",
       "      <th>0</th>\n",
       "      <td>0</td>\n",
       "      <td>10</td>\n",
       "      <td>C.A. DE ARICA</td>\n",
       "      <td>988</td>\n",
       "      <td>TRIBUNAL DE JUICIO ORAL EN LO PENAL DE ARICA</td>\n",
       "      <td>100-2018</td>\n",
       "      <td>Ordinaria</td>\n",
       "      <td>AUDIENCIA DE JUICIO ORAL TOP</td>\n",
       "      <td>2018-04-03</td>\n",
       "      <td>2018-05-28</td>\n",
       "      <td>55</td>\n",
       "      <td>164</td>\n",
       "    </tr>\n",
       "    <tr>\n",
       "      <th>1</th>\n",
       "      <td>1</td>\n",
       "      <td>10</td>\n",
       "      <td>C.A. DE ARICA</td>\n",
       "      <td>988</td>\n",
       "      <td>TRIBUNAL DE JUICIO ORAL EN LO PENAL DE ARICA</td>\n",
       "      <td>100-2018</td>\n",
       "      <td>Ordinaria</td>\n",
       "      <td>AUDIENCIA DE LECTURA DE SENTENCIA.</td>\n",
       "      <td>2018-06-01</td>\n",
       "      <td>2018-06-01</td>\n",
       "      <td>0</td>\n",
       "      <td>9</td>\n",
       "    </tr>\n",
       "    <tr>\n",
       "      <th>2</th>\n",
       "      <td>2</td>\n",
       "      <td>10</td>\n",
       "      <td>C.A. DE ARICA</td>\n",
       "      <td>988</td>\n",
       "      <td>TRIBUNAL DE JUICIO ORAL EN LO PENAL DE ARICA</td>\n",
       "      <td>100-2018</td>\n",
       "      <td>Ordinaria</td>\n",
       "      <td>AUDIENCIA DE MEDIDAS CAUTELARES.</td>\n",
       "      <td>2018-06-19</td>\n",
       "      <td>2018-06-23</td>\n",
       "      <td>4</td>\n",
       "      <td>4</td>\n",
       "    </tr>\n",
       "    <tr>\n",
       "      <th>3</th>\n",
       "      <td>3</td>\n",
       "      <td>10</td>\n",
       "      <td>C.A. DE ARICA</td>\n",
       "      <td>988</td>\n",
       "      <td>TRIBUNAL DE JUICIO ORAL EN LO PENAL DE ARICA</td>\n",
       "      <td>101-2018</td>\n",
       "      <td>Ordinaria</td>\n",
       "      <td>AUDIENCIA DE COMPARECENCIA JUDICIAL.</td>\n",
       "      <td>2018-04-03</td>\n",
       "      <td>2018-05-23</td>\n",
       "      <td>50</td>\n",
       "      <td>3</td>\n",
       "    </tr>\n",
       "    <tr>\n",
       "      <th>4</th>\n",
       "      <td>4</td>\n",
       "      <td>10</td>\n",
       "      <td>C.A. DE ARICA</td>\n",
       "      <td>988</td>\n",
       "      <td>TRIBUNAL DE JUICIO ORAL EN LO PENAL DE ARICA</td>\n",
       "      <td>101-2018</td>\n",
       "      <td>Ordinaria</td>\n",
       "      <td>AUDIENCIA PRESENTACION VOL.IMPUTADO C/ORD. DETEN.</td>\n",
       "      <td>2018-05-24</td>\n",
       "      <td>2018-05-24</td>\n",
       "      <td>0</td>\n",
       "      <td>3</td>\n",
       "    </tr>\n",
       "    <tr>\n",
       "      <th>...</th>\n",
       "      <td>...</td>\n",
       "      <td>...</td>\n",
       "      <td>...</td>\n",
       "      <td>...</td>\n",
       "      <td>...</td>\n",
       "      <td>...</td>\n",
       "      <td>...</td>\n",
       "      <td>...</td>\n",
       "      <td>...</td>\n",
       "      <td>...</td>\n",
       "      <td>...</td>\n",
       "      <td>...</td>\n",
       "    </tr>\n",
       "    <tr>\n",
       "      <th>6712509</th>\n",
       "      <td>1305380</td>\n",
       "      <td>91</td>\n",
       "      <td>C.A. DE SAN MIGUEL</td>\n",
       "      <td>1355</td>\n",
       "      <td>TRIBUNAL DE JUICIO ORAL EN LO PENAL DE MELIPILLA</td>\n",
       "      <td>85-2015</td>\n",
       "      <td>Ordinaria</td>\n",
       "      <td>AUDIENCIA DE LECTURA DE SENTENCIA.</td>\n",
       "      <td>2015-12-21</td>\n",
       "      <td>2015-12-24</td>\n",
       "      <td>3</td>\n",
       "      <td>3</td>\n",
       "    </tr>\n",
       "    <tr>\n",
       "      <th>6712510</th>\n",
       "      <td>1305381</td>\n",
       "      <td>91</td>\n",
       "      <td>C.A. DE SAN MIGUEL</td>\n",
       "      <td>1355</td>\n",
       "      <td>TRIBUNAL DE JUICIO ORAL EN LO PENAL DE MELIPILLA</td>\n",
       "      <td>90-2013</td>\n",
       "      <td>Ordinaria</td>\n",
       "      <td>AUDIENCIA DE JUICIO ORAL TOP</td>\n",
       "      <td>2015-07-06</td>\n",
       "      <td>2015-08-12</td>\n",
       "      <td>37</td>\n",
       "      <td>197</td>\n",
       "    </tr>\n",
       "    <tr>\n",
       "      <th>6712511</th>\n",
       "      <td>1305382</td>\n",
       "      <td>91</td>\n",
       "      <td>C.A. DE SAN MIGUEL</td>\n",
       "      <td>1355</td>\n",
       "      <td>TRIBUNAL DE JUICIO ORAL EN LO PENAL DE MELIPILLA</td>\n",
       "      <td>90-2013</td>\n",
       "      <td>Ordinaria</td>\n",
       "      <td>AUDIENCIA DE LECTURA DE SENTENCIA.</td>\n",
       "      <td>2015-08-12</td>\n",
       "      <td>2015-08-17</td>\n",
       "      <td>5</td>\n",
       "      <td>3</td>\n",
       "    </tr>\n",
       "    <tr>\n",
       "      <th>6712512</th>\n",
       "      <td>1305383</td>\n",
       "      <td>91</td>\n",
       "      <td>C.A. DE SAN MIGUEL</td>\n",
       "      <td>1355</td>\n",
       "      <td>TRIBUNAL DE JUICIO ORAL EN LO PENAL DE MELIPILLA</td>\n",
       "      <td>92-2015</td>\n",
       "      <td>Ordinaria</td>\n",
       "      <td>AUDIENCIA DE COMPARECENCIA JUDICIAL.</td>\n",
       "      <td>2015-12-16</td>\n",
       "      <td>2015-12-21</td>\n",
       "      <td>5</td>\n",
       "      <td>7</td>\n",
       "    </tr>\n",
       "    <tr>\n",
       "      <th>6712513</th>\n",
       "      <td>1305384</td>\n",
       "      <td>91</td>\n",
       "      <td>C.A. DE SAN MIGUEL</td>\n",
       "      <td>1355</td>\n",
       "      <td>TRIBUNAL DE JUICIO ORAL EN LO PENAL DE MELIPILLA</td>\n",
       "      <td>96-2015</td>\n",
       "      <td>Ordinaria</td>\n",
       "      <td>AUDIENCIA DE COMPARECENCIA JUDICIAL.</td>\n",
       "      <td>2015-12-21</td>\n",
       "      <td>2015-12-23</td>\n",
       "      <td>2</td>\n",
       "      <td>7</td>\n",
       "    </tr>\n",
       "  </tbody>\n",
       "</table>\n",
       "<p>6712514 rows × 12 columns</p>\n",
       "</div>"
      ],
      "text/plain": [
       "           index  COD. CORTE               CORTE  COD. TRIBUNAL  \\\n",
       "0              0          10       C.A. DE ARICA            988   \n",
       "1              1          10       C.A. DE ARICA            988   \n",
       "2              2          10       C.A. DE ARICA            988   \n",
       "3              3          10       C.A. DE ARICA            988   \n",
       "4              4          10       C.A. DE ARICA            988   \n",
       "...          ...         ...                 ...            ...   \n",
       "6712509  1305380          91  C.A. DE SAN MIGUEL           1355   \n",
       "6712510  1305381          91  C.A. DE SAN MIGUEL           1355   \n",
       "6712511  1305382          91  C.A. DE SAN MIGUEL           1355   \n",
       "6712512  1305383          91  C.A. DE SAN MIGUEL           1355   \n",
       "6712513  1305384          91  C.A. DE SAN MIGUEL           1355   \n",
       "\n",
       "                                                 TRIBUNAL       RIT  \\\n",
       "0            TRIBUNAL DE JUICIO ORAL EN LO PENAL DE ARICA  100-2018   \n",
       "1            TRIBUNAL DE JUICIO ORAL EN LO PENAL DE ARICA  100-2018   \n",
       "2            TRIBUNAL DE JUICIO ORAL EN LO PENAL DE ARICA  100-2018   \n",
       "3            TRIBUNAL DE JUICIO ORAL EN LO PENAL DE ARICA  101-2018   \n",
       "4            TRIBUNAL DE JUICIO ORAL EN LO PENAL DE ARICA  101-2018   \n",
       "...                                                   ...       ...   \n",
       "6712509  TRIBUNAL DE JUICIO ORAL EN LO PENAL DE MELIPILLA   85-2015   \n",
       "6712510  TRIBUNAL DE JUICIO ORAL EN LO PENAL DE MELIPILLA   90-2013   \n",
       "6712511  TRIBUNAL DE JUICIO ORAL EN LO PENAL DE MELIPILLA   90-2013   \n",
       "6712512  TRIBUNAL DE JUICIO ORAL EN LO PENAL DE MELIPILLA   92-2015   \n",
       "6712513  TRIBUNAL DE JUICIO ORAL EN LO PENAL DE MELIPILLA   96-2015   \n",
       "\n",
       "        TIPO CAUSA                                  TIPO DE AUDIENCIA  \\\n",
       "0        Ordinaria                       AUDIENCIA DE JUICIO ORAL TOP   \n",
       "1        Ordinaria                 AUDIENCIA DE LECTURA DE SENTENCIA.   \n",
       "2        Ordinaria                   AUDIENCIA DE MEDIDAS CAUTELARES.   \n",
       "3        Ordinaria               AUDIENCIA DE COMPARECENCIA JUDICIAL.   \n",
       "4        Ordinaria  AUDIENCIA PRESENTACION VOL.IMPUTADO C/ORD. DETEN.   \n",
       "...            ...                                                ...   \n",
       "6712509  Ordinaria                 AUDIENCIA DE LECTURA DE SENTENCIA.   \n",
       "6712510  Ordinaria                       AUDIENCIA DE JUICIO ORAL TOP   \n",
       "6712511  Ordinaria                 AUDIENCIA DE LECTURA DE SENTENCIA.   \n",
       "6712512  Ordinaria               AUDIENCIA DE COMPARECENCIA JUDICIAL.   \n",
       "6712513  Ordinaria               AUDIENCIA DE COMPARECENCIA JUDICIAL.   \n",
       "\n",
       "        FECHA PROGRAMACION AUDIENCIA FECHA AUDIENCIA  DIAS AGENDAMIENTO  \\\n",
       "0                         2018-04-03      2018-05-28                 55   \n",
       "1                         2018-06-01      2018-06-01                  0   \n",
       "2                         2018-06-19      2018-06-23                  4   \n",
       "3                         2018-04-03      2018-05-23                 50   \n",
       "4                         2018-05-24      2018-05-24                  0   \n",
       "...                              ...             ...                ...   \n",
       "6712509                   2015-12-21      2015-12-24                  3   \n",
       "6712510                   2015-07-06      2015-08-12                 37   \n",
       "6712511                   2015-08-12      2015-08-17                  5   \n",
       "6712512                   2015-12-16      2015-12-21                  5   \n",
       "6712513                   2015-12-21      2015-12-23                  2   \n",
       "\n",
       "        DURACION AUDIENCIA (MIN)  \n",
       "0                            164  \n",
       "1                              9  \n",
       "2                              4  \n",
       "3                              3  \n",
       "4                              3  \n",
       "...                          ...  \n",
       "6712509                        3  \n",
       "6712510                      197  \n",
       "6712511                        3  \n",
       "6712512                        7  \n",
       "6712513                        7  \n",
       "\n",
       "[6712514 rows x 12 columns]"
      ]
     },
     "execution_count": 11,
     "metadata": {},
     "output_type": "execute_result"
    }
   ],
   "source": [
    "# Reset el index para realizar feather\n",
    "\n",
    "df_audiencias.reset_index(inplace = True)\n",
    "df_audiencias"
   ]
  },
  {
   "cell_type": "code",
   "execution_count": 12,
   "metadata": {},
   "outputs": [],
   "source": [
    "# Guardamos dataset como archivo feather\n",
    "path_interim = \"../data/interim/pjud\"\n",
    "os.makedirs(path_interim, exist_ok = True) \n",
    "\n",
    "df_audiencias.to_feather(f'{path_interim}/Audiencias_feather')"
   ]
  },
  {
   "cell_type": "code",
   "execution_count": null,
   "metadata": {},
   "outputs": [],
   "source": []
  }
 ],
 "metadata": {
  "kernelspec": {
   "display_name": "Python 3",
   "language": "python",
   "name": "python3"
  },
  "language_info": {
   "codemirror_mode": {
    "name": "ipython",
    "version": 3
   },
   "file_extension": ".py",
   "mimetype": "text/x-python",
   "name": "python",
   "nbconvert_exporter": "python",
   "pygments_lexer": "ipython3",
   "version": "3.7.6"
  }
 },
 "nbformat": 4,
 "nbformat_minor": 4
}
