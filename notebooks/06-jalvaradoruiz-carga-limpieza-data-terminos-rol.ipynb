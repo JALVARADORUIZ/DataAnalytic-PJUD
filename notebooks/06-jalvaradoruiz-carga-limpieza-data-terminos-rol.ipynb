{
 "cells": [
  {
   "cell_type": "markdown",
   "metadata": {},
   "source": [
    "## Carga Data TERMINOS X ROL"
   ]
  },
  {
   "cell_type": "code",
   "execution_count": 1,
   "metadata": {},
   "outputs": [],
   "source": [
    "import os\n",
    "import pandas as pd\n",
    "import numpy as np\n",
    "from pyarrow import feather\n",
    "from tqdm import tqdm\n",
    "\n",
    "from src.data import cleandata"
   ]
  },
  {
   "cell_type": "code",
   "execution_count": 2,
   "metadata": {},
   "outputs": [
    {
     "name": "stderr",
     "output_type": "stream",
     "text": [
      "/Users/jalvaradoruiz/opt/anaconda3/lib/python3.7/site-packages/tqdm/std.py:658: FutureWarning: The Panel class is removed from pandas. Accessing it from the top-level namespace will also be removed in the next version\n",
      "  from pandas import Panel\n"
     ]
    }
   ],
   "source": [
    "path_raw = \"../data/raw/pjud\" \n",
    "archivos = os.listdir(path_raw) \n",
    "tqdm.pandas()"
   ]
  },
  {
   "cell_type": "code",
   "execution_count": 3,
   "metadata": {},
   "outputs": [],
   "source": [
    "# Creacion dataframe con los datos de Términos por Rol Penal de los años 2015 a 2019\n",
    "\n",
    "dataframes = []\n",
    "\n",
    "for archivo in archivos:\n",
    "    if archivo.find(\"Términos por Rol Penal\") != -1:\n",
    "        df = pd.read_csv(f\"{path_raw}/{archivo}\", sep = \";\", encoding = 'cp850', low_memory = True)\n",
    "        dataframes.append(df) \n",
    "        \n",
    "df_termino_rol = pd.concat(dataframes, axis = 0)"
   ]
  },
  {
   "cell_type": "code",
   "execution_count": 4,
   "metadata": {},
   "outputs": [],
   "source": [
    "# Elimino filas vacias o con datos NaN\n",
    "\n",
    "df_termino_rol = df_termino_rol.dropna()\n",
    "df_termino_rol.drop(['N°','MES TÉRMINO','AÑO TÉRMINO','TOTAL TÉRMINOS','SISTEMA'], axis = 'columns', inplace = True)"
   ]
  },
  {
   "cell_type": "code",
   "execution_count": 5,
   "metadata": {},
   "outputs": [],
   "source": [
    "# Cambio de nombre a algunas columnas para dejarlas iguales a otros dataframes\n",
    "\n",
    "df_termino_rol.rename(columns = {'CÓD. CORTE':'COD. CORTE',\n",
    "                                'CÓD. TRIBUNAL':'COD. TRIBUNAL',\n",
    "                                'DURACIÓN CAUSA ':'DURACION CAUSA',\n",
    "                                'MOTIVO DE TÉRMINO':'MOTIVO TERMINO',\n",
    "                                'FECHA TÉRMINO':'FECHA TERMINO'\n",
    "                                },\n",
    "                     inplace = True) "
   ]
  },
  {
   "cell_type": "code",
   "execution_count": 6,
   "metadata": {},
   "outputs": [],
   "source": [
    "# Transformamos variables float64 a int16\n",
    "\n",
    "df_termino_rol['COD. CORTE'] = df_termino_rol['COD. CORTE'].fillna(0).astype(np.int16)\n",
    "df_termino_rol['COD. TRIBUNAL'] = df_termino_rol['COD. TRIBUNAL'].fillna(0).astype(np.int16)\n",
    "df_termino_rol['DURACION CAUSA'] = df_termino_rol['DURACION CAUSA'].fillna(0).astype(np.int16)"
   ]
  },
  {
   "cell_type": "code",
   "execution_count": 7,
   "metadata": {},
   "outputs": [
    {
     "name": "stderr",
     "output_type": "stream",
     "text": [
      "100%|██████████| 7/7 [00:55<00:00,  7.92s/it]\n"
     ]
    }
   ],
   "source": [
    "# Elimino tildes de las columnas object\n",
    "\n",
    "cols = df_termino_rol.select_dtypes(include = [\"object\"]).columns\n",
    "df_termino_rol[cols] = df_termino_rol[cols].progress_apply(cleandata.elimina_tilde)"
   ]
  },
  {
   "cell_type": "code",
   "execution_count": 8,
   "metadata": {},
   "outputs": [
    {
     "name": "stderr",
     "output_type": "stream",
     "text": [
      "100%|██████████| 3357121/3357121 [00:05<00:00, 574498.88it/s]\n",
      "100%|██████████| 3357121/3357121 [00:05<00:00, 579927.22it/s]\n"
     ]
    }
   ],
   "source": [
    "# Convertir objetos a fechas\n",
    "#cols_date = ['FECHA INGRESO', 'FECHA TERMINO']\n",
    "#df_termino_rol[cols_date] = df_termino_rol[cols_date].progress_apply(convierte_fecha)\n",
    "\n",
    "df_termino_rol['FECHA INGRESO'] = df_termino_rol['FECHA INGRESO'].progress_apply(cleandata.convierte_fecha)\n",
    "df_termino_rol['FECHA TERMINO'] = df_termino_rol['FECHA TERMINO'].progress_apply(cleandata.convierte_fecha)"
   ]
  },
  {
   "cell_type": "code",
   "execution_count": 9,
   "metadata": {},
   "outputs": [
    {
     "name": "stderr",
     "output_type": "stream",
     "text": [
      "100%|██████████| 10/10 [00:24<00:00,  2.46s/it]\n"
     ]
    }
   ],
   "source": [
    "# Elimino espacios en las columnas tipo objetos\n",
    "\n",
    "df_termino_rol = df_termino_rol.progress_apply(cleandata.elimina_espacios, axis=0)"
   ]
  },
  {
   "cell_type": "code",
   "execution_count": 10,
   "metadata": {},
   "outputs": [],
   "source": [
    "# Transformamos en variables categoricas\n",
    "\n",
    "df_termino_rol['CORTE'] = df_termino_rol['CORTE'].astype('category')\n",
    "df_termino_rol['TIPO CAUSA'] = df_termino_rol['TIPO CAUSA'].astype('category')\n",
    "df_termino_rol['MOTIVO TERMINO'] = df_termino_rol['MOTIVO TERMINO'].astype('category')"
   ]
  },
  {
   "cell_type": "code",
   "execution_count": 11,
   "metadata": {},
   "outputs": [
    {
     "data": {
      "text/html": [
       "<div>\n",
       "<style scoped>\n",
       "    .dataframe tbody tr th:only-of-type {\n",
       "        vertical-align: middle;\n",
       "    }\n",
       "\n",
       "    .dataframe tbody tr th {\n",
       "        vertical-align: top;\n",
       "    }\n",
       "\n",
       "    .dataframe thead th {\n",
       "        text-align: right;\n",
       "    }\n",
       "</style>\n",
       "<table border=\"1\" class=\"dataframe\">\n",
       "  <thead>\n",
       "    <tr style=\"text-align: right;\">\n",
       "      <th></th>\n",
       "      <th>COD. CORTE</th>\n",
       "      <th>CORTE</th>\n",
       "      <th>COD. TRIBUNAL</th>\n",
       "      <th>TRIBUNAL</th>\n",
       "      <th>RIT</th>\n",
       "      <th>TIPO CAUSA</th>\n",
       "      <th>FECHA INGRESO</th>\n",
       "      <th>FECHA TERMINO</th>\n",
       "      <th>DURACION CAUSA</th>\n",
       "      <th>MOTIVO TERMINO</th>\n",
       "    </tr>\n",
       "  </thead>\n",
       "  <tbody>\n",
       "    <tr>\n",
       "      <th>0</th>\n",
       "      <td>10</td>\n",
       "      <td>C.A. DE ARICA</td>\n",
       "      <td>988</td>\n",
       "      <td>TRIBUNAL DE JUICIO ORAL EN LO PENAL DE ARICA</td>\n",
       "      <td>100-2018</td>\n",
       "      <td>Ordinaria</td>\n",
       "      <td>2018-04-02</td>\n",
       "      <td>2018-06-01</td>\n",
       "      <td>60</td>\n",
       "      <td>SENTENCIA</td>\n",
       "    </tr>\n",
       "    <tr>\n",
       "      <th>1</th>\n",
       "      <td>10</td>\n",
       "      <td>C.A. DE ARICA</td>\n",
       "      <td>988</td>\n",
       "      <td>TRIBUNAL DE JUICIO ORAL EN LO PENAL DE ARICA</td>\n",
       "      <td>101-2018</td>\n",
       "      <td>Ordinaria</td>\n",
       "      <td>2018-04-02</td>\n",
       "      <td>2018-08-29</td>\n",
       "      <td>149</td>\n",
       "      <td>SENTENCIA</td>\n",
       "    </tr>\n",
       "    <tr>\n",
       "      <th>2</th>\n",
       "      <td>10</td>\n",
       "      <td>C.A. DE ARICA</td>\n",
       "      <td>988</td>\n",
       "      <td>TRIBUNAL DE JUICIO ORAL EN LO PENAL DE ARICA</td>\n",
       "      <td>10-2018</td>\n",
       "      <td>Ordinaria</td>\n",
       "      <td>2018-01-10</td>\n",
       "      <td>2018-03-14</td>\n",
       "      <td>63</td>\n",
       "      <td>SENTENCIA</td>\n",
       "    </tr>\n",
       "    <tr>\n",
       "      <th>3</th>\n",
       "      <td>10</td>\n",
       "      <td>C.A. DE ARICA</td>\n",
       "      <td>988</td>\n",
       "      <td>TRIBUNAL DE JUICIO ORAL EN LO PENAL DE ARICA</td>\n",
       "      <td>102-2018</td>\n",
       "      <td>Ordinaria</td>\n",
       "      <td>2018-04-02</td>\n",
       "      <td>2018-05-29</td>\n",
       "      <td>57</td>\n",
       "      <td>SENTENCIA</td>\n",
       "    </tr>\n",
       "    <tr>\n",
       "      <th>4</th>\n",
       "      <td>10</td>\n",
       "      <td>C.A. DE ARICA</td>\n",
       "      <td>988</td>\n",
       "      <td>TRIBUNAL DE JUICIO ORAL EN LO PENAL DE ARICA</td>\n",
       "      <td>103-2018</td>\n",
       "      <td>Ordinaria</td>\n",
       "      <td>2018-04-02</td>\n",
       "      <td>2018-05-30</td>\n",
       "      <td>58</td>\n",
       "      <td>SENTENCIA</td>\n",
       "    </tr>\n",
       "    <tr>\n",
       "      <th>...</th>\n",
       "      <td>...</td>\n",
       "      <td>...</td>\n",
       "      <td>...</td>\n",
       "      <td>...</td>\n",
       "      <td>...</td>\n",
       "      <td>...</td>\n",
       "      <td>...</td>\n",
       "      <td>...</td>\n",
       "      <td>...</td>\n",
       "      <td>...</td>\n",
       "    </tr>\n",
       "    <tr>\n",
       "      <th>679953</th>\n",
       "      <td>91</td>\n",
       "      <td>C.A. DE SAN MIGUEL</td>\n",
       "      <td>1355</td>\n",
       "      <td>TRIBUNAL DE JUICIO ORAL EN LO PENAL DE MELIPILLA</td>\n",
       "      <td>86-2014</td>\n",
       "      <td>Ordinaria</td>\n",
       "      <td>2014-12-02</td>\n",
       "      <td>2015-01-31</td>\n",
       "      <td>60</td>\n",
       "      <td>SENTENCIA</td>\n",
       "    </tr>\n",
       "    <tr>\n",
       "      <th>679954</th>\n",
       "      <td>91</td>\n",
       "      <td>C.A. DE SAN MIGUEL</td>\n",
       "      <td>1355</td>\n",
       "      <td>TRIBUNAL DE JUICIO ORAL EN LO PENAL DE MELIPILLA</td>\n",
       "      <td>87-2014</td>\n",
       "      <td>Ordinaria</td>\n",
       "      <td>2014-12-09</td>\n",
       "      <td>2015-01-28</td>\n",
       "      <td>50</td>\n",
       "      <td>SENTENCIA</td>\n",
       "    </tr>\n",
       "    <tr>\n",
       "      <th>679955</th>\n",
       "      <td>91</td>\n",
       "      <td>C.A. DE SAN MIGUEL</td>\n",
       "      <td>1355</td>\n",
       "      <td>TRIBUNAL DE JUICIO ORAL EN LO PENAL DE MELIPILLA</td>\n",
       "      <td>88-2014</td>\n",
       "      <td>Ordinaria</td>\n",
       "      <td>2014-12-30</td>\n",
       "      <td>2015-02-02</td>\n",
       "      <td>34</td>\n",
       "      <td>SENTENCIA</td>\n",
       "    </tr>\n",
       "    <tr>\n",
       "      <th>679956</th>\n",
       "      <td>91</td>\n",
       "      <td>C.A. DE SAN MIGUEL</td>\n",
       "      <td>1355</td>\n",
       "      <td>TRIBUNAL DE JUICIO ORAL EN LO PENAL DE MELIPILLA</td>\n",
       "      <td>90-2013</td>\n",
       "      <td>Ordinaria</td>\n",
       "      <td>2013-12-18</td>\n",
       "      <td>2015-08-17</td>\n",
       "      <td>607</td>\n",
       "      <td>SENTENCIA</td>\n",
       "    </tr>\n",
       "    <tr>\n",
       "      <th>679957</th>\n",
       "      <td>91</td>\n",
       "      <td>C.A. DE SAN MIGUEL</td>\n",
       "      <td>1355</td>\n",
       "      <td>TRIBUNAL DE JUICIO ORAL EN LO PENAL DE MELIPILLA</td>\n",
       "      <td>9-2015</td>\n",
       "      <td>Ordinaria</td>\n",
       "      <td>2015-02-11</td>\n",
       "      <td>2015-03-30</td>\n",
       "      <td>47</td>\n",
       "      <td>SENTENCIA</td>\n",
       "    </tr>\n",
       "  </tbody>\n",
       "</table>\n",
       "<p>3357121 rows × 10 columns</p>\n",
       "</div>"
      ],
      "text/plain": [
       "        COD. CORTE               CORTE  COD. TRIBUNAL  \\\n",
       "0               10       C.A. DE ARICA            988   \n",
       "1               10       C.A. DE ARICA            988   \n",
       "2               10       C.A. DE ARICA            988   \n",
       "3               10       C.A. DE ARICA            988   \n",
       "4               10       C.A. DE ARICA            988   \n",
       "...            ...                 ...            ...   \n",
       "679953          91  C.A. DE SAN MIGUEL           1355   \n",
       "679954          91  C.A. DE SAN MIGUEL           1355   \n",
       "679955          91  C.A. DE SAN MIGUEL           1355   \n",
       "679956          91  C.A. DE SAN MIGUEL           1355   \n",
       "679957          91  C.A. DE SAN MIGUEL           1355   \n",
       "\n",
       "                                                TRIBUNAL       RIT TIPO CAUSA  \\\n",
       "0           TRIBUNAL DE JUICIO ORAL EN LO PENAL DE ARICA  100-2018  Ordinaria   \n",
       "1           TRIBUNAL DE JUICIO ORAL EN LO PENAL DE ARICA  101-2018  Ordinaria   \n",
       "2           TRIBUNAL DE JUICIO ORAL EN LO PENAL DE ARICA   10-2018  Ordinaria   \n",
       "3           TRIBUNAL DE JUICIO ORAL EN LO PENAL DE ARICA  102-2018  Ordinaria   \n",
       "4           TRIBUNAL DE JUICIO ORAL EN LO PENAL DE ARICA  103-2018  Ordinaria   \n",
       "...                                                  ...       ...        ...   \n",
       "679953  TRIBUNAL DE JUICIO ORAL EN LO PENAL DE MELIPILLA   86-2014  Ordinaria   \n",
       "679954  TRIBUNAL DE JUICIO ORAL EN LO PENAL DE MELIPILLA   87-2014  Ordinaria   \n",
       "679955  TRIBUNAL DE JUICIO ORAL EN LO PENAL DE MELIPILLA   88-2014  Ordinaria   \n",
       "679956  TRIBUNAL DE JUICIO ORAL EN LO PENAL DE MELIPILLA   90-2013  Ordinaria   \n",
       "679957  TRIBUNAL DE JUICIO ORAL EN LO PENAL DE MELIPILLA    9-2015  Ordinaria   \n",
       "\n",
       "       FECHA INGRESO FECHA TERMINO  DURACION CAUSA MOTIVO TERMINO  \n",
       "0         2018-04-02    2018-06-01              60      SENTENCIA  \n",
       "1         2018-04-02    2018-08-29             149      SENTENCIA  \n",
       "2         2018-01-10    2018-03-14              63      SENTENCIA  \n",
       "3         2018-04-02    2018-05-29              57      SENTENCIA  \n",
       "4         2018-04-02    2018-05-30              58      SENTENCIA  \n",
       "...              ...           ...             ...            ...  \n",
       "679953    2014-12-02    2015-01-31              60      SENTENCIA  \n",
       "679954    2014-12-09    2015-01-28              50      SENTENCIA  \n",
       "679955    2014-12-30    2015-02-02              34      SENTENCIA  \n",
       "679956    2013-12-18    2015-08-17             607      SENTENCIA  \n",
       "679957    2015-02-11    2015-03-30              47      SENTENCIA  \n",
       "\n",
       "[3357121 rows x 10 columns]"
      ]
     },
     "execution_count": 11,
     "metadata": {},
     "output_type": "execute_result"
    }
   ],
   "source": [
    "df_termino_rol"
   ]
  },
  {
   "cell_type": "code",
   "execution_count": 12,
   "metadata": {},
   "outputs": [],
   "source": [
    "# Reset el index para realizar feather\n",
    "df_termino_rol.reset_index(inplace = True)"
   ]
  },
  {
   "cell_type": "code",
   "execution_count": 13,
   "metadata": {},
   "outputs": [],
   "source": [
    "# Guardamos dataset como archivo feather\n",
    "path_interim = \"../data/interim/pjud\"\n",
    "os.makedirs(path_interim, exist_ok = True) \n",
    "\n",
    "df_termino_rol.to_feather(f'{path_interim}/TerminoRol_feather')\n"
   ]
  },
  {
   "cell_type": "code",
   "execution_count": null,
   "metadata": {},
   "outputs": [],
   "source": []
  }
 ],
 "metadata": {
  "kernelspec": {
   "display_name": "Python 3",
   "language": "python",
   "name": "python3"
  },
  "language_info": {
   "codemirror_mode": {
    "name": "ipython",
    "version": 3
   },
   "file_extension": ".py",
   "mimetype": "text/x-python",
   "name": "python",
   "nbconvert_exporter": "python",
   "pygments_lexer": "ipython3",
   "version": "3.7.6"
  }
 },
 "nbformat": 4,
 "nbformat_minor": 4
}
