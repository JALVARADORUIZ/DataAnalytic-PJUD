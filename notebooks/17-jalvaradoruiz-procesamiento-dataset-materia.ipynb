{
 "cells": [
  {
   "cell_type": "code",
   "execution_count": 1,
   "metadata": {},
   "outputs": [],
   "source": [
    "import pandas as pd\n",
    "import numpy as np\n",
    "import os\n",
    "\n",
    "from tqdm import tqdm\n",
    "from unicodedata import normalize\n",
    "\n",
    "from src.data import cleandata"
   ]
  },
  {
   "cell_type": "code",
   "execution_count": 2,
   "metadata": {},
   "outputs": [
    {
     "name": "stderr",
     "output_type": "stream",
     "text": [
      "/Users/jalvaradoruiz/opt/anaconda3/lib/python3.7/site-packages/tqdm/std.py:658: FutureWarning: The Panel class is removed from pandas. Accessing it from the top-level namespace will also be removed in the next version\n",
      "  from pandas import Panel\n"
     ]
    }
   ],
   "source": [
    "tqdm.pandas()\n",
    "\n",
    "path_interim = \"../data/interim/pjud\"\n",
    "path_processed = \"../data/processed/pjud\""
   ]
  },
  {
   "cell_type": "markdown",
   "metadata": {},
   "source": [
    "# DATA de TRIBUNALES OBTENIDAS DEL COT"
   ]
  },
  {
   "cell_type": "code",
   "execution_count": 3,
   "metadata": {},
   "outputs": [],
   "source": [
    "# Analizo contra los datos extraidos en COT\n",
    "df_tribunales = pd.read_feather(f\"{path_processed}/ListadoTribunales_feather\")\n",
    "tribunales = df_tribunales['TRIBUNAL'].unique()"
   ]
  },
  {
   "cell_type": "markdown",
   "metadata": {},
   "source": [
    "# DATAS INGRESO Y TERMINO MATERIA"
   ]
  },
  {
   "cell_type": "markdown",
   "metadata": {},
   "source": [
    "### DATA INGRESO X MATERA"
   ]
  },
  {
   "cell_type": "code",
   "execution_count": 4,
   "metadata": {},
   "outputs": [
    {
     "data": {
      "text/html": [
       "<div>\n",
       "<style scoped>\n",
       "    .dataframe tbody tr th:only-of-type {\n",
       "        vertical-align: middle;\n",
       "    }\n",
       "\n",
       "    .dataframe tbody tr th {\n",
       "        vertical-align: top;\n",
       "    }\n",
       "\n",
       "    .dataframe thead th {\n",
       "        text-align: right;\n",
       "    }\n",
       "</style>\n",
       "<table border=\"1\" class=\"dataframe\">\n",
       "  <thead>\n",
       "    <tr style=\"text-align: right;\">\n",
       "      <th></th>\n",
       "      <th>index</th>\n",
       "      <th>COD. CORTE</th>\n",
       "      <th>CORTE</th>\n",
       "      <th>COD. TRIBUNAL</th>\n",
       "      <th>TRIBUNAL</th>\n",
       "      <th>RIT</th>\n",
       "      <th>TIPO CAUSA</th>\n",
       "      <th>COD. MATERIA</th>\n",
       "      <th>MATERIA</th>\n",
       "      <th>FECHA INGRESO</th>\n",
       "    </tr>\n",
       "  </thead>\n",
       "  <tbody>\n",
       "    <tr>\n",
       "      <th>0</th>\n",
       "      <td>0</td>\n",
       "      <td>10</td>\n",
       "      <td>C.A. DE ARICA</td>\n",
       "      <td>988</td>\n",
       "      <td>TRIBUNAL DE JUICIO ORAL EN LO PENAL DE ARICA</td>\n",
       "      <td>100-2018</td>\n",
       "      <td>Ordinaria</td>\n",
       "      <td>7007</td>\n",
       "      <td>TRAFICO ILICITO DE DROGAS (ART. 3).</td>\n",
       "      <td>2018-04-02</td>\n",
       "    </tr>\n",
       "    <tr>\n",
       "      <th>1</th>\n",
       "      <td>1</td>\n",
       "      <td>10</td>\n",
       "      <td>C.A. DE ARICA</td>\n",
       "      <td>988</td>\n",
       "      <td>TRIBUNAL DE JUICIO ORAL EN LO PENAL DE ARICA</td>\n",
       "      <td>100-2018</td>\n",
       "      <td>Ordinaria</td>\n",
       "      <td>10004</td>\n",
       "      <td>PORTE ILEGAL DE ARMA DE FUEGO, MUNICIONES Y OT...</td>\n",
       "      <td>2018-04-02</td>\n",
       "    </tr>\n",
       "    <tr>\n",
       "      <th>2</th>\n",
       "      <td>2</td>\n",
       "      <td>10</td>\n",
       "      <td>C.A. DE ARICA</td>\n",
       "      <td>988</td>\n",
       "      <td>TRIBUNAL DE JUICIO ORAL EN LO PENAL DE ARICA</td>\n",
       "      <td>101-2018</td>\n",
       "      <td>Ordinaria</td>\n",
       "      <td>12149</td>\n",
       "      <td>DESACATO (ART. 240 CODIGO DE PROCEDIMIENTO CIV...</td>\n",
       "      <td>2018-04-02</td>\n",
       "    </tr>\n",
       "    <tr>\n",
       "      <th>3</th>\n",
       "      <td>3</td>\n",
       "      <td>10</td>\n",
       "      <td>C.A. DE ARICA</td>\n",
       "      <td>988</td>\n",
       "      <td>TRIBUNAL DE JUICIO ORAL EN LO PENAL DE ARICA</td>\n",
       "      <td>10-2018</td>\n",
       "      <td>Ordinaria</td>\n",
       "      <td>7037</td>\n",
       "      <td>TRAFICO DE PEQUEÑAS CANTIDADES (ART. 4).</td>\n",
       "      <td>2018-01-10</td>\n",
       "    </tr>\n",
       "    <tr>\n",
       "      <th>4</th>\n",
       "      <td>4</td>\n",
       "      <td>10</td>\n",
       "      <td>C.A. DE ARICA</td>\n",
       "      <td>988</td>\n",
       "      <td>TRIBUNAL DE JUICIO ORAL EN LO PENAL DE ARICA</td>\n",
       "      <td>102-2018</td>\n",
       "      <td>Ordinaria</td>\n",
       "      <td>812</td>\n",
       "      <td>RECEPTACION. ART. 456 BIS A.</td>\n",
       "      <td>2018-04-02</td>\n",
       "    </tr>\n",
       "  </tbody>\n",
       "</table>\n",
       "</div>"
      ],
      "text/plain": [
       "   index  COD. CORTE          CORTE  COD. TRIBUNAL  \\\n",
       "0      0          10  C.A. DE ARICA            988   \n",
       "1      1          10  C.A. DE ARICA            988   \n",
       "2      2          10  C.A. DE ARICA            988   \n",
       "3      3          10  C.A. DE ARICA            988   \n",
       "4      4          10  C.A. DE ARICA            988   \n",
       "\n",
       "                                       TRIBUNAL       RIT TIPO CAUSA  \\\n",
       "0  TRIBUNAL DE JUICIO ORAL EN LO PENAL DE ARICA  100-2018  Ordinaria   \n",
       "1  TRIBUNAL DE JUICIO ORAL EN LO PENAL DE ARICA  100-2018  Ordinaria   \n",
       "2  TRIBUNAL DE JUICIO ORAL EN LO PENAL DE ARICA  101-2018  Ordinaria   \n",
       "3  TRIBUNAL DE JUICIO ORAL EN LO PENAL DE ARICA   10-2018  Ordinaria   \n",
       "4  TRIBUNAL DE JUICIO ORAL EN LO PENAL DE ARICA  102-2018  Ordinaria   \n",
       "\n",
       "   COD. MATERIA                                            MATERIA  \\\n",
       "0          7007                TRAFICO ILICITO DE DROGAS (ART. 3).   \n",
       "1         10004  PORTE ILEGAL DE ARMA DE FUEGO, MUNICIONES Y OT...   \n",
       "2         12149  DESACATO (ART. 240 CODIGO DE PROCEDIMIENTO CIV...   \n",
       "3          7037           TRAFICO DE PEQUEÑAS CANTIDADES (ART. 4).   \n",
       "4           812                       RECEPTACION. ART. 456 BIS A.   \n",
       "\n",
       "  FECHA INGRESO  \n",
       "0    2018-04-02  \n",
       "1    2018-04-02  \n",
       "2    2018-04-02  \n",
       "3    2018-01-10  \n",
       "4    2018-04-02  "
      ]
     },
     "execution_count": 4,
     "metadata": {},
     "output_type": "execute_result"
    }
   ],
   "source": [
    "df_ingresos_materia = pd.read_feather(f\"{path_interim}/IngresosMateria_feather\")\n",
    "df_ingresos_materia.head()\n"
   ]
  },
  {
   "cell_type": "code",
   "execution_count": 5,
   "metadata": {},
   "outputs": [
    {
     "name": "stderr",
     "output_type": "stream",
     "text": [
      "100%|██████████| 3213259/3213259 [00:19<00:00, 165158.97it/s]\n"
     ]
    }
   ],
   "source": [
    "# Normalizo nombres\n",
    "\n",
    "df_ingresos_materia['TRIBUNAL'] = df_ingresos_materia['TRIBUNAL'].progress_apply(cleandata.cambio_nombre_juzgados)"
   ]
  },
  {
   "cell_type": "code",
   "execution_count": 6,
   "metadata": {},
   "outputs": [],
   "source": [
    "# Verifico si coinciden los nombres e imprimo los que estan en conflicto\n",
    "\n",
    "for tribunal in df_ingresos_materia['TRIBUNAL'].unique():\n",
    "    if not tribunal in tribunales:\n",
    "        print(tribunal)"
   ]
  },
  {
   "cell_type": "markdown",
   "metadata": {},
   "source": [
    "### TERMINO X MATERIA"
   ]
  },
  {
   "cell_type": "code",
   "execution_count": 7,
   "metadata": {},
   "outputs": [
    {
     "data": {
      "text/html": [
       "<div>\n",
       "<style scoped>\n",
       "    .dataframe tbody tr th:only-of-type {\n",
       "        vertical-align: middle;\n",
       "    }\n",
       "\n",
       "    .dataframe tbody tr th {\n",
       "        vertical-align: top;\n",
       "    }\n",
       "\n",
       "    .dataframe thead th {\n",
       "        text-align: right;\n",
       "    }\n",
       "</style>\n",
       "<table border=\"1\" class=\"dataframe\">\n",
       "  <thead>\n",
       "    <tr style=\"text-align: right;\">\n",
       "      <th></th>\n",
       "      <th>index</th>\n",
       "      <th>COD. CORTE</th>\n",
       "      <th>CORTE</th>\n",
       "      <th>COD. TRIBUNAL</th>\n",
       "      <th>TRIBUNAL</th>\n",
       "      <th>RIT</th>\n",
       "      <th>TIPO CAUSA</th>\n",
       "      <th>COD. MATERIA</th>\n",
       "      <th>MATERIA</th>\n",
       "      <th>FECHA INGRESO</th>\n",
       "      <th>FECHA TERMINO</th>\n",
       "      <th>MOTIVO TERMINO</th>\n",
       "      <th>DURACION CAUSA</th>\n",
       "    </tr>\n",
       "  </thead>\n",
       "  <tbody>\n",
       "    <tr>\n",
       "      <th>0</th>\n",
       "      <td>0</td>\n",
       "      <td>10</td>\n",
       "      <td>C.A. DE ARICA</td>\n",
       "      <td>988</td>\n",
       "      <td>TRIBUNAL DE JUICIO ORAL EN LO PENAL DE ARICA</td>\n",
       "      <td>100-2018</td>\n",
       "      <td>Ordinaria</td>\n",
       "      <td>7007</td>\n",
       "      <td>TRAFICO ILICITO DE DROGAS (ART. 3).</td>\n",
       "      <td>2018-04-02</td>\n",
       "      <td>2018-06-01</td>\n",
       "      <td>SENTENCIA</td>\n",
       "      <td>60</td>\n",
       "    </tr>\n",
       "    <tr>\n",
       "      <th>1</th>\n",
       "      <td>1</td>\n",
       "      <td>10</td>\n",
       "      <td>C.A. DE ARICA</td>\n",
       "      <td>988</td>\n",
       "      <td>TRIBUNAL DE JUICIO ORAL EN LO PENAL DE ARICA</td>\n",
       "      <td>100-2018</td>\n",
       "      <td>Ordinaria</td>\n",
       "      <td>10004</td>\n",
       "      <td>PORTE ILEGAL DE ARMA DE FUEGO, MUNICIONES Y OT...</td>\n",
       "      <td>2018-04-02</td>\n",
       "      <td>2018-06-01</td>\n",
       "      <td>SENTENCIA</td>\n",
       "      <td>60</td>\n",
       "    </tr>\n",
       "    <tr>\n",
       "      <th>2</th>\n",
       "      <td>2</td>\n",
       "      <td>10</td>\n",
       "      <td>C.A. DE ARICA</td>\n",
       "      <td>988</td>\n",
       "      <td>TRIBUNAL DE JUICIO ORAL EN LO PENAL DE ARICA</td>\n",
       "      <td>101-2018</td>\n",
       "      <td>Ordinaria</td>\n",
       "      <td>12149</td>\n",
       "      <td>DESACATO (ART. 240 CODIGO DE PROCEDIMIENTO CIV...</td>\n",
       "      <td>2018-04-02</td>\n",
       "      <td>2018-08-29</td>\n",
       "      <td>SENTENCIA</td>\n",
       "      <td>149</td>\n",
       "    </tr>\n",
       "    <tr>\n",
       "      <th>3</th>\n",
       "      <td>3</td>\n",
       "      <td>10</td>\n",
       "      <td>C.A. DE ARICA</td>\n",
       "      <td>988</td>\n",
       "      <td>TRIBUNAL DE JUICIO ORAL EN LO PENAL DE ARICA</td>\n",
       "      <td>10-2018</td>\n",
       "      <td>Ordinaria</td>\n",
       "      <td>7037</td>\n",
       "      <td>TRAFICO DE PEQUEÑAS CANTIDADES (ART. 4).</td>\n",
       "      <td>2018-01-10</td>\n",
       "      <td>2018-03-14</td>\n",
       "      <td>SENTENCIA</td>\n",
       "      <td>63</td>\n",
       "    </tr>\n",
       "    <tr>\n",
       "      <th>4</th>\n",
       "      <td>4</td>\n",
       "      <td>10</td>\n",
       "      <td>C.A. DE ARICA</td>\n",
       "      <td>988</td>\n",
       "      <td>TRIBUNAL DE JUICIO ORAL EN LO PENAL DE ARICA</td>\n",
       "      <td>102-2018</td>\n",
       "      <td>Ordinaria</td>\n",
       "      <td>812</td>\n",
       "      <td>RECEPTACION. ART. 456 BIS A.</td>\n",
       "      <td>2018-04-02</td>\n",
       "      <td>2018-05-29</td>\n",
       "      <td>SENTENCIA</td>\n",
       "      <td>57</td>\n",
       "    </tr>\n",
       "  </tbody>\n",
       "</table>\n",
       "</div>"
      ],
      "text/plain": [
       "   index  COD. CORTE          CORTE  COD. TRIBUNAL  \\\n",
       "0      0          10  C.A. DE ARICA            988   \n",
       "1      1          10  C.A. DE ARICA            988   \n",
       "2      2          10  C.A. DE ARICA            988   \n",
       "3      3          10  C.A. DE ARICA            988   \n",
       "4      4          10  C.A. DE ARICA            988   \n",
       "\n",
       "                                       TRIBUNAL       RIT TIPO CAUSA  \\\n",
       "0  TRIBUNAL DE JUICIO ORAL EN LO PENAL DE ARICA  100-2018  Ordinaria   \n",
       "1  TRIBUNAL DE JUICIO ORAL EN LO PENAL DE ARICA  100-2018  Ordinaria   \n",
       "2  TRIBUNAL DE JUICIO ORAL EN LO PENAL DE ARICA  101-2018  Ordinaria   \n",
       "3  TRIBUNAL DE JUICIO ORAL EN LO PENAL DE ARICA   10-2018  Ordinaria   \n",
       "4  TRIBUNAL DE JUICIO ORAL EN LO PENAL DE ARICA  102-2018  Ordinaria   \n",
       "\n",
       "   COD. MATERIA                                            MATERIA  \\\n",
       "0          7007                TRAFICO ILICITO DE DROGAS (ART. 3).   \n",
       "1         10004  PORTE ILEGAL DE ARMA DE FUEGO, MUNICIONES Y OT...   \n",
       "2         12149  DESACATO (ART. 240 CODIGO DE PROCEDIMIENTO CIV...   \n",
       "3          7037           TRAFICO DE PEQUEÑAS CANTIDADES (ART. 4).   \n",
       "4           812                       RECEPTACION. ART. 456 BIS A.   \n",
       "\n",
       "  FECHA INGRESO FECHA TERMINO MOTIVO TERMINO  DURACION CAUSA  \n",
       "0    2018-04-02    2018-06-01      SENTENCIA              60  \n",
       "1    2018-04-02    2018-06-01      SENTENCIA              60  \n",
       "2    2018-04-02    2018-08-29      SENTENCIA             149  \n",
       "3    2018-01-10    2018-03-14      SENTENCIA              63  \n",
       "4    2018-04-02    2018-05-29      SENTENCIA              57  "
      ]
     },
     "execution_count": 7,
     "metadata": {},
     "output_type": "execute_result"
    }
   ],
   "source": [
    "df_termino_materia = pd.read_feather(f\"{path_interim}/TerminoMateria_feather\")\n",
    "df_termino_materia.head()"
   ]
  },
  {
   "cell_type": "code",
   "execution_count": 8,
   "metadata": {},
   "outputs": [
    {
     "name": "stderr",
     "output_type": "stream",
     "text": [
      "100%|██████████| 3606632/3606632 [00:21<00:00, 166888.23it/s]\n"
     ]
    }
   ],
   "source": [
    "# Normalizo nombres\n",
    "\n",
    "df_termino_materia['TRIBUNAL'] = df_termino_materia['TRIBUNAL'].progress_apply(cleandata.cambio_nombre_juzgados)"
   ]
  },
  {
   "cell_type": "code",
   "execution_count": 9,
   "metadata": {},
   "outputs": [],
   "source": [
    "# Verifico si coinciden los nombres e imprimo los que estan en conflicto\n",
    "\n",
    "for tribunal in df_termino_materia['TRIBUNAL'].unique():\n",
    "    if not tribunal in tribunales:\n",
    "        print(tribunal)"
   ]
  },
  {
   "cell_type": "markdown",
   "metadata": {},
   "source": [
    "## Data relacionada a Delitos"
   ]
  },
  {
   "cell_type": "code",
   "execution_count": 10,
   "metadata": {},
   "outputs": [
    {
     "data": {
      "text/html": [
       "<div>\n",
       "<style scoped>\n",
       "    .dataframe tbody tr th:only-of-type {\n",
       "        vertical-align: middle;\n",
       "    }\n",
       "\n",
       "    .dataframe tbody tr th {\n",
       "        vertical-align: top;\n",
       "    }\n",
       "\n",
       "    .dataframe thead th {\n",
       "        text-align: right;\n",
       "    }\n",
       "</style>\n",
       "<table border=\"1\" class=\"dataframe\">\n",
       "  <thead>\n",
       "    <tr style=\"text-align: right;\">\n",
       "      <th></th>\n",
       "      <th>index</th>\n",
       "      <th>COD. MATERIA</th>\n",
       "      <th>MATERIA</th>\n",
       "      <th>TIPOLOGIA MATERIA</th>\n",
       "      <th>VIGENCIA MATERIA</th>\n",
       "    </tr>\n",
       "  </thead>\n",
       "  <tbody>\n",
       "    <tr>\n",
       "      <th>0</th>\n",
       "      <td>0</td>\n",
       "      <td>101</td>\n",
       "      <td>QUEBRANTAMIENTO. ART. 90</td>\n",
       "      <td>LIBRO I  TITULO IV   QUEBRANTAMIENTO DE SENTEN...</td>\n",
       "      <td>VIGENTE</td>\n",
       "    </tr>\n",
       "    <tr>\n",
       "      <th>1</th>\n",
       "      <td>1</td>\n",
       "      <td>202</td>\n",
       "      <td>SECUESTRO. ART. 141</td>\n",
       "      <td>LIBRO II  TITULO III  CRIMENES Y SIMPLES DELIT...</td>\n",
       "      <td>VIGENTE</td>\n",
       "    </tr>\n",
       "    <tr>\n",
       "      <th>2</th>\n",
       "      <td>2</td>\n",
       "      <td>203</td>\n",
       "      <td>SUSTRACCION DE MENORES. ART. 142</td>\n",
       "      <td>LIBRO II  TITULO III  CRIMENES Y SIMPLES DELIT...</td>\n",
       "      <td>VIGENTE</td>\n",
       "    </tr>\n",
       "    <tr>\n",
       "      <th>3</th>\n",
       "      <td>3</td>\n",
       "      <td>204</td>\n",
       "      <td>VIOLACION DE MORADA. ART.144</td>\n",
       "      <td>LIBRO II  TITULO III  CRIMENES Y SIMPLES DELIT...</td>\n",
       "      <td>VIGENTE</td>\n",
       "    </tr>\n",
       "    <tr>\n",
       "      <th>4</th>\n",
       "      <td>4</td>\n",
       "      <td>205</td>\n",
       "      <td>APERTURA , REGISTRO O INTERCEPTACION DE CORRE...</td>\n",
       "      <td>LIBRO II  TITULO III  CRIMENES Y SIMPLES DELIT...</td>\n",
       "      <td>VIGENTE</td>\n",
       "    </tr>\n",
       "  </tbody>\n",
       "</table>\n",
       "</div>"
      ],
      "text/plain": [
       "   index  COD. MATERIA                                            MATERIA  \\\n",
       "0      0           101                           QUEBRANTAMIENTO. ART. 90   \n",
       "1      1           202                                SECUESTRO. ART. 141   \n",
       "2      2           203                   SUSTRACCION DE MENORES. ART. 142   \n",
       "3      3           204                       VIOLACION DE MORADA. ART.144   \n",
       "4      4           205   APERTURA , REGISTRO O INTERCEPTACION DE CORRE...   \n",
       "\n",
       "                                   TIPOLOGIA MATERIA VIGENCIA MATERIA  \n",
       "0  LIBRO I  TITULO IV   QUEBRANTAMIENTO DE SENTEN...          VIGENTE  \n",
       "1  LIBRO II  TITULO III  CRIMENES Y SIMPLES DELIT...          VIGENTE  \n",
       "2  LIBRO II  TITULO III  CRIMENES Y SIMPLES DELIT...          VIGENTE  \n",
       "3  LIBRO II  TITULO III  CRIMENES Y SIMPLES DELIT...          VIGENTE  \n",
       "4  LIBRO II  TITULO III  CRIMENES Y SIMPLES DELIT...          VIGENTE  "
      ]
     },
     "execution_count": 10,
     "metadata": {},
     "output_type": "execute_result"
    }
   ],
   "source": [
    "df_delitos = pd.read_feather(f\"{path_processed}/Delitos_feather\")\n",
    "df_delitos.head()"
   ]
  },
  {
   "cell_type": "code",
   "execution_count": 11,
   "metadata": {},
   "outputs": [
    {
     "name": "stdout",
     "output_type": "stream",
     "text": [
      "Existen 541 codigos de delitos\n"
     ]
    }
   ],
   "source": [
    "codigos_cot = df_delitos['COD. MATERIA'].unique()\n",
    "print(f\"Existen {len(codigos_cot)} codigos de delitos\")"
   ]
  },
  {
   "cell_type": "markdown",
   "metadata": {},
   "source": [
    "## Delitos en INGRESOS MATERIA"
   ]
  },
  {
   "cell_type": "code",
   "execution_count": 12,
   "metadata": {},
   "outputs": [],
   "source": [
    "codigos_delitos = df_ingresos_materia['COD. MATERIA'].unique()"
   ]
  },
  {
   "cell_type": "code",
   "execution_count": 13,
   "metadata": {},
   "outputs": [
    {
     "data": {
      "text/plain": [
       "474"
      ]
     },
     "execution_count": 13,
     "metadata": {},
     "output_type": "execute_result"
    }
   ],
   "source": [
    "len(codigos_delitos)"
   ]
  },
  {
   "cell_type": "code",
   "execution_count": 14,
   "metadata": {},
   "outputs": [],
   "source": [
    "codigos_no_encontrados = []\n",
    "for delito in codigos_delitos:\n",
    "    if not delito in codigos_cot:\n",
    "        codigos_no_encontrados.append(delito)"
   ]
  },
  {
   "cell_type": "code",
   "execution_count": 15,
   "metadata": {},
   "outputs": [
    {
     "data": {
      "text/plain": [
       "[13001, -31075, 0, 4011, 4014, 4013, 4010]"
      ]
     },
     "execution_count": 15,
     "metadata": {},
     "output_type": "execute_result"
    }
   ],
   "source": [
    "codigos_no_encontrados"
   ]
  },
  {
   "cell_type": "code",
   "execution_count": 16,
   "metadata": {},
   "outputs": [
    {
     "data": {
      "text/plain": [
       "array(['LESIONES LEVES.', 'FALTAS AL REGIMEN PENITENCIARIO', '[NULL]',\n",
       "       'MANEJO EN ESTADO DE EBRIEDAD (SOLO CRIMEN)',\n",
       "       'ESTAFA (SOLO CRIMEN)', 'ABUSO SEXUAL (SOLO CRIMEN)',\n",
       "       'VIOLACION (SOLO CRIMEN)'], dtype=object)"
      ]
     },
     "execution_count": 16,
     "metadata": {},
     "output_type": "execute_result"
    }
   ],
   "source": [
    "codigos_sin_registro = df_ingresos_materia[df_ingresos_materia['COD. MATERIA'].isin(codigos_no_encontrados)]\n",
    "\n",
    "codigos_sin_registro['MATERIA'].unique()\n",
    "\n",
    "# Analizar caso a caso:"
   ]
  },
  {
   "cell_type": "markdown",
   "metadata": {},
   "source": [
    "#### Caso Codigo 13001 -> LESIONES LEVES\n",
    "Este codigo debe tratarse como 13036 identificado como: LESIONES LEVES 494 Nº 5 CÓDIGO PENAL"
   ]
  },
  {
   "cell_type": "code",
   "execution_count": 17,
   "metadata": {},
   "outputs": [],
   "source": [
    "df_ingresos_materia['COD. MATERIA'] = df_ingresos_materia['COD. MATERIA'].replace(13001,13036)"
   ]
  },
  {
   "cell_type": "markdown",
   "metadata": {},
   "source": [
    "#### Caso Codigo -31075"
   ]
  },
  {
   "cell_type": "code",
   "execution_count": 18,
   "metadata": {},
   "outputs": [
    {
     "data": {
      "text/html": [
       "<div>\n",
       "<style scoped>\n",
       "    .dataframe tbody tr th:only-of-type {\n",
       "        vertical-align: middle;\n",
       "    }\n",
       "\n",
       "    .dataframe tbody tr th {\n",
       "        vertical-align: top;\n",
       "    }\n",
       "\n",
       "    .dataframe thead th {\n",
       "        text-align: right;\n",
       "    }\n",
       "</style>\n",
       "<table border=\"1\" class=\"dataframe\">\n",
       "  <thead>\n",
       "    <tr style=\"text-align: right;\">\n",
       "      <th></th>\n",
       "      <th>index</th>\n",
       "      <th>COD. CORTE</th>\n",
       "      <th>CORTE</th>\n",
       "      <th>COD. TRIBUNAL</th>\n",
       "      <th>TRIBUNAL</th>\n",
       "      <th>RIT</th>\n",
       "      <th>TIPO CAUSA</th>\n",
       "      <th>COD. MATERIA</th>\n",
       "      <th>MATERIA</th>\n",
       "      <th>FECHA INGRESO</th>\n",
       "    </tr>\n",
       "  </thead>\n",
       "  <tbody>\n",
       "    <tr>\n",
       "      <th>856574</th>\n",
       "      <td>205398</td>\n",
       "      <td>35</td>\n",
       "      <td>C.A. DE RANCAGUA</td>\n",
       "      <td>1070</td>\n",
       "      <td>JUZGADO DE GARANTIA RANCAGUA</td>\n",
       "      <td>14692-2019</td>\n",
       "      <td>Ordinaria</td>\n",
       "      <td>-31075</td>\n",
       "      <td>FALTAS AL REGIMEN PENITENCIARIO</td>\n",
       "      <td>2019-12-26</td>\n",
       "    </tr>\n",
       "    <tr>\n",
       "      <th>856575</th>\n",
       "      <td>205399</td>\n",
       "      <td>35</td>\n",
       "      <td>C.A. DE RANCAGUA</td>\n",
       "      <td>1070</td>\n",
       "      <td>JUZGADO DE GARANTIA RANCAGUA</td>\n",
       "      <td>14693-2019</td>\n",
       "      <td>Ordinaria</td>\n",
       "      <td>-31075</td>\n",
       "      <td>FALTAS AL REGIMEN PENITENCIARIO</td>\n",
       "      <td>2019-12-26</td>\n",
       "    </tr>\n",
       "    <tr>\n",
       "      <th>856576</th>\n",
       "      <td>205400</td>\n",
       "      <td>35</td>\n",
       "      <td>C.A. DE RANCAGUA</td>\n",
       "      <td>1070</td>\n",
       "      <td>JUZGADO DE GARANTIA RANCAGUA</td>\n",
       "      <td>14694-2019</td>\n",
       "      <td>Ordinaria</td>\n",
       "      <td>-31075</td>\n",
       "      <td>FALTAS AL REGIMEN PENITENCIARIO</td>\n",
       "      <td>2019-12-26</td>\n",
       "    </tr>\n",
       "    <tr>\n",
       "      <th>1065748</th>\n",
       "      <td>414572</td>\n",
       "      <td>56</td>\n",
       "      <td>C.A. DE PUERTO MONTT</td>\n",
       "      <td>1090</td>\n",
       "      <td>JUZGADO DE GARANTIA PUERTO MONTT</td>\n",
       "      <td>12196-2019</td>\n",
       "      <td>Ordinaria</td>\n",
       "      <td>-31075</td>\n",
       "      <td>FALTAS AL REGIMEN PENITENCIARIO</td>\n",
       "      <td>2019-12-23</td>\n",
       "    </tr>\n",
       "    <tr>\n",
       "      <th>1065749</th>\n",
       "      <td>414573</td>\n",
       "      <td>56</td>\n",
       "      <td>C.A. DE PUERTO MONTT</td>\n",
       "      <td>1090</td>\n",
       "      <td>JUZGADO DE GARANTIA PUERTO MONTT</td>\n",
       "      <td>12197-2019</td>\n",
       "      <td>Ordinaria</td>\n",
       "      <td>-31075</td>\n",
       "      <td>FALTAS AL REGIMEN PENITENCIARIO</td>\n",
       "      <td>2019-12-23</td>\n",
       "    </tr>\n",
       "    <tr>\n",
       "      <th>1065752</th>\n",
       "      <td>414576</td>\n",
       "      <td>56</td>\n",
       "      <td>C.A. DE PUERTO MONTT</td>\n",
       "      <td>1090</td>\n",
       "      <td>JUZGADO DE GARANTIA PUERTO MONTT</td>\n",
       "      <td>12200-2019</td>\n",
       "      <td>Ordinaria</td>\n",
       "      <td>-31075</td>\n",
       "      <td>FALTAS AL REGIMEN PENITENCIARIO</td>\n",
       "      <td>2019-12-23</td>\n",
       "    </tr>\n",
       "    <tr>\n",
       "      <th>1065756</th>\n",
       "      <td>414580</td>\n",
       "      <td>56</td>\n",
       "      <td>C.A. DE PUERTO MONTT</td>\n",
       "      <td>1090</td>\n",
       "      <td>JUZGADO DE GARANTIA PUERTO MONTT</td>\n",
       "      <td>12202-2019</td>\n",
       "      <td>Ordinaria</td>\n",
       "      <td>-31075</td>\n",
       "      <td>FALTAS AL REGIMEN PENITENCIARIO</td>\n",
       "      <td>2019-12-23</td>\n",
       "    </tr>\n",
       "    <tr>\n",
       "      <th>1161441</th>\n",
       "      <td>510265</td>\n",
       "      <td>90</td>\n",
       "      <td>C.A. DE SANTIAGO</td>\n",
       "      <td>1226</td>\n",
       "      <td>SEPTIMO JUZGADO DE GARANTIA SANTIAGO</td>\n",
       "      <td>13218-2019</td>\n",
       "      <td>Ordinaria</td>\n",
       "      <td>-31075</td>\n",
       "      <td>FALTAS AL REGIMEN PENITENCIARIO</td>\n",
       "      <td>2019-07-31</td>\n",
       "    </tr>\n",
       "  </tbody>\n",
       "</table>\n",
       "</div>"
      ],
      "text/plain": [
       "          index  COD. CORTE                 CORTE  COD. TRIBUNAL  \\\n",
       "856574   205398          35      C.A. DE RANCAGUA           1070   \n",
       "856575   205399          35      C.A. DE RANCAGUA           1070   \n",
       "856576   205400          35      C.A. DE RANCAGUA           1070   \n",
       "1065748  414572          56  C.A. DE PUERTO MONTT           1090   \n",
       "1065749  414573          56  C.A. DE PUERTO MONTT           1090   \n",
       "1065752  414576          56  C.A. DE PUERTO MONTT           1090   \n",
       "1065756  414580          56  C.A. DE PUERTO MONTT           1090   \n",
       "1161441  510265          90      C.A. DE SANTIAGO           1226   \n",
       "\n",
       "                                     TRIBUNAL         RIT TIPO CAUSA  \\\n",
       "856574           JUZGADO DE GARANTIA RANCAGUA  14692-2019  Ordinaria   \n",
       "856575           JUZGADO DE GARANTIA RANCAGUA  14693-2019  Ordinaria   \n",
       "856576           JUZGADO DE GARANTIA RANCAGUA  14694-2019  Ordinaria   \n",
       "1065748      JUZGADO DE GARANTIA PUERTO MONTT  12196-2019  Ordinaria   \n",
       "1065749      JUZGADO DE GARANTIA PUERTO MONTT  12197-2019  Ordinaria   \n",
       "1065752      JUZGADO DE GARANTIA PUERTO MONTT  12200-2019  Ordinaria   \n",
       "1065756      JUZGADO DE GARANTIA PUERTO MONTT  12202-2019  Ordinaria   \n",
       "1161441  SEPTIMO JUZGADO DE GARANTIA SANTIAGO  13218-2019  Ordinaria   \n",
       "\n",
       "         COD. MATERIA                          MATERIA FECHA INGRESO  \n",
       "856574         -31075  FALTAS AL REGIMEN PENITENCIARIO    2019-12-26  \n",
       "856575         -31075  FALTAS AL REGIMEN PENITENCIARIO    2019-12-26  \n",
       "856576         -31075  FALTAS AL REGIMEN PENITENCIARIO    2019-12-26  \n",
       "1065748        -31075  FALTAS AL REGIMEN PENITENCIARIO    2019-12-23  \n",
       "1065749        -31075  FALTAS AL REGIMEN PENITENCIARIO    2019-12-23  \n",
       "1065752        -31075  FALTAS AL REGIMEN PENITENCIARIO    2019-12-23  \n",
       "1065756        -31075  FALTAS AL REGIMEN PENITENCIARIO    2019-12-23  \n",
       "1161441        -31075  FALTAS AL REGIMEN PENITENCIARIO    2019-07-31  "
      ]
     },
     "execution_count": 18,
     "metadata": {},
     "output_type": "execute_result"
    }
   ],
   "source": [
    "filtro_codigo_31075 = df_ingresos_materia[df_ingresos_materia['COD. MATERIA']==-31075]\n",
    "filtro_codigo_31075"
   ]
  },
  {
   "cell_type": "markdown",
   "metadata": {},
   "source": [
    "#### No corresponde a delito sino a sanción interna de gendarmeria, por lo que se eliminarán\n"
   ]
  },
  {
   "cell_type": "code",
   "execution_count": 19,
   "metadata": {},
   "outputs": [],
   "source": [
    "df_ingresos_materia.drop(filtro_codigo_31075.index, axis = 0, inplace = True)"
   ]
  },
  {
   "cell_type": "markdown",
   "metadata": {},
   "source": [
    "### Caso Codigo 0"
   ]
  },
  {
   "cell_type": "code",
   "execution_count": 20,
   "metadata": {},
   "outputs": [
    {
     "data": {
      "text/html": [
       "<div>\n",
       "<style scoped>\n",
       "    .dataframe tbody tr th:only-of-type {\n",
       "        vertical-align: middle;\n",
       "    }\n",
       "\n",
       "    .dataframe tbody tr th {\n",
       "        vertical-align: top;\n",
       "    }\n",
       "\n",
       "    .dataframe thead th {\n",
       "        text-align: right;\n",
       "    }\n",
       "</style>\n",
       "<table border=\"1\" class=\"dataframe\">\n",
       "  <thead>\n",
       "    <tr style=\"text-align: right;\">\n",
       "      <th></th>\n",
       "      <th>index</th>\n",
       "      <th>COD. CORTE</th>\n",
       "      <th>CORTE</th>\n",
       "      <th>COD. TRIBUNAL</th>\n",
       "      <th>TRIBUNAL</th>\n",
       "      <th>RIT</th>\n",
       "      <th>TIPO CAUSA</th>\n",
       "      <th>COD. MATERIA</th>\n",
       "      <th>MATERIA</th>\n",
       "      <th>FECHA INGRESO</th>\n",
       "    </tr>\n",
       "  </thead>\n",
       "  <tbody>\n",
       "    <tr>\n",
       "      <th>1132795</th>\n",
       "      <td>481619</td>\n",
       "      <td>90</td>\n",
       "      <td>C.A. DE SANTIAGO</td>\n",
       "      <td>1223</td>\n",
       "      <td>CUARTO JUZGADO DE GARANTIA SANTIAGO</td>\n",
       "      <td>1870-2019</td>\n",
       "      <td>Ordinaria</td>\n",
       "      <td>0</td>\n",
       "      <td>[NULL]</td>\n",
       "      <td>2019-03-04</td>\n",
       "    </tr>\n",
       "    <tr>\n",
       "      <th>1138136</th>\n",
       "      <td>486960</td>\n",
       "      <td>90</td>\n",
       "      <td>C.A. DE SANTIAGO</td>\n",
       "      <td>1223</td>\n",
       "      <td>CUARTO JUZGADO DE GARANTIA SANTIAGO</td>\n",
       "      <td>6225-2019</td>\n",
       "      <td>Ordinaria</td>\n",
       "      <td>0</td>\n",
       "      <td>[NULL]</td>\n",
       "      <td>2019-07-05</td>\n",
       "    </tr>\n",
       "  </tbody>\n",
       "</table>\n",
       "</div>"
      ],
      "text/plain": [
       "          index  COD. CORTE             CORTE  COD. TRIBUNAL  \\\n",
       "1132795  481619          90  C.A. DE SANTIAGO           1223   \n",
       "1138136  486960          90  C.A. DE SANTIAGO           1223   \n",
       "\n",
       "                                    TRIBUNAL        RIT TIPO CAUSA  \\\n",
       "1132795  CUARTO JUZGADO DE GARANTIA SANTIAGO  1870-2019  Ordinaria   \n",
       "1138136  CUARTO JUZGADO DE GARANTIA SANTIAGO  6225-2019  Ordinaria   \n",
       "\n",
       "         COD. MATERIA MATERIA FECHA INGRESO  \n",
       "1132795             0  [NULL]    2019-03-04  \n",
       "1138136             0  [NULL]    2019-07-05  "
      ]
     },
     "execution_count": 20,
     "metadata": {},
     "output_type": "execute_result"
    }
   ],
   "source": [
    "filtro_codigo_0 = df_ingresos_materia[df_ingresos_materia['COD. MATERIA']==0]\n",
    "filtro_codigo_0"
   ]
  },
  {
   "cell_type": "markdown",
   "metadata": {},
   "source": [
    "#### valores Null"
   ]
  },
  {
   "cell_type": "code",
   "execution_count": 21,
   "metadata": {},
   "outputs": [],
   "source": [
    "df_ingresos_materia.drop(filtro_codigo_0.index, axis = 0, inplace = True)"
   ]
  },
  {
   "cell_type": "markdown",
   "metadata": {},
   "source": [
    "### Codigos 4011, 4014, 4013, 4010\n",
    "codigos No vigentes, mal cargados en sistemas "
   ]
  },
  {
   "cell_type": "code",
   "execution_count": 22,
   "metadata": {},
   "outputs": [],
   "source": [
    "filtro_codigo_4011 = df_ingresos_materia[df_ingresos_materia['COD. MATERIA']==4011]\n",
    "filtro_codigo_4014 = df_ingresos_materia[df_ingresos_materia['COD. MATERIA']==4014]\n",
    "filtro_codigo_4013 = df_ingresos_materia[df_ingresos_materia['COD. MATERIA']==4013]\n",
    "filtro_codigo_4010 = df_ingresos_materia[df_ingresos_materia['COD. MATERIA']==4010]"
   ]
  },
  {
   "cell_type": "code",
   "execution_count": 23,
   "metadata": {},
   "outputs": [],
   "source": [
    "df_ingresos_materia.drop(filtro_codigo_4011.index, axis = 0, inplace = True)\n",
    "df_ingresos_materia.drop(filtro_codigo_4014.index, axis = 0, inplace = True)\n",
    "df_ingresos_materia.drop(filtro_codigo_4013.index, axis = 0, inplace = True)\n",
    "df_ingresos_materia.drop(filtro_codigo_4010.index, axis = 0, inplace = True)"
   ]
  },
  {
   "cell_type": "markdown",
   "metadata": {},
   "source": [
    "## DELITOS EN TERMINO MATERIA"
   ]
  },
  {
   "cell_type": "code",
   "execution_count": 24,
   "metadata": {},
   "outputs": [],
   "source": [
    "codigos_delitos = df_termino_materia['COD. MATERIA'].unique()"
   ]
  },
  {
   "cell_type": "code",
   "execution_count": 25,
   "metadata": {},
   "outputs": [
    {
     "data": {
      "text/plain": [
       "468"
      ]
     },
     "execution_count": 25,
     "metadata": {},
     "output_type": "execute_result"
    }
   ],
   "source": [
    "len(codigos_delitos)"
   ]
  },
  {
   "cell_type": "code",
   "execution_count": 26,
   "metadata": {},
   "outputs": [],
   "source": [
    "codigos_no_encontrados = []\n",
    "for delito in codigos_delitos:\n",
    "    if not delito in codigos_cot:\n",
    "        codigos_no_encontrados.append(delito)"
   ]
  },
  {
   "cell_type": "code",
   "execution_count": 27,
   "metadata": {},
   "outputs": [
    {
     "data": {
      "text/plain": [
       "[13001, 4014, 4013, 4011, -31075, 4010, 0, 4007]"
      ]
     },
     "execution_count": 27,
     "metadata": {},
     "output_type": "execute_result"
    }
   ],
   "source": [
    "codigos_no_encontrados"
   ]
  },
  {
   "cell_type": "code",
   "execution_count": 28,
   "metadata": {},
   "outputs": [
    {
     "data": {
      "text/plain": [
       "array(['LESIONES LEVES.', 'ESTAFA (SOLO CRIMEN)',\n",
       "       'ABUSO SEXUAL (SOLO CRIMEN)',\n",
       "       'MANEJO EN ESTADO DE EBRIEDAD (SOLO CRIMEN)',\n",
       "       'FALTAS AL REGIMEN PENITENCIARIO', 'VIOLACION (SOLO CRIMEN)',\n",
       "       'LESIONES LEVES', '(en blanco)', 'HURTO (SOLO CRIMEN)',\n",
       "       'NO REGISTRA CODIGO DE MATERIA'], dtype=object)"
      ]
     },
     "execution_count": 28,
     "metadata": {},
     "output_type": "execute_result"
    }
   ],
   "source": [
    "codigos_sin_registro = df_termino_materia[df_termino_materia['COD. MATERIA'].isin(codigos_no_encontrados)]\n",
    "\n",
    "codigos_sin_registro['MATERIA'].unique()\n",
    "\n",
    "# Analizar caso a caso:"
   ]
  },
  {
   "cell_type": "markdown",
   "metadata": {},
   "source": [
    "## Caso 13001 -- > LESIONES LEVES"
   ]
  },
  {
   "cell_type": "code",
   "execution_count": 29,
   "metadata": {},
   "outputs": [],
   "source": [
    "df_termino_materia['COD. MATERIA'] = df_termino_materia['COD. MATERIA'].replace(13001,13036)"
   ]
  },
  {
   "cell_type": "markdown",
   "metadata": {},
   "source": [
    "### Casos 4014, 4013, 4011, -31075, 4010, 0, 4007"
   ]
  },
  {
   "cell_type": "code",
   "execution_count": 30,
   "metadata": {},
   "outputs": [],
   "source": [
    "filtro_codigo_4011 = df_termino_materia[df_termino_materia['COD. MATERIA']==4011]\n",
    "filtro_codigo_4014 = df_termino_materia[df_termino_materia['COD. MATERIA']==4014]\n",
    "filtro_codigo_4013 = df_termino_materia[df_termino_materia['COD. MATERIA']==4013]\n",
    "filtro_codigo_4010 = df_termino_materia[df_termino_materia['COD. MATERIA']==4010]\n",
    "filtro_codigo_31075 = df_termino_materia[df_termino_materia['COD. MATERIA']==31075]\n",
    "filtro_codigo_4007 = df_termino_materia[df_termino_materia['COD. MATERIA']==4007]\n",
    "filtro_codigo_0 = df_termino_materia[df_termino_materia['COD. MATERIA']==0]"
   ]
  },
  {
   "cell_type": "code",
   "execution_count": 31,
   "metadata": {},
   "outputs": [],
   "source": [
    "df_termino_materia.drop(filtro_codigo_4011.index, axis = 0, inplace = True)\n",
    "df_termino_materia.drop(filtro_codigo_4014.index, axis = 0, inplace = True)\n",
    "df_termino_materia.drop(filtro_codigo_4013.index, axis = 0, inplace = True)\n",
    "df_termino_materia.drop(filtro_codigo_4010.index, axis = 0, inplace = True)\n",
    "df_termino_materia.drop(filtro_codigo_31075.index, axis = 0, inplace = True)\n",
    "df_termino_materia.drop(filtro_codigo_4007.index, axis = 0, inplace = True)\n",
    "df_termino_materia.drop(filtro_codigo_0.index, axis = 0, inplace = True)"
   ]
  },
  {
   "cell_type": "markdown",
   "metadata": {},
   "source": [
    "### CONSOLIDACION DE DATA UNICO"
   ]
  },
  {
   "cell_type": "code",
   "execution_count": 41,
   "metadata": {},
   "outputs": [],
   "source": [
    "pd.set_option('display.max_columns', 100)"
   ]
  },
  {
   "cell_type": "code",
   "execution_count": 38,
   "metadata": {},
   "outputs": [],
   "source": [
    "df_consolidado = pd.merge(df_ingresos_materia, df_termino_materia, how='outer', on=['COD. TRIBUNAL','RIT','COD. MATERIA'])"
   ]
  },
  {
   "cell_type": "code",
   "execution_count": 40,
   "metadata": {},
   "outputs": [
    {
     "data": {
      "text/html": [
       "<div>\n",
       "<style scoped>\n",
       "    .dataframe tbody tr th:only-of-type {\n",
       "        vertical-align: middle;\n",
       "    }\n",
       "\n",
       "    .dataframe tbody tr th {\n",
       "        vertical-align: top;\n",
       "    }\n",
       "\n",
       "    .dataframe thead th {\n",
       "        text-align: right;\n",
       "    }\n",
       "</style>\n",
       "<table border=\"1\" class=\"dataframe\">\n",
       "  <thead>\n",
       "    <tr style=\"text-align: right;\">\n",
       "      <th></th>\n",
       "      <th>index_x</th>\n",
       "      <th>COD. CORTE_x</th>\n",
       "      <th>CORTE_x</th>\n",
       "      <th>COD. TRIBUNAL</th>\n",
       "      <th>TRIBUNAL_x</th>\n",
       "      <th>RIT</th>\n",
       "      <th>TIPO CAUSA_x</th>\n",
       "      <th>COD. MATERIA</th>\n",
       "      <th>MATERIA_x</th>\n",
       "      <th>FECHA INGRESO_x</th>\n",
       "      <th>index_y</th>\n",
       "      <th>COD. CORTE_y</th>\n",
       "      <th>CORTE_y</th>\n",
       "      <th>TRIBUNAL_y</th>\n",
       "      <th>TIPO CAUSA_y</th>\n",
       "      <th>MATERIA_y</th>\n",
       "      <th>FECHA INGRESO_y</th>\n",
       "      <th>FECHA TERMINO</th>\n",
       "      <th>MOTIVO TERMINO</th>\n",
       "      <th>DURACION CAUSA</th>\n",
       "    </tr>\n",
       "  </thead>\n",
       "  <tbody>\n",
       "    <tr>\n",
       "      <th>0</th>\n",
       "      <td>0.0</td>\n",
       "      <td>10.0</td>\n",
       "      <td>C.A. DE ARICA</td>\n",
       "      <td>988</td>\n",
       "      <td>TRIBUNAL DE JUICIO ORAL EN LO PENAL ARICA</td>\n",
       "      <td>100-2018</td>\n",
       "      <td>Ordinaria</td>\n",
       "      <td>7007</td>\n",
       "      <td>TRAFICO ILICITO DE DROGAS (ART. 3).</td>\n",
       "      <td>2018-04-02</td>\n",
       "      <td>0.0</td>\n",
       "      <td>10.0</td>\n",
       "      <td>C.A. DE ARICA</td>\n",
       "      <td>TRIBUNAL DE JUICIO ORAL EN LO PENAL ARICA</td>\n",
       "      <td>Ordinaria</td>\n",
       "      <td>TRAFICO ILICITO DE DROGAS (ART. 3).</td>\n",
       "      <td>2018-04-02</td>\n",
       "      <td>2018-06-01</td>\n",
       "      <td>SENTENCIA</td>\n",
       "      <td>60.0</td>\n",
       "    </tr>\n",
       "    <tr>\n",
       "      <th>1</th>\n",
       "      <td>1.0</td>\n",
       "      <td>10.0</td>\n",
       "      <td>C.A. DE ARICA</td>\n",
       "      <td>988</td>\n",
       "      <td>TRIBUNAL DE JUICIO ORAL EN LO PENAL ARICA</td>\n",
       "      <td>100-2018</td>\n",
       "      <td>Ordinaria</td>\n",
       "      <td>10004</td>\n",
       "      <td>PORTE ILEGAL DE ARMA DE FUEGO, MUNICIONES Y OT...</td>\n",
       "      <td>2018-04-02</td>\n",
       "      <td>1.0</td>\n",
       "      <td>10.0</td>\n",
       "      <td>C.A. DE ARICA</td>\n",
       "      <td>TRIBUNAL DE JUICIO ORAL EN LO PENAL ARICA</td>\n",
       "      <td>Ordinaria</td>\n",
       "      <td>PORTE ILEGAL DE ARMA DE FUEGO, MUNICIONES Y OT...</td>\n",
       "      <td>2018-04-02</td>\n",
       "      <td>2018-06-01</td>\n",
       "      <td>SENTENCIA</td>\n",
       "      <td>60.0</td>\n",
       "    </tr>\n",
       "    <tr>\n",
       "      <th>2</th>\n",
       "      <td>2.0</td>\n",
       "      <td>10.0</td>\n",
       "      <td>C.A. DE ARICA</td>\n",
       "      <td>988</td>\n",
       "      <td>TRIBUNAL DE JUICIO ORAL EN LO PENAL ARICA</td>\n",
       "      <td>101-2018</td>\n",
       "      <td>Ordinaria</td>\n",
       "      <td>12149</td>\n",
       "      <td>DESACATO (ART. 240 CODIGO DE PROCEDIMIENTO CIV...</td>\n",
       "      <td>2018-04-02</td>\n",
       "      <td>2.0</td>\n",
       "      <td>10.0</td>\n",
       "      <td>C.A. DE ARICA</td>\n",
       "      <td>TRIBUNAL DE JUICIO ORAL EN LO PENAL ARICA</td>\n",
       "      <td>Ordinaria</td>\n",
       "      <td>DESACATO (ART. 240 CODIGO DE PROCEDIMIENTO CIV...</td>\n",
       "      <td>2018-04-02</td>\n",
       "      <td>2018-08-29</td>\n",
       "      <td>SENTENCIA</td>\n",
       "      <td>149.0</td>\n",
       "    </tr>\n",
       "    <tr>\n",
       "      <th>3</th>\n",
       "      <td>3.0</td>\n",
       "      <td>10.0</td>\n",
       "      <td>C.A. DE ARICA</td>\n",
       "      <td>988</td>\n",
       "      <td>TRIBUNAL DE JUICIO ORAL EN LO PENAL ARICA</td>\n",
       "      <td>10-2018</td>\n",
       "      <td>Ordinaria</td>\n",
       "      <td>7037</td>\n",
       "      <td>TRAFICO DE PEQUEÑAS CANTIDADES (ART. 4).</td>\n",
       "      <td>2018-01-10</td>\n",
       "      <td>3.0</td>\n",
       "      <td>10.0</td>\n",
       "      <td>C.A. DE ARICA</td>\n",
       "      <td>TRIBUNAL DE JUICIO ORAL EN LO PENAL ARICA</td>\n",
       "      <td>Ordinaria</td>\n",
       "      <td>TRAFICO DE PEQUEÑAS CANTIDADES (ART. 4).</td>\n",
       "      <td>2018-01-10</td>\n",
       "      <td>2018-03-14</td>\n",
       "      <td>SENTENCIA</td>\n",
       "      <td>63.0</td>\n",
       "    </tr>\n",
       "    <tr>\n",
       "      <th>4</th>\n",
       "      <td>4.0</td>\n",
       "      <td>10.0</td>\n",
       "      <td>C.A. DE ARICA</td>\n",
       "      <td>988</td>\n",
       "      <td>TRIBUNAL DE JUICIO ORAL EN LO PENAL ARICA</td>\n",
       "      <td>102-2018</td>\n",
       "      <td>Ordinaria</td>\n",
       "      <td>812</td>\n",
       "      <td>RECEPTACION. ART. 456 BIS A.</td>\n",
       "      <td>2018-04-02</td>\n",
       "      <td>4.0</td>\n",
       "      <td>10.0</td>\n",
       "      <td>C.A. DE ARICA</td>\n",
       "      <td>TRIBUNAL DE JUICIO ORAL EN LO PENAL ARICA</td>\n",
       "      <td>Ordinaria</td>\n",
       "      <td>RECEPTACION. ART. 456 BIS A.</td>\n",
       "      <td>2018-04-02</td>\n",
       "      <td>2018-05-29</td>\n",
       "      <td>SENTENCIA</td>\n",
       "      <td>57.0</td>\n",
       "    </tr>\n",
       "    <tr>\n",
       "      <th>...</th>\n",
       "      <td>...</td>\n",
       "      <td>...</td>\n",
       "      <td>...</td>\n",
       "      <td>...</td>\n",
       "      <td>...</td>\n",
       "      <td>...</td>\n",
       "      <td>...</td>\n",
       "      <td>...</td>\n",
       "      <td>...</td>\n",
       "      <td>...</td>\n",
       "      <td>...</td>\n",
       "      <td>...</td>\n",
       "      <td>...</td>\n",
       "      <td>...</td>\n",
       "      <td>...</td>\n",
       "      <td>...</td>\n",
       "      <td>...</td>\n",
       "      <td>...</td>\n",
       "      <td>...</td>\n",
       "      <td>...</td>\n",
       "    </tr>\n",
       "    <tr>\n",
       "      <th>4713803</th>\n",
       "      <td>NaN</td>\n",
       "      <td>NaN</td>\n",
       "      <td>NaN</td>\n",
       "      <td>1323</td>\n",
       "      <td>NaN</td>\n",
       "      <td>251-2015</td>\n",
       "      <td>NaN</td>\n",
       "      <td>10009</td>\n",
       "      <td>NaN</td>\n",
       "      <td>NaT</td>\n",
       "      <td>721448.0</td>\n",
       "      <td>91.0</td>\n",
       "      <td>C.A. DE SAN MIGUEL</td>\n",
       "      <td>TRIBUNAL DE JUICIO ORAL EN LO PENAL SAN BERNARDO</td>\n",
       "      <td>Ordinaria</td>\n",
       "      <td>POSESION O TENENCIA DE ARMAS PROHIBIDAS</td>\n",
       "      <td>2015-12-10</td>\n",
       "      <td>2016-01-30</td>\n",
       "      <td>SENTENCIA</td>\n",
       "      <td>51.0</td>\n",
       "    </tr>\n",
       "    <tr>\n",
       "      <th>4713804</th>\n",
       "      <td>NaN</td>\n",
       "      <td>NaN</td>\n",
       "      <td>NaN</td>\n",
       "      <td>1323</td>\n",
       "      <td>NaN</td>\n",
       "      <td>251-2015</td>\n",
       "      <td>NaN</td>\n",
       "      <td>10099</td>\n",
       "      <td>NaN</td>\n",
       "      <td>NaT</td>\n",
       "      <td>721449.0</td>\n",
       "      <td>91.0</td>\n",
       "      <td>C.A. DE SAN MIGUEL</td>\n",
       "      <td>TRIBUNAL DE JUICIO ORAL EN LO PENAL SAN BERNARDO</td>\n",
       "      <td>Ordinaria</td>\n",
       "      <td>OTROS DELITOS DE LA LEY DE CONTROL DE ARMAS (L...</td>\n",
       "      <td>2015-12-10</td>\n",
       "      <td>2016-01-30</td>\n",
       "      <td>SENTENCIA</td>\n",
       "      <td>51.0</td>\n",
       "    </tr>\n",
       "    <tr>\n",
       "      <th>4713805</th>\n",
       "      <td>NaN</td>\n",
       "      <td>NaN</td>\n",
       "      <td>NaN</td>\n",
       "      <td>1323</td>\n",
       "      <td>NaN</td>\n",
       "      <td>89-2012</td>\n",
       "      <td>NaN</td>\n",
       "      <td>14060</td>\n",
       "      <td>NaN</td>\n",
       "      <td>NaT</td>\n",
       "      <td>721666.0</td>\n",
       "      <td>91.0</td>\n",
       "      <td>C.A. DE SAN MIGUEL</td>\n",
       "      <td>TRIBUNAL DE JUICIO ORAL EN LO PENAL SAN BERNARDO</td>\n",
       "      <td>Ordinaria</td>\n",
       "      <td>OTROS DELITOS CONTRA LA LEY DEL TRANSITO.</td>\n",
       "      <td>2012-09-12</td>\n",
       "      <td>2016-01-27</td>\n",
       "      <td>SENTENCIA</td>\n",
       "      <td>1232.0</td>\n",
       "    </tr>\n",
       "    <tr>\n",
       "      <th>4713806</th>\n",
       "      <td>NaN</td>\n",
       "      <td>NaN</td>\n",
       "      <td>NaN</td>\n",
       "      <td>1323</td>\n",
       "      <td>NaN</td>\n",
       "      <td>91-2013</td>\n",
       "      <td>NaN</td>\n",
       "      <td>812</td>\n",
       "      <td>NaN</td>\n",
       "      <td>NaT</td>\n",
       "      <td>721669.0</td>\n",
       "      <td>91.0</td>\n",
       "      <td>C.A. DE SAN MIGUEL</td>\n",
       "      <td>TRIBUNAL DE JUICIO ORAL EN LO PENAL SAN BERNARDO</td>\n",
       "      <td>Ordinaria</td>\n",
       "      <td>RECEPTACION. ART. 456 BIS A.</td>\n",
       "      <td>2013-09-05</td>\n",
       "      <td>2016-09-12</td>\n",
       "      <td>SENTENCIA</td>\n",
       "      <td>1103.0</td>\n",
       "    </tr>\n",
       "    <tr>\n",
       "      <th>4713807</th>\n",
       "      <td>NaN</td>\n",
       "      <td>NaN</td>\n",
       "      <td>NaN</td>\n",
       "      <td>1355</td>\n",
       "      <td>NaN</td>\n",
       "      <td>94-2015</td>\n",
       "      <td>NaN</td>\n",
       "      <td>710</td>\n",
       "      <td>NaN</td>\n",
       "      <td>NaT</td>\n",
       "      <td>721890.0</td>\n",
       "      <td>91.0</td>\n",
       "      <td>C.A. DE SAN MIGUEL</td>\n",
       "      <td>TRIBUNAL DE JUICIO ORAL EN LO PENAL MELIPILLA</td>\n",
       "      <td>Ordinaria</td>\n",
       "      <td>LESIONES MENOS GRAVES.</td>\n",
       "      <td>2015-12-10</td>\n",
       "      <td>2016-02-03</td>\n",
       "      <td>SENTENCIA</td>\n",
       "      <td>55.0</td>\n",
       "    </tr>\n",
       "  </tbody>\n",
       "</table>\n",
       "<p>4713808 rows × 20 columns</p>\n",
       "</div>"
      ],
      "text/plain": [
       "         index_x  COD. CORTE_x        CORTE_x  COD. TRIBUNAL  \\\n",
       "0            0.0          10.0  C.A. DE ARICA            988   \n",
       "1            1.0          10.0  C.A. DE ARICA            988   \n",
       "2            2.0          10.0  C.A. DE ARICA            988   \n",
       "3            3.0          10.0  C.A. DE ARICA            988   \n",
       "4            4.0          10.0  C.A. DE ARICA            988   \n",
       "...          ...           ...            ...            ...   \n",
       "4713803      NaN           NaN            NaN           1323   \n",
       "4713804      NaN           NaN            NaN           1323   \n",
       "4713805      NaN           NaN            NaN           1323   \n",
       "4713806      NaN           NaN            NaN           1323   \n",
       "4713807      NaN           NaN            NaN           1355   \n",
       "\n",
       "                                        TRIBUNAL_x       RIT TIPO CAUSA_x  \\\n",
       "0        TRIBUNAL DE JUICIO ORAL EN LO PENAL ARICA  100-2018    Ordinaria   \n",
       "1        TRIBUNAL DE JUICIO ORAL EN LO PENAL ARICA  100-2018    Ordinaria   \n",
       "2        TRIBUNAL DE JUICIO ORAL EN LO PENAL ARICA  101-2018    Ordinaria   \n",
       "3        TRIBUNAL DE JUICIO ORAL EN LO PENAL ARICA   10-2018    Ordinaria   \n",
       "4        TRIBUNAL DE JUICIO ORAL EN LO PENAL ARICA  102-2018    Ordinaria   \n",
       "...                                            ...       ...          ...   \n",
       "4713803                                        NaN  251-2015          NaN   \n",
       "4713804                                        NaN  251-2015          NaN   \n",
       "4713805                                        NaN   89-2012          NaN   \n",
       "4713806                                        NaN   91-2013          NaN   \n",
       "4713807                                        NaN   94-2015          NaN   \n",
       "\n",
       "         COD. MATERIA                                          MATERIA_x  \\\n",
       "0                7007                TRAFICO ILICITO DE DROGAS (ART. 3).   \n",
       "1               10004  PORTE ILEGAL DE ARMA DE FUEGO, MUNICIONES Y OT...   \n",
       "2               12149  DESACATO (ART. 240 CODIGO DE PROCEDIMIENTO CIV...   \n",
       "3                7037           TRAFICO DE PEQUEÑAS CANTIDADES (ART. 4).   \n",
       "4                 812                       RECEPTACION. ART. 456 BIS A.   \n",
       "...               ...                                                ...   \n",
       "4713803         10009                                                NaN   \n",
       "4713804         10099                                                NaN   \n",
       "4713805         14060                                                NaN   \n",
       "4713806           812                                                NaN   \n",
       "4713807           710                                                NaN   \n",
       "\n",
       "        FECHA INGRESO_x   index_y  COD. CORTE_y             CORTE_y  \\\n",
       "0            2018-04-02       0.0          10.0       C.A. DE ARICA   \n",
       "1            2018-04-02       1.0          10.0       C.A. DE ARICA   \n",
       "2            2018-04-02       2.0          10.0       C.A. DE ARICA   \n",
       "3            2018-01-10       3.0          10.0       C.A. DE ARICA   \n",
       "4            2018-04-02       4.0          10.0       C.A. DE ARICA   \n",
       "...                 ...       ...           ...                 ...   \n",
       "4713803             NaT  721448.0          91.0  C.A. DE SAN MIGUEL   \n",
       "4713804             NaT  721449.0          91.0  C.A. DE SAN MIGUEL   \n",
       "4713805             NaT  721666.0          91.0  C.A. DE SAN MIGUEL   \n",
       "4713806             NaT  721669.0          91.0  C.A. DE SAN MIGUEL   \n",
       "4713807             NaT  721890.0          91.0  C.A. DE SAN MIGUEL   \n",
       "\n",
       "                                               TRIBUNAL_y TIPO CAUSA_y  \\\n",
       "0               TRIBUNAL DE JUICIO ORAL EN LO PENAL ARICA    Ordinaria   \n",
       "1               TRIBUNAL DE JUICIO ORAL EN LO PENAL ARICA    Ordinaria   \n",
       "2               TRIBUNAL DE JUICIO ORAL EN LO PENAL ARICA    Ordinaria   \n",
       "3               TRIBUNAL DE JUICIO ORAL EN LO PENAL ARICA    Ordinaria   \n",
       "4               TRIBUNAL DE JUICIO ORAL EN LO PENAL ARICA    Ordinaria   \n",
       "...                                                   ...          ...   \n",
       "4713803  TRIBUNAL DE JUICIO ORAL EN LO PENAL SAN BERNARDO    Ordinaria   \n",
       "4713804  TRIBUNAL DE JUICIO ORAL EN LO PENAL SAN BERNARDO    Ordinaria   \n",
       "4713805  TRIBUNAL DE JUICIO ORAL EN LO PENAL SAN BERNARDO    Ordinaria   \n",
       "4713806  TRIBUNAL DE JUICIO ORAL EN LO PENAL SAN BERNARDO    Ordinaria   \n",
       "4713807     TRIBUNAL DE JUICIO ORAL EN LO PENAL MELIPILLA    Ordinaria   \n",
       "\n",
       "                                                 MATERIA_y FECHA INGRESO_y  \\\n",
       "0                      TRAFICO ILICITO DE DROGAS (ART. 3).      2018-04-02   \n",
       "1        PORTE ILEGAL DE ARMA DE FUEGO, MUNICIONES Y OT...      2018-04-02   \n",
       "2        DESACATO (ART. 240 CODIGO DE PROCEDIMIENTO CIV...      2018-04-02   \n",
       "3                 TRAFICO DE PEQUEÑAS CANTIDADES (ART. 4).      2018-01-10   \n",
       "4                             RECEPTACION. ART. 456 BIS A.      2018-04-02   \n",
       "...                                                    ...             ...   \n",
       "4713803            POSESION O TENENCIA DE ARMAS PROHIBIDAS      2015-12-10   \n",
       "4713804  OTROS DELITOS DE LA LEY DE CONTROL DE ARMAS (L...      2015-12-10   \n",
       "4713805          OTROS DELITOS CONTRA LA LEY DEL TRANSITO.      2012-09-12   \n",
       "4713806                       RECEPTACION. ART. 456 BIS A.      2013-09-05   \n",
       "4713807                             LESIONES MENOS GRAVES.      2015-12-10   \n",
       "\n",
       "        FECHA TERMINO MOTIVO TERMINO  DURACION CAUSA  \n",
       "0          2018-06-01      SENTENCIA            60.0  \n",
       "1          2018-06-01      SENTENCIA            60.0  \n",
       "2          2018-08-29      SENTENCIA           149.0  \n",
       "3          2018-03-14      SENTENCIA            63.0  \n",
       "4          2018-05-29      SENTENCIA            57.0  \n",
       "...               ...            ...             ...  \n",
       "4713803    2016-01-30      SENTENCIA            51.0  \n",
       "4713804    2016-01-30      SENTENCIA            51.0  \n",
       "4713805    2016-01-27      SENTENCIA          1232.0  \n",
       "4713806    2016-09-12      SENTENCIA          1103.0  \n",
       "4713807    2016-02-03      SENTENCIA            55.0  \n",
       "\n",
       "[4713808 rows x 20 columns]"
      ]
     },
     "execution_count": 40,
     "metadata": {},
     "output_type": "execute_result"
    }
   ],
   "source": [
    "df_consolidado"
   ]
  },
  {
   "cell_type": "markdown",
   "metadata": {},
   "source": [
    "## CARGA DATA A ARCHIVOS FUTHER"
   ]
  },
  {
   "cell_type": "code",
   "execution_count": 147,
   "metadata": {},
   "outputs": [
    {
     "ename": "ValueError",
     "evalue": "Duplicate column names found: ['level_0', 'index', 'COD. CORTE', 'CORTE', 'COD. TRIBUNAL', 'TRIBUNAL', 'RIT', 'TIPO CAUSA', 'COD. MATERIA', 'MATERIA', 'FECHA INGRESO', 'TEMP', 'index', 'COD. CORTE', 'CORTE', 'COD. TRIBUNAL', 'TRIBUNAL', 'RIT', 'TIPO CAUSA', 'COD. MATERIA', 'MATERIA', 'FECHA INGRESO', 'FECHA TERMINO', 'MOTIVO TERMINO', 'DURACION CAUSA', 'TEMP']",
     "output_type": "error",
     "traceback": [
      "\u001b[0;31m---------------------------------------------------------------------------\u001b[0m",
      "\u001b[0;31mValueError\u001b[0m                                Traceback (most recent call last)",
      "\u001b[0;32m<ipython-input-147-b09a51c8fcb1>\u001b[0m in \u001b[0;36m<module>\u001b[0;34m\u001b[0m\n\u001b[1;32m      9\u001b[0m \u001b[0mdf_ingresos_materia\u001b[0m\u001b[0;34m.\u001b[0m\u001b[0mto_feather\u001b[0m\u001b[0;34m(\u001b[0m\u001b[0;34mf'{path_processed}/IngresosMateria_feather'\u001b[0m\u001b[0;34m)\u001b[0m\u001b[0;34m\u001b[0m\u001b[0;34m\u001b[0m\u001b[0m\n\u001b[1;32m     10\u001b[0m \u001b[0mdf_termino_materia\u001b[0m\u001b[0;34m.\u001b[0m\u001b[0mto_feather\u001b[0m\u001b[0;34m(\u001b[0m\u001b[0;34mf'{path_processed}/TerminoMateria_feather'\u001b[0m\u001b[0;34m)\u001b[0m\u001b[0;34m\u001b[0m\u001b[0;34m\u001b[0m\u001b[0m\n\u001b[0;32m---> 11\u001b[0;31m \u001b[0mdf_consolidado_materia\u001b[0m\u001b[0;34m.\u001b[0m\u001b[0mto_feather\u001b[0m\u001b[0;34m(\u001b[0m\u001b[0;34mf'{path_processed}/Consolidado_Materia_feather'\u001b[0m\u001b[0;34m)\u001b[0m\u001b[0;34m\u001b[0m\u001b[0;34m\u001b[0m\u001b[0m\n\u001b[0m",
      "\u001b[0;32m~/opt/anaconda3/lib/python3.7/site-packages/pandas/util/_decorators.py\u001b[0m in \u001b[0;36mwrapper\u001b[0;34m(*args, **kwargs)\u001b[0m\n\u001b[1;32m    212\u001b[0m                 \u001b[0;32melse\u001b[0m\u001b[0;34m:\u001b[0m\u001b[0;34m\u001b[0m\u001b[0;34m\u001b[0m\u001b[0m\n\u001b[1;32m    213\u001b[0m                     \u001b[0mkwargs\u001b[0m\u001b[0;34m[\u001b[0m\u001b[0mnew_arg_name\u001b[0m\u001b[0;34m]\u001b[0m \u001b[0;34m=\u001b[0m \u001b[0mnew_arg_value\u001b[0m\u001b[0;34m\u001b[0m\u001b[0;34m\u001b[0m\u001b[0m\n\u001b[0;32m--> 214\u001b[0;31m             \u001b[0;32mreturn\u001b[0m \u001b[0mfunc\u001b[0m\u001b[0;34m(\u001b[0m\u001b[0;34m*\u001b[0m\u001b[0margs\u001b[0m\u001b[0;34m,\u001b[0m \u001b[0;34m**\u001b[0m\u001b[0mkwargs\u001b[0m\u001b[0;34m)\u001b[0m\u001b[0;34m\u001b[0m\u001b[0;34m\u001b[0m\u001b[0m\n\u001b[0m\u001b[1;32m    215\u001b[0m \u001b[0;34m\u001b[0m\u001b[0m\n\u001b[1;32m    216\u001b[0m         \u001b[0;32mreturn\u001b[0m \u001b[0mcast\u001b[0m\u001b[0;34m(\u001b[0m\u001b[0mF\u001b[0m\u001b[0;34m,\u001b[0m \u001b[0mwrapper\u001b[0m\u001b[0;34m)\u001b[0m\u001b[0;34m\u001b[0m\u001b[0;34m\u001b[0m\u001b[0m\n",
      "\u001b[0;32m~/opt/anaconda3/lib/python3.7/site-packages/pandas/core/frame.py\u001b[0m in \u001b[0;36mto_feather\u001b[0;34m(self, path)\u001b[0m\n\u001b[1;32m   1992\u001b[0m         \u001b[0;32mfrom\u001b[0m \u001b[0mpandas\u001b[0m\u001b[0;34m.\u001b[0m\u001b[0mio\u001b[0m\u001b[0;34m.\u001b[0m\u001b[0mfeather_format\u001b[0m \u001b[0;32mimport\u001b[0m \u001b[0mto_feather\u001b[0m\u001b[0;34m\u001b[0m\u001b[0;34m\u001b[0m\u001b[0m\n\u001b[1;32m   1993\u001b[0m \u001b[0;34m\u001b[0m\u001b[0m\n\u001b[0;32m-> 1994\u001b[0;31m         \u001b[0mto_feather\u001b[0m\u001b[0;34m(\u001b[0m\u001b[0mself\u001b[0m\u001b[0;34m,\u001b[0m \u001b[0mpath\u001b[0m\u001b[0;34m)\u001b[0m\u001b[0;34m\u001b[0m\u001b[0;34m\u001b[0m\u001b[0m\n\u001b[0m\u001b[1;32m   1995\u001b[0m \u001b[0;34m\u001b[0m\u001b[0m\n\u001b[1;32m   1996\u001b[0m     @Appender(\n",
      "\u001b[0;32m~/opt/anaconda3/lib/python3.7/site-packages/pandas/io/feather_format.py\u001b[0m in \u001b[0;36mto_feather\u001b[0;34m(df, path)\u001b[0m\n\u001b[1;32m     62\u001b[0m         \u001b[0;32mraise\u001b[0m \u001b[0mValueError\u001b[0m\u001b[0;34m(\u001b[0m\u001b[0;34m\"feather must have string column names\"\u001b[0m\u001b[0;34m)\u001b[0m\u001b[0;34m\u001b[0m\u001b[0;34m\u001b[0m\u001b[0m\n\u001b[1;32m     63\u001b[0m \u001b[0;34m\u001b[0m\u001b[0m\n\u001b[0;32m---> 64\u001b[0;31m     \u001b[0mfeather\u001b[0m\u001b[0;34m.\u001b[0m\u001b[0mwrite_feather\u001b[0m\u001b[0;34m(\u001b[0m\u001b[0mdf\u001b[0m\u001b[0;34m,\u001b[0m \u001b[0mpath\u001b[0m\u001b[0;34m)\u001b[0m\u001b[0;34m\u001b[0m\u001b[0;34m\u001b[0m\u001b[0m\n\u001b[0m\u001b[1;32m     65\u001b[0m \u001b[0;34m\u001b[0m\u001b[0m\n\u001b[1;32m     66\u001b[0m \u001b[0;34m\u001b[0m\u001b[0m\n",
      "\u001b[0;32m~/opt/anaconda3/lib/python3.7/site-packages/pyarrow/feather.py\u001b[0m in \u001b[0;36mwrite_feather\u001b[0;34m(df, dest, compression, compression_level, chunksize, version)\u001b[0m\n\u001b[1;32m    149\u001b[0m \u001b[0;34m\u001b[0m\u001b[0m\n\u001b[1;32m    150\u001b[0m     \u001b[0;32mif\u001b[0m \u001b[0m_pandas_api\u001b[0m\u001b[0;34m.\u001b[0m\u001b[0mis_data_frame\u001b[0m\u001b[0;34m(\u001b[0m\u001b[0mdf\u001b[0m\u001b[0;34m)\u001b[0m\u001b[0;34m:\u001b[0m\u001b[0;34m\u001b[0m\u001b[0;34m\u001b[0m\u001b[0m\n\u001b[0;32m--> 151\u001b[0;31m         \u001b[0mtable\u001b[0m \u001b[0;34m=\u001b[0m \u001b[0mTable\u001b[0m\u001b[0;34m.\u001b[0m\u001b[0mfrom_pandas\u001b[0m\u001b[0;34m(\u001b[0m\u001b[0mdf\u001b[0m\u001b[0;34m,\u001b[0m \u001b[0mpreserve_index\u001b[0m\u001b[0;34m=\u001b[0m\u001b[0;32mFalse\u001b[0m\u001b[0;34m)\u001b[0m\u001b[0;34m\u001b[0m\u001b[0;34m\u001b[0m\u001b[0m\n\u001b[0m\u001b[1;32m    152\u001b[0m \u001b[0;34m\u001b[0m\u001b[0m\n\u001b[1;32m    153\u001b[0m         \u001b[0;32mif\u001b[0m \u001b[0mversion\u001b[0m \u001b[0;34m==\u001b[0m \u001b[0;36m1\u001b[0m\u001b[0;34m:\u001b[0m\u001b[0;34m\u001b[0m\u001b[0;34m\u001b[0m\u001b[0m\n",
      "\u001b[0;32m~/opt/anaconda3/lib/python3.7/site-packages/pyarrow/table.pxi\u001b[0m in \u001b[0;36mpyarrow.lib.Table.from_pandas\u001b[0;34m()\u001b[0m\n",
      "\u001b[0;32m~/opt/anaconda3/lib/python3.7/site-packages/pyarrow/pandas_compat.py\u001b[0m in \u001b[0;36mdataframe_to_arrays\u001b[0;34m(df, schema, preserve_index, nthreads, columns, safe)\u001b[0m\n\u001b[1;32m    536\u001b[0m      \u001b[0mcolumns_to_convert\u001b[0m\u001b[0;34m,\u001b[0m\u001b[0;34m\u001b[0m\u001b[0;34m\u001b[0m\u001b[0m\n\u001b[1;32m    537\u001b[0m      \u001b[0mconvert_fields\u001b[0m\u001b[0;34m)\u001b[0m \u001b[0;34m=\u001b[0m \u001b[0m_get_columns_to_convert\u001b[0m\u001b[0;34m(\u001b[0m\u001b[0mdf\u001b[0m\u001b[0;34m,\u001b[0m \u001b[0mschema\u001b[0m\u001b[0;34m,\u001b[0m \u001b[0mpreserve_index\u001b[0m\u001b[0;34m,\u001b[0m\u001b[0;34m\u001b[0m\u001b[0;34m\u001b[0m\u001b[0m\n\u001b[0;32m--> 538\u001b[0;31m                                                columns)\n\u001b[0m\u001b[1;32m    539\u001b[0m \u001b[0;34m\u001b[0m\u001b[0m\n\u001b[1;32m    540\u001b[0m     \u001b[0;31m# NOTE(wesm): If nthreads=None, then we use a heuristic to decide whether\u001b[0m\u001b[0;34m\u001b[0m\u001b[0;34m\u001b[0m\u001b[0;34m\u001b[0m\u001b[0m\n",
      "\u001b[0;32m~/opt/anaconda3/lib/python3.7/site-packages/pyarrow/pandas_compat.py\u001b[0m in \u001b[0;36m_get_columns_to_convert\u001b[0;34m(df, schema, preserve_index, columns)\u001b[0m\n\u001b[1;32m    331\u001b[0m     \u001b[0;32mif\u001b[0m \u001b[0;32mnot\u001b[0m \u001b[0mdf\u001b[0m\u001b[0;34m.\u001b[0m\u001b[0mcolumns\u001b[0m\u001b[0;34m.\u001b[0m\u001b[0mis_unique\u001b[0m\u001b[0;34m:\u001b[0m\u001b[0;34m\u001b[0m\u001b[0;34m\u001b[0m\u001b[0m\n\u001b[1;32m    332\u001b[0m         raise ValueError(\n\u001b[0;32m--> 333\u001b[0;31m             \u001b[0;34m'Duplicate column names found: {}'\u001b[0m\u001b[0;34m.\u001b[0m\u001b[0mformat\u001b[0m\u001b[0;34m(\u001b[0m\u001b[0mlist\u001b[0m\u001b[0;34m(\u001b[0m\u001b[0mdf\u001b[0m\u001b[0;34m.\u001b[0m\u001b[0mcolumns\u001b[0m\u001b[0;34m)\u001b[0m\u001b[0;34m)\u001b[0m\u001b[0;34m\u001b[0m\u001b[0;34m\u001b[0m\u001b[0m\n\u001b[0m\u001b[1;32m    334\u001b[0m         )\n\u001b[1;32m    335\u001b[0m \u001b[0;34m\u001b[0m\u001b[0m\n",
      "\u001b[0;31mValueError\u001b[0m: Duplicate column names found: ['level_0', 'index', 'COD. CORTE', 'CORTE', 'COD. TRIBUNAL', 'TRIBUNAL', 'RIT', 'TIPO CAUSA', 'COD. MATERIA', 'MATERIA', 'FECHA INGRESO', 'TEMP', 'index', 'COD. CORTE', 'CORTE', 'COD. TRIBUNAL', 'TRIBUNAL', 'RIT', 'TIPO CAUSA', 'COD. MATERIA', 'MATERIA', 'FECHA INGRESO', 'FECHA TERMINO', 'MOTIVO TERMINO', 'DURACION CAUSA', 'TEMP']"
     ]
    }
   ],
   "source": [
    "# Directorio donde se guardaran archivos feather\n",
    "df_ingresos_materia.reset_index(inplace = True)\n",
    "df_termino_materia.reset_index(inplace = True)\n",
    "df_consolidado.reset_index(inplace = True)\n",
    "os.makedirs(path_processed, exist_ok = True)  \n",
    "\n",
    "# Guardamos dataset como archivo feather\n",
    "\n",
    "df_ingresos_materia.to_feather(f'{path_processed}/IngresosMateria_feather')\n",
    "df_termino_materia.to_feather(f'{path_processed}/TerminoMateria_feather')\n",
    "df_consolidado.to_feather(f'{path_processed}/Consolidado_Materia_feather')"
   ]
  },
  {
   "cell_type": "code",
   "execution_count": null,
   "metadata": {},
   "outputs": [],
   "source": []
  }
 ],
 "metadata": {
  "kernelspec": {
   "display_name": "Python 3",
   "language": "python",
   "name": "python3"
  },
  "language_info": {
   "codemirror_mode": {
    "name": "ipython",
    "version": 3
   },
   "file_extension": ".py",
   "mimetype": "text/x-python",
   "name": "python",
   "nbconvert_exporter": "python",
   "pygments_lexer": "ipython3",
   "version": "3.7.6"
  }
 },
 "nbformat": 4,
 "nbformat_minor": 4
}
