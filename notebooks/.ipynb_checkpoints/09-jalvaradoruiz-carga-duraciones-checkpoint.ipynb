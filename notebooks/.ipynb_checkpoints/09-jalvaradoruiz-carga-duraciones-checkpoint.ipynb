{
 "cells": [
  {
   "cell_type": "markdown",
   "metadata": {},
   "source": [
    "## Data: Duracion de audiencias"
   ]
  },
  {
   "cell_type": "code",
   "execution_count": 1,
   "metadata": {},
   "outputs": [],
   "source": [
    "import os\n",
    "import pandas as pd\n",
    "import numpy as np\n",
    "from pyarrow import feather\n",
    "from tqdm import tqdm\n",
    "\n",
    "from src.data import clean_data"
   ]
  },
  {
   "cell_type": "code",
   "execution_count": 2,
   "metadata": {},
   "outputs": [
    {
     "name": "stderr",
     "output_type": "stream",
     "text": [
      "/Users/jalvaradoruiz/opt/anaconda3/lib/python3.7/site-packages/tqdm/std.py:658: FutureWarning: The Panel class is removed from pandas. Accessing it from the top-level namespace will also be removed in the next version\n",
      "  from pandas import Panel\n"
     ]
    }
   ],
   "source": [
    "path_raw = \"../data/raw\"\n",
    "archivos = os.listdir(path_raw) \n",
    "\n",
    "tqdm.pandas()"
   ]
  },
  {
   "cell_type": "code",
   "execution_count": 3,
   "metadata": {
    "scrolled": true
   },
   "outputs": [],
   "source": [
    "# Creacion dataframe con los datos de Duraciones por Rol Penal de los años 2015 a 2019\n",
    "\n",
    "dataframes = []\n",
    "\n",
    "for archivo in archivos:\n",
    "    if archivo.find(\"Duraciones por Rol Penal\") != -1:\n",
    "        df = pd.read_csv(f\"{path_raw}/{archivo}\", sep = \";\", encoding = 'cp850', dtype = 'unicode', low_memory = True)\n",
    "        dataframes.append(df) \n",
    "        \n",
    "df_duraciones = pd.concat(dataframes, axis = 0)\n"
   ]
  },
  {
   "cell_type": "code",
   "execution_count": 4,
   "metadata": {},
   "outputs": [
    {
     "data": {
      "text/plain": [
       "Index(['N°', 'CÓD. CORTE', 'CORTE', 'CÓD. TRIBUNAL', 'TRIBUNAL', 'RIT',\n",
       "       'TIPO CAUSA', 'FECHA INGRESO', 'FECHA TÉRMINO', 'DURACIÓN CAUSA ',\n",
       "       'MOTIVO DE TÉRMINO', 'MES TÉRMINO', 'AÑO TÉRMINO', 'TOTAL TÉRMINOS',\n",
       "       'SISTEMA'],\n",
       "      dtype='object')"
      ]
     },
     "execution_count": 4,
     "metadata": {},
     "output_type": "execute_result"
    }
   ],
   "source": [
    "df_duraciones.columns\n"
   ]
  },
  {
   "cell_type": "code",
   "execution_count": 5,
   "metadata": {},
   "outputs": [],
   "source": [
    "df_duraciones.drop(['N°','MES TÉRMINO','AÑO TÉRMINO','TOTAL TÉRMINOS','SISTEMA'], axis = 'columns', inplace = True)\n",
    "\n",
    "df_duraciones = df_duraciones.dropna()"
   ]
  },
  {
   "cell_type": "code",
   "execution_count": 6,
   "metadata": {},
   "outputs": [],
   "source": [
    "df_duraciones.rename(columns = {'CÓD. CORTE':'COD. CORTE',\n",
    "                                'CÓD. TRIBUNAL':'COD. TRIBUNAL',\n",
    "                                'DURACIÓN CAUSA ':'DURACIÓN CAUSA',\n",
    "                                'FECHA TÉRMINO':'FECHA TERMINO',\n",
    "                                'MOTIVO DE TÉRMINO':'MOTIVO TERMINO'\n",
    "                               },\n",
    "                     inplace = True)"
   ]
  },
  {
   "cell_type": "code",
   "execution_count": 7,
   "metadata": {},
   "outputs": [],
   "source": [
    "# TRANSFORMAMOS DE FLOAT A INTEGER\n",
    "\n",
    "df_duraciones['COD. CORTE'] = df_duraciones['COD. CORTE'].fillna(0).astype(np.int16)\n",
    "df_duraciones['COD. TRIBUNAL'] = df_duraciones['COD. TRIBUNAL'].fillna(0).astype(np.int16)"
   ]
  },
  {
   "cell_type": "code",
   "execution_count": 8,
   "metadata": {},
   "outputs": [
    {
     "name": "stderr",
     "output_type": "stream",
     "text": [
      "100%|██████████| 3357121/3357121 [00:06<00:00, 544353.04it/s]\n",
      "100%|██████████| 3357121/3357121 [00:06<00:00, 538982.70it/s]\n"
     ]
    }
   ],
   "source": [
    "# Transformamos fechas\n",
    "\n",
    "df_duraciones['FECHA INGRESO'] = df_duraciones['FECHA INGRESO'].progress_apply(clean_data.convierte_fecha)\n",
    "df_duraciones['FECHA TERMINO'] = df_duraciones['FECHA TERMINO'].progress_apply(clean_data.convierte_fecha)"
   ]
  },
  {
   "cell_type": "code",
   "execution_count": 9,
   "metadata": {},
   "outputs": [
    {
     "name": "stderr",
     "output_type": "stream",
     "text": [
      "100%|██████████| 10/10 [00:26<00:00,  2.70s/it]\n"
     ]
    }
   ],
   "source": [
    "# Elimino espacios en las columnas tipo objetos\n",
    "\n",
    "df_duraciones = df_duraciones.progress_apply(clean_data.elimina_espacios, axis=0)"
   ]
  },
  {
   "cell_type": "code",
   "execution_count": 10,
   "metadata": {},
   "outputs": [
    {
     "name": "stderr",
     "output_type": "stream",
     "text": [
      "100%|██████████| 6/6 [00:50<00:00,  8.38s/it]\n"
     ]
    }
   ],
   "source": [
    "# Elimino tildes \n",
    "\n",
    "cols = df_duraciones.select_dtypes(include = [\"object\"]).columns\n",
    "df_duraciones[cols] = df_duraciones[cols].progress_apply(clean_data.elimina_tilde) \n"
   ]
  },
  {
   "cell_type": "code",
   "execution_count": 11,
   "metadata": {},
   "outputs": [
    {
     "name": "stderr",
     "output_type": "stream",
     "text": [
      "100%|██████████| 3357121/3357121 [00:03<00:00, 1055075.31it/s]\n"
     ]
    }
   ],
   "source": [
    "# Debo transformar el formato del RIT--AÑO a RIT-AÑO\n",
    "\n",
    "df_duraciones['RIT'] = df_duraciones['RIT'].progress_apply(clean_data.limpia_rit)"
   ]
  },
  {
   "cell_type": "code",
   "execution_count": 12,
   "metadata": {},
   "outputs": [],
   "source": [
    "# Categorizacion\n",
    "\n",
    "df_duraciones['CORTE'] = df_duraciones['CORTE'].astype('category')\n",
    "df_duraciones['TIPO CAUSA'] = df_duraciones['TIPO CAUSA'].astype('category')\n",
    "df_duraciones['MOTIVO TERMINO'] = df_duraciones['MOTIVO TERMINO'].astype('category')"
   ]
  },
  {
   "cell_type": "code",
   "execution_count": 13,
   "metadata": {},
   "outputs": [],
   "source": [
    "# Reset el index para realizar feather\n",
    "\n",
    "df_duraciones.reset_index(inplace = True)"
   ]
  },
  {
   "cell_type": "code",
   "execution_count": 14,
   "metadata": {},
   "outputs": [
    {
     "data": {
      "text/html": [
       "<div>\n",
       "<style scoped>\n",
       "    .dataframe tbody tr th:only-of-type {\n",
       "        vertical-align: middle;\n",
       "    }\n",
       "\n",
       "    .dataframe tbody tr th {\n",
       "        vertical-align: top;\n",
       "    }\n",
       "\n",
       "    .dataframe thead th {\n",
       "        text-align: right;\n",
       "    }\n",
       "</style>\n",
       "<table border=\"1\" class=\"dataframe\">\n",
       "  <thead>\n",
       "    <tr style=\"text-align: right;\">\n",
       "      <th></th>\n",
       "      <th>index</th>\n",
       "      <th>COD. CORTE</th>\n",
       "      <th>CORTE</th>\n",
       "      <th>COD. TRIBUNAL</th>\n",
       "      <th>TRIBUNAL</th>\n",
       "      <th>RIT</th>\n",
       "      <th>TIPO CAUSA</th>\n",
       "      <th>FECHA INGRESO</th>\n",
       "      <th>FECHA TERMINO</th>\n",
       "      <th>DURACIÓN CAUSA</th>\n",
       "      <th>MOTIVO TERMINO</th>\n",
       "    </tr>\n",
       "  </thead>\n",
       "  <tbody>\n",
       "    <tr>\n",
       "      <th>0</th>\n",
       "      <td>0</td>\n",
       "      <td>10</td>\n",
       "      <td>C.A. DE ARICA</td>\n",
       "      <td>988</td>\n",
       "      <td>TRIBUNAL DE JUICIO ORAL EN LO PENAL DE ARICA</td>\n",
       "      <td>100-2019</td>\n",
       "      <td>Ordinaria</td>\n",
       "      <td>2019-04-03</td>\n",
       "      <td>2019-05-17</td>\n",
       "      <td>44</td>\n",
       "      <td>SENTENCIA</td>\n",
       "    </tr>\n",
       "    <tr>\n",
       "      <th>1</th>\n",
       "      <td>1</td>\n",
       "      <td>10</td>\n",
       "      <td>C.A. DE ARICA</td>\n",
       "      <td>988</td>\n",
       "      <td>TRIBUNAL DE JUICIO ORAL EN LO PENAL DE ARICA</td>\n",
       "      <td>101-2019</td>\n",
       "      <td>Ordinaria</td>\n",
       "      <td>2019-04-04</td>\n",
       "      <td>2019-05-17</td>\n",
       "      <td>43</td>\n",
       "      <td>SENTENCIA</td>\n",
       "    </tr>\n",
       "    <tr>\n",
       "      <th>2</th>\n",
       "      <td>2</td>\n",
       "      <td>10</td>\n",
       "      <td>C.A. DE ARICA</td>\n",
       "      <td>988</td>\n",
       "      <td>TRIBUNAL DE JUICIO ORAL EN LO PENAL DE ARICA</td>\n",
       "      <td>10-2019</td>\n",
       "      <td>Ordinaria</td>\n",
       "      <td>2019-01-04</td>\n",
       "      <td>2019-01-29</td>\n",
       "      <td>25</td>\n",
       "      <td>SENTENCIA</td>\n",
       "    </tr>\n",
       "    <tr>\n",
       "      <th>3</th>\n",
       "      <td>3</td>\n",
       "      <td>10</td>\n",
       "      <td>C.A. DE ARICA</td>\n",
       "      <td>988</td>\n",
       "      <td>TRIBUNAL DE JUICIO ORAL EN LO PENAL DE ARICA</td>\n",
       "      <td>102-2019</td>\n",
       "      <td>Ordinaria</td>\n",
       "      <td>2019-04-04</td>\n",
       "      <td>2019-11-20</td>\n",
       "      <td>230</td>\n",
       "      <td>SENTENCIA</td>\n",
       "    </tr>\n",
       "    <tr>\n",
       "      <th>4</th>\n",
       "      <td>4</td>\n",
       "      <td>10</td>\n",
       "      <td>C.A. DE ARICA</td>\n",
       "      <td>988</td>\n",
       "      <td>TRIBUNAL DE JUICIO ORAL EN LO PENAL DE ARICA</td>\n",
       "      <td>103-2019</td>\n",
       "      <td>Ordinaria</td>\n",
       "      <td>2019-04-05</td>\n",
       "      <td>2019-04-10</td>\n",
       "      <td>5</td>\n",
       "      <td>DECLARA SOBRESEIMIENTO DEFINITIVO.</td>\n",
       "    </tr>\n",
       "    <tr>\n",
       "      <th>...</th>\n",
       "      <td>...</td>\n",
       "      <td>...</td>\n",
       "      <td>...</td>\n",
       "      <td>...</td>\n",
       "      <td>...</td>\n",
       "      <td>...</td>\n",
       "      <td>...</td>\n",
       "      <td>...</td>\n",
       "      <td>...</td>\n",
       "      <td>...</td>\n",
       "      <td>...</td>\n",
       "    </tr>\n",
       "    <tr>\n",
       "      <th>3357116</th>\n",
       "      <td>679953</td>\n",
       "      <td>91</td>\n",
       "      <td>C.A. DE SAN MIGUEL</td>\n",
       "      <td>1355</td>\n",
       "      <td>TRIBUNAL DE JUICIO ORAL EN LO PENAL DE MELIPILLA</td>\n",
       "      <td>86-2014</td>\n",
       "      <td>Ordinaria</td>\n",
       "      <td>2014-12-02</td>\n",
       "      <td>2015-01-31</td>\n",
       "      <td>60</td>\n",
       "      <td>SENTENCIA</td>\n",
       "    </tr>\n",
       "    <tr>\n",
       "      <th>3357117</th>\n",
       "      <td>679954</td>\n",
       "      <td>91</td>\n",
       "      <td>C.A. DE SAN MIGUEL</td>\n",
       "      <td>1355</td>\n",
       "      <td>TRIBUNAL DE JUICIO ORAL EN LO PENAL DE MELIPILLA</td>\n",
       "      <td>87-2014</td>\n",
       "      <td>Ordinaria</td>\n",
       "      <td>2014-12-09</td>\n",
       "      <td>2015-01-28</td>\n",
       "      <td>50</td>\n",
       "      <td>SENTENCIA</td>\n",
       "    </tr>\n",
       "    <tr>\n",
       "      <th>3357118</th>\n",
       "      <td>679955</td>\n",
       "      <td>91</td>\n",
       "      <td>C.A. DE SAN MIGUEL</td>\n",
       "      <td>1355</td>\n",
       "      <td>TRIBUNAL DE JUICIO ORAL EN LO PENAL DE MELIPILLA</td>\n",
       "      <td>88-2014</td>\n",
       "      <td>Ordinaria</td>\n",
       "      <td>2014-12-30</td>\n",
       "      <td>2015-02-02</td>\n",
       "      <td>34</td>\n",
       "      <td>SENTENCIA</td>\n",
       "    </tr>\n",
       "    <tr>\n",
       "      <th>3357119</th>\n",
       "      <td>679956</td>\n",
       "      <td>91</td>\n",
       "      <td>C.A. DE SAN MIGUEL</td>\n",
       "      <td>1355</td>\n",
       "      <td>TRIBUNAL DE JUICIO ORAL EN LO PENAL DE MELIPILLA</td>\n",
       "      <td>90-2013</td>\n",
       "      <td>Ordinaria</td>\n",
       "      <td>2013-12-18</td>\n",
       "      <td>2015-08-17</td>\n",
       "      <td>607</td>\n",
       "      <td>SENTENCIA</td>\n",
       "    </tr>\n",
       "    <tr>\n",
       "      <th>3357120</th>\n",
       "      <td>679957</td>\n",
       "      <td>91</td>\n",
       "      <td>C.A. DE SAN MIGUEL</td>\n",
       "      <td>1355</td>\n",
       "      <td>TRIBUNAL DE JUICIO ORAL EN LO PENAL DE MELIPILLA</td>\n",
       "      <td>9-2015</td>\n",
       "      <td>Ordinaria</td>\n",
       "      <td>2015-02-11</td>\n",
       "      <td>2015-03-30</td>\n",
       "      <td>47</td>\n",
       "      <td>SENTENCIA</td>\n",
       "    </tr>\n",
       "  </tbody>\n",
       "</table>\n",
       "<p>3357121 rows × 11 columns</p>\n",
       "</div>"
      ],
      "text/plain": [
       "          index  COD. CORTE               CORTE  COD. TRIBUNAL  \\\n",
       "0             0          10       C.A. DE ARICA            988   \n",
       "1             1          10       C.A. DE ARICA            988   \n",
       "2             2          10       C.A. DE ARICA            988   \n",
       "3             3          10       C.A. DE ARICA            988   \n",
       "4             4          10       C.A. DE ARICA            988   \n",
       "...         ...         ...                 ...            ...   \n",
       "3357116  679953          91  C.A. DE SAN MIGUEL           1355   \n",
       "3357117  679954          91  C.A. DE SAN MIGUEL           1355   \n",
       "3357118  679955          91  C.A. DE SAN MIGUEL           1355   \n",
       "3357119  679956          91  C.A. DE SAN MIGUEL           1355   \n",
       "3357120  679957          91  C.A. DE SAN MIGUEL           1355   \n",
       "\n",
       "                                                 TRIBUNAL       RIT  \\\n",
       "0            TRIBUNAL DE JUICIO ORAL EN LO PENAL DE ARICA  100-2019   \n",
       "1            TRIBUNAL DE JUICIO ORAL EN LO PENAL DE ARICA  101-2019   \n",
       "2            TRIBUNAL DE JUICIO ORAL EN LO PENAL DE ARICA   10-2019   \n",
       "3            TRIBUNAL DE JUICIO ORAL EN LO PENAL DE ARICA  102-2019   \n",
       "4            TRIBUNAL DE JUICIO ORAL EN LO PENAL DE ARICA  103-2019   \n",
       "...                                                   ...       ...   \n",
       "3357116  TRIBUNAL DE JUICIO ORAL EN LO PENAL DE MELIPILLA   86-2014   \n",
       "3357117  TRIBUNAL DE JUICIO ORAL EN LO PENAL DE MELIPILLA   87-2014   \n",
       "3357118  TRIBUNAL DE JUICIO ORAL EN LO PENAL DE MELIPILLA   88-2014   \n",
       "3357119  TRIBUNAL DE JUICIO ORAL EN LO PENAL DE MELIPILLA   90-2013   \n",
       "3357120  TRIBUNAL DE JUICIO ORAL EN LO PENAL DE MELIPILLA    9-2015   \n",
       "\n",
       "        TIPO CAUSA FECHA INGRESO FECHA TERMINO DURACIÓN CAUSA  \\\n",
       "0        Ordinaria    2019-04-03    2019-05-17             44   \n",
       "1        Ordinaria    2019-04-04    2019-05-17             43   \n",
       "2        Ordinaria    2019-01-04    2019-01-29             25   \n",
       "3        Ordinaria    2019-04-04    2019-11-20            230   \n",
       "4        Ordinaria    2019-04-05    2019-04-10              5   \n",
       "...            ...           ...           ...            ...   \n",
       "3357116  Ordinaria    2014-12-02    2015-01-31             60   \n",
       "3357117  Ordinaria    2014-12-09    2015-01-28             50   \n",
       "3357118  Ordinaria    2014-12-30    2015-02-02             34   \n",
       "3357119  Ordinaria    2013-12-18    2015-08-17            607   \n",
       "3357120  Ordinaria    2015-02-11    2015-03-30             47   \n",
       "\n",
       "                             MOTIVO TERMINO  \n",
       "0                                 SENTENCIA  \n",
       "1                                 SENTENCIA  \n",
       "2                                 SENTENCIA  \n",
       "3                                 SENTENCIA  \n",
       "4        DECLARA SOBRESEIMIENTO DEFINITIVO.  \n",
       "...                                     ...  \n",
       "3357116                           SENTENCIA  \n",
       "3357117                           SENTENCIA  \n",
       "3357118                           SENTENCIA  \n",
       "3357119                           SENTENCIA  \n",
       "3357120                           SENTENCIA  \n",
       "\n",
       "[3357121 rows x 11 columns]"
      ]
     },
     "execution_count": 14,
     "metadata": {},
     "output_type": "execute_result"
    }
   ],
   "source": [
    "df_duraciones"
   ]
  },
  {
   "cell_type": "code",
   "execution_count": 15,
   "metadata": {},
   "outputs": [],
   "source": [
    "# Guardamos dataset como archivo feather\n",
    "\n",
    "df_duraciones.to_feather('../data/interim/Duraciones_feather')"
   ]
  },
  {
   "cell_type": "code",
   "execution_count": null,
   "metadata": {},
   "outputs": [],
   "source": []
  }
 ],
 "metadata": {
  "kernelspec": {
   "display_name": "Python 3",
   "language": "python",
   "name": "python3"
  },
  "language_info": {
   "codemirror_mode": {
    "name": "ipython",
    "version": 3
   },
   "file_extension": ".py",
   "mimetype": "text/x-python",
   "name": "python",
   "nbconvert_exporter": "python",
   "pygments_lexer": "ipython3",
   "version": "3.7.6"
  }
 },
 "nbformat": 4,
 "nbformat_minor": 4
}
