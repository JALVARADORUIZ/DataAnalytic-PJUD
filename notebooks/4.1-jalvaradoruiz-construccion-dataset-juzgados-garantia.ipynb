{
 "cells": [
  {
   "cell_type": "markdown",
   "metadata": {},
   "source": [
    "# Creación Data referente a Juzgados de Garantía\n",
    "\n",
    "Se realiza un analisis mediante expresiones regulares del art. 16 del Código Organico de Tribunales (COT). En este artículo se definen las comunas de Chile donde tendrán asiento este tipo de Juzgados y además su territorio de jurisdiccion."
   ]
  },
  {
   "cell_type": "code",
   "execution_count": 6,
   "metadata": {},
   "outputs": [],
   "source": [
    "import re\n",
    "import os\n",
    "import pandas as pd\n",
    "import numpy as np\n",
    "\n",
    "from tqdm import tqdm\n",
    "from unicodedata import normalize\n",
    "\n",
    "from pjud.data import cleandata"
   ]
  },
  {
   "cell_type": "code",
   "execution_count": 7,
   "metadata": {},
   "outputs": [],
   "source": [
    "tqdm.pandas()"
   ]
  },
  {
   "cell_type": "code",
   "execution_count": null,
   "metadata": {},
   "outputs": [],
   "source": [
    "path_raw = \"./data/raw/cot\""
   ]
  },
  {
   "cell_type": "markdown",
   "metadata": {},
   "source": [
    "## Articulo 16 COT ref: juzgados de garantías\n"
   ]
  },
  {
   "cell_type": "code",
   "execution_count": 8,
   "metadata": {},
   "outputs": [],
   "source": [
    "with open(f'{path_raw}/Juzgados_Garantia.txt', 'r') as file:\n",
    "    contenido_jg = ''\n",
    "    for line in file.readlines():\n",
    "        contenido_jg += line"
   ]
  },
  {
   "cell_type": "markdown",
   "metadata": {},
   "source": [
    "Se construye una expresion regular para captar una lista con la información que se desea procesar, y así generar un dataframe."
   ]
  },
  {
   "cell_type": "code",
   "execution_count": 9,
   "metadata": {},
   "outputs": [],
   "source": [
    "regex_jg=r\"(?:(?P<Region>^[\\w \\']+)\\:\\n\\n)|(?P<JG>^[\\w. \\-]+)\\,\\scon\\s(?P<Jueces>[\\w.\\-]+)[a-z\\-\\s\\,]+(?P<Competencia>\\.|\\s[\\w. \\-\\,]+)\"\n",
    "matches = re.findall(regex_jg, contenido_jg, re.MULTILINE)\n",
    "\n",
    "#matches\n",
    "\n",
    "# GENERA UNA ARREGLO DE LISTA DE 4 ELEMENTOS\n",
    "# ELEMENTO 0 : REGIÓN\n",
    "# ELEMENTO 1: JUZGADO DE GARANTÍA DE ...\n",
    "# ELEMENTO 2: Cantidad de Jueces en Letras\n",
    "# ELEMENTO 3: Competencia (. es lo mismo de 3 0 7) o varias ciudades (separadas por , o y)\n",
    "\n",
    "#len(matches)"
   ]
  },
  {
   "cell_type": "code",
   "execution_count": 10,
   "metadata": {},
   "outputs": [],
   "source": [
    "data_jg = []\n",
    "\n",
    "for item in range(0,len(matches)):\n",
    "    if matches[item][0] != '':\n",
    "        region = matches[item][0].upper()\n",
    "    else:    \n",
    "        if matches[item][1] != '':\n",
    "            ciudad = matches[item][1].upper() \n",
    "            if ciudad.find(\"JUZGADO\") != -1: \n",
    "                juzgado = ciudad\n",
    "                \n",
    "            else:\n",
    "                juzgado = f\"JUZGADO DE GARANTIA {ciudad}\"\n",
    "\n",
    "        if matches[item][2] != '':\n",
    "            cantidad_jueces = cleandata.transforma_numero(matches[item][2])\n",
    "    \n",
    "        if matches[item][3] == '.':\n",
    "            competencia = ciudad\n",
    "        \n",
    "        else:  \n",
    "            if matches[item][3] != '':\n",
    "                competencia = matches[item][3].upper()\n",
    "        \n",
    "        competencia = competencia.replace(\" Y \",\",\")\n",
    "        competencia = competencia.replace(\" E \",\",\")\n",
    "        competencia = competencia.replace(\".\",\"\")\n",
    "        \n",
    "        comunas = competencia.split(\",\")\n",
    "        \n",
    "        for comuna in comunas:\n",
    "            data_jg.append([region,juzgado,ciudad,cantidad_jueces,comuna.strip(),'GARANTIA'])\n",
    "   \n",
    "df_juzgados_garantia = pd.DataFrame(data_jg, columns = ['REGION','TRIBUNAL','ASIENTO','JUECES','COMUNA','TIPO JUZGADO'])\n"
   ]
  },
  {
   "cell_type": "code",
   "execution_count": 11,
   "metadata": {},
   "outputs": [
    {
     "name": "stderr",
     "output_type": "stream",
     "text": [
      "100%|██████████| 6/6 [00:00<00:00, 243.56it/s]\n"
     ]
    }
   ],
   "source": [
    "# Elimino tildes de las columnas object\n",
    "\n",
    "cols = df_juzgados_garantia.select_dtypes(include = [\"object\"]).columns\n",
    "df_juzgados_garantia[cols] = df_juzgados_garantia[cols].progress_apply(cleandata.elimina_tilde)"
   ]
  },
  {
   "cell_type": "code",
   "execution_count": 12,
   "metadata": {},
   "outputs": [
    {
     "data": {
      "text/html": [
       "<div>\n",
       "<style scoped>\n",
       "    .dataframe tbody tr th:only-of-type {\n",
       "        vertical-align: middle;\n",
       "    }\n",
       "\n",
       "    .dataframe tbody tr th {\n",
       "        vertical-align: top;\n",
       "    }\n",
       "\n",
       "    .dataframe thead th {\n",
       "        text-align: right;\n",
       "    }\n",
       "</style>\n",
       "<table border=\"1\" class=\"dataframe\">\n",
       "  <thead>\n",
       "    <tr style=\"text-align: right;\">\n",
       "      <th></th>\n",
       "      <th>REGION</th>\n",
       "      <th>TRIBUNAL</th>\n",
       "      <th>ASIENTO</th>\n",
       "      <th>JUECES</th>\n",
       "      <th>COMUNA</th>\n",
       "      <th>TIPO JUZGADO</th>\n",
       "    </tr>\n",
       "  </thead>\n",
       "  <tbody>\n",
       "    <tr>\n",
       "      <th>0</th>\n",
       "      <td>PRIMERA REGION DE TARAPACA</td>\n",
       "      <td>JUZGADO DE GARANTIA IQUIQUE</td>\n",
       "      <td>IQUIQUE</td>\n",
       "      <td>7</td>\n",
       "      <td>IQUIQUE</td>\n",
       "      <td>GARANTIA</td>\n",
       "    </tr>\n",
       "    <tr>\n",
       "      <th>1</th>\n",
       "      <td>SEGUNDA REGION DE ANTOFAGASTA</td>\n",
       "      <td>JUZGADO DE GARANTIA TOCOPILLA</td>\n",
       "      <td>TOCOPILLA</td>\n",
       "      <td>1</td>\n",
       "      <td>TOCOPILLA</td>\n",
       "      <td>GARANTIA</td>\n",
       "    </tr>\n",
       "    <tr>\n",
       "      <th>2</th>\n",
       "      <td>SEGUNDA REGION DE ANTOFAGASTA</td>\n",
       "      <td>JUZGADO DE GARANTIA CALAMA</td>\n",
       "      <td>CALAMA</td>\n",
       "      <td>4</td>\n",
       "      <td>CALAMA</td>\n",
       "      <td>GARANTIA</td>\n",
       "    </tr>\n",
       "    <tr>\n",
       "      <th>3</th>\n",
       "      <td>SEGUNDA REGION DE ANTOFAGASTA</td>\n",
       "      <td>JUZGADO DE GARANTIA CALAMA</td>\n",
       "      <td>CALAMA</td>\n",
       "      <td>4</td>\n",
       "      <td>OLLAGUE</td>\n",
       "      <td>GARANTIA</td>\n",
       "    </tr>\n",
       "    <tr>\n",
       "      <th>4</th>\n",
       "      <td>SEGUNDA REGION DE ANTOFAGASTA</td>\n",
       "      <td>JUZGADO DE GARANTIA CALAMA</td>\n",
       "      <td>CALAMA</td>\n",
       "      <td>4</td>\n",
       "      <td>SAN PEDRO DE ATACAMA</td>\n",
       "      <td>GARANTIA</td>\n",
       "    </tr>\n",
       "    <tr>\n",
       "      <th>...</th>\n",
       "      <td>...</td>\n",
       "      <td>...</td>\n",
       "      <td>...</td>\n",
       "      <td>...</td>\n",
       "      <td>...</td>\n",
       "      <td>...</td>\n",
       "    </tr>\n",
       "    <tr>\n",
       "      <th>233</th>\n",
       "      <td>REGION DE ÑUBLE</td>\n",
       "      <td>JUZGADO DE GARANTIA CHILLAN</td>\n",
       "      <td>CHILLAN</td>\n",
       "      <td>4</td>\n",
       "      <td>CHILLAN VIEJO</td>\n",
       "      <td>GARANTIA</td>\n",
       "    </tr>\n",
       "    <tr>\n",
       "      <th>234</th>\n",
       "      <td>REGION DE ÑUBLE</td>\n",
       "      <td>JUZGADO DE GARANTIA YUNGAY</td>\n",
       "      <td>YUNGAY</td>\n",
       "      <td>1</td>\n",
       "      <td>EL CARMEN</td>\n",
       "      <td>GARANTIA</td>\n",
       "    </tr>\n",
       "    <tr>\n",
       "      <th>235</th>\n",
       "      <td>REGION DE ÑUBLE</td>\n",
       "      <td>JUZGADO DE GARANTIA YUNGAY</td>\n",
       "      <td>YUNGAY</td>\n",
       "      <td>1</td>\n",
       "      <td>PEMUCO</td>\n",
       "      <td>GARANTIA</td>\n",
       "    </tr>\n",
       "    <tr>\n",
       "      <th>236</th>\n",
       "      <td>REGION DE ÑUBLE</td>\n",
       "      <td>JUZGADO DE GARANTIA YUNGAY</td>\n",
       "      <td>YUNGAY</td>\n",
       "      <td>1</td>\n",
       "      <td>YUNGAY</td>\n",
       "      <td>GARANTIA</td>\n",
       "    </tr>\n",
       "    <tr>\n",
       "      <th>237</th>\n",
       "      <td>REGION DE ÑUBLE</td>\n",
       "      <td>JUZGADO DE GARANTIA YUNGAY</td>\n",
       "      <td>YUNGAY</td>\n",
       "      <td>1</td>\n",
       "      <td>TUCAPEL</td>\n",
       "      <td>GARANTIA</td>\n",
       "    </tr>\n",
       "  </tbody>\n",
       "</table>\n",
       "<p>238 rows × 6 columns</p>\n",
       "</div>"
      ],
      "text/plain": [
       "                            REGION                       TRIBUNAL    ASIENTO  \\\n",
       "0       PRIMERA REGION DE TARAPACA    JUZGADO DE GARANTIA IQUIQUE    IQUIQUE   \n",
       "1    SEGUNDA REGION DE ANTOFAGASTA  JUZGADO DE GARANTIA TOCOPILLA  TOCOPILLA   \n",
       "2    SEGUNDA REGION DE ANTOFAGASTA     JUZGADO DE GARANTIA CALAMA     CALAMA   \n",
       "3    SEGUNDA REGION DE ANTOFAGASTA     JUZGADO DE GARANTIA CALAMA     CALAMA   \n",
       "4    SEGUNDA REGION DE ANTOFAGASTA     JUZGADO DE GARANTIA CALAMA     CALAMA   \n",
       "..                             ...                            ...        ...   \n",
       "233                REGION DE ÑUBLE    JUZGADO DE GARANTIA CHILLAN    CHILLAN   \n",
       "234                REGION DE ÑUBLE     JUZGADO DE GARANTIA YUNGAY     YUNGAY   \n",
       "235                REGION DE ÑUBLE     JUZGADO DE GARANTIA YUNGAY     YUNGAY   \n",
       "236                REGION DE ÑUBLE     JUZGADO DE GARANTIA YUNGAY     YUNGAY   \n",
       "237                REGION DE ÑUBLE     JUZGADO DE GARANTIA YUNGAY     YUNGAY   \n",
       "\n",
       "    JUECES                COMUNA TIPO JUZGADO  \n",
       "0        7               IQUIQUE     GARANTIA  \n",
       "1        1             TOCOPILLA     GARANTIA  \n",
       "2        4                CALAMA     GARANTIA  \n",
       "3        4               OLLAGUE     GARANTIA  \n",
       "4        4  SAN PEDRO DE ATACAMA     GARANTIA  \n",
       "..     ...                   ...          ...  \n",
       "233      4         CHILLAN VIEJO     GARANTIA  \n",
       "234      1             EL CARMEN     GARANTIA  \n",
       "235      1                PEMUCO     GARANTIA  \n",
       "236      1                YUNGAY     GARANTIA  \n",
       "237      1               TUCAPEL     GARANTIA  \n",
       "\n",
       "[238 rows x 6 columns]"
      ]
     },
     "execution_count": 12,
     "metadata": {},
     "output_type": "execute_result"
    }
   ],
   "source": [
    "df_juzgados_garantia"
   ]
  },
  {
   "cell_type": "code",
   "execution_count": 14,
   "metadata": {},
   "outputs": [],
   "source": [
    "# Reset el index para realizar feather\n",
    "\n",
    "df_juzgados_garantia.reset_index(inplace = True)\n",
    "path_interim = \"../data/interim/pjud\"\n",
    "os.makedirs(path_interim, exist_ok = True) \n",
    "\n",
    "# Guardamos dataset como archivo feather\n",
    "df_juzgados_garantia.to_feather(f'{path_interim}/generates_JuzgadosGarantia.feather')\n"
   ]
  },
  {
   "cell_type": "code",
   "execution_count": null,
   "metadata": {},
   "outputs": [],
   "source": []
  }
 ],
 "metadata": {
  "kernelspec": {
   "display_name": "Python 3",
   "language": "python",
   "name": "python3"
  },
  "language_info": {
   "codemirror_mode": {
    "name": "ipython",
    "version": 3
   },
   "file_extension": ".py",
   "mimetype": "text/x-python",
   "name": "python",
   "nbconvert_exporter": "python",
   "pygments_lexer": "ipython3",
   "version": "3.9.1"
  }
 },
 "nbformat": 4,
 "nbformat_minor": 4
}
