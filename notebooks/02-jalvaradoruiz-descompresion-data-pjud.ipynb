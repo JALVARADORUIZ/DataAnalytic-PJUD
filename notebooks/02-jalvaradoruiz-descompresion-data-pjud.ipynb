{
 "cells": [
  {
   "cell_type": "markdown",
   "metadata": {},
   "source": [
    "# Descomprimir archivos Zip"
   ]
  },
  {
   "cell_type": "code",
   "execution_count": 1,
   "metadata": {},
   "outputs": [],
   "source": [
    "\n",
    "import os\n",
    "import zipfile\n",
    "\n",
    "path_extraccion = \"../data/raw\"\n",
    "path_zip = \"../data/external/zip\"\n",
    "archivos = os.listdir(path_zip) \n",
    "\n",
    "for archivo in archivos:\n",
    "    path_archivo_zip = path_zip + \"/\" + archivo\n",
    "    archivo_zip = zipfile.ZipFile(path_archivo_zip,\"r\")\n",
    "    archivo_zip.extractall(pwd=None, path=path_extraccion)\n",
    "    archivo_zip.close()\n",
    "\n",
    "    \n"
   ]
  },
  {
   "cell_type": "code",
   "execution_count": 2,
   "metadata": {},
   "outputs": [],
   "source": [
    "# Elimino carpeta Download con archivos ZIP\n",
    "import shutil\n",
    "shutil.rmtree(path_zip, ignore_errors=True)"
   ]
  },
  {
   "cell_type": "code",
   "execution_count": null,
   "metadata": {},
   "outputs": [],
   "source": []
  }
 ],
 "metadata": {
  "kernelspec": {
   "display_name": "Python 3",
   "language": "python",
   "name": "python3"
  },
  "language_info": {
   "codemirror_mode": {
    "name": "ipython",
    "version": 3
   },
   "file_extension": ".py",
   "mimetype": "text/x-python",
   "name": "python",
   "nbconvert_exporter": "python",
   "pygments_lexer": "ipython3",
   "version": "3.7.6"
  }
 },
 "nbformat": 4,
 "nbformat_minor": 4
}
