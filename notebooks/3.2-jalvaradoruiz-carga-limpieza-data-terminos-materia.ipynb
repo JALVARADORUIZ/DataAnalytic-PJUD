{
 "cells": [
  {
   "cell_type": "markdown",
   "metadata": {},
   "source": [
    "## Carga Data TERMINO X MATERIA"
   ]
  },
  {
   "cell_type": "code",
   "execution_count": 2,
   "metadata": {},
   "outputs": [],
   "source": [
    "import os\n",
    "import pandas as pd\n",
    "import numpy as np\n",
    "from pyarrow import feather\n",
    "from tqdm import tqdm\n",
    "\n",
    "from src.data import cleandata"
   ]
  },
  {
   "cell_type": "code",
   "execution_count": 3,
   "metadata": {},
   "outputs": [
    {
     "name": "stderr",
     "output_type": "stream",
     "text": [
      "/Users/jalvaradoruiz/opt/anaconda3/lib/python3.7/site-packages/tqdm/std.py:658: FutureWarning: The Panel class is removed from pandas. Accessing it from the top-level namespace will also be removed in the next version\n",
      "  from pandas import Panel\n"
     ]
    }
   ],
   "source": [
    "path_raw = \"../data/raw/pjud\" \n",
    "archivos = os.listdir(path_raw) \n",
    "tqdm.pandas()"
   ]
  },
  {
   "cell_type": "code",
   "execution_count": 4,
   "metadata": {},
   "outputs": [],
   "source": [
    "#creacion dataframe con los datos de Términos por Materia Penal de los años 2015 a 2020\n",
    "\n",
    "dataframes = []\n",
    "\n",
    "for archivo in archivos:\n",
    "    if archivo.find(\"Términos por Materia Penal\") != -1:\n",
    "        df = pd.read_csv(f\"{path_raw}/{archivo}\", sep = \";\", encoding = 'cp850', low_memory = True)\n",
    "        dataframes.append(df) \n",
    "        \n",
    "df_termino_materia = pd.concat(dataframes, axis = 0)"
   ]
  },
  {
   "cell_type": "code",
   "execution_count": 5,
   "metadata": {
    "scrolled": true
   },
   "outputs": [
    {
     "data": {
      "text/plain": [
       "Index(['N°', 'CÓD. CORTE', 'CORTE', 'CÓD. TRIBUNAL', 'TRIBUNAL', 'RIT',\n",
       "       'TIPO CAUSA', 'CÓD. MATERIA', 'MATERIA', 'FECHA INGRESO',\n",
       "       'FECHA TÉRMINO', 'MES TÉRMINO', 'AÑO TÉRMINO', 'MOTIVO DE TÉRMINO',\n",
       "       'DURACIÓN CAUSA', 'TOTAL TÉRMINOS', 'SISTEMA'],\n",
       "      dtype='object')"
      ]
     },
     "execution_count": 5,
     "metadata": {},
     "output_type": "execute_result"
    }
   ],
   "source": [
    "df_termino_materia.columns"
   ]
  },
  {
   "cell_type": "code",
   "execution_count": 6,
   "metadata": {},
   "outputs": [],
   "source": [
    "# Estandarización de nombres de variables\n",
    "\n",
    "df_termino_materia.rename(columns = {'CÓD. CORTE':'COD. CORTE',\n",
    "                                     'CÓD. TRIBUNAL':'COD. TRIBUNAL',\n",
    "                                     'CÓD. MATERIA':'COD. MATERIA',\n",
    "                                     'MOTIVO DE TÉRMINO':'MOTIVO TERMINO',\n",
    "                                     'DURACIÓN CAUSA':'DURACION CAUSA',\n",
    "                                     'FECHA TÉRMINO':'FECHA TERMINO'\n",
    "                                    },\n",
    "                          inplace = True)\n",
    "df_termino_materia.drop(['N°','MES TÉRMINO','AÑO TÉRMINO','SISTEMA','TOTAL TÉRMINOS'],axis = 'columns', inplace = True)"
   ]
  },
  {
   "cell_type": "code",
   "execution_count": 7,
   "metadata": {},
   "outputs": [],
   "source": [
    "# TRANSFORMAMOS DE FLOAT A INTEGER\n",
    "\n",
    "df_termino_materia['COD. CORTE'] = df_termino_materia['COD. CORTE'].fillna(0).astype(np.int16)\n",
    "df_termino_materia['COD. TRIBUNAL'] = df_termino_materia['COD. TRIBUNAL'].fillna(0).astype(np.int16)\n",
    "df_termino_materia['COD. MATERIA'] = df_termino_materia['COD. MATERIA'].fillna(0).astype(np.int16)\n",
    "df_termino_materia['DURACION CAUSA'] = df_termino_materia['DURACION CAUSA'].fillna(0).astype(np.int16)"
   ]
  },
  {
   "cell_type": "code",
   "execution_count": 8,
   "metadata": {},
   "outputs": [
    {
     "name": "stderr",
     "output_type": "stream",
     "text": [
      "100%|██████████| 3606632/3606632 [00:06<00:00, 578142.87it/s]\n",
      "100%|██████████| 3606632/3606632 [00:06<00:00, 578548.41it/s]\n"
     ]
    }
   ],
   "source": [
    "# Transformamos formato fecha\n",
    "\n",
    "df_termino_materia['FECHA INGRESO'] = df_termino_materia['FECHA INGRESO'].progress_apply(cleandata.convierte_fecha)\n",
    "df_termino_materia['FECHA TERMINO'] = df_termino_materia['FECHA TERMINO'].progress_apply(cleandata.convierte_fecha)"
   ]
  },
  {
   "cell_type": "code",
   "execution_count": 9,
   "metadata": {},
   "outputs": [
    {
     "name": "stderr",
     "output_type": "stream",
     "text": [
      "100%|██████████| 12/12 [00:29<00:00,  2.43s/it]\n"
     ]
    }
   ],
   "source": [
    "# Elimino espacios en las columnas tipo objetos\n",
    "\n",
    "df_termino_materia = df_termino_materia.progress_apply(cleandata.elimina_espacios, axis=0)"
   ]
  },
  {
   "cell_type": "code",
   "execution_count": 10,
   "metadata": {},
   "outputs": [
    {
     "name": "stderr",
     "output_type": "stream",
     "text": [
      "100%|██████████| 6/6 [00:53<00:00,  8.87s/it]\n"
     ]
    }
   ],
   "source": [
    "# Elimino tildes de object\n",
    "\n",
    "cols = df_termino_materia.select_dtypes(include = [\"object\"]).columns\n",
    "df_termino_materia[cols] = df_termino_materia[cols].progress_apply(cleandata.elimina_tilde)"
   ]
  },
  {
   "cell_type": "code",
   "execution_count": 11,
   "metadata": {},
   "outputs": [],
   "source": [
    "# Categorizar variables\n",
    "\n",
    "df_termino_materia['CORTE'] = df_termino_materia['CORTE'].astype('category')\n",
    "df_termino_materia['TIPO CAUSA'] = df_termino_materia['TIPO CAUSA'].astype('category')\n",
    "df_termino_materia['MOTIVO TERMINO'] = df_termino_materia['MOTIVO TERMINO'].astype('category')"
   ]
  },
  {
   "cell_type": "code",
   "execution_count": 12,
   "metadata": {},
   "outputs": [],
   "source": [
    "# Reset el index para realizar feather\n",
    "\n",
    "df_termino_materia.reset_index(inplace = True)"
   ]
  },
  {
   "cell_type": "code",
   "execution_count": 13,
   "metadata": {
    "scrolled": true
   },
   "outputs": [
    {
     "data": {
      "text/html": [
       "<div>\n",
       "<style scoped>\n",
       "    .dataframe tbody tr th:only-of-type {\n",
       "        vertical-align: middle;\n",
       "    }\n",
       "\n",
       "    .dataframe tbody tr th {\n",
       "        vertical-align: top;\n",
       "    }\n",
       "\n",
       "    .dataframe thead th {\n",
       "        text-align: right;\n",
       "    }\n",
       "</style>\n",
       "<table border=\"1\" class=\"dataframe\">\n",
       "  <thead>\n",
       "    <tr style=\"text-align: right;\">\n",
       "      <th></th>\n",
       "      <th>index</th>\n",
       "      <th>COD. CORTE</th>\n",
       "      <th>CORTE</th>\n",
       "      <th>COD. TRIBUNAL</th>\n",
       "      <th>TRIBUNAL</th>\n",
       "      <th>RIT</th>\n",
       "      <th>TIPO CAUSA</th>\n",
       "      <th>COD. MATERIA</th>\n",
       "      <th>MATERIA</th>\n",
       "      <th>FECHA INGRESO</th>\n",
       "      <th>FECHA TERMINO</th>\n",
       "      <th>MOTIVO TERMINO</th>\n",
       "      <th>DURACION CAUSA</th>\n",
       "    </tr>\n",
       "  </thead>\n",
       "  <tbody>\n",
       "    <tr>\n",
       "      <th>0</th>\n",
       "      <td>0</td>\n",
       "      <td>10</td>\n",
       "      <td>C.A. DE ARICA</td>\n",
       "      <td>988</td>\n",
       "      <td>TRIBUNAL DE JUICIO ORAL EN LO PENAL DE ARICA</td>\n",
       "      <td>100-2018</td>\n",
       "      <td>Ordinaria</td>\n",
       "      <td>7007</td>\n",
       "      <td>TRAFICO ILICITO DE DROGAS (ART. 3).</td>\n",
       "      <td>2018-04-02</td>\n",
       "      <td>2018-06-01</td>\n",
       "      <td>SENTENCIA</td>\n",
       "      <td>60</td>\n",
       "    </tr>\n",
       "    <tr>\n",
       "      <th>1</th>\n",
       "      <td>1</td>\n",
       "      <td>10</td>\n",
       "      <td>C.A. DE ARICA</td>\n",
       "      <td>988</td>\n",
       "      <td>TRIBUNAL DE JUICIO ORAL EN LO PENAL DE ARICA</td>\n",
       "      <td>100-2018</td>\n",
       "      <td>Ordinaria</td>\n",
       "      <td>10004</td>\n",
       "      <td>PORTE ILEGAL DE ARMA DE FUEGO, MUNICIONES Y OT...</td>\n",
       "      <td>2018-04-02</td>\n",
       "      <td>2018-06-01</td>\n",
       "      <td>SENTENCIA</td>\n",
       "      <td>60</td>\n",
       "    </tr>\n",
       "    <tr>\n",
       "      <th>2</th>\n",
       "      <td>2</td>\n",
       "      <td>10</td>\n",
       "      <td>C.A. DE ARICA</td>\n",
       "      <td>988</td>\n",
       "      <td>TRIBUNAL DE JUICIO ORAL EN LO PENAL DE ARICA</td>\n",
       "      <td>101-2018</td>\n",
       "      <td>Ordinaria</td>\n",
       "      <td>12149</td>\n",
       "      <td>DESACATO (ART. 240 CODIGO DE PROCEDIMIENTO CIV...</td>\n",
       "      <td>2018-04-02</td>\n",
       "      <td>2018-08-29</td>\n",
       "      <td>SENTENCIA</td>\n",
       "      <td>149</td>\n",
       "    </tr>\n",
       "    <tr>\n",
       "      <th>3</th>\n",
       "      <td>3</td>\n",
       "      <td>10</td>\n",
       "      <td>C.A. DE ARICA</td>\n",
       "      <td>988</td>\n",
       "      <td>TRIBUNAL DE JUICIO ORAL EN LO PENAL DE ARICA</td>\n",
       "      <td>10-2018</td>\n",
       "      <td>Ordinaria</td>\n",
       "      <td>7037</td>\n",
       "      <td>TRAFICO DE PEQUEÑAS CANTIDADES (ART. 4).</td>\n",
       "      <td>2018-01-10</td>\n",
       "      <td>2018-03-14</td>\n",
       "      <td>SENTENCIA</td>\n",
       "      <td>63</td>\n",
       "    </tr>\n",
       "    <tr>\n",
       "      <th>4</th>\n",
       "      <td>4</td>\n",
       "      <td>10</td>\n",
       "      <td>C.A. DE ARICA</td>\n",
       "      <td>988</td>\n",
       "      <td>TRIBUNAL DE JUICIO ORAL EN LO PENAL DE ARICA</td>\n",
       "      <td>102-2018</td>\n",
       "      <td>Ordinaria</td>\n",
       "      <td>812</td>\n",
       "      <td>RECEPTACION. ART. 456 BIS A.</td>\n",
       "      <td>2018-04-02</td>\n",
       "      <td>2018-05-29</td>\n",
       "      <td>SENTENCIA</td>\n",
       "      <td>57</td>\n",
       "    </tr>\n",
       "    <tr>\n",
       "      <th>...</th>\n",
       "      <td>...</td>\n",
       "      <td>...</td>\n",
       "      <td>...</td>\n",
       "      <td>...</td>\n",
       "      <td>...</td>\n",
       "      <td>...</td>\n",
       "      <td>...</td>\n",
       "      <td>...</td>\n",
       "      <td>...</td>\n",
       "      <td>...</td>\n",
       "      <td>...</td>\n",
       "      <td>...</td>\n",
       "      <td>...</td>\n",
       "    </tr>\n",
       "    <tr>\n",
       "      <th>3606627</th>\n",
       "      <td>721902</td>\n",
       "      <td>91</td>\n",
       "      <td>C.A. DE SAN MIGUEL</td>\n",
       "      <td>1355</td>\n",
       "      <td>TRIBUNAL DE JUICIO ORAL EN LO PENAL DE MELIPILLA</td>\n",
       "      <td>98-2015</td>\n",
       "      <td>Ordinaria</td>\n",
       "      <td>901</td>\n",
       "      <td>CUASIDELITO DE LESIONES: ART 490, 491 INC 2° Y...</td>\n",
       "      <td>2015-12-17</td>\n",
       "      <td>2016-05-21</td>\n",
       "      <td>SENTENCIA</td>\n",
       "      <td>156</td>\n",
       "    </tr>\n",
       "    <tr>\n",
       "      <th>3606628</th>\n",
       "      <td>721903</td>\n",
       "      <td>91</td>\n",
       "      <td>C.A. DE SAN MIGUEL</td>\n",
       "      <td>1355</td>\n",
       "      <td>TRIBUNAL DE JUICIO ORAL EN LO PENAL DE MELIPILLA</td>\n",
       "      <td>98-2015</td>\n",
       "      <td>Ordinaria</td>\n",
       "      <td>12077</td>\n",
       "      <td>NO DAR CUENTA DE ACCIDENTE DE TRANSITOART. 195...</td>\n",
       "      <td>2015-12-17</td>\n",
       "      <td>2016-05-21</td>\n",
       "      <td>SENTENCIA</td>\n",
       "      <td>156</td>\n",
       "    </tr>\n",
       "    <tr>\n",
       "      <th>3606629</th>\n",
       "      <td>721904</td>\n",
       "      <td>91</td>\n",
       "      <td>C.A. DE SAN MIGUEL</td>\n",
       "      <td>1355</td>\n",
       "      <td>TRIBUNAL DE JUICIO ORAL EN LO PENAL DE MELIPILLA</td>\n",
       "      <td>98-2016</td>\n",
       "      <td>Ordinaria</td>\n",
       "      <td>10008</td>\n",
       "      <td>PORTE DE ARMA PROHIBIDA (ART. 14 INC. 1°)</td>\n",
       "      <td>2016-07-27</td>\n",
       "      <td>2016-11-08</td>\n",
       "      <td>SENTENCIA</td>\n",
       "      <td>104</td>\n",
       "    </tr>\n",
       "    <tr>\n",
       "      <th>3606630</th>\n",
       "      <td>721905</td>\n",
       "      <td>91</td>\n",
       "      <td>C.A. DE SAN MIGUEL</td>\n",
       "      <td>1355</td>\n",
       "      <td>TRIBUNAL DE JUICIO ORAL EN LO PENAL DE MELIPILLA</td>\n",
       "      <td>99-2015</td>\n",
       "      <td>Ordinaria</td>\n",
       "      <td>12082</td>\n",
       "      <td>AMENAZASA CARABINEROS (ART. 417 COD. J.MILITAR).</td>\n",
       "      <td>2015-12-17</td>\n",
       "      <td>2016-01-18</td>\n",
       "      <td>SENTENCIA</td>\n",
       "      <td>32</td>\n",
       "    </tr>\n",
       "    <tr>\n",
       "      <th>3606631</th>\n",
       "      <td>721906</td>\n",
       "      <td>91</td>\n",
       "      <td>C.A. DE SAN MIGUEL</td>\n",
       "      <td>1355</td>\n",
       "      <td>TRIBUNAL DE JUICIO ORAL EN LO PENAL DE MELIPILLA</td>\n",
       "      <td>99-2016</td>\n",
       "      <td>Ordinaria</td>\n",
       "      <td>812</td>\n",
       "      <td>RECEPTACION. ART. 456 BIS A.</td>\n",
       "      <td>2016-08-03</td>\n",
       "      <td>2016-09-16</td>\n",
       "      <td>SENTENCIA</td>\n",
       "      <td>44</td>\n",
       "    </tr>\n",
       "  </tbody>\n",
       "</table>\n",
       "<p>3606632 rows × 13 columns</p>\n",
       "</div>"
      ],
      "text/plain": [
       "          index  COD. CORTE               CORTE  COD. TRIBUNAL  \\\n",
       "0             0          10       C.A. DE ARICA            988   \n",
       "1             1          10       C.A. DE ARICA            988   \n",
       "2             2          10       C.A. DE ARICA            988   \n",
       "3             3          10       C.A. DE ARICA            988   \n",
       "4             4          10       C.A. DE ARICA            988   \n",
       "...         ...         ...                 ...            ...   \n",
       "3606627  721902          91  C.A. DE SAN MIGUEL           1355   \n",
       "3606628  721903          91  C.A. DE SAN MIGUEL           1355   \n",
       "3606629  721904          91  C.A. DE SAN MIGUEL           1355   \n",
       "3606630  721905          91  C.A. DE SAN MIGUEL           1355   \n",
       "3606631  721906          91  C.A. DE SAN MIGUEL           1355   \n",
       "\n",
       "                                                 TRIBUNAL       RIT  \\\n",
       "0            TRIBUNAL DE JUICIO ORAL EN LO PENAL DE ARICA  100-2018   \n",
       "1            TRIBUNAL DE JUICIO ORAL EN LO PENAL DE ARICA  100-2018   \n",
       "2            TRIBUNAL DE JUICIO ORAL EN LO PENAL DE ARICA  101-2018   \n",
       "3            TRIBUNAL DE JUICIO ORAL EN LO PENAL DE ARICA   10-2018   \n",
       "4            TRIBUNAL DE JUICIO ORAL EN LO PENAL DE ARICA  102-2018   \n",
       "...                                                   ...       ...   \n",
       "3606627  TRIBUNAL DE JUICIO ORAL EN LO PENAL DE MELIPILLA   98-2015   \n",
       "3606628  TRIBUNAL DE JUICIO ORAL EN LO PENAL DE MELIPILLA   98-2015   \n",
       "3606629  TRIBUNAL DE JUICIO ORAL EN LO PENAL DE MELIPILLA   98-2016   \n",
       "3606630  TRIBUNAL DE JUICIO ORAL EN LO PENAL DE MELIPILLA   99-2015   \n",
       "3606631  TRIBUNAL DE JUICIO ORAL EN LO PENAL DE MELIPILLA   99-2016   \n",
       "\n",
       "        TIPO CAUSA  COD. MATERIA  \\\n",
       "0        Ordinaria          7007   \n",
       "1        Ordinaria         10004   \n",
       "2        Ordinaria         12149   \n",
       "3        Ordinaria          7037   \n",
       "4        Ordinaria           812   \n",
       "...            ...           ...   \n",
       "3606627  Ordinaria           901   \n",
       "3606628  Ordinaria         12077   \n",
       "3606629  Ordinaria         10008   \n",
       "3606630  Ordinaria         12082   \n",
       "3606631  Ordinaria           812   \n",
       "\n",
       "                                                   MATERIA FECHA INGRESO  \\\n",
       "0                      TRAFICO ILICITO DE DROGAS (ART. 3).    2018-04-02   \n",
       "1        PORTE ILEGAL DE ARMA DE FUEGO, MUNICIONES Y OT...    2018-04-02   \n",
       "2        DESACATO (ART. 240 CODIGO DE PROCEDIMIENTO CIV...    2018-04-02   \n",
       "3                 TRAFICO DE PEQUEÑAS CANTIDADES (ART. 4).    2018-01-10   \n",
       "4                             RECEPTACION. ART. 456 BIS A.    2018-04-02   \n",
       "...                                                    ...           ...   \n",
       "3606627  CUASIDELITO DE LESIONES: ART 490, 491 INC 2° Y...    2015-12-17   \n",
       "3606628  NO DAR CUENTA DE ACCIDENTE DE TRANSITOART. 195...    2015-12-17   \n",
       "3606629          PORTE DE ARMA PROHIBIDA (ART. 14 INC. 1°)    2016-07-27   \n",
       "3606630   AMENAZASA CARABINEROS (ART. 417 COD. J.MILITAR).    2015-12-17   \n",
       "3606631                       RECEPTACION. ART. 456 BIS A.    2016-08-03   \n",
       "\n",
       "        FECHA TERMINO MOTIVO TERMINO  DURACION CAUSA  \n",
       "0          2018-06-01      SENTENCIA              60  \n",
       "1          2018-06-01      SENTENCIA              60  \n",
       "2          2018-08-29      SENTENCIA             149  \n",
       "3          2018-03-14      SENTENCIA              63  \n",
       "4          2018-05-29      SENTENCIA              57  \n",
       "...               ...            ...             ...  \n",
       "3606627    2016-05-21      SENTENCIA             156  \n",
       "3606628    2016-05-21      SENTENCIA             156  \n",
       "3606629    2016-11-08      SENTENCIA             104  \n",
       "3606630    2016-01-18      SENTENCIA              32  \n",
       "3606631    2016-09-16      SENTENCIA              44  \n",
       "\n",
       "[3606632 rows x 13 columns]"
      ]
     },
     "execution_count": 13,
     "metadata": {},
     "output_type": "execute_result"
    }
   ],
   "source": [
    "df_termino_materia"
   ]
  },
  {
   "cell_type": "code",
   "execution_count": 15,
   "metadata": {},
   "outputs": [],
   "source": [
    "# Guardamos dataset como archivo feather\n",
    "path_interim = \"../data/interim/pjud\"\n",
    "os.makedirs(path_interim, exist_ok = True) \n",
    "\n",
    "df_termino_materia.to_feather(f'{path_interim}/TerminoMateria_feather')"
   ]
  },
  {
   "cell_type": "code",
   "execution_count": null,
   "metadata": {},
   "outputs": [],
   "source": []
  }
 ],
 "metadata": {
  "kernelspec": {
   "display_name": "Python 3",
   "language": "python",
   "name": "python3"
  },
  "language_info": {
   "codemirror_mode": {
    "name": "ipython",
    "version": 3
   },
   "file_extension": ".py",
   "mimetype": "text/x-python",
   "name": "python",
   "nbconvert_exporter": "python",
   "pygments_lexer": "ipython3",
   "version": "3.7.6"
  }
 },
 "nbformat": 4,
 "nbformat_minor": 4
}
