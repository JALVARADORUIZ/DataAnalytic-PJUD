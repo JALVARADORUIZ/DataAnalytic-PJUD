{
 "cells": [
  {
   "cell_type": "code",
   "execution_count": 1,
   "metadata": {},
   "outputs": [],
   "source": [
    "import re\n",
    "import os\n",
    "import pandas as pd\n",
    "import numpy as np\n",
    "\n",
    "from tqdm import tqdm\n",
    "from unicodedata import normalize\n",
    "\n",
    "from src.data import cleandata"
   ]
  },
  {
   "cell_type": "code",
   "execution_count": 2,
   "metadata": {},
   "outputs": [
    {
     "name": "stderr",
     "output_type": "stream",
     "text": [
      "/Users/jalvaradoruiz/opt/anaconda3/lib/python3.7/site-packages/tqdm/std.py:658: FutureWarning: The Panel class is removed from pandas. Accessing it from the top-level namespace will also be removed in the next version\n",
      "  from pandas import Panel\n"
     ]
    }
   ],
   "source": [
    "tqdm.pandas()"
   ]
  },
  {
   "cell_type": "code",
   "execution_count": null,
   "metadata": {},
   "outputs": [],
   "source": [
    "path_raw = \"../data/external/subdere\""
   ]
  },
  {
   "cell_type": "markdown",
   "metadata": {},
   "source": [
    "## DataFrame Provincias de Chile  - Fuente: Subdere"
   ]
  },
  {
   "cell_type": "code",
   "execution_count": 4,
   "metadata": {},
   "outputs": [],
   "source": [
    "df_provincias = pd.read_excel(f\"{path_raw}/provinciasChile.xls\")"
   ]
  },
  {
   "cell_type": "code",
   "execution_count": 5,
   "metadata": {},
   "outputs": [
    {
     "data": {
      "text/html": [
       "<div>\n",
       "<style scoped>\n",
       "    .dataframe tbody tr th:only-of-type {\n",
       "        vertical-align: middle;\n",
       "    }\n",
       "\n",
       "    .dataframe tbody tr th {\n",
       "        vertical-align: top;\n",
       "    }\n",
       "\n",
       "    .dataframe thead th {\n",
       "        text-align: right;\n",
       "    }\n",
       "</style>\n",
       "<table border=\"1\" class=\"dataframe\">\n",
       "  <thead>\n",
       "    <tr style=\"text-align: right;\">\n",
       "      <th></th>\n",
       "      <th>Código Región</th>\n",
       "      <th>Nombre Región</th>\n",
       "      <th>Código Provincia</th>\n",
       "      <th>Nombre Provincia</th>\n",
       "      <th>Código Comuna 2010</th>\n",
       "      <th>Nombre Comuna</th>\n",
       "    </tr>\n",
       "  </thead>\n",
       "  <tbody>\n",
       "    <tr>\n",
       "      <th>0</th>\n",
       "      <td>1</td>\n",
       "      <td>Tarapacá</td>\n",
       "      <td>11</td>\n",
       "      <td>Iquique</td>\n",
       "      <td>1101</td>\n",
       "      <td>Iquique</td>\n",
       "    </tr>\n",
       "    <tr>\n",
       "      <th>1</th>\n",
       "      <td>1</td>\n",
       "      <td>Tarapacá</td>\n",
       "      <td>11</td>\n",
       "      <td>Iquique</td>\n",
       "      <td>1107</td>\n",
       "      <td>Alto Hospicio</td>\n",
       "    </tr>\n",
       "    <tr>\n",
       "      <th>2</th>\n",
       "      <td>1</td>\n",
       "      <td>Tarapacá</td>\n",
       "      <td>14</td>\n",
       "      <td>Tamarugal</td>\n",
       "      <td>1401</td>\n",
       "      <td>Pozo Almonte</td>\n",
       "    </tr>\n",
       "    <tr>\n",
       "      <th>3</th>\n",
       "      <td>1</td>\n",
       "      <td>Tarapacá</td>\n",
       "      <td>14</td>\n",
       "      <td>Tamarugal</td>\n",
       "      <td>1402</td>\n",
       "      <td>Camiña</td>\n",
       "    </tr>\n",
       "    <tr>\n",
       "      <th>4</th>\n",
       "      <td>1</td>\n",
       "      <td>Tarapacá</td>\n",
       "      <td>14</td>\n",
       "      <td>Tamarugal</td>\n",
       "      <td>1403</td>\n",
       "      <td>Colchane</td>\n",
       "    </tr>\n",
       "    <tr>\n",
       "      <th>...</th>\n",
       "      <td>...</td>\n",
       "      <td>...</td>\n",
       "      <td>...</td>\n",
       "      <td>...</td>\n",
       "      <td>...</td>\n",
       "      <td>...</td>\n",
       "    </tr>\n",
       "    <tr>\n",
       "      <th>341</th>\n",
       "      <td>14</td>\n",
       "      <td>Los Ríos</td>\n",
       "      <td>142</td>\n",
       "      <td>Ranco</td>\n",
       "      <td>14204</td>\n",
       "      <td>Río Bueno</td>\n",
       "    </tr>\n",
       "    <tr>\n",
       "      <th>342</th>\n",
       "      <td>15</td>\n",
       "      <td>Arica y Parinacota</td>\n",
       "      <td>151</td>\n",
       "      <td>Arica</td>\n",
       "      <td>15101</td>\n",
       "      <td>Arica</td>\n",
       "    </tr>\n",
       "    <tr>\n",
       "      <th>343</th>\n",
       "      <td>15</td>\n",
       "      <td>Arica y Parinacota</td>\n",
       "      <td>151</td>\n",
       "      <td>Arica</td>\n",
       "      <td>15102</td>\n",
       "      <td>Camarones</td>\n",
       "    </tr>\n",
       "    <tr>\n",
       "      <th>344</th>\n",
       "      <td>15</td>\n",
       "      <td>Arica y Parinacota</td>\n",
       "      <td>152</td>\n",
       "      <td>Parinacota</td>\n",
       "      <td>15201</td>\n",
       "      <td>Putre</td>\n",
       "    </tr>\n",
       "    <tr>\n",
       "      <th>345</th>\n",
       "      <td>15</td>\n",
       "      <td>Arica y Parinacota</td>\n",
       "      <td>152</td>\n",
       "      <td>Parinacota</td>\n",
       "      <td>15202</td>\n",
       "      <td>General Lagos</td>\n",
       "    </tr>\n",
       "  </tbody>\n",
       "</table>\n",
       "<p>346 rows × 6 columns</p>\n",
       "</div>"
      ],
      "text/plain": [
       "     Código Región       Nombre Región  Código Provincia Nombre Provincia  \\\n",
       "0                1            Tarapacá                11          Iquique   \n",
       "1                1            Tarapacá                11          Iquique   \n",
       "2                1            Tarapacá                14        Tamarugal   \n",
       "3                1            Tarapacá                14        Tamarugal   \n",
       "4                1            Tarapacá                14        Tamarugal   \n",
       "..             ...                 ...               ...              ...   \n",
       "341             14            Los Ríos               142            Ranco   \n",
       "342             15  Arica y Parinacota               151            Arica   \n",
       "343             15  Arica y Parinacota               151            Arica   \n",
       "344             15  Arica y Parinacota               152       Parinacota   \n",
       "345             15  Arica y Parinacota               152       Parinacota   \n",
       "\n",
       "     Código Comuna 2010  Nombre Comuna  \n",
       "0                  1101        Iquique  \n",
       "1                  1107  Alto Hospicio  \n",
       "2                  1401   Pozo Almonte  \n",
       "3                  1402         Camiña  \n",
       "4                  1403       Colchane  \n",
       "..                  ...            ...  \n",
       "341               14204      Río Bueno  \n",
       "342               15101          Arica  \n",
       "343               15102      Camarones  \n",
       "344               15201          Putre  \n",
       "345               15202  General Lagos  \n",
       "\n",
       "[346 rows x 6 columns]"
      ]
     },
     "execution_count": 5,
     "metadata": {},
     "output_type": "execute_result"
    }
   ],
   "source": [
    "df_provincias"
   ]
  },
  {
   "cell_type": "code",
   "execution_count": 6,
   "metadata": {},
   "outputs": [
    {
     "data": {
      "text/plain": [
       "Código Región          int64\n",
       "Nombre Región         object\n",
       "Código Provincia       int64\n",
       "Nombre Provincia      object\n",
       "Código Comuna 2010     int64\n",
       "Nombre Comuna         object\n",
       "dtype: object"
      ]
     },
     "execution_count": 6,
     "metadata": {},
     "output_type": "execute_result"
    }
   ],
   "source": [
    "df_provincias.dtypes"
   ]
  },
  {
   "cell_type": "code",
   "execution_count": 7,
   "metadata": {},
   "outputs": [
    {
     "name": "stderr",
     "output_type": "stream",
     "text": [
      "100%|██████████| 3/3 [00:00<00:00, 209.98it/s]\n"
     ]
    }
   ],
   "source": [
    "# Transformo a mayusculas las columnas de mi interes\n",
    "df_provincias['Nombre Región'] = df_provincias['Nombre Región'].str.upper()\n",
    "df_provincias['Nombre Provincia'] = df_provincias['Nombre Provincia'].str.upper()\n",
    "df_provincias['Nombre Comuna'] = df_provincias['Nombre Comuna'].str.upper()\n",
    "\n",
    "cols = df_provincias.select_dtypes(include = [\"object\"]).columns\n",
    "df_provincias[cols] = df_provincias[cols].progress_apply(cleandata.elimina_tilde)"
   ]
  },
  {
   "cell_type": "code",
   "execution_count": 8,
   "metadata": {},
   "outputs": [],
   "source": [
    "# Cambio nombre provincia para coincidir con otro df\n",
    "\n",
    "df_provincias.loc[df_provincias['Nombre Provincia'] == 'ANTARTICA CHILENA', 'Nombre Provincia'] = 'LA ANTARTICA CHILENA'\n",
    "df_provincias.loc[df_provincias['Nombre Comuna'] == 'COIHAYQUE', 'Nombre Comuna'] = 'COIHAIQUE'\n",
    "df_provincias.loc[df_provincias['Nombre Comuna'] == 'PAIGUANO', 'Nombre Comuna'] = 'PAIHUANO'\n",
    "df_provincias.loc[df_provincias['Nombre Comuna'] == 'TILTIL', 'Nombre Comuna'] = 'TIL TIL'\n",
    "df_provincias.loc[df_provincias['Nombre Comuna'] == 'EL OLIVAR', 'Nombre Comuna'] = 'OLIVAR'"
   ]
  },
  {
   "cell_type": "code",
   "execution_count": 9,
   "metadata": {},
   "outputs": [],
   "source": [
    "# Reset el index para realizar feather\n",
    "\n",
    "df_provincias.reset_index(inplace = True)\n",
    "\n",
    "path_interim = \"../data/interim/subdere\"\n",
    "os.makedirs(path_interim, exist_ok = True) \n",
    "\n",
    "# Guardamos dataset como archivo feather\n",
    "df_provincias.to_feather(f'{path_interim}/Provincias_feather')\n"
   ]
  },
  {
   "cell_type": "code",
   "execution_count": null,
   "metadata": {},
   "outputs": [],
   "source": []
  }
 ],
 "metadata": {
  "kernelspec": {
   "display_name": "Python 3",
   "language": "python",
   "name": "python3"
  },
  "language_info": {
   "codemirror_mode": {
    "name": "ipython",
    "version": 3
   },
   "file_extension": ".py",
   "mimetype": "text/x-python",
   "name": "python",
   "nbconvert_exporter": "python",
   "pygments_lexer": "ipython3",
   "version": "3.7.6"
  }
 },
 "nbformat": 4,
 "nbformat_minor": 4
}
