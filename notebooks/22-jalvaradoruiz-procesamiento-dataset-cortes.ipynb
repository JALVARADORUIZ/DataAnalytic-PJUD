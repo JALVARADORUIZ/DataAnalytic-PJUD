{
 "cells": [
  {
   "cell_type": "code",
   "execution_count": 85,
   "metadata": {},
   "outputs": [],
   "source": [
    "import pandas as pd\n",
    "import numpy as np\n",
    "import os\n",
    "\n",
    "from tqdm import tqdm\n",
    "from unicodedata import normalize"
   ]
  },
  {
   "cell_type": "markdown",
   "metadata": {},
   "source": [
    "### Analizo Data de Tribunales y Cortes de Apelaciones"
   ]
  },
  {
   "cell_type": "code",
   "execution_count": 86,
   "metadata": {},
   "outputs": [],
   "source": [
    "path_processed = \"../data/processed/pjud\"\n",
    "path_censo = \"../data/processed/censo\""
   ]
  },
  {
   "cell_type": "code",
   "execution_count": 87,
   "metadata": {},
   "outputs": [],
   "source": [
    "df_regiones = pd.read_feather(f\"{path_processed}/TerminoRol_feather\")\n",
    "df_tribunales = pd.read_feather(f\"{path_processed}/ListadoTribunales_feather\")\n",
    "df_censo = pd.read_feather(f\"{path_censo}/Censo2017_feather\")"
   ]
  },
  {
   "cell_type": "code",
   "execution_count": 88,
   "metadata": {},
   "outputs": [],
   "source": [
    "# Extraigo Cortes de Apelaciones asociadas a Juzgados desde este DataSet\n",
    "data_cortes_apelaciones = pd.unique(df_termino_rol[['CORTE','TRIBUNAL']].values.ravel())\n",
    "cortes_tribunales = []\n",
    "\n",
    "for data in range(len(data_cortes_apelaciones)):  \n",
    "    if not data_cortes_apelaciones[data].find('C.A.') == -1:\n",
    "        corte_apelacion = data_cortes_apelaciones[data]\n",
    "    else:\n",
    "        tribunal = data_cortes_apelaciones[data]\n",
    "        if tribunal.find(\"TRIBUNAL\") != -1:\n",
    "            separa_ciudad = tribunal.split(\"PENAL \")\n",
    "        else:\n",
    "            separa_ciudad = tribunal.split(\"GARANTIA \")\n",
    "        ciudad = separa_ciudad[1]\n",
    "        cortes_tribunales.append([corte_apelacion,ciudad])"
   ]
  },
  {
   "cell_type": "code",
   "execution_count": 89,
   "metadata": {},
   "outputs": [],
   "source": [
    "lista_cortes = []\n",
    "\n",
    "for trib in df_tribunales.index:\n",
    "    for indice in range(len(cortes_tribunales)):\n",
    "        if df_tribunales['ASIENTO'][trib] == cortes_tribunales[indice][1]:\n",
    "            corte = cortes_tribunales[indice][0]\n",
    "            lista_cortes.append(corte)\n",
    "            break\n",
    "\n",
    "df_tribunales['CORTE'] = lista_cortes"
   ]
  },
  {
   "cell_type": "code",
   "execution_count": 90,
   "metadata": {},
   "outputs": [
    {
     "data": {
      "text/html": [
       "<div>\n",
       "<style scoped>\n",
       "    .dataframe tbody tr th:only-of-type {\n",
       "        vertical-align: middle;\n",
       "    }\n",
       "\n",
       "    .dataframe tbody tr th {\n",
       "        vertical-align: top;\n",
       "    }\n",
       "\n",
       "    .dataframe thead th {\n",
       "        text-align: right;\n",
       "    }\n",
       "</style>\n",
       "<table border=\"1\" class=\"dataframe\">\n",
       "  <thead>\n",
       "    <tr style=\"text-align: right;\">\n",
       "      <th></th>\n",
       "      <th>index</th>\n",
       "      <th>REGION</th>\n",
       "      <th>TRIBUNAL</th>\n",
       "      <th>ASIENTO</th>\n",
       "      <th>COMUNA</th>\n",
       "      <th>CORTE</th>\n",
       "    </tr>\n",
       "  </thead>\n",
       "  <tbody>\n",
       "    <tr>\n",
       "      <th>0</th>\n",
       "      <td>0</td>\n",
       "      <td>REGION DE TARAPACA</td>\n",
       "      <td>TRIBUNAL DE JUICIO ORAL EN LO PENAL IQUIQUE</td>\n",
       "      <td>IQUIQUE</td>\n",
       "      <td>HUARA</td>\n",
       "      <td>C.A. DE IQUIQUE</td>\n",
       "    </tr>\n",
       "    <tr>\n",
       "      <th>1</th>\n",
       "      <td>1</td>\n",
       "      <td>REGION DE TARAPACA</td>\n",
       "      <td>TRIBUNAL DE JUICIO ORAL EN LO PENAL IQUIQUE</td>\n",
       "      <td>IQUIQUE</td>\n",
       "      <td>CAMIÑA</td>\n",
       "      <td>C.A. DE IQUIQUE</td>\n",
       "    </tr>\n",
       "    <tr>\n",
       "      <th>2</th>\n",
       "      <td>2</td>\n",
       "      <td>REGION DE TARAPACA</td>\n",
       "      <td>TRIBUNAL DE JUICIO ORAL EN LO PENAL IQUIQUE</td>\n",
       "      <td>IQUIQUE</td>\n",
       "      <td>COLCHANE</td>\n",
       "      <td>C.A. DE IQUIQUE</td>\n",
       "    </tr>\n",
       "    <tr>\n",
       "      <th>3</th>\n",
       "      <td>3</td>\n",
       "      <td>REGION DE TARAPACA</td>\n",
       "      <td>TRIBUNAL DE JUICIO ORAL EN LO PENAL IQUIQUE</td>\n",
       "      <td>IQUIQUE</td>\n",
       "      <td>IQUIQUE</td>\n",
       "      <td>C.A. DE IQUIQUE</td>\n",
       "    </tr>\n",
       "    <tr>\n",
       "      <th>4</th>\n",
       "      <td>4</td>\n",
       "      <td>REGION DE TARAPACA</td>\n",
       "      <td>TRIBUNAL DE JUICIO ORAL EN LO PENAL IQUIQUE</td>\n",
       "      <td>IQUIQUE</td>\n",
       "      <td>POZO ALMONTE</td>\n",
       "      <td>C.A. DE IQUIQUE</td>\n",
       "    </tr>\n",
       "    <tr>\n",
       "      <th>...</th>\n",
       "      <td>...</td>\n",
       "      <td>...</td>\n",
       "      <td>...</td>\n",
       "      <td>...</td>\n",
       "      <td>...</td>\n",
       "      <td>...</td>\n",
       "    </tr>\n",
       "    <tr>\n",
       "      <th>687</th>\n",
       "      <td>341</td>\n",
       "      <td>REGION DE MAGALLANES Y ANTARTICA CHILENA</td>\n",
       "      <td>JUZGADO DE LETRAS Y GARANTIA PORVENIR</td>\n",
       "      <td>PORVENIR</td>\n",
       "      <td>PRIMAVERA</td>\n",
       "      <td>C.A. DE PUNTA ARENAS</td>\n",
       "    </tr>\n",
       "    <tr>\n",
       "      <th>688</th>\n",
       "      <td>342</td>\n",
       "      <td>REGION DE MAGALLANES Y ANTARTICA CHILENA</td>\n",
       "      <td>JUZGADO DE LETRAS Y GARANTIA PORVENIR</td>\n",
       "      <td>PORVENIR</td>\n",
       "      <td>TIMAUKEL</td>\n",
       "      <td>C.A. DE PUNTA ARENAS</td>\n",
       "    </tr>\n",
       "    <tr>\n",
       "      <th>689</th>\n",
       "      <td>343</td>\n",
       "      <td>REGION DE MAGALLANES Y ANTARTICA CHILENA</td>\n",
       "      <td>JUZGADO DE LETRAS Y GARANTIA CABO DE HORNOS</td>\n",
       "      <td>CABO DE HORNOS</td>\n",
       "      <td>CABO DE HORNOS</td>\n",
       "      <td>C.A. DE PUNTA ARENAS</td>\n",
       "    </tr>\n",
       "    <tr>\n",
       "      <th>690</th>\n",
       "      <td>344</td>\n",
       "      <td>REGION DE MAGALLANES Y ANTARTICA CHILENA</td>\n",
       "      <td>JUZGADO DE LETRAS Y GARANTIA CABO DE HORNOS</td>\n",
       "      <td>CABO DE HORNOS</td>\n",
       "      <td>ANTARTICA</td>\n",
       "      <td>C.A. DE PUNTA ARENAS</td>\n",
       "    </tr>\n",
       "    <tr>\n",
       "      <th>691</th>\n",
       "      <td>0</td>\n",
       "      <td>REGION DE TARAPACA</td>\n",
       "      <td>JUZGADO DE LETRAS Y GARANTIA ALTO HOSPICIO</td>\n",
       "      <td>ALTO HOSPICIO</td>\n",
       "      <td>ALTO HOSPICIO</td>\n",
       "      <td>C.A. DE IQUIQUE</td>\n",
       "    </tr>\n",
       "  </tbody>\n",
       "</table>\n",
       "<p>692 rows × 6 columns</p>\n",
       "</div>"
      ],
      "text/plain": [
       "     index                                    REGION  \\\n",
       "0        0                        REGION DE TARAPACA   \n",
       "1        1                        REGION DE TARAPACA   \n",
       "2        2                        REGION DE TARAPACA   \n",
       "3        3                        REGION DE TARAPACA   \n",
       "4        4                        REGION DE TARAPACA   \n",
       "..     ...                                       ...   \n",
       "687    341  REGION DE MAGALLANES Y ANTARTICA CHILENA   \n",
       "688    342  REGION DE MAGALLANES Y ANTARTICA CHILENA   \n",
       "689    343  REGION DE MAGALLANES Y ANTARTICA CHILENA   \n",
       "690    344  REGION DE MAGALLANES Y ANTARTICA CHILENA   \n",
       "691      0                        REGION DE TARAPACA   \n",
       "\n",
       "                                        TRIBUNAL         ASIENTO  \\\n",
       "0    TRIBUNAL DE JUICIO ORAL EN LO PENAL IQUIQUE         IQUIQUE   \n",
       "1    TRIBUNAL DE JUICIO ORAL EN LO PENAL IQUIQUE         IQUIQUE   \n",
       "2    TRIBUNAL DE JUICIO ORAL EN LO PENAL IQUIQUE         IQUIQUE   \n",
       "3    TRIBUNAL DE JUICIO ORAL EN LO PENAL IQUIQUE         IQUIQUE   \n",
       "4    TRIBUNAL DE JUICIO ORAL EN LO PENAL IQUIQUE         IQUIQUE   \n",
       "..                                           ...             ...   \n",
       "687        JUZGADO DE LETRAS Y GARANTIA PORVENIR        PORVENIR   \n",
       "688        JUZGADO DE LETRAS Y GARANTIA PORVENIR        PORVENIR   \n",
       "689  JUZGADO DE LETRAS Y GARANTIA CABO DE HORNOS  CABO DE HORNOS   \n",
       "690  JUZGADO DE LETRAS Y GARANTIA CABO DE HORNOS  CABO DE HORNOS   \n",
       "691   JUZGADO DE LETRAS Y GARANTIA ALTO HOSPICIO   ALTO HOSPICIO   \n",
       "\n",
       "             COMUNA                 CORTE  \n",
       "0             HUARA       C.A. DE IQUIQUE  \n",
       "1            CAMIÑA       C.A. DE IQUIQUE  \n",
       "2          COLCHANE       C.A. DE IQUIQUE  \n",
       "3           IQUIQUE       C.A. DE IQUIQUE  \n",
       "4      POZO ALMONTE       C.A. DE IQUIQUE  \n",
       "..              ...                   ...  \n",
       "687       PRIMAVERA  C.A. DE PUNTA ARENAS  \n",
       "688        TIMAUKEL  C.A. DE PUNTA ARENAS  \n",
       "689  CABO DE HORNOS  C.A. DE PUNTA ARENAS  \n",
       "690       ANTARTICA  C.A. DE PUNTA ARENAS  \n",
       "691   ALTO HOSPICIO       C.A. DE IQUIQUE  \n",
       "\n",
       "[692 rows x 6 columns]"
      ]
     },
     "execution_count": 90,
     "metadata": {},
     "output_type": "execute_result"
    }
   ],
   "source": [
    "df_tribunales"
   ]
  },
  {
   "cell_type": "code",
   "execution_count": 91,
   "metadata": {},
   "outputs": [
    {
     "data": {
      "text/plain": [
       "692"
      ]
     },
     "execution_count": 91,
     "metadata": {},
     "output_type": "execute_result"
    }
   ],
   "source": [
    "poblacion = []\n",
    "\n",
    "for trib in df_tribunales.index:\n",
    "    for indice in df_censo.index:\n",
    "        if df_tribunales['COMUNA'][trib] == df_censo['NOMBRE COMUNA'][indice]:\n",
    "            censado = df_censo['TOTAL POBLACIÓN EFECTIVAMENTE CENSADA'][indice]\n",
    "            poblacion.append(censado)\n",
    "            break\n",
    "\n",
    "len(poblacion)"
   ]
  },
  {
   "cell_type": "markdown",
   "metadata": {},
   "source": [
    "## CARGA DATA A ARCHIVOS FUTHER"
   ]
  },
  {
   "cell_type": "code",
   "execution_count": 76,
   "metadata": {},
   "outputs": [],
   "source": [
    "# Reset el index para realizar feather\n",
    "df_tribunales.reset_index(inplace = True)\n",
    "# Directorio donde se guardaran archivos feather\n",
    "os.makedirs(path_processed, exist_ok = True) \n",
    "df_tribunales.to_feather(f'{path_processed}/ListadoTribunalesyCortes_feather')"
   ]
  },
  {
   "cell_type": "code",
   "execution_count": null,
   "metadata": {},
   "outputs": [],
   "source": []
  }
 ],
 "metadata": {
  "kernelspec": {
   "display_name": "Python 3",
   "language": "python",
   "name": "python3"
  },
  "language_info": {
   "codemirror_mode": {
    "name": "ipython",
    "version": 3
   },
   "file_extension": ".py",
   "mimetype": "text/x-python",
   "name": "python",
   "nbconvert_exporter": "python",
   "pygments_lexer": "ipython3",
   "version": "3.7.6"
  }
 },
 "nbformat": 4,
 "nbformat_minor": 4
}
