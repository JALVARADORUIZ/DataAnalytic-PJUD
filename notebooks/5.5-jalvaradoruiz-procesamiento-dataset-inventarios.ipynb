{
 "cells": [
  {
   "cell_type": "code",
   "execution_count": 2,
   "metadata": {},
   "outputs": [],
   "source": [
    "import pandas as pd\n",
    "import numpy as np\n",
    "import os\n",
    "from tqdm import tqdm\n",
    "from unicodedata import normalize\n",
    "\n",
    "from src.data import cleandata"
   ]
  },
  {
   "cell_type": "code",
   "execution_count": 3,
   "metadata": {},
   "outputs": [
    {
     "name": "stderr",
     "output_type": "stream",
     "text": [
      "/Users/jalvaradoruiz/opt/anaconda3/lib/python3.7/site-packages/tqdm/std.py:658: FutureWarning: The Panel class is removed from pandas. Accessing it from the top-level namespace will also be removed in the next version\n",
      "  from pandas import Panel\n"
     ]
    }
   ],
   "source": [
    "tqdm.pandas()\n",
    "\n",
    "path_interim = \"../data/interim/pjud\"\n",
    "path_processed = \"../data/processed/pjud\""
   ]
  },
  {
   "cell_type": "markdown",
   "metadata": {},
   "source": [
    "# DATA de TRIBUNALES OBTENIDAS DEL COT"
   ]
  },
  {
   "cell_type": "code",
   "execution_count": 4,
   "metadata": {},
   "outputs": [],
   "source": [
    "# Analizo contra los datos extraidos en COT\n",
    "df_tribunales = pd.read_feather(f\"{path_processed}/ListadoTribunales_feather\")\n",
    "tribunales = df_tribunales['TRIBUNAL'].unique()"
   ]
  },
  {
   "cell_type": "markdown",
   "metadata": {},
   "source": [
    "# DATA INVENTARIO"
   ]
  },
  {
   "cell_type": "code",
   "execution_count": 5,
   "metadata": {},
   "outputs": [
    {
     "data": {
      "text/html": [
       "<div>\n",
       "<style scoped>\n",
       "    .dataframe tbody tr th:only-of-type {\n",
       "        vertical-align: middle;\n",
       "    }\n",
       "\n",
       "    .dataframe tbody tr th {\n",
       "        vertical-align: top;\n",
       "    }\n",
       "\n",
       "    .dataframe thead th {\n",
       "        text-align: right;\n",
       "    }\n",
       "</style>\n",
       "<table border=\"1\" class=\"dataframe\">\n",
       "  <thead>\n",
       "    <tr style=\"text-align: right;\">\n",
       "      <th></th>\n",
       "      <th>index</th>\n",
       "      <th>COD. CORTE</th>\n",
       "      <th>CORTE</th>\n",
       "      <th>COD. TRIBUNAL</th>\n",
       "      <th>TRIBUNAL</th>\n",
       "      <th>RIT</th>\n",
       "      <th>COMPETENCIA</th>\n",
       "      <th>TIPO CAUSA</th>\n",
       "      <th>COD. MATERIA</th>\n",
       "      <th>MATERIA</th>\n",
       "      <th>TIPO ULT. DILIGENCIA</th>\n",
       "      <th>FECHA ULT. DILIGENCIA</th>\n",
       "      <th>FECHA INGRESO</th>\n",
       "    </tr>\n",
       "  </thead>\n",
       "  <tbody>\n",
       "    <tr>\n",
       "      <th>0</th>\n",
       "      <td>0</td>\n",
       "      <td>10</td>\n",
       "      <td>C.A. DE ARICA</td>\n",
       "      <td>988</td>\n",
       "      <td>TRIBUNAL DE JUICIO ORAL EN LO PENAL DE ARICA</td>\n",
       "      <td>123-2016</td>\n",
       "      <td>ORAL</td>\n",
       "      <td>Ordinaria</td>\n",
       "      <td>856</td>\n",
       "      <td>APROPIACION INDEBIDA ART.470 N°1</td>\n",
       "      <td>AUDIENCIA</td>\n",
       "      <td>2019-10-31</td>\n",
       "      <td>2016-04-29</td>\n",
       "    </tr>\n",
       "    <tr>\n",
       "      <th>1</th>\n",
       "      <td>1</td>\n",
       "      <td>10</td>\n",
       "      <td>C.A. DE ARICA</td>\n",
       "      <td>988</td>\n",
       "      <td>TRIBUNAL DE JUICIO ORAL EN LO PENAL DE ARICA</td>\n",
       "      <td>159-2019</td>\n",
       "      <td>ORAL</td>\n",
       "      <td>Ordinaria</td>\n",
       "      <td>7037</td>\n",
       "      <td>TRAFICO DE PEQUEÑA  CANTIDADE  (ART. 4).</td>\n",
       "      <td>RESOLUCION</td>\n",
       "      <td>2019-12-31</td>\n",
       "      <td>2019-05-28</td>\n",
       "    </tr>\n",
       "    <tr>\n",
       "      <th>2</th>\n",
       "      <td>2</td>\n",
       "      <td>10</td>\n",
       "      <td>C.A. DE ARICA</td>\n",
       "      <td>988</td>\n",
       "      <td>TRIBUNAL DE JUICIO ORAL EN LO PENAL DE ARICA</td>\n",
       "      <td>160-2019</td>\n",
       "      <td>ORAL</td>\n",
       "      <td>Ordinaria</td>\n",
       "      <td>10011</td>\n",
       "      <td>POSESION TENENCIA O PORTE DE MUN Y SUST QUIMICAS</td>\n",
       "      <td>RESOLUCION</td>\n",
       "      <td>2019-11-21</td>\n",
       "      <td>2019-05-28</td>\n",
       "    </tr>\n",
       "    <tr>\n",
       "      <th>3</th>\n",
       "      <td>3</td>\n",
       "      <td>10</td>\n",
       "      <td>C.A. DE ARICA</td>\n",
       "      <td>988</td>\n",
       "      <td>TRIBUNAL DE JUICIO ORAL EN LO PENAL DE ARICA</td>\n",
       "      <td>176-2019</td>\n",
       "      <td>ORAL</td>\n",
       "      <td>Ordinaria</td>\n",
       "      <td>12051</td>\n",
       "      <td>CONTRAB. INFRAC A LA ORD. DE ADUAN ART 168. LE...</td>\n",
       "      <td>RESOLUCION</td>\n",
       "      <td>2019-12-31</td>\n",
       "      <td>2019-06-06</td>\n",
       "    </tr>\n",
       "    <tr>\n",
       "      <th>4</th>\n",
       "      <td>4</td>\n",
       "      <td>10</td>\n",
       "      <td>C.A. DE ARICA</td>\n",
       "      <td>988</td>\n",
       "      <td>TRIBUNAL DE JUICIO ORAL EN LO PENAL DE ARICA</td>\n",
       "      <td>196-2013</td>\n",
       "      <td>ORAL</td>\n",
       "      <td>Ordinaria</td>\n",
       "      <td>7007</td>\n",
       "      <td>TRAFICO ILICITO DE DROGA  (ART. 3).</td>\n",
       "      <td>RESOLUCION</td>\n",
       "      <td>2019-09-10</td>\n",
       "      <td>2013-08-05</td>\n",
       "    </tr>\n",
       "  </tbody>\n",
       "</table>\n",
       "</div>"
      ],
      "text/plain": [
       "   index  COD. CORTE          CORTE  COD. TRIBUNAL  \\\n",
       "0      0          10  C.A. DE ARICA            988   \n",
       "1      1          10  C.A. DE ARICA            988   \n",
       "2      2          10  C.A. DE ARICA            988   \n",
       "3      3          10  C.A. DE ARICA            988   \n",
       "4      4          10  C.A. DE ARICA            988   \n",
       "\n",
       "                                       TRIBUNAL       RIT COMPETENCIA  \\\n",
       "0  TRIBUNAL DE JUICIO ORAL EN LO PENAL DE ARICA  123-2016        ORAL   \n",
       "1  TRIBUNAL DE JUICIO ORAL EN LO PENAL DE ARICA  159-2019        ORAL   \n",
       "2  TRIBUNAL DE JUICIO ORAL EN LO PENAL DE ARICA  160-2019        ORAL   \n",
       "3  TRIBUNAL DE JUICIO ORAL EN LO PENAL DE ARICA  176-2019        ORAL   \n",
       "4  TRIBUNAL DE JUICIO ORAL EN LO PENAL DE ARICA  196-2013        ORAL   \n",
       "\n",
       "  TIPO CAUSA  COD. MATERIA                                            MATERIA  \\\n",
       "0  Ordinaria           856                   APROPIACION INDEBIDA ART.470 N°1   \n",
       "1  Ordinaria          7037           TRAFICO DE PEQUEÑA  CANTIDADE  (ART. 4).   \n",
       "2  Ordinaria         10011   POSESION TENENCIA O PORTE DE MUN Y SUST QUIMICAS   \n",
       "3  Ordinaria         12051  CONTRAB. INFRAC A LA ORD. DE ADUAN ART 168. LE...   \n",
       "4  Ordinaria          7007                TRAFICO ILICITO DE DROGA  (ART. 3).   \n",
       "\n",
       "  TIPO ULT. DILIGENCIA FECHA ULT. DILIGENCIA FECHA INGRESO  \n",
       "0            AUDIENCIA            2019-10-31    2016-04-29  \n",
       "1           RESOLUCION            2019-12-31    2019-05-28  \n",
       "2           RESOLUCION            2019-11-21    2019-05-28  \n",
       "3           RESOLUCION            2019-12-31    2019-06-06  \n",
       "4           RESOLUCION            2019-09-10    2013-08-05  "
      ]
     },
     "execution_count": 5,
     "metadata": {},
     "output_type": "execute_result"
    }
   ],
   "source": [
    "df_inventario = pd.read_feather(f\"{path_interim}/Inventario_feather\")\n",
    "df_inventario.head()"
   ]
  },
  {
   "cell_type": "code",
   "execution_count": 6,
   "metadata": {},
   "outputs": [
    {
     "name": "stderr",
     "output_type": "stream",
     "text": [
      "100%|██████████| 1786310/1786310 [00:10<00:00, 176504.07it/s]\n"
     ]
    }
   ],
   "source": [
    "# Normalizo nombres\n",
    "\n",
    "df_inventario['TRIBUNAL'] = df_inventario['TRIBUNAL'].progress_apply(cleandata.cambio_nombre_juzgados)"
   ]
  },
  {
   "cell_type": "code",
   "execution_count": 7,
   "metadata": {},
   "outputs": [],
   "source": [
    "# Verifico si coinciden los nombres e imprimo los que estan en conflicto\n",
    "\n",
    "for tribunal in df_inventario['TRIBUNAL'].unique():\n",
    "    if not tribunal in tribunales:\n",
    "        print(tribunal)"
   ]
  },
  {
   "cell_type": "markdown",
   "metadata": {},
   "source": [
    "## Data relacionada a delitos"
   ]
  },
  {
   "cell_type": "code",
   "execution_count": 8,
   "metadata": {},
   "outputs": [
    {
     "data": {
      "text/html": [
       "<div>\n",
       "<style scoped>\n",
       "    .dataframe tbody tr th:only-of-type {\n",
       "        vertical-align: middle;\n",
       "    }\n",
       "\n",
       "    .dataframe tbody tr th {\n",
       "        vertical-align: top;\n",
       "    }\n",
       "\n",
       "    .dataframe thead th {\n",
       "        text-align: right;\n",
       "    }\n",
       "</style>\n",
       "<table border=\"1\" class=\"dataframe\">\n",
       "  <thead>\n",
       "    <tr style=\"text-align: right;\">\n",
       "      <th></th>\n",
       "      <th>index</th>\n",
       "      <th>COD. MATERIA</th>\n",
       "      <th>MATERIA</th>\n",
       "      <th>TIPOLOGIA MATERIA</th>\n",
       "      <th>VIGENCIA MATERIA</th>\n",
       "    </tr>\n",
       "  </thead>\n",
       "  <tbody>\n",
       "    <tr>\n",
       "      <th>0</th>\n",
       "      <td>0</td>\n",
       "      <td>101</td>\n",
       "      <td>QUEBRANTAMIENTO. ART. 90</td>\n",
       "      <td>LIBRO I  TITULO IV   QUEBRANTAMIENTO DE SENTEN...</td>\n",
       "      <td>VIGENTE</td>\n",
       "    </tr>\n",
       "    <tr>\n",
       "      <th>1</th>\n",
       "      <td>1</td>\n",
       "      <td>202</td>\n",
       "      <td>SECUESTRO. ART. 141</td>\n",
       "      <td>LIBRO II  TITULO III  CRIMENES Y SIMPLES DELIT...</td>\n",
       "      <td>VIGENTE</td>\n",
       "    </tr>\n",
       "    <tr>\n",
       "      <th>2</th>\n",
       "      <td>2</td>\n",
       "      <td>203</td>\n",
       "      <td>SUSTRACCION DE MENORES. ART. 142</td>\n",
       "      <td>LIBRO II  TITULO III  CRIMENES Y SIMPLES DELIT...</td>\n",
       "      <td>VIGENTE</td>\n",
       "    </tr>\n",
       "    <tr>\n",
       "      <th>3</th>\n",
       "      <td>3</td>\n",
       "      <td>204</td>\n",
       "      <td>VIOLACION DE MORADA. ART.144</td>\n",
       "      <td>LIBRO II  TITULO III  CRIMENES Y SIMPLES DELIT...</td>\n",
       "      <td>VIGENTE</td>\n",
       "    </tr>\n",
       "    <tr>\n",
       "      <th>4</th>\n",
       "      <td>4</td>\n",
       "      <td>205</td>\n",
       "      <td>APERTURA , REGISTRO O INTERCEPTACION DE CORRE...</td>\n",
       "      <td>LIBRO II  TITULO III  CRIMENES Y SIMPLES DELIT...</td>\n",
       "      <td>VIGENTE</td>\n",
       "    </tr>\n",
       "  </tbody>\n",
       "</table>\n",
       "</div>"
      ],
      "text/plain": [
       "   index  COD. MATERIA                                            MATERIA  \\\n",
       "0      0           101                           QUEBRANTAMIENTO. ART. 90   \n",
       "1      1           202                                SECUESTRO. ART. 141   \n",
       "2      2           203                   SUSTRACCION DE MENORES. ART. 142   \n",
       "3      3           204                       VIOLACION DE MORADA. ART.144   \n",
       "4      4           205   APERTURA , REGISTRO O INTERCEPTACION DE CORRE...   \n",
       "\n",
       "                                   TIPOLOGIA MATERIA VIGENCIA MATERIA  \n",
       "0  LIBRO I  TITULO IV   QUEBRANTAMIENTO DE SENTEN...          VIGENTE  \n",
       "1  LIBRO II  TITULO III  CRIMENES Y SIMPLES DELIT...          VIGENTE  \n",
       "2  LIBRO II  TITULO III  CRIMENES Y SIMPLES DELIT...          VIGENTE  \n",
       "3  LIBRO II  TITULO III  CRIMENES Y SIMPLES DELIT...          VIGENTE  \n",
       "4  LIBRO II  TITULO III  CRIMENES Y SIMPLES DELIT...          VIGENTE  "
      ]
     },
     "execution_count": 8,
     "metadata": {},
     "output_type": "execute_result"
    }
   ],
   "source": [
    "df_delitos = pd.read_feather(f\"{path_processed}/Delitos_feather\")\n",
    "df_delitos.head()"
   ]
  },
  {
   "cell_type": "code",
   "execution_count": 9,
   "metadata": {},
   "outputs": [
    {
     "name": "stdout",
     "output_type": "stream",
     "text": [
      "Existen 541 codigos de delitos\n"
     ]
    }
   ],
   "source": [
    "codigos_cot = df_delitos['COD. MATERIA'].unique()\n",
    "print(f\"Existen {len(codigos_cot)} codigos de delitos\")"
   ]
  },
  {
   "cell_type": "markdown",
   "metadata": {},
   "source": [
    "## Delitos en INVENTARIO"
   ]
  },
  {
   "cell_type": "code",
   "execution_count": 10,
   "metadata": {},
   "outputs": [],
   "source": [
    "codigos_delitos = df_inventario['COD. MATERIA'].unique()"
   ]
  },
  {
   "cell_type": "code",
   "execution_count": 11,
   "metadata": {},
   "outputs": [
    {
     "data": {
      "text/plain": [
       "458"
      ]
     },
     "execution_count": 11,
     "metadata": {},
     "output_type": "execute_result"
    }
   ],
   "source": [
    "len(codigos_delitos)"
   ]
  },
  {
   "cell_type": "code",
   "execution_count": 12,
   "metadata": {},
   "outputs": [],
   "source": [
    "codigos_no_encontrados = []\n",
    "for delito in codigos_delitos:\n",
    "    if not delito in codigos_cot:\n",
    "        codigos_no_encontrados.append(delito)"
   ]
  },
  {
   "cell_type": "code",
   "execution_count": 13,
   "metadata": {},
   "outputs": [
    {
     "data": {
      "text/plain": [
       "[13001, -31075, 4014, 4013, 4010, 4011, 0]"
      ]
     },
     "execution_count": 13,
     "metadata": {},
     "output_type": "execute_result"
    }
   ],
   "source": [
    "codigos_no_encontrados"
   ]
  },
  {
   "cell_type": "code",
   "execution_count": 16,
   "metadata": {},
   "outputs": [],
   "source": [
    "codigos_sin_registro = df_inventario[df_inventario['COD. MATERIA'].isin(codigos_no_encontrados)]\n",
    "\n",
    "# Analizar caso a caso:"
   ]
  },
  {
   "cell_type": "markdown",
   "metadata": {},
   "source": [
    "#### Caso Codigo 13001 -> LESIONES LEVES\n",
    "Este codigo debe tratarse como 13036 identificado como: LESIONES LEVES 494 Nº 5 CÓDIGO PENAL"
   ]
  },
  {
   "cell_type": "code",
   "execution_count": 17,
   "metadata": {},
   "outputs": [],
   "source": [
    "df_inventario['COD. MATERIA'] = df_inventario['COD. MATERIA'].replace(13001,13036)"
   ]
  },
  {
   "cell_type": "markdown",
   "metadata": {},
   "source": [
    "### Codigos 4011, 4014, 4013, 4010, -31075, 0\n",
    "codigos No vigentes, mal cargados en sistemas "
   ]
  },
  {
   "cell_type": "code",
   "execution_count": 18,
   "metadata": {},
   "outputs": [],
   "source": [
    "filtro_codigo_4011 = df_inventario[df_inventario['COD. MATERIA']==4011]\n",
    "filtro_codigo_4014 = df_inventario[df_inventario['COD. MATERIA']==4014]\n",
    "filtro_codigo_4013 = df_inventario[df_inventario['COD. MATERIA']==4013]\n",
    "filtro_codigo_4010 = df_inventario[df_inventario['COD. MATERIA']==4010]\n",
    "filtro_codigo_31075 = df_inventario[df_inventario['COD. MATERIA']==31075]\n",
    "filtro_codigo_0 = df_inventario[df_inventario['COD. MATERIA']==0]"
   ]
  },
  {
   "cell_type": "code",
   "execution_count": 19,
   "metadata": {},
   "outputs": [],
   "source": [
    "df_inventario.drop(filtro_codigo_4011.index, axis = 0, inplace = True)\n",
    "df_inventario.drop(filtro_codigo_4014.index, axis = 0, inplace = True)\n",
    "df_inventario.drop(filtro_codigo_4013.index, axis = 0, inplace = True)\n",
    "df_inventario.drop(filtro_codigo_4010.index, axis = 0, inplace = True)\n",
    "df_inventario.drop(filtro_codigo_31075.index, axis = 0, inplace = True)\n",
    "df_inventario.drop(filtro_codigo_0.index, axis = 0, inplace = True)"
   ]
  },
  {
   "cell_type": "code",
   "execution_count": 21,
   "metadata": {},
   "outputs": [],
   "source": [
    "# Directorio donde se guardaran archivos feather\n",
    "df_inventario.reset_index(inplace = True)\n",
    "os.makedirs(path_processed, exist_ok = True)  \n",
    "# Guardamos dataset como archivo feather\n",
    "df_inventario.to_feather(f'{path_processed}/Inventario_feather')"
   ]
  },
  {
   "cell_type": "code",
   "execution_count": null,
   "metadata": {},
   "outputs": [],
   "source": []
  }
 ],
 "metadata": {
  "kernelspec": {
   "display_name": "Python 3",
   "language": "python",
   "name": "python3"
  },
  "language_info": {
   "codemirror_mode": {
    "name": "ipython",
    "version": 3
   },
   "file_extension": ".py",
   "mimetype": "text/x-python",
   "name": "python",
   "nbconvert_exporter": "python",
   "pygments_lexer": "ipython3",
   "version": "3.7.6"
  }
 },
 "nbformat": 4,
 "nbformat_minor": 4
}
