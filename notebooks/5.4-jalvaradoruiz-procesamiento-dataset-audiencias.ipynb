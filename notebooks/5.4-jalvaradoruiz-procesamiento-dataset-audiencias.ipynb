{
 "cells": [
  {
   "cell_type": "code",
   "execution_count": 1,
   "metadata": {},
   "outputs": [],
   "source": [
    "import pandas as pd\n",
    "import numpy as np\n",
    "import os\n",
    "from tqdm import tqdm\n",
    "from unicodedata import normalize\n",
    "\n",
    "from src.data import cleandata"
   ]
  },
  {
   "cell_type": "code",
   "execution_count": 2,
   "metadata": {},
   "outputs": [
    {
     "name": "stderr",
     "output_type": "stream",
     "text": [
      "/Users/jalvaradoruiz/opt/anaconda3/lib/python3.7/site-packages/tqdm/std.py:658: FutureWarning: The Panel class is removed from pandas. Accessing it from the top-level namespace will also be removed in the next version\n",
      "  from pandas import Panel\n"
     ]
    }
   ],
   "source": [
    "tqdm.pandas()\n",
    "\n",
    "path_interim = \"../data/interim/pjud\"\n",
    "path_processed = \"../data/processed/pjud\""
   ]
  },
  {
   "cell_type": "markdown",
   "metadata": {},
   "source": [
    "# DATA de TRIBUNALES OBTENIDAS DEL COT"
   ]
  },
  {
   "cell_type": "code",
   "execution_count": 3,
   "metadata": {},
   "outputs": [],
   "source": [
    "# Analizo contra los datos extraidos en COT\n",
    "df_tribunales = pd.read_feather(f\"{path_processed}/ListadoTribunales_feather\")\n",
    "tribunales = df_tribunales['TRIBUNAL'].unique()"
   ]
  },
  {
   "cell_type": "markdown",
   "metadata": {},
   "source": [
    "# DATA AUDIENCIAS\n"
   ]
  },
  {
   "cell_type": "code",
   "execution_count": 4,
   "metadata": {},
   "outputs": [
    {
     "data": {
      "text/html": [
       "<div>\n",
       "<style scoped>\n",
       "    .dataframe tbody tr th:only-of-type {\n",
       "        vertical-align: middle;\n",
       "    }\n",
       "\n",
       "    .dataframe tbody tr th {\n",
       "        vertical-align: top;\n",
       "    }\n",
       "\n",
       "    .dataframe thead th {\n",
       "        text-align: right;\n",
       "    }\n",
       "</style>\n",
       "<table border=\"1\" class=\"dataframe\">\n",
       "  <thead>\n",
       "    <tr style=\"text-align: right;\">\n",
       "      <th></th>\n",
       "      <th>index</th>\n",
       "      <th>COD. CORTE</th>\n",
       "      <th>CORTE</th>\n",
       "      <th>COD. TRIBUNAL</th>\n",
       "      <th>TRIBUNAL</th>\n",
       "      <th>RIT</th>\n",
       "      <th>TIPO CAUSA</th>\n",
       "      <th>TIPO DE AUDIENCIA</th>\n",
       "      <th>FECHA PROGRAMACION AUDIENCIA</th>\n",
       "      <th>FECHA AUDIENCIA</th>\n",
       "      <th>DIAS AGENDAMIENTO</th>\n",
       "      <th>DURACION AUDIENCIA (MIN)</th>\n",
       "    </tr>\n",
       "  </thead>\n",
       "  <tbody>\n",
       "    <tr>\n",
       "      <th>0</th>\n",
       "      <td>0</td>\n",
       "      <td>10</td>\n",
       "      <td>C.A. DE ARICA</td>\n",
       "      <td>988</td>\n",
       "      <td>TRIBUNAL DE JUICIO ORAL EN LO PENAL DE ARICA</td>\n",
       "      <td>100-2018</td>\n",
       "      <td>Ordinaria</td>\n",
       "      <td>AUDIENCIA DE JUICIO ORAL TOP</td>\n",
       "      <td>2018-04-03</td>\n",
       "      <td>2018-05-28</td>\n",
       "      <td>55</td>\n",
       "      <td>164</td>\n",
       "    </tr>\n",
       "    <tr>\n",
       "      <th>1</th>\n",
       "      <td>1</td>\n",
       "      <td>10</td>\n",
       "      <td>C.A. DE ARICA</td>\n",
       "      <td>988</td>\n",
       "      <td>TRIBUNAL DE JUICIO ORAL EN LO PENAL DE ARICA</td>\n",
       "      <td>100-2018</td>\n",
       "      <td>Ordinaria</td>\n",
       "      <td>AUDIENCIA DE LECTURA DE SENTENCIA.</td>\n",
       "      <td>2018-06-01</td>\n",
       "      <td>2018-06-01</td>\n",
       "      <td>0</td>\n",
       "      <td>9</td>\n",
       "    </tr>\n",
       "    <tr>\n",
       "      <th>2</th>\n",
       "      <td>2</td>\n",
       "      <td>10</td>\n",
       "      <td>C.A. DE ARICA</td>\n",
       "      <td>988</td>\n",
       "      <td>TRIBUNAL DE JUICIO ORAL EN LO PENAL DE ARICA</td>\n",
       "      <td>100-2018</td>\n",
       "      <td>Ordinaria</td>\n",
       "      <td>AUDIENCIA DE MEDIDAS CAUTELARES.</td>\n",
       "      <td>2018-06-19</td>\n",
       "      <td>2018-06-23</td>\n",
       "      <td>4</td>\n",
       "      <td>4</td>\n",
       "    </tr>\n",
       "    <tr>\n",
       "      <th>3</th>\n",
       "      <td>3</td>\n",
       "      <td>10</td>\n",
       "      <td>C.A. DE ARICA</td>\n",
       "      <td>988</td>\n",
       "      <td>TRIBUNAL DE JUICIO ORAL EN LO PENAL DE ARICA</td>\n",
       "      <td>101-2018</td>\n",
       "      <td>Ordinaria</td>\n",
       "      <td>AUDIENCIA DE COMPARECENCIA JUDICIAL.</td>\n",
       "      <td>2018-04-03</td>\n",
       "      <td>2018-05-23</td>\n",
       "      <td>50</td>\n",
       "      <td>3</td>\n",
       "    </tr>\n",
       "    <tr>\n",
       "      <th>4</th>\n",
       "      <td>4</td>\n",
       "      <td>10</td>\n",
       "      <td>C.A. DE ARICA</td>\n",
       "      <td>988</td>\n",
       "      <td>TRIBUNAL DE JUICIO ORAL EN LO PENAL DE ARICA</td>\n",
       "      <td>101-2018</td>\n",
       "      <td>Ordinaria</td>\n",
       "      <td>AUDIENCIA PRESENTACION VOL.IMPUTADO C/ORD. DETEN.</td>\n",
       "      <td>2018-05-24</td>\n",
       "      <td>2018-05-24</td>\n",
       "      <td>0</td>\n",
       "      <td>3</td>\n",
       "    </tr>\n",
       "  </tbody>\n",
       "</table>\n",
       "</div>"
      ],
      "text/plain": [
       "   index  COD. CORTE          CORTE  COD. TRIBUNAL  \\\n",
       "0      0          10  C.A. DE ARICA            988   \n",
       "1      1          10  C.A. DE ARICA            988   \n",
       "2      2          10  C.A. DE ARICA            988   \n",
       "3      3          10  C.A. DE ARICA            988   \n",
       "4      4          10  C.A. DE ARICA            988   \n",
       "\n",
       "                                       TRIBUNAL       RIT TIPO CAUSA  \\\n",
       "0  TRIBUNAL DE JUICIO ORAL EN LO PENAL DE ARICA  100-2018  Ordinaria   \n",
       "1  TRIBUNAL DE JUICIO ORAL EN LO PENAL DE ARICA  100-2018  Ordinaria   \n",
       "2  TRIBUNAL DE JUICIO ORAL EN LO PENAL DE ARICA  100-2018  Ordinaria   \n",
       "3  TRIBUNAL DE JUICIO ORAL EN LO PENAL DE ARICA  101-2018  Ordinaria   \n",
       "4  TRIBUNAL DE JUICIO ORAL EN LO PENAL DE ARICA  101-2018  Ordinaria   \n",
       "\n",
       "                                   TIPO DE AUDIENCIA  \\\n",
       "0                       AUDIENCIA DE JUICIO ORAL TOP   \n",
       "1                 AUDIENCIA DE LECTURA DE SENTENCIA.   \n",
       "2                   AUDIENCIA DE MEDIDAS CAUTELARES.   \n",
       "3               AUDIENCIA DE COMPARECENCIA JUDICIAL.   \n",
       "4  AUDIENCIA PRESENTACION VOL.IMPUTADO C/ORD. DETEN.   \n",
       "\n",
       "  FECHA PROGRAMACION AUDIENCIA FECHA AUDIENCIA  DIAS AGENDAMIENTO  \\\n",
       "0                   2018-04-03      2018-05-28                 55   \n",
       "1                   2018-06-01      2018-06-01                  0   \n",
       "2                   2018-06-19      2018-06-23                  4   \n",
       "3                   2018-04-03      2018-05-23                 50   \n",
       "4                   2018-05-24      2018-05-24                  0   \n",
       "\n",
       "  DURACION AUDIENCIA (MIN)  \n",
       "0                      164  \n",
       "1                        9  \n",
       "2                        4  \n",
       "3                        3  \n",
       "4                        3  "
      ]
     },
     "execution_count": 4,
     "metadata": {},
     "output_type": "execute_result"
    }
   ],
   "source": [
    "df_audiencias = pd.read_feather(f\"{path_interim}/Audiencias_feather\")\n",
    "df_audiencias.head()"
   ]
  },
  {
   "cell_type": "code",
   "execution_count": 5,
   "metadata": {},
   "outputs": [
    {
     "name": "stderr",
     "output_type": "stream",
     "text": [
      "100%|██████████| 6712514/6712514 [00:37<00:00, 181399.69it/s]\n"
     ]
    }
   ],
   "source": [
    "# Normalizo nombres\n",
    "\n",
    "df_audiencias['TRIBUNAL'] = df_audiencias['TRIBUNAL'].progress_apply(cleandata.cambio_nombre_juzgados)"
   ]
  },
  {
   "cell_type": "code",
   "execution_count": 6,
   "metadata": {},
   "outputs": [],
   "source": [
    "# Verifico si coinciden los nombres e imprimo los que estan en conflicto\n",
    "\n",
    "for tribunal in df_audiencias['TRIBUNAL'].unique():\n",
    "    if not tribunal in tribunales:\n",
    "        print(tribunal)"
   ]
  },
  {
   "cell_type": "markdown",
   "metadata": {},
   "source": [
    "## CARGA DATA A ARCHIVOS FUTHER"
   ]
  },
  {
   "cell_type": "code",
   "execution_count": 7,
   "metadata": {},
   "outputs": [],
   "source": [
    "# Directorio donde se guardaran archivos feather\n",
    "\n",
    "os.makedirs(path_processed, exist_ok = True)  \n",
    "\n",
    "# Guardamos dataset como archivo feather\n",
    "df_audiencias.to_feather(f'{path_processed}/Audiencias_feather')"
   ]
  },
  {
   "cell_type": "code",
   "execution_count": null,
   "metadata": {},
   "outputs": [],
   "source": []
  }
 ],
 "metadata": {
  "kernelspec": {
   "display_name": "Python 3",
   "language": "python",
   "name": "python3"
  },
  "language_info": {
   "codemirror_mode": {
    "name": "ipython",
    "version": 3
   },
   "file_extension": ".py",
   "mimetype": "text/x-python",
   "name": "python",
   "nbconvert_exporter": "python",
   "pygments_lexer": "ipython3",
   "version": "3.7.6"
  }
 },
 "nbformat": 4,
 "nbformat_minor": 4
}
