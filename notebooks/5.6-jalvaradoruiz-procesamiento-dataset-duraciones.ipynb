{
 "cells": [
  {
   "cell_type": "markdown",
   "metadata": {},
   "source": [
    "# Generación de Data Única referente a Duraciones\n",
    "\n",
    "Transformación de algunos datos para normalizar nombres en columnas"
   ]
  },
  {
   "cell_type": "code",
   "execution_count": 1,
   "metadata": {},
   "outputs": [],
   "source": [
    "import pandas as pd\n",
    "import numpy as np\n",
    "import os\n",
    "from tqdm import tqdm\n",
    "from unicodedata import normalize\n",
    "\n",
    "from src.data import cleandata"
   ]
  },
  {
   "cell_type": "code",
   "execution_count": 2,
   "metadata": {},
   "outputs": [
    {
     "name": "stderr",
     "output_type": "stream",
     "text": [
      "/Users/jalvaradoruiz/opt/anaconda3/lib/python3.7/site-packages/tqdm/std.py:658: FutureWarning: The Panel class is removed from pandas. Accessing it from the top-level namespace will also be removed in the next version\n",
      "  from pandas import Panel\n"
     ]
    }
   ],
   "source": [
    "tqdm.pandas()\n",
    "\n",
    "path_interim = \"../data/interim/pjud\"\n",
    "path_processed = \"../data/processed/pjud\""
   ]
  },
  {
   "cell_type": "markdown",
   "metadata": {},
   "source": [
    "# DATA de TRIBUNALES OBTENIDAS DEL COT"
   ]
  },
  {
   "cell_type": "code",
   "execution_count": 3,
   "metadata": {},
   "outputs": [],
   "source": [
    "# Analizo contra los datos extraidos en COT\n",
    "df_tribunales = pd.read_feather(f\"{path_processed}/processes_ListadoTribunales.feather\")\n",
    "tribunales = df_tribunales['TRIBUNAL'].unique()"
   ]
  },
  {
   "cell_type": "markdown",
   "metadata": {},
   "source": [
    "# DATA DURACION\n"
   ]
  },
  {
   "cell_type": "code",
   "execution_count": 4,
   "metadata": {},
   "outputs": [
    {
     "data": {
      "text/html": [
       "<div>\n",
       "<style scoped>\n",
       "    .dataframe tbody tr th:only-of-type {\n",
       "        vertical-align: middle;\n",
       "    }\n",
       "\n",
       "    .dataframe tbody tr th {\n",
       "        vertical-align: top;\n",
       "    }\n",
       "\n",
       "    .dataframe thead th {\n",
       "        text-align: right;\n",
       "    }\n",
       "</style>\n",
       "<table border=\"1\" class=\"dataframe\">\n",
       "  <thead>\n",
       "    <tr style=\"text-align: right;\">\n",
       "      <th></th>\n",
       "      <th>level_0</th>\n",
       "      <th>index</th>\n",
       "      <th>COD. CORTE</th>\n",
       "      <th>CORTE</th>\n",
       "      <th>COD. TRIBUNAL</th>\n",
       "      <th>TRIBUNAL</th>\n",
       "      <th>RIT</th>\n",
       "      <th>TIPO CAUSA</th>\n",
       "      <th>FECHA INGRESO</th>\n",
       "      <th>FECHA TERMINO</th>\n",
       "      <th>DURACIÓN CAUSA</th>\n",
       "      <th>MOTIVO TERMINO</th>\n",
       "      <th>MES TERMINO</th>\n",
       "      <th>AÑO TERMINO</th>\n",
       "      <th>TOTAL TERMINOS</th>\n",
       "    </tr>\n",
       "  </thead>\n",
       "  <tbody>\n",
       "    <tr>\n",
       "      <th>1076293</th>\n",
       "      <td>1076405</td>\n",
       "      <td>401124</td>\n",
       "      <td>56</td>\n",
       "      <td>C.A. DE PUERTO MONTT</td>\n",
       "      <td>662</td>\n",
       "      <td>JUZGADO DE LETRAS Y GARANTIA DE QUELLON</td>\n",
       "      <td>684-2018</td>\n",
       "      <td>Ordinaria</td>\n",
       "      <td>1900-01-01</td>\n",
       "      <td>2018-08-21</td>\n",
       "      <td>43331</td>\n",
       "      <td>SENTENCIA</td>\n",
       "      <td>ago-18</td>\n",
       "      <td>2018</td>\n",
       "      <td>1</td>\n",
       "    </tr>\n",
       "    <tr>\n",
       "      <th>1013095</th>\n",
       "      <td>1013202</td>\n",
       "      <td>337911</td>\n",
       "      <td>50</td>\n",
       "      <td>C.A. DE TEMUCO</td>\n",
       "      <td>214</td>\n",
       "      <td>JUZGADO DE LETRAS Y GARANTIA DE PUCON</td>\n",
       "      <td>1059-2017</td>\n",
       "      <td>Ordinaria</td>\n",
       "      <td>1900-01-01</td>\n",
       "      <td>2018-10-01</td>\n",
       "      <td>43372</td>\n",
       "      <td>DECLARA SOBRESEIMIENTO DEFINITIVO.</td>\n",
       "      <td>oct-18</td>\n",
       "      <td>2018</td>\n",
       "      <td>1</td>\n",
       "    </tr>\n",
       "    <tr>\n",
       "      <th>975151</th>\n",
       "      <td>975257</td>\n",
       "      <td>299951</td>\n",
       "      <td>46</td>\n",
       "      <td>C.A. DE CONCEPCION</td>\n",
       "      <td>1080</td>\n",
       "      <td>JUZGADO DE GARANTIA DE TALCAHUANO</td>\n",
       "      <td>2398-2017</td>\n",
       "      <td>Ordinaria</td>\n",
       "      <td>1900-01-01</td>\n",
       "      <td>2018-05-31</td>\n",
       "      <td>43249</td>\n",
       "      <td>DECLARA SOBRESEIMIENTO DEFINITIVO.</td>\n",
       "      <td>may-18</td>\n",
       "      <td>2018</td>\n",
       "      <td>1</td>\n",
       "    </tr>\n",
       "    <tr>\n",
       "      <th>2767837</th>\n",
       "      <td>2768176</td>\n",
       "      <td>91242</td>\n",
       "      <td>25</td>\n",
       "      <td>C.A. DE LA SERENA</td>\n",
       "      <td>932</td>\n",
       "      <td>JUZGADO DE GARANTIA DE OVALLE</td>\n",
       "      <td>1-2000</td>\n",
       "      <td>Ordinaria</td>\n",
       "      <td>2000-12-20</td>\n",
       "      <td>2015-06-02</td>\n",
       "      <td>5277</td>\n",
       "      <td>CERTIFICA CUMPLIMIENTO ART. 468.</td>\n",
       "      <td>jun-15</td>\n",
       "      <td>2015</td>\n",
       "      <td>1</td>\n",
       "    </tr>\n",
       "    <tr>\n",
       "      <th>2770323</th>\n",
       "      <td>2770662</td>\n",
       "      <td>93728</td>\n",
       "      <td>25</td>\n",
       "      <td>C.A. DE LA SERENA</td>\n",
       "      <td>932</td>\n",
       "      <td>JUZGADO DE GARANTIA DE OVALLE</td>\n",
       "      <td>3-2000</td>\n",
       "      <td>Ordinaria</td>\n",
       "      <td>2000-12-21</td>\n",
       "      <td>2015-06-02</td>\n",
       "      <td>5276</td>\n",
       "      <td>NO PERSEVERAR EN EL PROCEDIMIENTO.</td>\n",
       "      <td>jun-15</td>\n",
       "      <td>2015</td>\n",
       "      <td>1</td>\n",
       "    </tr>\n",
       "    <tr>\n",
       "      <th>...</th>\n",
       "      <td>...</td>\n",
       "      <td>...</td>\n",
       "      <td>...</td>\n",
       "      <td>...</td>\n",
       "      <td>...</td>\n",
       "      <td>...</td>\n",
       "      <td>...</td>\n",
       "      <td>...</td>\n",
       "      <td>...</td>\n",
       "      <td>...</td>\n",
       "      <td>...</td>\n",
       "      <td>...</td>\n",
       "      <td>...</td>\n",
       "      <td>...</td>\n",
       "      <td>...</td>\n",
       "    </tr>\n",
       "    <tr>\n",
       "      <th>649335</th>\n",
       "      <td>649398</td>\n",
       "      <td>649466</td>\n",
       "      <td>91</td>\n",
       "      <td>C.A. DE SAN MIGUEL</td>\n",
       "      <td>1237</td>\n",
       "      <td>JUZGADO DE GARANTIA DE SAN BERNARDO</td>\n",
       "      <td>15092-2019</td>\n",
       "      <td>Ordinaria</td>\n",
       "      <td>2019-12-31</td>\n",
       "      <td>2019-12-31</td>\n",
       "      <td>0</td>\n",
       "      <td>APROBACION NO INICIO INVESTIGACION.</td>\n",
       "      <td>dic-19</td>\n",
       "      <td>2019</td>\n",
       "      <td>1</td>\n",
       "    </tr>\n",
       "    <tr>\n",
       "      <th>649334</th>\n",
       "      <td>649397</td>\n",
       "      <td>649465</td>\n",
       "      <td>91</td>\n",
       "      <td>C.A. DE SAN MIGUEL</td>\n",
       "      <td>1237</td>\n",
       "      <td>JUZGADO DE GARANTIA DE SAN BERNARDO</td>\n",
       "      <td>15091-2019</td>\n",
       "      <td>Ordinaria</td>\n",
       "      <td>2019-12-31</td>\n",
       "      <td>2019-12-31</td>\n",
       "      <td>0</td>\n",
       "      <td>APROBACION NO INICIO INVESTIGACION.</td>\n",
       "      <td>dic-19</td>\n",
       "      <td>2019</td>\n",
       "      <td>1</td>\n",
       "    </tr>\n",
       "    <tr>\n",
       "      <th>552119</th>\n",
       "      <td>552162</td>\n",
       "      <td>552230</td>\n",
       "      <td>90</td>\n",
       "      <td>C.A. DE SANTIAGO</td>\n",
       "      <td>1228</td>\n",
       "      <td>9º JUZGADO DE GARANTIA DE SANTIAGO</td>\n",
       "      <td>13267-2019</td>\n",
       "      <td>Ordinaria</td>\n",
       "      <td>2019-12-31</td>\n",
       "      <td>2019-12-31</td>\n",
       "      <td>0</td>\n",
       "      <td>APROBACION NO INICIO INVESTIGACION.</td>\n",
       "      <td>dic-19</td>\n",
       "      <td>2019</td>\n",
       "      <td>1</td>\n",
       "    </tr>\n",
       "    <tr>\n",
       "      <th>526568</th>\n",
       "      <td>526604</td>\n",
       "      <td>526672</td>\n",
       "      <td>90</td>\n",
       "      <td>C.A. DE SANTIAGO</td>\n",
       "      <td>1226</td>\n",
       "      <td>7º JUZGADO DE GARANTIA DE SANTIAGO</td>\n",
       "      <td>22351-2019</td>\n",
       "      <td>Ordinaria</td>\n",
       "      <td>2019-12-31</td>\n",
       "      <td>2019-12-31</td>\n",
       "      <td>0</td>\n",
       "      <td>COMUNICA Y/O APLICA DECISION PPIO. DE OPORTUNI...</td>\n",
       "      <td>dic-19</td>\n",
       "      <td>2019</td>\n",
       "      <td>1</td>\n",
       "    </tr>\n",
       "    <tr>\n",
       "      <th>396422</th>\n",
       "      <td>396446</td>\n",
       "      <td>396505</td>\n",
       "      <td>55</td>\n",
       "      <td>C.A. DE VALDIVIA</td>\n",
       "      <td>1084</td>\n",
       "      <td>JUZGADO DE GARANTIA DE VALDIVIA</td>\n",
       "      <td>8768-2019</td>\n",
       "      <td>Ordinaria</td>\n",
       "      <td>2019-12-31</td>\n",
       "      <td>2019-12-31</td>\n",
       "      <td>0</td>\n",
       "      <td>COMUNICA Y/O APLICA DECISION PPIO. DE OPORTUNI...</td>\n",
       "      <td>dic-19</td>\n",
       "      <td>2019</td>\n",
       "      <td>1</td>\n",
       "    </tr>\n",
       "  </tbody>\n",
       "</table>\n",
       "<p>3356410 rows × 15 columns</p>\n",
       "</div>"
      ],
      "text/plain": [
       "         level_0   index  COD. CORTE                 CORTE  COD. TRIBUNAL  \\\n",
       "1076293  1076405  401124          56  C.A. DE PUERTO MONTT            662   \n",
       "1013095  1013202  337911          50        C.A. DE TEMUCO            214   \n",
       "975151    975257  299951          46    C.A. DE CONCEPCION           1080   \n",
       "2767837  2768176   91242          25     C.A. DE LA SERENA            932   \n",
       "2770323  2770662   93728          25     C.A. DE LA SERENA            932   \n",
       "...          ...     ...         ...                   ...            ...   \n",
       "649335    649398  649466          91    C.A. DE SAN MIGUEL           1237   \n",
       "649334    649397  649465          91    C.A. DE SAN MIGUEL           1237   \n",
       "552119    552162  552230          90      C.A. DE SANTIAGO           1228   \n",
       "526568    526604  526672          90      C.A. DE SANTIAGO           1226   \n",
       "396422    396446  396505          55      C.A. DE VALDIVIA           1084   \n",
       "\n",
       "                                        TRIBUNAL         RIT TIPO CAUSA  \\\n",
       "1076293  JUZGADO DE LETRAS Y GARANTIA DE QUELLON    684-2018  Ordinaria   \n",
       "1013095    JUZGADO DE LETRAS Y GARANTIA DE PUCON   1059-2017  Ordinaria   \n",
       "975151         JUZGADO DE GARANTIA DE TALCAHUANO   2398-2017  Ordinaria   \n",
       "2767837            JUZGADO DE GARANTIA DE OVALLE      1-2000  Ordinaria   \n",
       "2770323            JUZGADO DE GARANTIA DE OVALLE      3-2000  Ordinaria   \n",
       "...                                          ...         ...        ...   \n",
       "649335       JUZGADO DE GARANTIA DE SAN BERNARDO  15092-2019  Ordinaria   \n",
       "649334       JUZGADO DE GARANTIA DE SAN BERNARDO  15091-2019  Ordinaria   \n",
       "552119        9º JUZGADO DE GARANTIA DE SANTIAGO  13267-2019  Ordinaria   \n",
       "526568        7º JUZGADO DE GARANTIA DE SANTIAGO  22351-2019  Ordinaria   \n",
       "396422           JUZGADO DE GARANTIA DE VALDIVIA   8768-2019  Ordinaria   \n",
       "\n",
       "        FECHA INGRESO FECHA TERMINO DURACIÓN CAUSA  \\\n",
       "1076293    1900-01-01    2018-08-21          43331   \n",
       "1013095    1900-01-01    2018-10-01          43372   \n",
       "975151     1900-01-01    2018-05-31          43249   \n",
       "2767837    2000-12-20    2015-06-02           5277   \n",
       "2770323    2000-12-21    2015-06-02           5276   \n",
       "...               ...           ...            ...   \n",
       "649335     2019-12-31    2019-12-31              0   \n",
       "649334     2019-12-31    2019-12-31              0   \n",
       "552119     2019-12-31    2019-12-31              0   \n",
       "526568     2019-12-31    2019-12-31              0   \n",
       "396422     2019-12-31    2019-12-31              0   \n",
       "\n",
       "                                            MOTIVO TERMINO MES TERMINO  \\\n",
       "1076293                                          SENTENCIA      ago-18   \n",
       "1013095                 DECLARA SOBRESEIMIENTO DEFINITIVO.      oct-18   \n",
       "975151                  DECLARA SOBRESEIMIENTO DEFINITIVO.      may-18   \n",
       "2767837                   CERTIFICA CUMPLIMIENTO ART. 468.      jun-15   \n",
       "2770323                 NO PERSEVERAR EN EL PROCEDIMIENTO.      jun-15   \n",
       "...                                                    ...         ...   \n",
       "649335                 APROBACION NO INICIO INVESTIGACION.      dic-19   \n",
       "649334                 APROBACION NO INICIO INVESTIGACION.      dic-19   \n",
       "552119                 APROBACION NO INICIO INVESTIGACION.      dic-19   \n",
       "526568   COMUNICA Y/O APLICA DECISION PPIO. DE OPORTUNI...      dic-19   \n",
       "396422   COMUNICA Y/O APLICA DECISION PPIO. DE OPORTUNI...      dic-19   \n",
       "\n",
       "         AÑO TERMINO  TOTAL TERMINOS  \n",
       "1076293         2018               1  \n",
       "1013095         2018               1  \n",
       "975151          2018               1  \n",
       "2767837         2015               1  \n",
       "2770323         2015               1  \n",
       "...              ...             ...  \n",
       "649335          2019               1  \n",
       "649334          2019               1  \n",
       "552119          2019               1  \n",
       "526568          2019               1  \n",
       "396422          2019               1  \n",
       "\n",
       "[3356410 rows x 15 columns]"
      ]
     },
     "execution_count": 4,
     "metadata": {},
     "output_type": "execute_result"
    }
   ],
   "source": [
    "df_duracion = pd.read_feather(f\"{path_interim}/clean_Duraciones.feather\")\n",
    "df_duracion.sort_values('FECHA INGRESO')"
   ]
  },
  {
   "cell_type": "code",
   "execution_count": 5,
   "metadata": {},
   "outputs": [
    {
     "name": "stdout",
     "output_type": "stream",
     "text": [
      "Existen 410874 causas ingresadas antes del 01-01-2015\n"
     ]
    }
   ],
   "source": [
    "filtro_fecha = df_duracion[df_duracion['FECHA INGRESO']<='2014-12-31']\n",
    "print(f\"Existen {len(filtro_fecha)} causas ingresadas antes del 01-01-2015\")"
   ]
  },
  {
   "cell_type": "code",
   "execution_count": 6,
   "metadata": {},
   "outputs": [],
   "source": [
    "df_duracion.drop(filtro_fecha.index, axis=0, inplace=True)"
   ]
  },
  {
   "cell_type": "code",
   "execution_count": 7,
   "metadata": {},
   "outputs": [
    {
     "name": "stdout",
     "output_type": "stream",
     "text": [
      "Existen 0 causas sin fecha de ingresos\n"
     ]
    }
   ],
   "source": [
    "filtro_null = df_duracion[df_duracion['FECHA INGRESO'].isnull()]\n",
    "print(f\"Existen {len(filtro_null)} causas sin fecha de ingresos\")"
   ]
  },
  {
   "cell_type": "code",
   "execution_count": 8,
   "metadata": {},
   "outputs": [],
   "source": [
    "df_duracion.drop(filtro_null.index, axis=0, inplace=True)"
   ]
  },
  {
   "cell_type": "code",
   "execution_count": 9,
   "metadata": {},
   "outputs": [
    {
     "name": "stderr",
     "output_type": "stream",
     "text": [
      "100%|██████████| 2945536/2945536 [00:16<00:00, 175322.84it/s]\n"
     ]
    }
   ],
   "source": [
    "# Normalizo nombres\n",
    "\n",
    "df_duracion['TRIBUNAL'] = df_duracion['TRIBUNAL'].progress_apply(cleandata.cambio_nombre_juzgados)"
   ]
  },
  {
   "cell_type": "code",
   "execution_count": 10,
   "metadata": {},
   "outputs": [],
   "source": [
    "# Verifico si coinciden los nombres e imprimo los que estan en conflicto\n",
    "\n",
    "for tribunal in df_duracion['TRIBUNAL'].unique():\n",
    "    if not tribunal in tribunales:\n",
    "        print(tribunal)"
   ]
  },
  {
   "cell_type": "markdown",
   "metadata": {},
   "source": [
    "## CARGA DATA A ARCHIVOS FUTHER"
   ]
  },
  {
   "cell_type": "code",
   "execution_count": 12,
   "metadata": {},
   "outputs": [],
   "source": [
    "# Directorio donde se guardaran archivos feather\n",
    "df_duracion.reset_index(inplace=True, drop=True)\n",
    "os.makedirs(path_processed, exist_ok = True)  \n",
    "# Guardamos dataset como archivo feather\n",
    "df_duracion.to_feather(f'{path_processed}/processes_Duraciones.feather')"
   ]
  },
  {
   "cell_type": "code",
   "execution_count": null,
   "metadata": {},
   "outputs": [],
   "source": []
  }
 ],
 "metadata": {
  "kernelspec": {
   "display_name": "Python 3",
   "language": "python",
   "name": "python3"
  },
  "language_info": {
   "codemirror_mode": {
    "name": "ipython",
    "version": 3
   },
   "file_extension": ".py",
   "mimetype": "text/x-python",
   "name": "python",
   "nbconvert_exporter": "python",
   "pygments_lexer": "ipython3",
   "version": "3.7.6"
  }
 },
 "nbformat": 4,
 "nbformat_minor": 4
}
