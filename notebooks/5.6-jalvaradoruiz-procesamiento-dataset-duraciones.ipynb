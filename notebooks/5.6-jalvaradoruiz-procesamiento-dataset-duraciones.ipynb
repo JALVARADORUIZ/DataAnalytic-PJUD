{
 "cells": [
  {
   "cell_type": "markdown",
   "metadata": {},
   "source": [
    "# Generación de Data Única referente a Duraciones\n",
    "\n",
    "Transformación de algunos datos para normalizar nombres en columnas"
   ]
  },
  {
   "cell_type": "code",
   "execution_count": 1,
   "metadata": {},
   "outputs": [],
   "source": [
    "import pandas as pd\n",
    "import numpy as np\n",
    "import os\n",
    "from tqdm import tqdm\n",
    "from unicodedata import normalize\n",
    "\n",
    "from pjud.data import cleandata"
   ]
  },
  {
   "cell_type": "code",
   "execution_count": 2,
   "metadata": {},
   "outputs": [
    {
     "name": "stderr",
     "output_type": "stream",
     "text": [
      "/Users/jalvaradoruiz/opt/anaconda3/envs/py39/lib/python3.9/site-packages/tqdm/std.py:699: FutureWarning: The Panel class is removed from pandas. Accessing it from the top-level namespace will also be removed in the next version\n",
      "  from pandas import Panel\n"
     ]
    }
   ],
   "source": [
    "tqdm.pandas()\n",
    "\n",
    "path_interim = \"../data/interim/pjud\"\n",
    "path_processed = \"../data/processed/pjud\""
   ]
  },
  {
   "cell_type": "markdown",
   "metadata": {},
   "source": [
    "# DATA de TRIBUNALES OBTENIDAS DEL COT"
   ]
  },
  {
   "cell_type": "code",
   "execution_count": 4,
   "metadata": {},
   "outputs": [],
   "source": [
    "# Analizo contra los datos extraidos en COT\n",
    "df_tribunales = pd.read_feather(f\"{path_processed}/generates_ListadoTribunales.feather\")\n",
    "tribunales = df_tribunales['TRIBUNAL'].unique()"
   ]
  },
  {
   "cell_type": "markdown",
   "metadata": {},
   "source": [
    "# DATA DURACION\n"
   ]
  },
  {
   "cell_type": "code",
   "execution_count": 5,
   "metadata": {},
   "outputs": [
    {
     "data": {
      "text/html": [
       "<div>\n",
       "<style scoped>\n",
       "    .dataframe tbody tr th:only-of-type {\n",
       "        vertical-align: middle;\n",
       "    }\n",
       "\n",
       "    .dataframe tbody tr th {\n",
       "        vertical-align: top;\n",
       "    }\n",
       "\n",
       "    .dataframe thead th {\n",
       "        text-align: right;\n",
       "    }\n",
       "</style>\n",
       "<table border=\"1\" class=\"dataframe\">\n",
       "  <thead>\n",
       "    <tr style=\"text-align: right;\">\n",
       "      <th></th>\n",
       "      <th>index</th>\n",
       "      <th>COD. CORTE</th>\n",
       "      <th>CORTE</th>\n",
       "      <th>COD. TRIBUNAL</th>\n",
       "      <th>TRIBUNAL</th>\n",
       "      <th>RIT</th>\n",
       "      <th>TIPO CAUSA</th>\n",
       "      <th>FECHA INGRESO</th>\n",
       "      <th>FECHA TERMINO</th>\n",
       "      <th>DURACIÓN CAUSA</th>\n",
       "      <th>MOTIVO TERMINO</th>\n",
       "      <th>MES TERMINO</th>\n",
       "      <th>AÑO TERMINO</th>\n",
       "      <th>TOTAL TERMINOS</th>\n",
       "    </tr>\n",
       "  </thead>\n",
       "  <tbody>\n",
       "    <tr>\n",
       "      <th>974678</th>\n",
       "      <td>299951</td>\n",
       "      <td>46</td>\n",
       "      <td>C.A. DE CONCEPCION</td>\n",
       "      <td>1080</td>\n",
       "      <td>JUZGADO DE GARANTIA DE TALCAHUANO</td>\n",
       "      <td>2398-2017</td>\n",
       "      <td>Ordinaria</td>\n",
       "      <td>1900-01-01</td>\n",
       "      <td>2018-05-31</td>\n",
       "      <td>43249</td>\n",
       "      <td>DECLARA SOBRESEIMIENTO DEFINITIVO.</td>\n",
       "      <td>may-18</td>\n",
       "      <td>2018</td>\n",
       "      <td>1</td>\n",
       "    </tr>\n",
       "    <tr>\n",
       "      <th>1075778</th>\n",
       "      <td>401124</td>\n",
       "      <td>56</td>\n",
       "      <td>C.A. DE PUERTO MONTT</td>\n",
       "      <td>662</td>\n",
       "      <td>JUZGADO DE LETRAS Y GARANTIA DE QUELLON</td>\n",
       "      <td>684-2018</td>\n",
       "      <td>Ordinaria</td>\n",
       "      <td>1900-01-01</td>\n",
       "      <td>2018-08-21</td>\n",
       "      <td>43331</td>\n",
       "      <td>SENTENCIA</td>\n",
       "      <td>ago-18</td>\n",
       "      <td>2018</td>\n",
       "      <td>1</td>\n",
       "    </tr>\n",
       "    <tr>\n",
       "      <th>1012613</th>\n",
       "      <td>337911</td>\n",
       "      <td>50</td>\n",
       "      <td>C.A. DE TEMUCO</td>\n",
       "      <td>214</td>\n",
       "      <td>JUZGADO DE LETRAS Y GARANTIA DE PUCON</td>\n",
       "      <td>1059-2017</td>\n",
       "      <td>Ordinaria</td>\n",
       "      <td>1900-01-01</td>\n",
       "      <td>2018-10-01</td>\n",
       "      <td>43372</td>\n",
       "      <td>DECLARA SOBRESEIMIENTO DEFINITIVO.</td>\n",
       "      <td>oct-18</td>\n",
       "      <td>2018</td>\n",
       "      <td>1</td>\n",
       "    </tr>\n",
       "    <tr>\n",
       "      <th>2766444</th>\n",
       "      <td>91242</td>\n",
       "      <td>25</td>\n",
       "      <td>C.A. DE LA SERENA</td>\n",
       "      <td>932</td>\n",
       "      <td>JUZGADO DE GARANTIA DE OVALLE</td>\n",
       "      <td>1-2000</td>\n",
       "      <td>Ordinaria</td>\n",
       "      <td>2000-12-20</td>\n",
       "      <td>2015-06-02</td>\n",
       "      <td>5277</td>\n",
       "      <td>CERTIFICA CUMPLIMIENTO ART. 468.</td>\n",
       "      <td>jun-15</td>\n",
       "      <td>2015</td>\n",
       "      <td>1</td>\n",
       "    </tr>\n",
       "    <tr>\n",
       "      <th>2768930</th>\n",
       "      <td>93728</td>\n",
       "      <td>25</td>\n",
       "      <td>C.A. DE LA SERENA</td>\n",
       "      <td>932</td>\n",
       "      <td>JUZGADO DE GARANTIA DE OVALLE</td>\n",
       "      <td>3-2000</td>\n",
       "      <td>Ordinaria</td>\n",
       "      <td>2000-12-21</td>\n",
       "      <td>2015-06-02</td>\n",
       "      <td>5276</td>\n",
       "      <td>NO PERSEVERAR EN EL PROCEDIMIENTO.</td>\n",
       "      <td>jun-15</td>\n",
       "      <td>2015</td>\n",
       "      <td>1</td>\n",
       "    </tr>\n",
       "    <tr>\n",
       "      <th>...</th>\n",
       "      <td>...</td>\n",
       "      <td>...</td>\n",
       "      <td>...</td>\n",
       "      <td>...</td>\n",
       "      <td>...</td>\n",
       "      <td>...</td>\n",
       "      <td>...</td>\n",
       "      <td>...</td>\n",
       "      <td>...</td>\n",
       "      <td>...</td>\n",
       "      <td>...</td>\n",
       "      <td>...</td>\n",
       "      <td>...</td>\n",
       "      <td>...</td>\n",
       "    </tr>\n",
       "    <tr>\n",
       "      <th>399265</th>\n",
       "      <td>399530</td>\n",
       "      <td>55</td>\n",
       "      <td>C.A. DE VALDIVIA</td>\n",
       "      <td>1086</td>\n",
       "      <td>JUZGADO DE GARANTIA DE LOS LAGOS</td>\n",
       "      <td>1756-2019</td>\n",
       "      <td>Ordinaria</td>\n",
       "      <td>2019-12-31</td>\n",
       "      <td>2019-12-31</td>\n",
       "      <td>0</td>\n",
       "      <td>ACOGE REQUERIMIENTO (MONITORIO).</td>\n",
       "      <td>dic-19</td>\n",
       "      <td>2019</td>\n",
       "      <td>1</td>\n",
       "    </tr>\n",
       "    <tr>\n",
       "      <th>399264</th>\n",
       "      <td>399529</td>\n",
       "      <td>55</td>\n",
       "      <td>C.A. DE VALDIVIA</td>\n",
       "      <td>1086</td>\n",
       "      <td>JUZGADO DE GARANTIA DE LOS LAGOS</td>\n",
       "      <td>1753-2019</td>\n",
       "      <td>Ordinaria</td>\n",
       "      <td>2019-12-31</td>\n",
       "      <td>2019-12-31</td>\n",
       "      <td>0</td>\n",
       "      <td>APROBACION NO INICIO INVESTIGACION.</td>\n",
       "      <td>dic-19</td>\n",
       "      <td>2019</td>\n",
       "      <td>1</td>\n",
       "    </tr>\n",
       "    <tr>\n",
       "      <th>600818</th>\n",
       "      <td>601268</td>\n",
       "      <td>91</td>\n",
       "      <td>C.A. DE SAN MIGUEL</td>\n",
       "      <td>1230</td>\n",
       "      <td>11º JUZGADO DE GARANTIA DE SANTIAGO</td>\n",
       "      <td>10306-2019</td>\n",
       "      <td>Ordinaria</td>\n",
       "      <td>2019-12-31</td>\n",
       "      <td>2019-12-31</td>\n",
       "      <td>0</td>\n",
       "      <td>COMUNICA Y/O APLICA DECISION PPIO. DE OPORTUNI...</td>\n",
       "      <td>dic-19</td>\n",
       "      <td>2019</td>\n",
       "      <td>1</td>\n",
       "    </tr>\n",
       "    <tr>\n",
       "      <th>399270</th>\n",
       "      <td>399535</td>\n",
       "      <td>55</td>\n",
       "      <td>C.A. DE VALDIVIA</td>\n",
       "      <td>1086</td>\n",
       "      <td>JUZGADO DE GARANTIA DE LOS LAGOS</td>\n",
       "      <td>1761-2019</td>\n",
       "      <td>Ordinaria</td>\n",
       "      <td>2019-12-31</td>\n",
       "      <td>2019-12-31</td>\n",
       "      <td>0</td>\n",
       "      <td>APROBACION NO INICIO INVESTIGACION.</td>\n",
       "      <td>dic-19</td>\n",
       "      <td>2019</td>\n",
       "      <td>1</td>\n",
       "    </tr>\n",
       "    <tr>\n",
       "      <th>634136</th>\n",
       "      <td>634606</td>\n",
       "      <td>91</td>\n",
       "      <td>C.A. DE SAN MIGUEL</td>\n",
       "      <td>1236</td>\n",
       "      <td>JUZGADO DE GARANTIA DE PUENTE ALTO</td>\n",
       "      <td>17243-2019</td>\n",
       "      <td>Ordinaria</td>\n",
       "      <td>2019-12-31</td>\n",
       "      <td>2019-12-31</td>\n",
       "      <td>0</td>\n",
       "      <td>APROBACION NO INICIO INVESTIGACION.</td>\n",
       "      <td>dic-19</td>\n",
       "      <td>2019</td>\n",
       "      <td>1</td>\n",
       "    </tr>\n",
       "  </tbody>\n",
       "</table>\n",
       "<p>3354732 rows × 14 columns</p>\n",
       "</div>"
      ],
      "text/plain": [
       "          index  COD. CORTE                 CORTE  COD. TRIBUNAL  \\\n",
       "974678   299951          46    C.A. DE CONCEPCION           1080   \n",
       "1075778  401124          56  C.A. DE PUERTO MONTT            662   \n",
       "1012613  337911          50        C.A. DE TEMUCO            214   \n",
       "2766444   91242          25     C.A. DE LA SERENA            932   \n",
       "2768930   93728          25     C.A. DE LA SERENA            932   \n",
       "...         ...         ...                   ...            ...   \n",
       "399265   399530          55      C.A. DE VALDIVIA           1086   \n",
       "399264   399529          55      C.A. DE VALDIVIA           1086   \n",
       "600818   601268          91    C.A. DE SAN MIGUEL           1230   \n",
       "399270   399535          55      C.A. DE VALDIVIA           1086   \n",
       "634136   634606          91    C.A. DE SAN MIGUEL           1236   \n",
       "\n",
       "                                        TRIBUNAL         RIT TIPO CAUSA  \\\n",
       "974678         JUZGADO DE GARANTIA DE TALCAHUANO   2398-2017  Ordinaria   \n",
       "1075778  JUZGADO DE LETRAS Y GARANTIA DE QUELLON    684-2018  Ordinaria   \n",
       "1012613    JUZGADO DE LETRAS Y GARANTIA DE PUCON   1059-2017  Ordinaria   \n",
       "2766444            JUZGADO DE GARANTIA DE OVALLE      1-2000  Ordinaria   \n",
       "2768930            JUZGADO DE GARANTIA DE OVALLE      3-2000  Ordinaria   \n",
       "...                                          ...         ...        ...   \n",
       "399265          JUZGADO DE GARANTIA DE LOS LAGOS   1756-2019  Ordinaria   \n",
       "399264          JUZGADO DE GARANTIA DE LOS LAGOS   1753-2019  Ordinaria   \n",
       "600818       11º JUZGADO DE GARANTIA DE SANTIAGO  10306-2019  Ordinaria   \n",
       "399270          JUZGADO DE GARANTIA DE LOS LAGOS   1761-2019  Ordinaria   \n",
       "634136        JUZGADO DE GARANTIA DE PUENTE ALTO  17243-2019  Ordinaria   \n",
       "\n",
       "        FECHA INGRESO FECHA TERMINO DURACIÓN CAUSA  \\\n",
       "974678     1900-01-01    2018-05-31          43249   \n",
       "1075778    1900-01-01    2018-08-21          43331   \n",
       "1012613    1900-01-01    2018-10-01          43372   \n",
       "2766444    2000-12-20    2015-06-02           5277   \n",
       "2768930    2000-12-21    2015-06-02           5276   \n",
       "...               ...           ...            ...   \n",
       "399265     2019-12-31    2019-12-31              0   \n",
       "399264     2019-12-31    2019-12-31              0   \n",
       "600818     2019-12-31    2019-12-31              0   \n",
       "399270     2019-12-31    2019-12-31              0   \n",
       "634136     2019-12-31    2019-12-31              0   \n",
       "\n",
       "                                            MOTIVO TERMINO MES TERMINO  \\\n",
       "974678                  DECLARA SOBRESEIMIENTO DEFINITIVO.      may-18   \n",
       "1075778                                          SENTENCIA      ago-18   \n",
       "1012613                 DECLARA SOBRESEIMIENTO DEFINITIVO.      oct-18   \n",
       "2766444                   CERTIFICA CUMPLIMIENTO ART. 468.      jun-15   \n",
       "2768930                 NO PERSEVERAR EN EL PROCEDIMIENTO.      jun-15   \n",
       "...                                                    ...         ...   \n",
       "399265                    ACOGE REQUERIMIENTO (MONITORIO).      dic-19   \n",
       "399264                 APROBACION NO INICIO INVESTIGACION.      dic-19   \n",
       "600818   COMUNICA Y/O APLICA DECISION PPIO. DE OPORTUNI...      dic-19   \n",
       "399270                 APROBACION NO INICIO INVESTIGACION.      dic-19   \n",
       "634136                 APROBACION NO INICIO INVESTIGACION.      dic-19   \n",
       "\n",
       "         AÑO TERMINO  TOTAL TERMINOS  \n",
       "974678          2018               1  \n",
       "1075778         2018               1  \n",
       "1012613         2018               1  \n",
       "2766444         2015               1  \n",
       "2768930         2015               1  \n",
       "...              ...             ...  \n",
       "399265          2019               1  \n",
       "399264          2019               1  \n",
       "600818          2019               1  \n",
       "399270          2019               1  \n",
       "634136          2019               1  \n",
       "\n",
       "[3354732 rows x 14 columns]"
      ]
     },
     "execution_count": 5,
     "metadata": {},
     "output_type": "execute_result"
    }
   ],
   "source": [
    "df_duracion = pd.read_feather(f\"{path_interim}/clean_Duraciones.feather\")\n",
    "df_duracion.sort_values('FECHA INGRESO')"
   ]
  },
  {
   "cell_type": "raw",
   "metadata": {},
   "source": [
    "filtro_fecha = df_duracion[df_duracion['FECHA INGRESO']<='2014-12-31']\n",
    "print(f\"Existen {len(filtro_fecha)} causas ingresadas antes del 01-01-2015\")"
   ]
  },
  {
   "cell_type": "raw",
   "metadata": {},
   "source": [
    "df_duracion.drop(filtro_fecha.index, axis=0, inplace=True)"
   ]
  },
  {
   "cell_type": "code",
   "execution_count": 6,
   "metadata": {},
   "outputs": [
    {
     "name": "stdout",
     "output_type": "stream",
     "text": [
      "Existen 0 causas sin fecha de ingresos\n"
     ]
    }
   ],
   "source": [
    "filtro_null = df_duracion[df_duracion['FECHA INGRESO'].isnull()]\n",
    "print(f\"Existen {len(filtro_null)} causas sin fecha de ingresos\")"
   ]
  },
  {
   "cell_type": "code",
   "execution_count": 7,
   "metadata": {},
   "outputs": [],
   "source": [
    "df_duracion.drop(filtro_null.index, axis=0, inplace=True)"
   ]
  },
  {
   "cell_type": "code",
   "execution_count": 8,
   "metadata": {},
   "outputs": [
    {
     "name": "stderr",
     "output_type": "stream",
     "text": [
      "100%|██████████| 3354732/3354732 [00:14<00:00, 224010.74it/s]\n"
     ]
    }
   ],
   "source": [
    "# Normalizo nombres\n",
    "\n",
    "df_duracion['TRIBUNAL'] = df_duracion['TRIBUNAL'].progress_apply(cleandata.cambio_nombre_juzgados)"
   ]
  },
  {
   "cell_type": "code",
   "execution_count": 9,
   "metadata": {},
   "outputs": [],
   "source": [
    "# Verifico si coinciden los nombres e imprimo los que estan en conflicto\n",
    "\n",
    "for tribunal in df_duracion['TRIBUNAL'].unique():\n",
    "    if not tribunal in tribunales:\n",
    "        print(tribunal)"
   ]
  },
  {
   "cell_type": "markdown",
   "metadata": {},
   "source": [
    "## CARGA DATA A ARCHIVOS FUTHER"
   ]
  },
  {
   "cell_type": "code",
   "execution_count": 10,
   "metadata": {},
   "outputs": [],
   "source": [
    "# Directorio donde se guardaran archivos feather\n",
    "df_duracion.reset_index(inplace=True, drop=True)\n",
    "os.makedirs(path_processed, exist_ok = True)  \n",
    "# Guardamos dataset como archivo feather\n",
    "df_duracion.to_feather(f'{path_processed}/processes_Duraciones.feather')"
   ]
  },
  {
   "cell_type": "code",
   "execution_count": null,
   "metadata": {},
   "outputs": [],
   "source": []
  }
 ],
 "metadata": {
  "kernelspec": {
   "display_name": "Python 3",
   "language": "python",
   "name": "python3"
  },
  "language_info": {
   "codemirror_mode": {
    "name": "ipython",
    "version": 3
   },
   "file_extension": ".py",
   "mimetype": "text/x-python",
   "name": "python",
   "nbconvert_exporter": "python",
   "pygments_lexer": "ipython3",
   "version": "3.9.1"
  }
 },
 "nbformat": 4,
 "nbformat_minor": 4
}
