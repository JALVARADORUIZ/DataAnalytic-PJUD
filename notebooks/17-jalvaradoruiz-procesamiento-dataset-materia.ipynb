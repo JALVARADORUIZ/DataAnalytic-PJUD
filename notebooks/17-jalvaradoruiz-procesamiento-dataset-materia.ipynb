{
 "cells": [
  {
   "cell_type": "code",
   "execution_count": 40,
   "metadata": {},
   "outputs": [],
   "source": [
    "import pandas as pd\n",
    "import numpy as np\n",
    "import os\n",
    "\n",
    "from tqdm import tqdm\n",
    "from unicodedata import normalize\n",
    "\n",
    "from src.data import cleandata"
   ]
  },
  {
   "cell_type": "code",
   "execution_count": 41,
   "metadata": {},
   "outputs": [
    {
     "name": "stderr",
     "output_type": "stream",
     "text": [
      "/Users/jalvaradoruiz/opt/anaconda3/lib/python3.7/site-packages/tqdm/std.py:658: FutureWarning: The Panel class is removed from pandas. Accessing it from the top-level namespace will also be removed in the next version\n",
      "  from pandas import Panel\n"
     ]
    }
   ],
   "source": [
    "tqdm.pandas()\n",
    "\n",
    "path_interim = \"../data/interim/pjud\"\n",
    "path_processed = \"../data/processed/pjud\""
   ]
  },
  {
   "cell_type": "markdown",
   "metadata": {},
   "source": [
    "# DATA de TRIBUNALES OBTENIDAS DEL COT"
   ]
  },
  {
   "cell_type": "code",
   "execution_count": 42,
   "metadata": {},
   "outputs": [],
   "source": [
    "# Analizo contra los datos extraidos en COT\n",
    "df_tribunales = pd.read_feather(f\"{path_processed}/ListadoTribunales_feather\")\n",
    "tribunales = df_tribunales['TRIBUNAL'].unique()"
   ]
  },
  {
   "cell_type": "markdown",
   "metadata": {},
   "source": [
    "# DATAS INGRESO Y TERMINO MATERIA"
   ]
  },
  {
   "cell_type": "markdown",
   "metadata": {},
   "source": [
    "### DATA INGRESO X MATERA"
   ]
  },
  {
   "cell_type": "code",
   "execution_count": 43,
   "metadata": {},
   "outputs": [
    {
     "data": {
      "text/html": [
       "<div>\n",
       "<style scoped>\n",
       "    .dataframe tbody tr th:only-of-type {\n",
       "        vertical-align: middle;\n",
       "    }\n",
       "\n",
       "    .dataframe tbody tr th {\n",
       "        vertical-align: top;\n",
       "    }\n",
       "\n",
       "    .dataframe thead th {\n",
       "        text-align: right;\n",
       "    }\n",
       "</style>\n",
       "<table border=\"1\" class=\"dataframe\">\n",
       "  <thead>\n",
       "    <tr style=\"text-align: right;\">\n",
       "      <th></th>\n",
       "      <th>index</th>\n",
       "      <th>COD. CORTE</th>\n",
       "      <th>CORTE</th>\n",
       "      <th>COD. TRIBUNAL</th>\n",
       "      <th>TRIBUNAL</th>\n",
       "      <th>RIT</th>\n",
       "      <th>TIPO CAUSA</th>\n",
       "      <th>COD. MATERIA</th>\n",
       "      <th>MATERIA</th>\n",
       "      <th>FECHA INGRESO</th>\n",
       "    </tr>\n",
       "  </thead>\n",
       "  <tbody>\n",
       "    <tr>\n",
       "      <th>0</th>\n",
       "      <td>0</td>\n",
       "      <td>10</td>\n",
       "      <td>C.A. DE ARICA</td>\n",
       "      <td>988</td>\n",
       "      <td>TRIBUNAL DE JUICIO ORAL EN LO PENAL DE ARICA</td>\n",
       "      <td>100-2018</td>\n",
       "      <td>Ordinaria</td>\n",
       "      <td>7007</td>\n",
       "      <td>TRAFICO ILICITO DE DROGAS (ART. 3).</td>\n",
       "      <td>NaT</td>\n",
       "    </tr>\n",
       "    <tr>\n",
       "      <th>1</th>\n",
       "      <td>1</td>\n",
       "      <td>10</td>\n",
       "      <td>C.A. DE ARICA</td>\n",
       "      <td>988</td>\n",
       "      <td>TRIBUNAL DE JUICIO ORAL EN LO PENAL DE ARICA</td>\n",
       "      <td>100-2018</td>\n",
       "      <td>Ordinaria</td>\n",
       "      <td>10004</td>\n",
       "      <td>PORTE ILEGAL DE ARMA DE FUEGO, MUNICIONES Y OT...</td>\n",
       "      <td>NaT</td>\n",
       "    </tr>\n",
       "    <tr>\n",
       "      <th>2</th>\n",
       "      <td>2</td>\n",
       "      <td>10</td>\n",
       "      <td>C.A. DE ARICA</td>\n",
       "      <td>988</td>\n",
       "      <td>TRIBUNAL DE JUICIO ORAL EN LO PENAL DE ARICA</td>\n",
       "      <td>101-2018</td>\n",
       "      <td>Ordinaria</td>\n",
       "      <td>12149</td>\n",
       "      <td>DESACATO (ART. 240 CODIGO DE PROCEDIMIENTO CIV...</td>\n",
       "      <td>NaT</td>\n",
       "    </tr>\n",
       "    <tr>\n",
       "      <th>3</th>\n",
       "      <td>3</td>\n",
       "      <td>10</td>\n",
       "      <td>C.A. DE ARICA</td>\n",
       "      <td>988</td>\n",
       "      <td>TRIBUNAL DE JUICIO ORAL EN LO PENAL DE ARICA</td>\n",
       "      <td>10-2018</td>\n",
       "      <td>Ordinaria</td>\n",
       "      <td>7037</td>\n",
       "      <td>TRAFICO DE PEQUEÑAS CANTIDADES (ART. 4).</td>\n",
       "      <td>NaT</td>\n",
       "    </tr>\n",
       "    <tr>\n",
       "      <th>4</th>\n",
       "      <td>4</td>\n",
       "      <td>10</td>\n",
       "      <td>C.A. DE ARICA</td>\n",
       "      <td>988</td>\n",
       "      <td>TRIBUNAL DE JUICIO ORAL EN LO PENAL DE ARICA</td>\n",
       "      <td>102-2018</td>\n",
       "      <td>Ordinaria</td>\n",
       "      <td>812</td>\n",
       "      <td>RECEPTACION. ART. 456 BIS A.</td>\n",
       "      <td>NaT</td>\n",
       "    </tr>\n",
       "  </tbody>\n",
       "</table>\n",
       "</div>"
      ],
      "text/plain": [
       "   index  COD. CORTE          CORTE  COD. TRIBUNAL  \\\n",
       "0      0          10  C.A. DE ARICA            988   \n",
       "1      1          10  C.A. DE ARICA            988   \n",
       "2      2          10  C.A. DE ARICA            988   \n",
       "3      3          10  C.A. DE ARICA            988   \n",
       "4      4          10  C.A. DE ARICA            988   \n",
       "\n",
       "                                       TRIBUNAL       RIT TIPO CAUSA  \\\n",
       "0  TRIBUNAL DE JUICIO ORAL EN LO PENAL DE ARICA  100-2018  Ordinaria   \n",
       "1  TRIBUNAL DE JUICIO ORAL EN LO PENAL DE ARICA  100-2018  Ordinaria   \n",
       "2  TRIBUNAL DE JUICIO ORAL EN LO PENAL DE ARICA  101-2018  Ordinaria   \n",
       "3  TRIBUNAL DE JUICIO ORAL EN LO PENAL DE ARICA   10-2018  Ordinaria   \n",
       "4  TRIBUNAL DE JUICIO ORAL EN LO PENAL DE ARICA  102-2018  Ordinaria   \n",
       "\n",
       "   COD. MATERIA                                            MATERIA  \\\n",
       "0          7007                TRAFICO ILICITO DE DROGAS (ART. 3).   \n",
       "1         10004  PORTE ILEGAL DE ARMA DE FUEGO, MUNICIONES Y OT...   \n",
       "2         12149  DESACATO (ART. 240 CODIGO DE PROCEDIMIENTO CIV...   \n",
       "3          7037           TRAFICO DE PEQUEÑAS CANTIDADES (ART. 4).   \n",
       "4           812                       RECEPTACION. ART. 456 BIS A.   \n",
       "\n",
       "  FECHA INGRESO  \n",
       "0           NaT  \n",
       "1           NaT  \n",
       "2           NaT  \n",
       "3           NaT  \n",
       "4           NaT  "
      ]
     },
     "execution_count": 43,
     "metadata": {},
     "output_type": "execute_result"
    }
   ],
   "source": [
    "df_ingresos_materia = pd.read_feather(f\"{path_interim}/IngresosMateria_feather\")\n",
    "df_ingresos_materia.head()\n"
   ]
  },
  {
   "cell_type": "code",
   "execution_count": 44,
   "metadata": {},
   "outputs": [
    {
     "name": "stderr",
     "output_type": "stream",
     "text": [
      "100%|██████████| 3213259/3213259 [00:18<00:00, 178046.82it/s]\n"
     ]
    }
   ],
   "source": [
    "# Normalizo nombres\n",
    "\n",
    "df_ingresos_materia['TRIBUNAL'] = df_ingresos_materia['TRIBUNAL'].progress_apply(cleandata.cambio_nombre_juzgados)"
   ]
  },
  {
   "cell_type": "code",
   "execution_count": 45,
   "metadata": {},
   "outputs": [],
   "source": [
    "# Verifico si coinciden los nombres e imprimo los que estan en conflicto\n",
    "\n",
    "for tribunal in df_ingresos_materia['TRIBUNAL'].unique():\n",
    "    if not tribunal in tribunales:\n",
    "        print(tribunal)"
   ]
  },
  {
   "cell_type": "markdown",
   "metadata": {},
   "source": [
    "### TERMINO X MATERIA"
   ]
  },
  {
   "cell_type": "code",
   "execution_count": 46,
   "metadata": {},
   "outputs": [
    {
     "data": {
      "text/html": [
       "<div>\n",
       "<style scoped>\n",
       "    .dataframe tbody tr th:only-of-type {\n",
       "        vertical-align: middle;\n",
       "    }\n",
       "\n",
       "    .dataframe tbody tr th {\n",
       "        vertical-align: top;\n",
       "    }\n",
       "\n",
       "    .dataframe thead th {\n",
       "        text-align: right;\n",
       "    }\n",
       "</style>\n",
       "<table border=\"1\" class=\"dataframe\">\n",
       "  <thead>\n",
       "    <tr style=\"text-align: right;\">\n",
       "      <th></th>\n",
       "      <th>index</th>\n",
       "      <th>COD. CORTE</th>\n",
       "      <th>CORTE</th>\n",
       "      <th>COD. TRIBUNAL</th>\n",
       "      <th>TRIBUNAL</th>\n",
       "      <th>RIT</th>\n",
       "      <th>TIPO CAUSA</th>\n",
       "      <th>COD. MATERIA</th>\n",
       "      <th>MATERIA</th>\n",
       "      <th>FECHA INGRESO</th>\n",
       "      <th>FECHA TERMINO</th>\n",
       "      <th>MOTIVO TERMINO</th>\n",
       "      <th>DURACION CAUSA</th>\n",
       "    </tr>\n",
       "  </thead>\n",
       "  <tbody>\n",
       "    <tr>\n",
       "      <th>0</th>\n",
       "      <td>0</td>\n",
       "      <td>10</td>\n",
       "      <td>C.A. DE ARICA</td>\n",
       "      <td>988</td>\n",
       "      <td>TRIBUNAL DE JUICIO ORAL EN LO PENAL DE ARICA</td>\n",
       "      <td>100-2018</td>\n",
       "      <td>Ordinaria</td>\n",
       "      <td>7007</td>\n",
       "      <td>TRAFICO ILICITO DE DROGAS (ART. 3).</td>\n",
       "      <td>2018-04-02</td>\n",
       "      <td>2018-06-01</td>\n",
       "      <td>SENTENCIA</td>\n",
       "      <td>60</td>\n",
       "    </tr>\n",
       "    <tr>\n",
       "      <th>1</th>\n",
       "      <td>1</td>\n",
       "      <td>10</td>\n",
       "      <td>C.A. DE ARICA</td>\n",
       "      <td>988</td>\n",
       "      <td>TRIBUNAL DE JUICIO ORAL EN LO PENAL DE ARICA</td>\n",
       "      <td>100-2018</td>\n",
       "      <td>Ordinaria</td>\n",
       "      <td>10004</td>\n",
       "      <td>PORTE ILEGAL DE ARMA DE FUEGO, MUNICIONES Y OT...</td>\n",
       "      <td>2018-04-02</td>\n",
       "      <td>2018-06-01</td>\n",
       "      <td>SENTENCIA</td>\n",
       "      <td>60</td>\n",
       "    </tr>\n",
       "    <tr>\n",
       "      <th>2</th>\n",
       "      <td>2</td>\n",
       "      <td>10</td>\n",
       "      <td>C.A. DE ARICA</td>\n",
       "      <td>988</td>\n",
       "      <td>TRIBUNAL DE JUICIO ORAL EN LO PENAL DE ARICA</td>\n",
       "      <td>101-2018</td>\n",
       "      <td>Ordinaria</td>\n",
       "      <td>12149</td>\n",
       "      <td>DESACATO (ART. 240 CODIGO DE PROCEDIMIENTO CIV...</td>\n",
       "      <td>2018-04-02</td>\n",
       "      <td>2018-08-29</td>\n",
       "      <td>SENTENCIA</td>\n",
       "      <td>149</td>\n",
       "    </tr>\n",
       "    <tr>\n",
       "      <th>3</th>\n",
       "      <td>3</td>\n",
       "      <td>10</td>\n",
       "      <td>C.A. DE ARICA</td>\n",
       "      <td>988</td>\n",
       "      <td>TRIBUNAL DE JUICIO ORAL EN LO PENAL DE ARICA</td>\n",
       "      <td>10-2018</td>\n",
       "      <td>Ordinaria</td>\n",
       "      <td>7037</td>\n",
       "      <td>TRAFICO DE PEQUEÑAS CANTIDADES (ART. 4).</td>\n",
       "      <td>2018-01-10</td>\n",
       "      <td>2018-03-14</td>\n",
       "      <td>SENTENCIA</td>\n",
       "      <td>63</td>\n",
       "    </tr>\n",
       "    <tr>\n",
       "      <th>4</th>\n",
       "      <td>4</td>\n",
       "      <td>10</td>\n",
       "      <td>C.A. DE ARICA</td>\n",
       "      <td>988</td>\n",
       "      <td>TRIBUNAL DE JUICIO ORAL EN LO PENAL DE ARICA</td>\n",
       "      <td>102-2018</td>\n",
       "      <td>Ordinaria</td>\n",
       "      <td>812</td>\n",
       "      <td>RECEPTACION. ART. 456 BIS A.</td>\n",
       "      <td>2018-04-02</td>\n",
       "      <td>2018-05-29</td>\n",
       "      <td>SENTENCIA</td>\n",
       "      <td>57</td>\n",
       "    </tr>\n",
       "  </tbody>\n",
       "</table>\n",
       "</div>"
      ],
      "text/plain": [
       "   index  COD. CORTE          CORTE  COD. TRIBUNAL  \\\n",
       "0      0          10  C.A. DE ARICA            988   \n",
       "1      1          10  C.A. DE ARICA            988   \n",
       "2      2          10  C.A. DE ARICA            988   \n",
       "3      3          10  C.A. DE ARICA            988   \n",
       "4      4          10  C.A. DE ARICA            988   \n",
       "\n",
       "                                       TRIBUNAL       RIT TIPO CAUSA  \\\n",
       "0  TRIBUNAL DE JUICIO ORAL EN LO PENAL DE ARICA  100-2018  Ordinaria   \n",
       "1  TRIBUNAL DE JUICIO ORAL EN LO PENAL DE ARICA  100-2018  Ordinaria   \n",
       "2  TRIBUNAL DE JUICIO ORAL EN LO PENAL DE ARICA  101-2018  Ordinaria   \n",
       "3  TRIBUNAL DE JUICIO ORAL EN LO PENAL DE ARICA   10-2018  Ordinaria   \n",
       "4  TRIBUNAL DE JUICIO ORAL EN LO PENAL DE ARICA  102-2018  Ordinaria   \n",
       "\n",
       "   COD. MATERIA                                            MATERIA  \\\n",
       "0          7007                TRAFICO ILICITO DE DROGAS (ART. 3).   \n",
       "1         10004  PORTE ILEGAL DE ARMA DE FUEGO, MUNICIONES Y OT...   \n",
       "2         12149  DESACATO (ART. 240 CODIGO DE PROCEDIMIENTO CIV...   \n",
       "3          7037           TRAFICO DE PEQUEÑAS CANTIDADES (ART. 4).   \n",
       "4           812                       RECEPTACION. ART. 456 BIS A.   \n",
       "\n",
       "  FECHA INGRESO FECHA TERMINO MOTIVO TERMINO  DURACION CAUSA  \n",
       "0    2018-04-02    2018-06-01      SENTENCIA              60  \n",
       "1    2018-04-02    2018-06-01      SENTENCIA              60  \n",
       "2    2018-04-02    2018-08-29      SENTENCIA             149  \n",
       "3    2018-01-10    2018-03-14      SENTENCIA              63  \n",
       "4    2018-04-02    2018-05-29      SENTENCIA              57  "
      ]
     },
     "execution_count": 46,
     "metadata": {},
     "output_type": "execute_result"
    }
   ],
   "source": [
    "df_termino_materia = pd.read_feather(f\"{path_interim}/TerminoMateria_feather\")\n",
    "df_termino_materia.head()"
   ]
  },
  {
   "cell_type": "code",
   "execution_count": 47,
   "metadata": {},
   "outputs": [
    {
     "name": "stderr",
     "output_type": "stream",
     "text": [
      "100%|██████████| 3606632/3606632 [00:20<00:00, 175930.98it/s]\n"
     ]
    }
   ],
   "source": [
    "# Normalizo nombres\n",
    "\n",
    "df_termino_materia['TRIBUNAL'] = df_termino_materia['TRIBUNAL'].progress_apply(cleandata.cambio_nombre_juzgados)"
   ]
  },
  {
   "cell_type": "code",
   "execution_count": 48,
   "metadata": {},
   "outputs": [],
   "source": [
    "# Verifico si coinciden los nombres e imprimo los que estan en conflicto\n",
    "\n",
    "for tribunal in df_termino_materia['TRIBUNAL'].unique():\n",
    "    if not tribunal in tribunales:\n",
    "        print(tribunal)"
   ]
  },
  {
   "cell_type": "markdown",
   "metadata": {},
   "source": [
    "## Data relacionada a Delitos"
   ]
  },
  {
   "cell_type": "code",
   "execution_count": 49,
   "metadata": {},
   "outputs": [
    {
     "data": {
      "text/html": [
       "<div>\n",
       "<style scoped>\n",
       "    .dataframe tbody tr th:only-of-type {\n",
       "        vertical-align: middle;\n",
       "    }\n",
       "\n",
       "    .dataframe tbody tr th {\n",
       "        vertical-align: top;\n",
       "    }\n",
       "\n",
       "    .dataframe thead th {\n",
       "        text-align: right;\n",
       "    }\n",
       "</style>\n",
       "<table border=\"1\" class=\"dataframe\">\n",
       "  <thead>\n",
       "    <tr style=\"text-align: right;\">\n",
       "      <th></th>\n",
       "      <th>index</th>\n",
       "      <th>COD. MATERIA</th>\n",
       "      <th>MATERIA</th>\n",
       "      <th>TIPOLOGIA MATERIA</th>\n",
       "      <th>VIGENCIA MATERIA</th>\n",
       "    </tr>\n",
       "  </thead>\n",
       "  <tbody>\n",
       "    <tr>\n",
       "      <th>0</th>\n",
       "      <td>0</td>\n",
       "      <td>101</td>\n",
       "      <td>QUEBRANTAMIENTO. ART. 90</td>\n",
       "      <td>LIBRO I  TITULO IV   QUEBRANTAMIENTO DE SENTEN...</td>\n",
       "      <td>VIGENTE</td>\n",
       "    </tr>\n",
       "    <tr>\n",
       "      <th>1</th>\n",
       "      <td>1</td>\n",
       "      <td>202</td>\n",
       "      <td>SECUESTRO. ART. 141</td>\n",
       "      <td>LIBRO II  TITULO III  CRIMENES Y SIMPLES DELIT...</td>\n",
       "      <td>VIGENTE</td>\n",
       "    </tr>\n",
       "    <tr>\n",
       "      <th>2</th>\n",
       "      <td>2</td>\n",
       "      <td>203</td>\n",
       "      <td>SUSTRACCION DE MENORES. ART. 142</td>\n",
       "      <td>LIBRO II  TITULO III  CRIMENES Y SIMPLES DELIT...</td>\n",
       "      <td>VIGENTE</td>\n",
       "    </tr>\n",
       "    <tr>\n",
       "      <th>3</th>\n",
       "      <td>3</td>\n",
       "      <td>204</td>\n",
       "      <td>VIOLACION DE MORADA. ART.144</td>\n",
       "      <td>LIBRO II  TITULO III  CRIMENES Y SIMPLES DELIT...</td>\n",
       "      <td>VIGENTE</td>\n",
       "    </tr>\n",
       "    <tr>\n",
       "      <th>4</th>\n",
       "      <td>4</td>\n",
       "      <td>205</td>\n",
       "      <td>APERTURA , REGISTRO O INTERCEPTACION DE CORRE...</td>\n",
       "      <td>LIBRO II  TITULO III  CRIMENES Y SIMPLES DELIT...</td>\n",
       "      <td>VIGENTE</td>\n",
       "    </tr>\n",
       "  </tbody>\n",
       "</table>\n",
       "</div>"
      ],
      "text/plain": [
       "   index  COD. MATERIA                                            MATERIA  \\\n",
       "0      0           101                           QUEBRANTAMIENTO. ART. 90   \n",
       "1      1           202                                SECUESTRO. ART. 141   \n",
       "2      2           203                   SUSTRACCION DE MENORES. ART. 142   \n",
       "3      3           204                       VIOLACION DE MORADA. ART.144   \n",
       "4      4           205   APERTURA , REGISTRO O INTERCEPTACION DE CORRE...   \n",
       "\n",
       "                                   TIPOLOGIA MATERIA VIGENCIA MATERIA  \n",
       "0  LIBRO I  TITULO IV   QUEBRANTAMIENTO DE SENTEN...          VIGENTE  \n",
       "1  LIBRO II  TITULO III  CRIMENES Y SIMPLES DELIT...          VIGENTE  \n",
       "2  LIBRO II  TITULO III  CRIMENES Y SIMPLES DELIT...          VIGENTE  \n",
       "3  LIBRO II  TITULO III  CRIMENES Y SIMPLES DELIT...          VIGENTE  \n",
       "4  LIBRO II  TITULO III  CRIMENES Y SIMPLES DELIT...          VIGENTE  "
      ]
     },
     "execution_count": 49,
     "metadata": {},
     "output_type": "execute_result"
    }
   ],
   "source": [
    "df_delitos = pd.read_feather(f\"{path_processed}/Delitos_feather\")\n",
    "df_delitos.head()"
   ]
  },
  {
   "cell_type": "code",
   "execution_count": 50,
   "metadata": {},
   "outputs": [
    {
     "name": "stdout",
     "output_type": "stream",
     "text": [
      "Existen 541 codigos de delitos\n"
     ]
    }
   ],
   "source": [
    "codigos_cot = df_delitos['COD. MATERIA'].unique()\n",
    "print(f\"Existen {len(codigos_cot)} codigos de delitos\")"
   ]
  },
  {
   "cell_type": "markdown",
   "metadata": {},
   "source": [
    "## Delitos en INGRESOS MATERIA"
   ]
  },
  {
   "cell_type": "code",
   "execution_count": 51,
   "metadata": {},
   "outputs": [],
   "source": [
    "codigos_delitos = df_ingresos_materia['COD. MATERIA'].unique()"
   ]
  },
  {
   "cell_type": "code",
   "execution_count": 52,
   "metadata": {},
   "outputs": [
    {
     "data": {
      "text/plain": [
       "474"
      ]
     },
     "execution_count": 52,
     "metadata": {},
     "output_type": "execute_result"
    }
   ],
   "source": [
    "len(codigos_delitos)"
   ]
  },
  {
   "cell_type": "code",
   "execution_count": 53,
   "metadata": {},
   "outputs": [],
   "source": [
    "codigos_no_encontrados = []\n",
    "for delito in codigos_delitos:\n",
    "    if not delito in codigos_cot:\n",
    "        codigos_no_encontrados.append(delito)"
   ]
  },
  {
   "cell_type": "code",
   "execution_count": 54,
   "metadata": {},
   "outputs": [
    {
     "data": {
      "text/plain": [
       "[13001, -31075, 0, 4011, 4014, 4013, 4010]"
      ]
     },
     "execution_count": 54,
     "metadata": {},
     "output_type": "execute_result"
    }
   ],
   "source": [
    "codigos_no_encontrados"
   ]
  },
  {
   "cell_type": "code",
   "execution_count": 55,
   "metadata": {},
   "outputs": [
    {
     "data": {
      "text/plain": [
       "array(['LESIONES LEVES.', 'FALTAS AL REGIMEN PENITENCIARIO', '[NULL]',\n",
       "       'MANEJO EN ESTADO DE EBRIEDAD (SOLO CRIMEN)',\n",
       "       'ESTAFA (SOLO CRIMEN)', 'ABUSO SEXUAL (SOLO CRIMEN)',\n",
       "       'VIOLACION (SOLO CRIMEN)'], dtype=object)"
      ]
     },
     "execution_count": 55,
     "metadata": {},
     "output_type": "execute_result"
    }
   ],
   "source": [
    "codigos_sin_registro = df_ingresos_materia[df_ingresos_materia['COD. MATERIA'].isin(codigos_no_encontrados)]\n",
    "\n",
    "codigos_sin_registro['MATERIA'].unique()\n",
    "\n",
    "# Analizar caso a caso:"
   ]
  },
  {
   "cell_type": "markdown",
   "metadata": {},
   "source": [
    "#### Caso Codigo 13001 -> LESIONES LEVES\n",
    "Este codigo debe tratarse como 13036 identificado como: LESIONES LEVES 494 Nº 5 CÓDIGO PENAL"
   ]
  },
  {
   "cell_type": "code",
   "execution_count": 56,
   "metadata": {},
   "outputs": [],
   "source": [
    "df_ingresos_materia['COD. MATERIA'] = df_ingresos_materia['COD. MATERIA'].replace(13001,13036)"
   ]
  },
  {
   "cell_type": "markdown",
   "metadata": {},
   "source": [
    "#### Caso Codigo -31075"
   ]
  },
  {
   "cell_type": "code",
   "execution_count": 57,
   "metadata": {},
   "outputs": [
    {
     "data": {
      "text/html": [
       "<div>\n",
       "<style scoped>\n",
       "    .dataframe tbody tr th:only-of-type {\n",
       "        vertical-align: middle;\n",
       "    }\n",
       "\n",
       "    .dataframe tbody tr th {\n",
       "        vertical-align: top;\n",
       "    }\n",
       "\n",
       "    .dataframe thead th {\n",
       "        text-align: right;\n",
       "    }\n",
       "</style>\n",
       "<table border=\"1\" class=\"dataframe\">\n",
       "  <thead>\n",
       "    <tr style=\"text-align: right;\">\n",
       "      <th></th>\n",
       "      <th>index</th>\n",
       "      <th>COD. CORTE</th>\n",
       "      <th>CORTE</th>\n",
       "      <th>COD. TRIBUNAL</th>\n",
       "      <th>TRIBUNAL</th>\n",
       "      <th>RIT</th>\n",
       "      <th>TIPO CAUSA</th>\n",
       "      <th>COD. MATERIA</th>\n",
       "      <th>MATERIA</th>\n",
       "      <th>FECHA INGRESO</th>\n",
       "    </tr>\n",
       "  </thead>\n",
       "  <tbody>\n",
       "    <tr>\n",
       "      <th>856574</th>\n",
       "      <td>205398</td>\n",
       "      <td>35</td>\n",
       "      <td>C.A. DE RANCAGUA</td>\n",
       "      <td>1070</td>\n",
       "      <td>JUZGADO DE GARANTIA RANCAGUA</td>\n",
       "      <td>14692-2019</td>\n",
       "      <td>Ordinaria</td>\n",
       "      <td>-31075</td>\n",
       "      <td>FALTAS AL REGIMEN PENITENCIARIO</td>\n",
       "      <td>NaT</td>\n",
       "    </tr>\n",
       "    <tr>\n",
       "      <th>856575</th>\n",
       "      <td>205399</td>\n",
       "      <td>35</td>\n",
       "      <td>C.A. DE RANCAGUA</td>\n",
       "      <td>1070</td>\n",
       "      <td>JUZGADO DE GARANTIA RANCAGUA</td>\n",
       "      <td>14693-2019</td>\n",
       "      <td>Ordinaria</td>\n",
       "      <td>-31075</td>\n",
       "      <td>FALTAS AL REGIMEN PENITENCIARIO</td>\n",
       "      <td>NaT</td>\n",
       "    </tr>\n",
       "    <tr>\n",
       "      <th>856576</th>\n",
       "      <td>205400</td>\n",
       "      <td>35</td>\n",
       "      <td>C.A. DE RANCAGUA</td>\n",
       "      <td>1070</td>\n",
       "      <td>JUZGADO DE GARANTIA RANCAGUA</td>\n",
       "      <td>14694-2019</td>\n",
       "      <td>Ordinaria</td>\n",
       "      <td>-31075</td>\n",
       "      <td>FALTAS AL REGIMEN PENITENCIARIO</td>\n",
       "      <td>NaT</td>\n",
       "    </tr>\n",
       "    <tr>\n",
       "      <th>1065748</th>\n",
       "      <td>414572</td>\n",
       "      <td>56</td>\n",
       "      <td>C.A. DE PUERTO MONTT</td>\n",
       "      <td>1090</td>\n",
       "      <td>JUZGADO DE GARANTIA PUERTO MONTT</td>\n",
       "      <td>12196-2019</td>\n",
       "      <td>Ordinaria</td>\n",
       "      <td>-31075</td>\n",
       "      <td>FALTAS AL REGIMEN PENITENCIARIO</td>\n",
       "      <td>NaT</td>\n",
       "    </tr>\n",
       "    <tr>\n",
       "      <th>1065749</th>\n",
       "      <td>414573</td>\n",
       "      <td>56</td>\n",
       "      <td>C.A. DE PUERTO MONTT</td>\n",
       "      <td>1090</td>\n",
       "      <td>JUZGADO DE GARANTIA PUERTO MONTT</td>\n",
       "      <td>12197-2019</td>\n",
       "      <td>Ordinaria</td>\n",
       "      <td>-31075</td>\n",
       "      <td>FALTAS AL REGIMEN PENITENCIARIO</td>\n",
       "      <td>NaT</td>\n",
       "    </tr>\n",
       "    <tr>\n",
       "      <th>1065752</th>\n",
       "      <td>414576</td>\n",
       "      <td>56</td>\n",
       "      <td>C.A. DE PUERTO MONTT</td>\n",
       "      <td>1090</td>\n",
       "      <td>JUZGADO DE GARANTIA PUERTO MONTT</td>\n",
       "      <td>12200-2019</td>\n",
       "      <td>Ordinaria</td>\n",
       "      <td>-31075</td>\n",
       "      <td>FALTAS AL REGIMEN PENITENCIARIO</td>\n",
       "      <td>NaT</td>\n",
       "    </tr>\n",
       "    <tr>\n",
       "      <th>1065756</th>\n",
       "      <td>414580</td>\n",
       "      <td>56</td>\n",
       "      <td>C.A. DE PUERTO MONTT</td>\n",
       "      <td>1090</td>\n",
       "      <td>JUZGADO DE GARANTIA PUERTO MONTT</td>\n",
       "      <td>12202-2019</td>\n",
       "      <td>Ordinaria</td>\n",
       "      <td>-31075</td>\n",
       "      <td>FALTAS AL REGIMEN PENITENCIARIO</td>\n",
       "      <td>NaT</td>\n",
       "    </tr>\n",
       "    <tr>\n",
       "      <th>1161441</th>\n",
       "      <td>510265</td>\n",
       "      <td>90</td>\n",
       "      <td>C.A. DE SANTIAGO</td>\n",
       "      <td>1226</td>\n",
       "      <td>SEPTIMO JUZGADO DE GARANTIA SANTIAGO</td>\n",
       "      <td>13218-2019</td>\n",
       "      <td>Ordinaria</td>\n",
       "      <td>-31075</td>\n",
       "      <td>FALTAS AL REGIMEN PENITENCIARIO</td>\n",
       "      <td>NaT</td>\n",
       "    </tr>\n",
       "  </tbody>\n",
       "</table>\n",
       "</div>"
      ],
      "text/plain": [
       "          index  COD. CORTE                 CORTE  COD. TRIBUNAL  \\\n",
       "856574   205398          35      C.A. DE RANCAGUA           1070   \n",
       "856575   205399          35      C.A. DE RANCAGUA           1070   \n",
       "856576   205400          35      C.A. DE RANCAGUA           1070   \n",
       "1065748  414572          56  C.A. DE PUERTO MONTT           1090   \n",
       "1065749  414573          56  C.A. DE PUERTO MONTT           1090   \n",
       "1065752  414576          56  C.A. DE PUERTO MONTT           1090   \n",
       "1065756  414580          56  C.A. DE PUERTO MONTT           1090   \n",
       "1161441  510265          90      C.A. DE SANTIAGO           1226   \n",
       "\n",
       "                                     TRIBUNAL         RIT TIPO CAUSA  \\\n",
       "856574           JUZGADO DE GARANTIA RANCAGUA  14692-2019  Ordinaria   \n",
       "856575           JUZGADO DE GARANTIA RANCAGUA  14693-2019  Ordinaria   \n",
       "856576           JUZGADO DE GARANTIA RANCAGUA  14694-2019  Ordinaria   \n",
       "1065748      JUZGADO DE GARANTIA PUERTO MONTT  12196-2019  Ordinaria   \n",
       "1065749      JUZGADO DE GARANTIA PUERTO MONTT  12197-2019  Ordinaria   \n",
       "1065752      JUZGADO DE GARANTIA PUERTO MONTT  12200-2019  Ordinaria   \n",
       "1065756      JUZGADO DE GARANTIA PUERTO MONTT  12202-2019  Ordinaria   \n",
       "1161441  SEPTIMO JUZGADO DE GARANTIA SANTIAGO  13218-2019  Ordinaria   \n",
       "\n",
       "         COD. MATERIA                          MATERIA FECHA INGRESO  \n",
       "856574         -31075  FALTAS AL REGIMEN PENITENCIARIO           NaT  \n",
       "856575         -31075  FALTAS AL REGIMEN PENITENCIARIO           NaT  \n",
       "856576         -31075  FALTAS AL REGIMEN PENITENCIARIO           NaT  \n",
       "1065748        -31075  FALTAS AL REGIMEN PENITENCIARIO           NaT  \n",
       "1065749        -31075  FALTAS AL REGIMEN PENITENCIARIO           NaT  \n",
       "1065752        -31075  FALTAS AL REGIMEN PENITENCIARIO           NaT  \n",
       "1065756        -31075  FALTAS AL REGIMEN PENITENCIARIO           NaT  \n",
       "1161441        -31075  FALTAS AL REGIMEN PENITENCIARIO           NaT  "
      ]
     },
     "execution_count": 57,
     "metadata": {},
     "output_type": "execute_result"
    }
   ],
   "source": [
    "filtro_codigo_31075 = df_ingresos_materia[df_ingresos_materia['COD. MATERIA']==-31075]\n",
    "filtro_codigo_31075"
   ]
  },
  {
   "cell_type": "markdown",
   "metadata": {},
   "source": [
    "#### No corresponde a delito sino a sanción interna de gendarmeria, por lo que se eliminarán\n"
   ]
  },
  {
   "cell_type": "code",
   "execution_count": 58,
   "metadata": {},
   "outputs": [],
   "source": [
    "df_ingresos_materia.drop(filtro_codigo_31075.index, axis = 0, inplace = True)"
   ]
  },
  {
   "cell_type": "markdown",
   "metadata": {},
   "source": [
    "### Caso Codigo 0"
   ]
  },
  {
   "cell_type": "code",
   "execution_count": 59,
   "metadata": {},
   "outputs": [
    {
     "data": {
      "text/html": [
       "<div>\n",
       "<style scoped>\n",
       "    .dataframe tbody tr th:only-of-type {\n",
       "        vertical-align: middle;\n",
       "    }\n",
       "\n",
       "    .dataframe tbody tr th {\n",
       "        vertical-align: top;\n",
       "    }\n",
       "\n",
       "    .dataframe thead th {\n",
       "        text-align: right;\n",
       "    }\n",
       "</style>\n",
       "<table border=\"1\" class=\"dataframe\">\n",
       "  <thead>\n",
       "    <tr style=\"text-align: right;\">\n",
       "      <th></th>\n",
       "      <th>index</th>\n",
       "      <th>COD. CORTE</th>\n",
       "      <th>CORTE</th>\n",
       "      <th>COD. TRIBUNAL</th>\n",
       "      <th>TRIBUNAL</th>\n",
       "      <th>RIT</th>\n",
       "      <th>TIPO CAUSA</th>\n",
       "      <th>COD. MATERIA</th>\n",
       "      <th>MATERIA</th>\n",
       "      <th>FECHA INGRESO</th>\n",
       "    </tr>\n",
       "  </thead>\n",
       "  <tbody>\n",
       "    <tr>\n",
       "      <th>1132795</th>\n",
       "      <td>481619</td>\n",
       "      <td>90</td>\n",
       "      <td>C.A. DE SANTIAGO</td>\n",
       "      <td>1223</td>\n",
       "      <td>CUARTO JUZGADO DE GARANTIA SANTIAGO</td>\n",
       "      <td>1870-2019</td>\n",
       "      <td>Ordinaria</td>\n",
       "      <td>0</td>\n",
       "      <td>[NULL]</td>\n",
       "      <td>NaT</td>\n",
       "    </tr>\n",
       "    <tr>\n",
       "      <th>1138136</th>\n",
       "      <td>486960</td>\n",
       "      <td>90</td>\n",
       "      <td>C.A. DE SANTIAGO</td>\n",
       "      <td>1223</td>\n",
       "      <td>CUARTO JUZGADO DE GARANTIA SANTIAGO</td>\n",
       "      <td>6225-2019</td>\n",
       "      <td>Ordinaria</td>\n",
       "      <td>0</td>\n",
       "      <td>[NULL]</td>\n",
       "      <td>NaT</td>\n",
       "    </tr>\n",
       "  </tbody>\n",
       "</table>\n",
       "</div>"
      ],
      "text/plain": [
       "          index  COD. CORTE             CORTE  COD. TRIBUNAL  \\\n",
       "1132795  481619          90  C.A. DE SANTIAGO           1223   \n",
       "1138136  486960          90  C.A. DE SANTIAGO           1223   \n",
       "\n",
       "                                    TRIBUNAL        RIT TIPO CAUSA  \\\n",
       "1132795  CUARTO JUZGADO DE GARANTIA SANTIAGO  1870-2019  Ordinaria   \n",
       "1138136  CUARTO JUZGADO DE GARANTIA SANTIAGO  6225-2019  Ordinaria   \n",
       "\n",
       "         COD. MATERIA MATERIA FECHA INGRESO  \n",
       "1132795             0  [NULL]           NaT  \n",
       "1138136             0  [NULL]           NaT  "
      ]
     },
     "execution_count": 59,
     "metadata": {},
     "output_type": "execute_result"
    }
   ],
   "source": [
    "filtro_codigo_0 = df_ingresos_materia[df_ingresos_materia['COD. MATERIA']==0]\n",
    "filtro_codigo_0"
   ]
  },
  {
   "cell_type": "markdown",
   "metadata": {},
   "source": [
    "#### valores Null"
   ]
  },
  {
   "cell_type": "code",
   "execution_count": 60,
   "metadata": {},
   "outputs": [],
   "source": [
    "df_ingresos_materia.drop(filtro_codigo_0.index, axis = 0, inplace = True)"
   ]
  },
  {
   "cell_type": "markdown",
   "metadata": {},
   "source": [
    "### Codigos 4011, 4014, 4013, 4010\n",
    "codigos No vigentes, mal cargados en sistemas "
   ]
  },
  {
   "cell_type": "code",
   "execution_count": 61,
   "metadata": {},
   "outputs": [],
   "source": [
    "filtro_codigo_4011 = df_ingresos_materia[df_ingresos_materia['COD. MATERIA']==4011]\n",
    "filtro_codigo_4014 = df_ingresos_materia[df_ingresos_materia['COD. MATERIA']==4014]\n",
    "filtro_codigo_4013 = df_ingresos_materia[df_ingresos_materia['COD. MATERIA']==4013]\n",
    "filtro_codigo_4010 = df_ingresos_materia[df_ingresos_materia['COD. MATERIA']==4010]"
   ]
  },
  {
   "cell_type": "code",
   "execution_count": 62,
   "metadata": {},
   "outputs": [],
   "source": [
    "df_ingresos_materia.drop(filtro_codigo_4011.index, axis = 0, inplace = True)\n",
    "df_ingresos_materia.drop(filtro_codigo_4014.index, axis = 0, inplace = True)\n",
    "df_ingresos_materia.drop(filtro_codigo_4013.index, axis = 0, inplace = True)\n",
    "df_ingresos_materia.drop(filtro_codigo_4010.index, axis = 0, inplace = True)"
   ]
  },
  {
   "cell_type": "markdown",
   "metadata": {},
   "source": [
    "## DELITOS EN TERMINO MATERIA"
   ]
  },
  {
   "cell_type": "code",
   "execution_count": 64,
   "metadata": {},
   "outputs": [],
   "source": [
    "codigos_delitos = df_termino_materia['COD. MATERIA'].unique()"
   ]
  },
  {
   "cell_type": "code",
   "execution_count": 65,
   "metadata": {},
   "outputs": [
    {
     "data": {
      "text/plain": [
       "468"
      ]
     },
     "execution_count": 65,
     "metadata": {},
     "output_type": "execute_result"
    }
   ],
   "source": [
    "len(codigos_delitos)"
   ]
  },
  {
   "cell_type": "code",
   "execution_count": 66,
   "metadata": {},
   "outputs": [],
   "source": [
    "codigos_no_encontrados = []\n",
    "for delito in codigos_delitos:\n",
    "    if not delito in codigos_cot:\n",
    "        codigos_no_encontrados.append(delito)"
   ]
  },
  {
   "cell_type": "code",
   "execution_count": 67,
   "metadata": {},
   "outputs": [
    {
     "data": {
      "text/plain": [
       "[13001, 4014, 4013, 4011, -31075, 4010, 0, 4007]"
      ]
     },
     "execution_count": 67,
     "metadata": {},
     "output_type": "execute_result"
    }
   ],
   "source": [
    "codigos_no_encontrados"
   ]
  },
  {
   "cell_type": "code",
   "execution_count": 69,
   "metadata": {},
   "outputs": [
    {
     "data": {
      "text/plain": [
       "array(['LESIONES LEVES.', 'ESTAFA (SOLO CRIMEN)',\n",
       "       'ABUSO SEXUAL (SOLO CRIMEN)',\n",
       "       'MANEJO EN ESTADO DE EBRIEDAD (SOLO CRIMEN)',\n",
       "       'FALTAS AL REGIMEN PENITENCIARIO', 'VIOLACION (SOLO CRIMEN)',\n",
       "       'LESIONES LEVES', '(en blanco)', 'HURTO (SOLO CRIMEN)',\n",
       "       'NO REGISTRA CODIGO DE MATERIA'], dtype=object)"
      ]
     },
     "execution_count": 69,
     "metadata": {},
     "output_type": "execute_result"
    }
   ],
   "source": [
    "codigos_sin_registro = df_termino_materia[df_termino_materia['COD. MATERIA'].isin(codigos_no_encontrados)]\n",
    "\n",
    "codigos_sin_registro['MATERIA'].unique()\n",
    "\n",
    "# Analizar caso a caso:"
   ]
  },
  {
   "cell_type": "markdown",
   "metadata": {},
   "source": [
    "## Caso 13001 -- > LESIONES LEVES"
   ]
  },
  {
   "cell_type": "code",
   "execution_count": 56,
   "metadata": {},
   "outputs": [],
   "source": [
    "df_termino_materia['COD. MATERIA'] = df_termino_materia['COD. MATERIA'].replace(13001,13036)"
   ]
  },
  {
   "cell_type": "markdown",
   "metadata": {},
   "source": [
    "### Casos 4014, 4013, 4011, -31075, 4010, 0, 4007"
   ]
  },
  {
   "cell_type": "code",
   "execution_count": 70,
   "metadata": {},
   "outputs": [],
   "source": [
    "filtro_codigo_4011 = df_termino_materia[df_termino_materia['COD. MATERIA']==4011]\n",
    "filtro_codigo_4014 = df_termino_materia[df_termino_materia['COD. MATERIA']==4014]\n",
    "filtro_codigo_4013 = df_termino_materia[df_termino_materia['COD. MATERIA']==4013]\n",
    "filtro_codigo_4010 = df_termino_materia[df_termino_materia['COD. MATERIA']==4010]\n",
    "filtro_codigo_31075 = df_termino_materia[df_termino_materia['COD. MATERIA']==31075]\n",
    "filtro_codigo_4007 = df_termino_materia[df_termino_materia['COD. MATERIA']==4007]\n",
    "filtro_codigo_0 = df_termino_materia[df_termino_materia['COD. MATERIA']==0]"
   ]
  },
  {
   "cell_type": "code",
   "execution_count": 71,
   "metadata": {},
   "outputs": [],
   "source": [
    "df_termino_materia.drop(filtro_codigo_4011.index, axis = 0, inplace = True)\n",
    "df_termino_materia.drop(filtro_codigo_4014.index, axis = 0, inplace = True)\n",
    "df_termino_materia.drop(filtro_codigo_4013.index, axis = 0, inplace = True)\n",
    "df_termino_materia.drop(filtro_codigo_4010.index, axis = 0, inplace = True)\n",
    "df_termino_materia.drop(filtro_codigo_31075.index, axis = 0, inplace = True)\n",
    "df_termino_materia.drop(filtro_codigo_4007.index, axis = 0, inplace = True)\n",
    "df_termino_materia.drop(filtro_codigo_0.index, axis = 0, inplace = True)"
   ]
  },
  {
   "cell_type": "markdown",
   "metadata": {},
   "source": [
    "## CARGA DATA A ARCHIVOS FUTHER"
   ]
  },
  {
   "cell_type": "code",
   "execution_count": 73,
   "metadata": {},
   "outputs": [],
   "source": [
    "# Directorio donde se guardaran archivos feather\n",
    "df_ingresos_materia.reset_index(inplace = True)\n",
    "df_termino_materia.reset_index(inplace = True)\n",
    "os.makedirs(path_processed, exist_ok = True)  \n",
    "\n",
    "# Guardamos dataset como archivo feather\n",
    "\n",
    "df_ingresos_materia.to_feather(f'{path_processed}/IngresosMateria_feather')\n",
    "df_termino_materia.to_feather(f'{path_processed}/TerminoMateria_feather')\n"
   ]
  },
  {
   "cell_type": "code",
   "execution_count": null,
   "metadata": {},
   "outputs": [],
   "source": []
  }
 ],
 "metadata": {
  "kernelspec": {
   "display_name": "Python 3",
   "language": "python",
   "name": "python3"
  },
  "language_info": {
   "codemirror_mode": {
    "name": "ipython",
    "version": 3
   },
   "file_extension": ".py",
   "mimetype": "text/x-python",
   "name": "python",
   "nbconvert_exporter": "python",
   "pygments_lexer": "ipython3",
   "version": "3.7.6"
  }
 },
 "nbformat": 4,
 "nbformat_minor": 4
}
