{
 "cells": [
  {
   "cell_type": "code",
   "execution_count": 1,
   "metadata": {},
   "outputs": [],
   "source": [
    "## Carga Data INGRESO X MATERIA"
   ]
  },
  {
   "cell_type": "code",
   "execution_count": 2,
   "metadata": {},
   "outputs": [],
   "source": [
    "import os\n",
    "import pandas as pd\n",
    "import numpy as np\n",
    "from pyarrow import feather\n",
    "from tqdm import tqdm\n",
    "\n",
    "from src.data import cleandata"
   ]
  },
  {
   "cell_type": "code",
   "execution_count": 5,
   "metadata": {},
   "outputs": [],
   "source": [
    "path_raw = \"../data/raw\" \n",
    "archivos = os.listdir(path_raw) \n",
    "tqdm.pandas()"
   ]
  },
  {
   "cell_type": "code",
   "execution_count": 6,
   "metadata": {},
   "outputs": [],
   "source": [
    "#creacion dataframe con los datos de INGRESOS por MATERIA Penal de los años 2015 a 2019\n",
    "\n",
    "dataframes = []\n",
    "\n",
    "for archivo in archivos:\n",
    "    if archivo.find(\"Ingresos por Materia Penal\") != -1:\n",
    "        df = pd.read_csv(f\"{path_raw}/{archivo}\", sep = \";\", encoding = 'cp850', dtype = 'unicode',low_memory = True)\n",
    "        dataframes.append(df) \n",
    "        \n",
    "df_ingresos_materia = pd.concat(dataframes, axis = 0)\n"
   ]
  },
  {
   "cell_type": "code",
   "execution_count": 7,
   "metadata": {},
   "outputs": [
    {
     "data": {
      "text/plain": [
       "Index(['N°', 'COD. CORTE', 'CORTE', 'COD. TRIBUNAL', 'TRIBUNAL', 'RIT',\n",
       "       'TIPO CAUSA', 'COD. MATERIA', 'MATERIA', 'FECHA INGRESO', 'MES INGRESO',\n",
       "       'AÑO INGRESO', 'TOTAL INGRESOS POR MATERIAS',\n",
       "       '(*)Se agregó columna total de ingresos, dado que en algunas causas, la materia se repite (error de tramitación)',\n",
       "       'TOTAL INGRESOS POR MATERIAS(*)'],\n",
       "      dtype='object')"
      ]
     },
     "execution_count": 7,
     "metadata": {},
     "output_type": "execute_result"
    }
   ],
   "source": [
    "df_ingresos_materia.columns"
   ]
  },
  {
   "cell_type": "code",
   "execution_count": 8,
   "metadata": {},
   "outputs": [],
   "source": [
    "df_ingresos_materia.drop(['N°','MES INGRESO','AÑO INGRESO','TOTAL INGRESOS POR MATERIAS(*)','TOTAL INGRESOS POR MATERIAS'],\n",
    "                         axis = 'columns', inplace = True)\n",
    "\n",
    "df_ingresos_materia.drop(['(*)Se agregó columna total de ingresos, dado que en algunas causas, la materia se repite (error de tramitación)'], \n",
    "                         axis='columns',inplace=True)\n",
    "\n",
    "#df_ingresos_materia = df_ingresos_materia.dropna()"
   ]
  },
  {
   "cell_type": "code",
   "execution_count": 9,
   "metadata": {},
   "outputs": [],
   "source": [
    "# TRANSFORMAMOS DE FLOAT A INTEGER\n",
    "\n",
    "df_ingresos_materia['COD. CORTE'] = df_ingresos_materia['COD. CORTE'].fillna(0).astype(np.int16)\n",
    "df_ingresos_materia['COD. TRIBUNAL'] = df_ingresos_materia['COD. TRIBUNAL'].fillna(0).astype(np.int16)\n",
    "df_ingresos_materia['COD. MATERIA'] = df_ingresos_materia['COD. MATERIA'].fillna(0).astype(np.int16)"
   ]
  },
  {
   "cell_type": "code",
   "execution_count": 11,
   "metadata": {},
   "outputs": [
    {
     "name": "stderr",
     "output_type": "stream",
     "text": [
      "100%|██████████| 3213259/3213259 [00:12<00:00, 254693.07it/s]\n"
     ]
    }
   ],
   "source": [
    "# Transformamos fechas\n",
    "\n",
    "df_ingresos_materia['FECHA INGRESO'] = df_ingresos_materia['FECHA INGRESO'].progress_apply(cleandata.convierte_fecha)"
   ]
  },
  {
   "cell_type": "code",
   "execution_count": 12,
   "metadata": {},
   "outputs": [
    {
     "name": "stderr",
     "output_type": "stream",
     "text": [
      "100%|██████████| 9/9 [00:10<00:00,  1.20s/it]\n"
     ]
    }
   ],
   "source": [
    "# Elimino espacios en las columnas tipo objetos\n",
    "\n",
    "df_ingresos_materia = df_ingresos_materia.progress_apply(cleandata.elimina_espacios, axis=0)"
   ]
  },
  {
   "cell_type": "code",
   "execution_count": 13,
   "metadata": {},
   "outputs": [
    {
     "name": "stderr",
     "output_type": "stream",
     "text": [
      "100%|██████████| 5/5 [00:40<00:00,  8.15s/it]\n"
     ]
    }
   ],
   "source": [
    "# Elimino tildes \n",
    "\n",
    "cols = df_ingresos_materia.select_dtypes(include = [\"object\"]).columns\n",
    "df_ingresos_materia[cols] = df_ingresos_materia[cols].progress_apply(cleandata.elimina_tilde) "
   ]
  },
  {
   "cell_type": "code",
   "execution_count": 14,
   "metadata": {},
   "outputs": [],
   "source": [
    "# Categorizacion\n",
    "\n",
    "df_ingresos_materia['CORTE'] = df_ingresos_materia['CORTE'].astype('category')\n",
    "df_ingresos_materia['TIPO CAUSA'] = df_ingresos_materia['TIPO CAUSA'].astype('category')"
   ]
  },
  {
   "cell_type": "code",
   "execution_count": 15,
   "metadata": {},
   "outputs": [
    {
     "data": {
      "text/html": [
       "<div>\n",
       "<style scoped>\n",
       "    .dataframe tbody tr th:only-of-type {\n",
       "        vertical-align: middle;\n",
       "    }\n",
       "\n",
       "    .dataframe tbody tr th {\n",
       "        vertical-align: top;\n",
       "    }\n",
       "\n",
       "    .dataframe thead th {\n",
       "        text-align: right;\n",
       "    }\n",
       "</style>\n",
       "<table border=\"1\" class=\"dataframe\">\n",
       "  <thead>\n",
       "    <tr style=\"text-align: right;\">\n",
       "      <th></th>\n",
       "      <th>index</th>\n",
       "      <th>COD. CORTE</th>\n",
       "      <th>CORTE</th>\n",
       "      <th>COD. TRIBUNAL</th>\n",
       "      <th>TRIBUNAL</th>\n",
       "      <th>RIT</th>\n",
       "      <th>TIPO CAUSA</th>\n",
       "      <th>COD. MATERIA</th>\n",
       "      <th>MATERIA</th>\n",
       "      <th>FECHA INGRESO</th>\n",
       "    </tr>\n",
       "  </thead>\n",
       "  <tbody>\n",
       "    <tr>\n",
       "      <th>0</th>\n",
       "      <td>0</td>\n",
       "      <td>10</td>\n",
       "      <td>C.A. DE ARICA</td>\n",
       "      <td>988</td>\n",
       "      <td>TRIBUNAL DE JUICIO ORAL EN LO PENAL DE ARICA</td>\n",
       "      <td>100-2018</td>\n",
       "      <td>Ordinaria</td>\n",
       "      <td>7007</td>\n",
       "      <td>TRAFICO ILICITO DE DROGAS (ART. 3).</td>\n",
       "      <td>NaT</td>\n",
       "    </tr>\n",
       "    <tr>\n",
       "      <th>1</th>\n",
       "      <td>1</td>\n",
       "      <td>10</td>\n",
       "      <td>C.A. DE ARICA</td>\n",
       "      <td>988</td>\n",
       "      <td>TRIBUNAL DE JUICIO ORAL EN LO PENAL DE ARICA</td>\n",
       "      <td>100-2018</td>\n",
       "      <td>Ordinaria</td>\n",
       "      <td>10004</td>\n",
       "      <td>PORTE ILEGAL DE ARMA DE FUEGO, MUNICIONES Y OT...</td>\n",
       "      <td>NaT</td>\n",
       "    </tr>\n",
       "    <tr>\n",
       "      <th>2</th>\n",
       "      <td>2</td>\n",
       "      <td>10</td>\n",
       "      <td>C.A. DE ARICA</td>\n",
       "      <td>988</td>\n",
       "      <td>TRIBUNAL DE JUICIO ORAL EN LO PENAL DE ARICA</td>\n",
       "      <td>101-2018</td>\n",
       "      <td>Ordinaria</td>\n",
       "      <td>12149</td>\n",
       "      <td>DESACATO (ART. 240 CODIGO DE PROCEDIMIENTO CIV...</td>\n",
       "      <td>NaT</td>\n",
       "    </tr>\n",
       "    <tr>\n",
       "      <th>3</th>\n",
       "      <td>3</td>\n",
       "      <td>10</td>\n",
       "      <td>C.A. DE ARICA</td>\n",
       "      <td>988</td>\n",
       "      <td>TRIBUNAL DE JUICIO ORAL EN LO PENAL DE ARICA</td>\n",
       "      <td>10-2018</td>\n",
       "      <td>Ordinaria</td>\n",
       "      <td>7037</td>\n",
       "      <td>TRAFICO DE PEQUEÑAS CANTIDADES (ART. 4).</td>\n",
       "      <td>NaT</td>\n",
       "    </tr>\n",
       "    <tr>\n",
       "      <th>4</th>\n",
       "      <td>4</td>\n",
       "      <td>10</td>\n",
       "      <td>C.A. DE ARICA</td>\n",
       "      <td>988</td>\n",
       "      <td>TRIBUNAL DE JUICIO ORAL EN LO PENAL DE ARICA</td>\n",
       "      <td>102-2018</td>\n",
       "      <td>Ordinaria</td>\n",
       "      <td>812</td>\n",
       "      <td>RECEPTACION. ART. 456 BIS A.</td>\n",
       "      <td>NaT</td>\n",
       "    </tr>\n",
       "    <tr>\n",
       "      <th>...</th>\n",
       "      <td>...</td>\n",
       "      <td>...</td>\n",
       "      <td>...</td>\n",
       "      <td>...</td>\n",
       "      <td>...</td>\n",
       "      <td>...</td>\n",
       "      <td>...</td>\n",
       "      <td>...</td>\n",
       "      <td>...</td>\n",
       "      <td>...</td>\n",
       "    </tr>\n",
       "    <tr>\n",
       "      <th>3213254</th>\n",
       "      <td>631764</td>\n",
       "      <td>91</td>\n",
       "      <td>C.A. DE SAN MIGUEL</td>\n",
       "      <td>1355</td>\n",
       "      <td>TRIBUNAL DE JUICIO ORAL EN LO PENAL DE MELIPILLA</td>\n",
       "      <td>99-2015</td>\n",
       "      <td>Ordinaria</td>\n",
       "      <td>12082</td>\n",
       "      <td>AMENAZASA CARABINEROS (ART. 417 COD. J.MILITAR).</td>\n",
       "      <td>NaT</td>\n",
       "    </tr>\n",
       "    <tr>\n",
       "      <th>3213255</th>\n",
       "      <td>631765</td>\n",
       "      <td>91</td>\n",
       "      <td>C.A. DE SAN MIGUEL</td>\n",
       "      <td>1355</td>\n",
       "      <td>TRIBUNAL DE JUICIO ORAL EN LO PENAL DE MELIPILLA</td>\n",
       "      <td>100-2015</td>\n",
       "      <td>Ordinaria</td>\n",
       "      <td>810</td>\n",
       "      <td>ROBO EN LUGAR NO HABITADO.</td>\n",
       "      <td>NaT</td>\n",
       "    </tr>\n",
       "    <tr>\n",
       "      <th>3213256</th>\n",
       "      <td>631766</td>\n",
       "      <td>91</td>\n",
       "      <td>C.A. DE SAN MIGUEL</td>\n",
       "      <td>1355</td>\n",
       "      <td>TRIBUNAL DE JUICIO ORAL EN LO PENAL DE MELIPILLA</td>\n",
       "      <td>101-2015</td>\n",
       "      <td>Ordinaria</td>\n",
       "      <td>808</td>\n",
       "      <td>ROBO EN BIENES NACIONALES DE USO PUBLICO O SIT...</td>\n",
       "      <td>NaT</td>\n",
       "    </tr>\n",
       "    <tr>\n",
       "      <th>3213257</th>\n",
       "      <td>631767</td>\n",
       "      <td>91</td>\n",
       "      <td>C.A. DE SAN MIGUEL</td>\n",
       "      <td>1355</td>\n",
       "      <td>TRIBUNAL DE JUICIO ORAL EN LO PENAL DE MELIPILLA</td>\n",
       "      <td>102-2015</td>\n",
       "      <td>Ordinaria</td>\n",
       "      <td>621</td>\n",
       "      <td>VIOLACION DE MENOR DE 14 AÑOS.</td>\n",
       "      <td>NaT</td>\n",
       "    </tr>\n",
       "    <tr>\n",
       "      <th>3213258</th>\n",
       "      <td>631768</td>\n",
       "      <td>91</td>\n",
       "      <td>C.A. DE SAN MIGUEL</td>\n",
       "      <td>1355</td>\n",
       "      <td>TRIBUNAL DE JUICIO ORAL EN LO PENAL DE MELIPILLA</td>\n",
       "      <td>102-2015</td>\n",
       "      <td>Ordinaria</td>\n",
       "      <td>623</td>\n",
       "      <td>ABUSO SEXUAL DE MENOR DE 14 AÑOS (CON CONTACTO...</td>\n",
       "      <td>NaT</td>\n",
       "    </tr>\n",
       "  </tbody>\n",
       "</table>\n",
       "<p>3213259 rows × 10 columns</p>\n",
       "</div>"
      ],
      "text/plain": [
       "          index  COD. CORTE               CORTE  COD. TRIBUNAL  \\\n",
       "0             0          10       C.A. DE ARICA            988   \n",
       "1             1          10       C.A. DE ARICA            988   \n",
       "2             2          10       C.A. DE ARICA            988   \n",
       "3             3          10       C.A. DE ARICA            988   \n",
       "4             4          10       C.A. DE ARICA            988   \n",
       "...         ...         ...                 ...            ...   \n",
       "3213254  631764          91  C.A. DE SAN MIGUEL           1355   \n",
       "3213255  631765          91  C.A. DE SAN MIGUEL           1355   \n",
       "3213256  631766          91  C.A. DE SAN MIGUEL           1355   \n",
       "3213257  631767          91  C.A. DE SAN MIGUEL           1355   \n",
       "3213258  631768          91  C.A. DE SAN MIGUEL           1355   \n",
       "\n",
       "                                                 TRIBUNAL       RIT  \\\n",
       "0            TRIBUNAL DE JUICIO ORAL EN LO PENAL DE ARICA  100-2018   \n",
       "1            TRIBUNAL DE JUICIO ORAL EN LO PENAL DE ARICA  100-2018   \n",
       "2            TRIBUNAL DE JUICIO ORAL EN LO PENAL DE ARICA  101-2018   \n",
       "3            TRIBUNAL DE JUICIO ORAL EN LO PENAL DE ARICA   10-2018   \n",
       "4            TRIBUNAL DE JUICIO ORAL EN LO PENAL DE ARICA  102-2018   \n",
       "...                                                   ...       ...   \n",
       "3213254  TRIBUNAL DE JUICIO ORAL EN LO PENAL DE MELIPILLA   99-2015   \n",
       "3213255  TRIBUNAL DE JUICIO ORAL EN LO PENAL DE MELIPILLA  100-2015   \n",
       "3213256  TRIBUNAL DE JUICIO ORAL EN LO PENAL DE MELIPILLA  101-2015   \n",
       "3213257  TRIBUNAL DE JUICIO ORAL EN LO PENAL DE MELIPILLA  102-2015   \n",
       "3213258  TRIBUNAL DE JUICIO ORAL EN LO PENAL DE MELIPILLA  102-2015   \n",
       "\n",
       "        TIPO CAUSA  COD. MATERIA  \\\n",
       "0        Ordinaria          7007   \n",
       "1        Ordinaria         10004   \n",
       "2        Ordinaria         12149   \n",
       "3        Ordinaria          7037   \n",
       "4        Ordinaria           812   \n",
       "...            ...           ...   \n",
       "3213254  Ordinaria         12082   \n",
       "3213255  Ordinaria           810   \n",
       "3213256  Ordinaria           808   \n",
       "3213257  Ordinaria           621   \n",
       "3213258  Ordinaria           623   \n",
       "\n",
       "                                                   MATERIA FECHA INGRESO  \n",
       "0                      TRAFICO ILICITO DE DROGAS (ART. 3).           NaT  \n",
       "1        PORTE ILEGAL DE ARMA DE FUEGO, MUNICIONES Y OT...           NaT  \n",
       "2        DESACATO (ART. 240 CODIGO DE PROCEDIMIENTO CIV...           NaT  \n",
       "3                 TRAFICO DE PEQUEÑAS CANTIDADES (ART. 4).           NaT  \n",
       "4                             RECEPTACION. ART. 456 BIS A.           NaT  \n",
       "...                                                    ...           ...  \n",
       "3213254   AMENAZASA CARABINEROS (ART. 417 COD. J.MILITAR).           NaT  \n",
       "3213255                         ROBO EN LUGAR NO HABITADO.           NaT  \n",
       "3213256  ROBO EN BIENES NACIONALES DE USO PUBLICO O SIT...           NaT  \n",
       "3213257                     VIOLACION DE MENOR DE 14 AÑOS.           NaT  \n",
       "3213258  ABUSO SEXUAL DE MENOR DE 14 AÑOS (CON CONTACTO...           NaT  \n",
       "\n",
       "[3213259 rows x 10 columns]"
      ]
     },
     "execution_count": 15,
     "metadata": {},
     "output_type": "execute_result"
    }
   ],
   "source": [
    "df_ingresos_materia.reset_index(inplace = True)\n",
    "df_ingresos_materia"
   ]
  },
  {
   "cell_type": "code",
   "execution_count": 17,
   "metadata": {},
   "outputs": [],
   "source": [
    "# Guardamos dataset como archivo feather\n",
    "path_interim = \"../data/interim/pjud\"\n",
    "os.makedirs(path_interim, exist_ok = True) \n",
    "\n",
    "df_ingresos_materia.to_feather(f'{path_interim}/IngresosMateria_feather')"
   ]
  },
  {
   "cell_type": "code",
   "execution_count": null,
   "metadata": {},
   "outputs": [],
   "source": []
  }
 ],
 "metadata": {
  "kernelspec": {
   "display_name": "Python 3",
   "language": "python",
   "name": "python3"
  },
  "language_info": {
   "codemirror_mode": {
    "name": "ipython",
    "version": 3
   },
   "file_extension": ".py",
   "mimetype": "text/x-python",
   "name": "python",
   "nbconvert_exporter": "python",
   "pygments_lexer": "ipython3",
   "version": "3.7.6"
  }
 },
 "nbformat": 4,
 "nbformat_minor": 4
}
