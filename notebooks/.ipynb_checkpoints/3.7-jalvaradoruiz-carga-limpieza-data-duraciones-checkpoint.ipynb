{
 "cells": [
  {
   "cell_type": "markdown",
   "metadata": {},
   "source": [
    "# Carga Data DURACIONES\n",
    "\n",
    "Creación del DataFrame asociado a las duraciones de las causas\n",
    "\n",
    "Rev: 29-10-2020"
   ]
  },
  {
   "cell_type": "code",
   "execution_count": 12,
   "metadata": {},
   "outputs": [],
   "source": [
    "import os\n",
    "import pandas as pd\n",
    "import numpy as np\n",
    "from pyarrow import feather\n",
    "from tqdm import tqdm\n",
    "\n",
    "from src.data import cleandata"
   ]
  },
  {
   "cell_type": "code",
   "execution_count": 13,
   "metadata": {},
   "outputs": [
    {
     "name": "stderr",
     "output_type": "stream",
     "text": [
      "/Users/jalvaradoruiz/opt/anaconda3/lib/python3.7/site-packages/tqdm/std.py:658: FutureWarning: The Panel class is removed from pandas. Accessing it from the top-level namespace will also be removed in the next version\n",
      "  from pandas import Panel\n"
     ]
    }
   ],
   "source": [
    "path_raw = \"../data/raw/pjud\" \n",
    "archivos = os.listdir(path_raw) \n",
    "tqdm.pandas()"
   ]
  },
  {
   "cell_type": "code",
   "execution_count": 14,
   "metadata": {
    "scrolled": true
   },
   "outputs": [],
   "source": [
    "# Creacion dataframe con los datos de Duraciones por Rol Penal de los años 2015 a 2019\n",
    "\n",
    "dataframes = []\n",
    "\n",
    "for archivo in archivos:\n",
    "    if archivo.find(\"Duraciones por Rol Penal\") != -1:\n",
    "        df = pd.read_csv(f\"{path_raw}/{archivo}\", sep = \";\", encoding = 'cp850', dtype = 'unicode', low_memory = True)\n",
    "        dataframes.append(df) \n",
    "        \n",
    "df_duraciones = pd.concat(dataframes, axis = 0)"
   ]
  },
  {
   "cell_type": "code",
   "execution_count": 15,
   "metadata": {},
   "outputs": [
    {
     "data": {
      "text/plain": [
       "Index(['N°', 'CÓD. CORTE', 'CORTE', 'CÓD. TRIBUNAL', 'TRIBUNAL', 'RIT',\n",
       "       'TIPO CAUSA', 'FECHA INGRESO', 'FECHA TÉRMINO', 'DURACIÓN CAUSA ',\n",
       "       'MOTIVO DE TÉRMINO', 'MES TÉRMINO', 'AÑO TÉRMINO', 'TOTAL TÉRMINOS',\n",
       "       'SISTEMA'],\n",
       "      dtype='object')"
      ]
     },
     "execution_count": 15,
     "metadata": {},
     "output_type": "execute_result"
    }
   ],
   "source": [
    "df_duraciones.columns"
   ]
  },
  {
   "cell_type": "code",
   "execution_count": 16,
   "metadata": {},
   "outputs": [
    {
     "data": {
      "text/plain": [
       "array(['SIAGJ', nan, 'METGE'], dtype=object)"
      ]
     },
     "execution_count": 16,
     "metadata": {},
     "output_type": "execute_result"
    }
   ],
   "source": [
    "df_duraciones['SISTEMA'].unique()"
   ]
  },
  {
   "cell_type": "markdown",
   "metadata": {},
   "source": [
    "Elimino causas que no sean SIAGJ"
   ]
  },
  {
   "cell_type": "code",
   "execution_count": 17,
   "metadata": {},
   "outputs": [],
   "source": [
    "df_no_siagj = df_duraciones[df_duraciones['SISTEMA']!='SIAGJ']"
   ]
  },
  {
   "cell_type": "code",
   "execution_count": 18,
   "metadata": {},
   "outputs": [],
   "source": [
    "df_duraciones.drop(df_no_siagj.index, axis=0, inplace=True)"
   ]
  },
  {
   "cell_type": "code",
   "execution_count": 19,
   "metadata": {},
   "outputs": [],
   "source": [
    "df_duraciones.rename(columns = {'CÓD. CORTE':'COD. CORTE',\n",
    "                                'CÓD. TRIBUNAL':'COD. TRIBUNAL',\n",
    "                                'DURACIÓN CAUSA ':'DURACIÓN CAUSA',\n",
    "                                'FECHA TÉRMINO':'FECHA TERMINO',\n",
    "                                'MOTIVO DE TÉRMINO':'MOTIVO TERMINO',\n",
    "                                'MES TÉRMINO':'MES TERMINO',\n",
    "                                'AÑO TÉRMINO':'AÑO TERMINO',\n",
    "                                'TOTAL TÉRMINOS':'TOTAL TERMINOS'\n",
    "                               }, inplace = True)"
   ]
  },
  {
   "cell_type": "code",
   "execution_count": 29,
   "metadata": {},
   "outputs": [],
   "source": [
    "df_duraciones.drop(['N°','SISTEMA'], axis = 'columns', inplace = True)\n",
    "df_duraciones = df_duraciones.dropna()"
   ]
  },
  {
   "cell_type": "code",
   "execution_count": 21,
   "metadata": {},
   "outputs": [],
   "source": [
    "# TRANSFORMAMOS DE FLOAT A INTEGER\n",
    "\n",
    "df_duraciones['COD. CORTE'] = df_duraciones['COD. CORTE'].fillna(0).astype(np.int16)\n",
    "df_duraciones['COD. TRIBUNAL'] = df_duraciones['COD. TRIBUNAL'].fillna(0).astype(np.int16)\n",
    "df_duraciones['AÑO TERMINO'] = df_duraciones['AÑO TERMINO'].fillna(0).astype(np.int16)\n",
    "df_duraciones['TOTAL TERMINOS'] = df_duraciones['TOTAL TERMINOS'].fillna(0).astype(np.int8)"
   ]
  },
  {
   "cell_type": "code",
   "execution_count": 22,
   "metadata": {},
   "outputs": [
    {
     "name": "stderr",
     "output_type": "stream",
     "text": [
      "100%|██████████| 3356831/3356831 [00:06<00:00, 559318.21it/s]\n",
      "100%|██████████| 3356831/3356831 [00:06<00:00, 558897.74it/s]\n"
     ]
    }
   ],
   "source": [
    "# Transformamos fechas\n",
    "\n",
    "df_duraciones['FECHA INGRESO'] = df_duraciones['FECHA INGRESO'].progress_apply(cleandata.convierte_fecha)\n",
    "df_duraciones['FECHA TERMINO'] = df_duraciones['FECHA TERMINO'].progress_apply(cleandata.convierte_fecha)"
   ]
  },
  {
   "cell_type": "code",
   "execution_count": 23,
   "metadata": {},
   "outputs": [
    {
     "name": "stderr",
     "output_type": "stream",
     "text": [
      "100%|██████████| 14/14 [00:30<00:00,  2.18s/it]\n"
     ]
    }
   ],
   "source": [
    "# Elimino espacios en las columnas tipo objetos\n",
    "\n",
    "df_duraciones = df_duraciones.progress_apply(cleandata.elimina_espacios, axis=0)"
   ]
  },
  {
   "cell_type": "code",
   "execution_count": 24,
   "metadata": {},
   "outputs": [
    {
     "name": "stderr",
     "output_type": "stream",
     "text": [
      "100%|██████████| 8/8 [01:20<00:00, 10.02s/it]\n"
     ]
    }
   ],
   "source": [
    "# Elimino tildes \n",
    "\n",
    "cols = df_duraciones.select_dtypes(include = [\"object\"]).columns\n",
    "df_duraciones[cols] = df_duraciones[cols].progress_apply(cleandata.elimina_tilde) "
   ]
  },
  {
   "cell_type": "code",
   "execution_count": 25,
   "metadata": {},
   "outputs": [
    {
     "name": "stderr",
     "output_type": "stream",
     "text": [
      "100%|██████████| 3356831/3356831 [00:03<00:00, 1116935.51it/s]\n"
     ]
    }
   ],
   "source": [
    "# Debo transformar el formato del RIT--AÑO a RIT-AÑO\n",
    "\n",
    "df_duraciones['RIT'] = df_duraciones['RIT'].progress_apply(cleandata.limpia_rit)"
   ]
  },
  {
   "cell_type": "code",
   "execution_count": 26,
   "metadata": {},
   "outputs": [],
   "source": [
    "# Categorizacion\n",
    "\n",
    "df_duraciones['CORTE'] = df_duraciones['CORTE'].astype('category')\n",
    "df_duraciones['MOTIVO TERMINO'] = df_duraciones['MOTIVO TERMINO'].astype('category')"
   ]
  },
  {
   "cell_type": "markdown",
   "metadata": {},
   "source": [
    "Dejo solo causas Ordinarias"
   ]
  },
  {
   "cell_type": "code",
   "execution_count": 32,
   "metadata": {},
   "outputs": [
    {
     "data": {
      "text/plain": [
       "[Ordinaria, Militar, Extradición]\n",
       "Categories (3, object): [Ordinaria, Militar, Extradición]"
      ]
     },
     "execution_count": 32,
     "metadata": {},
     "output_type": "execute_result"
    }
   ],
   "source": [
    "df_duraciones['TIPO CAUSA'].unique()"
   ]
  },
  {
   "cell_type": "code",
   "execution_count": 33,
   "metadata": {},
   "outputs": [],
   "source": [
    "tipo_causa = df_duraciones[df_duraciones['TIPO CAUSA']!='Ordinaria']"
   ]
  },
  {
   "cell_type": "code",
   "execution_count": 34,
   "metadata": {},
   "outputs": [],
   "source": [
    "df_duraciones.drop(tipo_causa.index, axis=0, inplace=True)"
   ]
  },
  {
   "cell_type": "code",
   "execution_count": 35,
   "metadata": {},
   "outputs": [],
   "source": [
    "# Reset el index para realizar feather\n",
    "\n",
    "df_duraciones.reset_index(inplace = True)"
   ]
  },
  {
   "cell_type": "code",
   "execution_count": 36,
   "metadata": {},
   "outputs": [
    {
     "data": {
      "text/html": [
       "<div>\n",
       "<style scoped>\n",
       "    .dataframe tbody tr th:only-of-type {\n",
       "        vertical-align: middle;\n",
       "    }\n",
       "\n",
       "    .dataframe tbody tr th {\n",
       "        vertical-align: top;\n",
       "    }\n",
       "\n",
       "    .dataframe thead th {\n",
       "        text-align: right;\n",
       "    }\n",
       "</style>\n",
       "<table border=\"1\" class=\"dataframe\">\n",
       "  <thead>\n",
       "    <tr style=\"text-align: right;\">\n",
       "      <th></th>\n",
       "      <th>level_0</th>\n",
       "      <th>index</th>\n",
       "      <th>COD. CORTE</th>\n",
       "      <th>CORTE</th>\n",
       "      <th>COD. TRIBUNAL</th>\n",
       "      <th>TRIBUNAL</th>\n",
       "      <th>RIT</th>\n",
       "      <th>TIPO CAUSA</th>\n",
       "      <th>FECHA INGRESO</th>\n",
       "      <th>FECHA TERMINO</th>\n",
       "      <th>DURACIÓN CAUSA</th>\n",
       "      <th>MOTIVO TERMINO</th>\n",
       "      <th>MES TERMINO</th>\n",
       "      <th>AÑO TERMINO</th>\n",
       "      <th>TOTAL TERMINOS</th>\n",
       "    </tr>\n",
       "  </thead>\n",
       "  <tbody>\n",
       "    <tr>\n",
       "      <th>0</th>\n",
       "      <td>0</td>\n",
       "      <td>0</td>\n",
       "      <td>10</td>\n",
       "      <td>C.A. DE ARICA</td>\n",
       "      <td>988</td>\n",
       "      <td>TRIBUNAL DE JUICIO ORAL EN LO PENAL DE ARICA</td>\n",
       "      <td>100-2019</td>\n",
       "      <td>Ordinaria</td>\n",
       "      <td>2019-04-03</td>\n",
       "      <td>2019-05-17</td>\n",
       "      <td>44</td>\n",
       "      <td>SENTENCIA</td>\n",
       "      <td>may-19</td>\n",
       "      <td>2019</td>\n",
       "      <td>1</td>\n",
       "    </tr>\n",
       "    <tr>\n",
       "      <th>1</th>\n",
       "      <td>1</td>\n",
       "      <td>1</td>\n",
       "      <td>10</td>\n",
       "      <td>C.A. DE ARICA</td>\n",
       "      <td>988</td>\n",
       "      <td>TRIBUNAL DE JUICIO ORAL EN LO PENAL DE ARICA</td>\n",
       "      <td>101-2019</td>\n",
       "      <td>Ordinaria</td>\n",
       "      <td>2019-04-04</td>\n",
       "      <td>2019-05-17</td>\n",
       "      <td>43</td>\n",
       "      <td>SENTENCIA</td>\n",
       "      <td>may-19</td>\n",
       "      <td>2019</td>\n",
       "      <td>1</td>\n",
       "    </tr>\n",
       "    <tr>\n",
       "      <th>2</th>\n",
       "      <td>2</td>\n",
       "      <td>2</td>\n",
       "      <td>10</td>\n",
       "      <td>C.A. DE ARICA</td>\n",
       "      <td>988</td>\n",
       "      <td>TRIBUNAL DE JUICIO ORAL EN LO PENAL DE ARICA</td>\n",
       "      <td>10-2019</td>\n",
       "      <td>Ordinaria</td>\n",
       "      <td>2019-01-04</td>\n",
       "      <td>2019-01-29</td>\n",
       "      <td>25</td>\n",
       "      <td>SENTENCIA</td>\n",
       "      <td>ene-19</td>\n",
       "      <td>2019</td>\n",
       "      <td>1</td>\n",
       "    </tr>\n",
       "    <tr>\n",
       "      <th>3</th>\n",
       "      <td>3</td>\n",
       "      <td>3</td>\n",
       "      <td>10</td>\n",
       "      <td>C.A. DE ARICA</td>\n",
       "      <td>988</td>\n",
       "      <td>TRIBUNAL DE JUICIO ORAL EN LO PENAL DE ARICA</td>\n",
       "      <td>102-2019</td>\n",
       "      <td>Ordinaria</td>\n",
       "      <td>2019-04-04</td>\n",
       "      <td>2019-11-20</td>\n",
       "      <td>230</td>\n",
       "      <td>SENTENCIA</td>\n",
       "      <td>nov-19</td>\n",
       "      <td>2019</td>\n",
       "      <td>1</td>\n",
       "    </tr>\n",
       "    <tr>\n",
       "      <th>4</th>\n",
       "      <td>4</td>\n",
       "      <td>4</td>\n",
       "      <td>10</td>\n",
       "      <td>C.A. DE ARICA</td>\n",
       "      <td>988</td>\n",
       "      <td>TRIBUNAL DE JUICIO ORAL EN LO PENAL DE ARICA</td>\n",
       "      <td>103-2019</td>\n",
       "      <td>Ordinaria</td>\n",
       "      <td>2019-04-05</td>\n",
       "      <td>2019-04-10</td>\n",
       "      <td>5</td>\n",
       "      <td>DECLARA SOBRESEIMIENTO DEFINITIVO.</td>\n",
       "      <td>abr-19</td>\n",
       "      <td>2019</td>\n",
       "      <td>1</td>\n",
       "    </tr>\n",
       "    <tr>\n",
       "      <th>...</th>\n",
       "      <td>...</td>\n",
       "      <td>...</td>\n",
       "      <td>...</td>\n",
       "      <td>...</td>\n",
       "      <td>...</td>\n",
       "      <td>...</td>\n",
       "      <td>...</td>\n",
       "      <td>...</td>\n",
       "      <td>...</td>\n",
       "      <td>...</td>\n",
       "      <td>...</td>\n",
       "      <td>...</td>\n",
       "      <td>...</td>\n",
       "      <td>...</td>\n",
       "      <td>...</td>\n",
       "    </tr>\n",
       "    <tr>\n",
       "      <th>3356405</th>\n",
       "      <td>3356826</td>\n",
       "      <td>679953</td>\n",
       "      <td>91</td>\n",
       "      <td>C.A. DE SAN MIGUEL</td>\n",
       "      <td>1355</td>\n",
       "      <td>TRIBUNAL DE JUICIO ORAL EN LO PENAL DE MELIPILLA</td>\n",
       "      <td>86-2014</td>\n",
       "      <td>Ordinaria</td>\n",
       "      <td>2014-12-02</td>\n",
       "      <td>2015-01-31</td>\n",
       "      <td>60</td>\n",
       "      <td>SENTENCIA</td>\n",
       "      <td>ene-15</td>\n",
       "      <td>2015</td>\n",
       "      <td>1</td>\n",
       "    </tr>\n",
       "    <tr>\n",
       "      <th>3356406</th>\n",
       "      <td>3356827</td>\n",
       "      <td>679954</td>\n",
       "      <td>91</td>\n",
       "      <td>C.A. DE SAN MIGUEL</td>\n",
       "      <td>1355</td>\n",
       "      <td>TRIBUNAL DE JUICIO ORAL EN LO PENAL DE MELIPILLA</td>\n",
       "      <td>87-2014</td>\n",
       "      <td>Ordinaria</td>\n",
       "      <td>2014-12-09</td>\n",
       "      <td>2015-01-28</td>\n",
       "      <td>50</td>\n",
       "      <td>SENTENCIA</td>\n",
       "      <td>ene-15</td>\n",
       "      <td>2015</td>\n",
       "      <td>1</td>\n",
       "    </tr>\n",
       "    <tr>\n",
       "      <th>3356407</th>\n",
       "      <td>3356828</td>\n",
       "      <td>679955</td>\n",
       "      <td>91</td>\n",
       "      <td>C.A. DE SAN MIGUEL</td>\n",
       "      <td>1355</td>\n",
       "      <td>TRIBUNAL DE JUICIO ORAL EN LO PENAL DE MELIPILLA</td>\n",
       "      <td>88-2014</td>\n",
       "      <td>Ordinaria</td>\n",
       "      <td>2014-12-30</td>\n",
       "      <td>2015-02-02</td>\n",
       "      <td>34</td>\n",
       "      <td>SENTENCIA</td>\n",
       "      <td>feb-15</td>\n",
       "      <td>2015</td>\n",
       "      <td>1</td>\n",
       "    </tr>\n",
       "    <tr>\n",
       "      <th>3356408</th>\n",
       "      <td>3356829</td>\n",
       "      <td>679956</td>\n",
       "      <td>91</td>\n",
       "      <td>C.A. DE SAN MIGUEL</td>\n",
       "      <td>1355</td>\n",
       "      <td>TRIBUNAL DE JUICIO ORAL EN LO PENAL DE MELIPILLA</td>\n",
       "      <td>90-2013</td>\n",
       "      <td>Ordinaria</td>\n",
       "      <td>2013-12-18</td>\n",
       "      <td>2015-08-17</td>\n",
       "      <td>607</td>\n",
       "      <td>SENTENCIA</td>\n",
       "      <td>ago-15</td>\n",
       "      <td>2015</td>\n",
       "      <td>1</td>\n",
       "    </tr>\n",
       "    <tr>\n",
       "      <th>3356409</th>\n",
       "      <td>3356830</td>\n",
       "      <td>679957</td>\n",
       "      <td>91</td>\n",
       "      <td>C.A. DE SAN MIGUEL</td>\n",
       "      <td>1355</td>\n",
       "      <td>TRIBUNAL DE JUICIO ORAL EN LO PENAL DE MELIPILLA</td>\n",
       "      <td>9-2015</td>\n",
       "      <td>Ordinaria</td>\n",
       "      <td>2015-02-11</td>\n",
       "      <td>2015-03-30</td>\n",
       "      <td>47</td>\n",
       "      <td>SENTENCIA</td>\n",
       "      <td>mar-15</td>\n",
       "      <td>2015</td>\n",
       "      <td>1</td>\n",
       "    </tr>\n",
       "  </tbody>\n",
       "</table>\n",
       "<p>3356410 rows × 15 columns</p>\n",
       "</div>"
      ],
      "text/plain": [
       "         level_0   index  COD. CORTE               CORTE  COD. TRIBUNAL  \\\n",
       "0              0       0          10       C.A. DE ARICA            988   \n",
       "1              1       1          10       C.A. DE ARICA            988   \n",
       "2              2       2          10       C.A. DE ARICA            988   \n",
       "3              3       3          10       C.A. DE ARICA            988   \n",
       "4              4       4          10       C.A. DE ARICA            988   \n",
       "...          ...     ...         ...                 ...            ...   \n",
       "3356405  3356826  679953          91  C.A. DE SAN MIGUEL           1355   \n",
       "3356406  3356827  679954          91  C.A. DE SAN MIGUEL           1355   \n",
       "3356407  3356828  679955          91  C.A. DE SAN MIGUEL           1355   \n",
       "3356408  3356829  679956          91  C.A. DE SAN MIGUEL           1355   \n",
       "3356409  3356830  679957          91  C.A. DE SAN MIGUEL           1355   \n",
       "\n",
       "                                                 TRIBUNAL       RIT  \\\n",
       "0            TRIBUNAL DE JUICIO ORAL EN LO PENAL DE ARICA  100-2019   \n",
       "1            TRIBUNAL DE JUICIO ORAL EN LO PENAL DE ARICA  101-2019   \n",
       "2            TRIBUNAL DE JUICIO ORAL EN LO PENAL DE ARICA   10-2019   \n",
       "3            TRIBUNAL DE JUICIO ORAL EN LO PENAL DE ARICA  102-2019   \n",
       "4            TRIBUNAL DE JUICIO ORAL EN LO PENAL DE ARICA  103-2019   \n",
       "...                                                   ...       ...   \n",
       "3356405  TRIBUNAL DE JUICIO ORAL EN LO PENAL DE MELIPILLA   86-2014   \n",
       "3356406  TRIBUNAL DE JUICIO ORAL EN LO PENAL DE MELIPILLA   87-2014   \n",
       "3356407  TRIBUNAL DE JUICIO ORAL EN LO PENAL DE MELIPILLA   88-2014   \n",
       "3356408  TRIBUNAL DE JUICIO ORAL EN LO PENAL DE MELIPILLA   90-2013   \n",
       "3356409  TRIBUNAL DE JUICIO ORAL EN LO PENAL DE MELIPILLA    9-2015   \n",
       "\n",
       "        TIPO CAUSA FECHA INGRESO FECHA TERMINO DURACIÓN CAUSA  \\\n",
       "0        Ordinaria    2019-04-03    2019-05-17             44   \n",
       "1        Ordinaria    2019-04-04    2019-05-17             43   \n",
       "2        Ordinaria    2019-01-04    2019-01-29             25   \n",
       "3        Ordinaria    2019-04-04    2019-11-20            230   \n",
       "4        Ordinaria    2019-04-05    2019-04-10              5   \n",
       "...            ...           ...           ...            ...   \n",
       "3356405  Ordinaria    2014-12-02    2015-01-31             60   \n",
       "3356406  Ordinaria    2014-12-09    2015-01-28             50   \n",
       "3356407  Ordinaria    2014-12-30    2015-02-02             34   \n",
       "3356408  Ordinaria    2013-12-18    2015-08-17            607   \n",
       "3356409  Ordinaria    2015-02-11    2015-03-30             47   \n",
       "\n",
       "                             MOTIVO TERMINO MES TERMINO  AÑO TERMINO  \\\n",
       "0                                 SENTENCIA      may-19         2019   \n",
       "1                                 SENTENCIA      may-19         2019   \n",
       "2                                 SENTENCIA      ene-19         2019   \n",
       "3                                 SENTENCIA      nov-19         2019   \n",
       "4        DECLARA SOBRESEIMIENTO DEFINITIVO.      abr-19         2019   \n",
       "...                                     ...         ...          ...   \n",
       "3356405                           SENTENCIA      ene-15         2015   \n",
       "3356406                           SENTENCIA      ene-15         2015   \n",
       "3356407                           SENTENCIA      feb-15         2015   \n",
       "3356408                           SENTENCIA      ago-15         2015   \n",
       "3356409                           SENTENCIA      mar-15         2015   \n",
       "\n",
       "         TOTAL TERMINOS  \n",
       "0                     1  \n",
       "1                     1  \n",
       "2                     1  \n",
       "3                     1  \n",
       "4                     1  \n",
       "...                 ...  \n",
       "3356405               1  \n",
       "3356406               1  \n",
       "3356407               1  \n",
       "3356408               1  \n",
       "3356409               1  \n",
       "\n",
       "[3356410 rows x 15 columns]"
      ]
     },
     "execution_count": 36,
     "metadata": {},
     "output_type": "execute_result"
    }
   ],
   "source": [
    "df_duraciones"
   ]
  },
  {
   "cell_type": "code",
   "execution_count": 37,
   "metadata": {},
   "outputs": [],
   "source": [
    "# Guardamos dataset como archivo feather\n",
    "path_interim = \"../data/interim/pjud\"\n",
    "os.makedirs(path_interim, exist_ok = True) \n",
    "\n",
    "df_duraciones.to_feather(f'{path_interim}/Duraciones_feather')"
   ]
  },
  {
   "cell_type": "code",
   "execution_count": null,
   "metadata": {},
   "outputs": [],
   "source": []
  }
 ],
 "metadata": {
  "kernelspec": {
   "display_name": "Python 3",
   "language": "python",
   "name": "python3"
  },
  "language_info": {
   "codemirror_mode": {
    "name": "ipython",
    "version": 3
   },
   "file_extension": ".py",
   "mimetype": "text/x-python",
   "name": "python",
   "nbconvert_exporter": "python",
   "pygments_lexer": "ipython3",
   "version": "3.7.6"
  }
 },
 "nbformat": 4,
 "nbformat_minor": 4
}
