{
 "cells": [
  {
   "cell_type": "markdown",
   "metadata": {},
   "source": [
    "# Generación de Data Única referente a Inventario\n",
    "\n",
    "Transformación de algunos datos para normalizar nombres en columnas"
   ]
  },
  {
   "cell_type": "code",
   "execution_count": 1,
   "metadata": {},
   "outputs": [],
   "source": [
    "import pandas as pd\n",
    "import numpy as np\n",
    "import os\n",
    "from tqdm import tqdm\n",
    "from unicodedata import normalize\n",
    "\n",
    "from src.data import cleandata"
   ]
  },
  {
   "cell_type": "code",
   "execution_count": 2,
   "metadata": {},
   "outputs": [
    {
     "name": "stderr",
     "output_type": "stream",
     "text": [
      "/Users/jalvaradoruiz/opt/anaconda3/lib/python3.7/site-packages/tqdm/std.py:658: FutureWarning: The Panel class is removed from pandas. Accessing it from the top-level namespace will also be removed in the next version\n",
      "  from pandas import Panel\n"
     ]
    }
   ],
   "source": [
    "tqdm.pandas()\n",
    "\n",
    "path_interim = \"../data/interim/pjud\"\n",
    "path_processed = \"../data/processed/pjud\""
   ]
  },
  {
   "cell_type": "markdown",
   "metadata": {},
   "source": [
    "# DATA de TRIBUNALES OBTENIDAS DEL COT"
   ]
  },
  {
   "cell_type": "code",
   "execution_count": 3,
   "metadata": {},
   "outputs": [],
   "source": [
    "# Analizo contra los datos extraidos en COT\n",
    "df_tribunales = pd.read_feather(f\"{path_processed}/ListadoTribunales_feather\")\n",
    "tribunales = df_tribunales['TRIBUNAL'].unique()"
   ]
  },
  {
   "cell_type": "markdown",
   "metadata": {},
   "source": [
    "# DATA INVENTARIO"
   ]
  },
  {
   "cell_type": "code",
   "execution_count": 4,
   "metadata": {},
   "outputs": [
    {
     "data": {
      "text/html": [
       "<div>\n",
       "<style scoped>\n",
       "    .dataframe tbody tr th:only-of-type {\n",
       "        vertical-align: middle;\n",
       "    }\n",
       "\n",
       "    .dataframe tbody tr th {\n",
       "        vertical-align: top;\n",
       "    }\n",
       "\n",
       "    .dataframe thead th {\n",
       "        text-align: right;\n",
       "    }\n",
       "</style>\n",
       "<table border=\"1\" class=\"dataframe\">\n",
       "  <thead>\n",
       "    <tr style=\"text-align: right;\">\n",
       "      <th></th>\n",
       "      <th>level_0</th>\n",
       "      <th>index</th>\n",
       "      <th>COD. CORTE</th>\n",
       "      <th>CORTE</th>\n",
       "      <th>COD. TRIBUNAL</th>\n",
       "      <th>TRIBUNAL</th>\n",
       "      <th>RIT</th>\n",
       "      <th>COMPETENCIA</th>\n",
       "      <th>TIPO CAUSA</th>\n",
       "      <th>COD. MATERIA</th>\n",
       "      <th>MATERIA</th>\n",
       "      <th>TIPO ULT. DILIGENCIA</th>\n",
       "      <th>FECHA ULT. DILIGENCIA</th>\n",
       "      <th>FECHA INGRESO</th>\n",
       "      <th>TOTAL INVENTARIO</th>\n",
       "    </tr>\n",
       "  </thead>\n",
       "  <tbody>\n",
       "    <tr>\n",
       "      <th>967883</th>\n",
       "      <td>968392</td>\n",
       "      <td>152440</td>\n",
       "      <td>50</td>\n",
       "      <td>C.A. DE TEMUCO</td>\n",
       "      <td>939</td>\n",
       "      <td>JUZGADO DE GARANTIA DE VILLARRICA</td>\n",
       "      <td>33-2001</td>\n",
       "      <td>GARANTIA</td>\n",
       "      <td>Ordinaria</td>\n",
       "      <td>0</td>\n",
       "      <td>GIRO DOLOSO DE CHEQUES (SOLO CRIMEN)</td>\n",
       "      <td>AUDIENCIA</td>\n",
       "      <td>2002-06-25</td>\n",
       "      <td>2001-01-24</td>\n",
       "      <td>1</td>\n",
       "    </tr>\n",
       "    <tr>\n",
       "      <th>234658</th>\n",
       "      <td>234721</td>\n",
       "      <td>234726</td>\n",
       "      <td>50</td>\n",
       "      <td>C.A. DE TEMUCO</td>\n",
       "      <td>937</td>\n",
       "      <td>JUZGADO DE GARANTIA DE TEMUCO</td>\n",
       "      <td>658-2001</td>\n",
       "      <td>GARANTIA</td>\n",
       "      <td>Ordinaria</td>\n",
       "      <td>14053</td>\n",
       "      <td>EXPENDIO DE BEBIDA  ALCOHOLICA .</td>\n",
       "      <td>RESOLUCION</td>\n",
       "      <td>2004-03-22</td>\n",
       "      <td>2001-03-06</td>\n",
       "      <td>1</td>\n",
       "    </tr>\n",
       "    <tr>\n",
       "      <th>640386</th>\n",
       "      <td>640697</td>\n",
       "      <td>203091</td>\n",
       "      <td>50</td>\n",
       "      <td>C.A. DE TEMUCO</td>\n",
       "      <td>937</td>\n",
       "      <td>JUZGADO DE GARANTIA DE TEMUCO</td>\n",
       "      <td>658-2001</td>\n",
       "      <td>GARANTIA</td>\n",
       "      <td>Ordinaria</td>\n",
       "      <td>14053</td>\n",
       "      <td>EXPENDIO DE BEBIDAS ALCOHOLICAS.</td>\n",
       "      <td>RESOLUCION</td>\n",
       "      <td>2004-03-22</td>\n",
       "      <td>2001-03-06</td>\n",
       "      <td>1</td>\n",
       "    </tr>\n",
       "    <tr>\n",
       "      <th>959792</th>\n",
       "      <td>960298</td>\n",
       "      <td>144346</td>\n",
       "      <td>50</td>\n",
       "      <td>C.A. DE TEMUCO</td>\n",
       "      <td>937</td>\n",
       "      <td>JUZGADO DE GARANTIA DE TEMUCO</td>\n",
       "      <td>1151-2001</td>\n",
       "      <td>GARANTIA</td>\n",
       "      <td>Ordinaria</td>\n",
       "      <td>0</td>\n",
       "      <td>CONDUC. ESTADO DE EBRIEDAD CON O SIN DAÑOS O L...</td>\n",
       "      <td>AUDIENCIA</td>\n",
       "      <td>2001-10-30</td>\n",
       "      <td>2001-04-06</td>\n",
       "      <td>1</td>\n",
       "    </tr>\n",
       "    <tr>\n",
       "      <th>968718</th>\n",
       "      <td>969227</td>\n",
       "      <td>153275</td>\n",
       "      <td>50</td>\n",
       "      <td>C.A. DE TEMUCO</td>\n",
       "      <td>940</td>\n",
       "      <td>JUZGADO DE GARANTIA DE ANGOL</td>\n",
       "      <td>526-2001</td>\n",
       "      <td>GARANTIA</td>\n",
       "      <td>Ordinaria</td>\n",
       "      <td>0</td>\n",
       "      <td>GIRO DOLOSO DE CHEQUES (SOLO CRIMEN)</td>\n",
       "      <td>RESOLUCION</td>\n",
       "      <td>2014-12-29</td>\n",
       "      <td>2001-04-10</td>\n",
       "      <td>1</td>\n",
       "    </tr>\n",
       "    <tr>\n",
       "      <th>...</th>\n",
       "      <td>...</td>\n",
       "      <td>...</td>\n",
       "      <td>...</td>\n",
       "      <td>...</td>\n",
       "      <td>...</td>\n",
       "      <td>...</td>\n",
       "      <td>...</td>\n",
       "      <td>...</td>\n",
       "      <td>...</td>\n",
       "      <td>...</td>\n",
       "      <td>...</td>\n",
       "      <td>...</td>\n",
       "      <td>...</td>\n",
       "      <td>...</td>\n",
       "      <td>...</td>\n",
       "    </tr>\n",
       "    <tr>\n",
       "      <th>169925</th>\n",
       "      <td>169973</td>\n",
       "      <td>169978</td>\n",
       "      <td>40</td>\n",
       "      <td>C.A. DE TALCA</td>\n",
       "      <td>966</td>\n",
       "      <td>JUZGADO DE GARANTIA DE CAUQUENES</td>\n",
       "      <td>1481-2019</td>\n",
       "      <td>GARANTIA</td>\n",
       "      <td>Ordinaria</td>\n",
       "      <td>13097</td>\n",
       "      <td>OTRA  FALTA  CODIGO PENAL.</td>\n",
       "      <td>RESOLUCION</td>\n",
       "      <td>2019-12-31</td>\n",
       "      <td>2019-12-31</td>\n",
       "      <td>1</td>\n",
       "    </tr>\n",
       "    <tr>\n",
       "      <th>169926</th>\n",
       "      <td>169974</td>\n",
       "      <td>169979</td>\n",
       "      <td>40</td>\n",
       "      <td>C.A. DE TALCA</td>\n",
       "      <td>966</td>\n",
       "      <td>JUZGADO DE GARANTIA DE CAUQUENES</td>\n",
       "      <td>1482-2019</td>\n",
       "      <td>GARANTIA</td>\n",
       "      <td>Ordinaria</td>\n",
       "      <td>802</td>\n",
       "      <td>ROBO CON INTIMIDACION.</td>\n",
       "      <td>RESOLUCION</td>\n",
       "      <td>2019-12-31</td>\n",
       "      <td>2019-12-31</td>\n",
       "      <td>1</td>\n",
       "    </tr>\n",
       "    <tr>\n",
       "      <th>312327</th>\n",
       "      <td>312433</td>\n",
       "      <td>312438</td>\n",
       "      <td>90</td>\n",
       "      <td>C.A. DE SANTIAGO</td>\n",
       "      <td>1224</td>\n",
       "      <td>5º JUZGADO DE GARANTIA DE SANTIAGO</td>\n",
       "      <td>4801-2019</td>\n",
       "      <td>GARANTIA</td>\n",
       "      <td>Ordinaria</td>\n",
       "      <td>710</td>\n",
       "      <td>LE IONE  MENO  GRAVE .</td>\n",
       "      <td>RESOLUCION</td>\n",
       "      <td>2019-12-31</td>\n",
       "      <td>2019-12-31</td>\n",
       "      <td>1</td>\n",
       "    </tr>\n",
       "    <tr>\n",
       "      <th>242084</th>\n",
       "      <td>242150</td>\n",
       "      <td>242155</td>\n",
       "      <td>50</td>\n",
       "      <td>C.A. DE TEMUCO</td>\n",
       "      <td>942</td>\n",
       "      <td>JUZGADO DE GARANTIA DE NUEVA IMPERIAL</td>\n",
       "      <td>1953-2019</td>\n",
       "      <td>GARANTIA</td>\n",
       "      <td>Ordinaria</td>\n",
       "      <td>710</td>\n",
       "      <td>LE IONE  MENO  GRAVE .</td>\n",
       "      <td>AUDIENCIA</td>\n",
       "      <td>2019-12-31</td>\n",
       "      <td>2019-12-31</td>\n",
       "      <td>1</td>\n",
       "    </tr>\n",
       "    <tr>\n",
       "      <th>49898</th>\n",
       "      <td>49906</td>\n",
       "      <td>49906</td>\n",
       "      <td>20</td>\n",
       "      <td>C.A. DE COPIAPO</td>\n",
       "      <td>34</td>\n",
       "      <td>JUZGADO DE LETRAS Y GARANTIA DE FREIRINA</td>\n",
       "      <td>802-2019</td>\n",
       "      <td>GARANTIA</td>\n",
       "      <td>Ordinaria</td>\n",
       "      <td>524</td>\n",
       "      <td>AMENAZAS SIMPLES CONTRA PERSONAS Y PROPIEDADES...</td>\n",
       "      <td>RESOLUCION</td>\n",
       "      <td>2019-12-31</td>\n",
       "      <td>2019-12-31</td>\n",
       "      <td>1</td>\n",
       "    </tr>\n",
       "  </tbody>\n",
       "</table>\n",
       "<p>1785351 rows × 15 columns</p>\n",
       "</div>"
      ],
      "text/plain": [
       "        level_0   index  COD. CORTE             CORTE  COD. TRIBUNAL  \\\n",
       "967883   968392  152440          50    C.A. DE TEMUCO            939   \n",
       "234658   234721  234726          50    C.A. DE TEMUCO            937   \n",
       "640386   640697  203091          50    C.A. DE TEMUCO            937   \n",
       "959792   960298  144346          50    C.A. DE TEMUCO            937   \n",
       "968718   969227  153275          50    C.A. DE TEMUCO            940   \n",
       "...         ...     ...         ...               ...            ...   \n",
       "169925   169973  169978          40     C.A. DE TALCA            966   \n",
       "169926   169974  169979          40     C.A. DE TALCA            966   \n",
       "312327   312433  312438          90  C.A. DE SANTIAGO           1224   \n",
       "242084   242150  242155          50    C.A. DE TEMUCO            942   \n",
       "49898     49906   49906          20   C.A. DE COPIAPO             34   \n",
       "\n",
       "                                        TRIBUNAL        RIT COMPETENCIA  \\\n",
       "967883         JUZGADO DE GARANTIA DE VILLARRICA    33-2001    GARANTIA   \n",
       "234658             JUZGADO DE GARANTIA DE TEMUCO   658-2001    GARANTIA   \n",
       "640386             JUZGADO DE GARANTIA DE TEMUCO   658-2001    GARANTIA   \n",
       "959792             JUZGADO DE GARANTIA DE TEMUCO  1151-2001    GARANTIA   \n",
       "968718              JUZGADO DE GARANTIA DE ANGOL   526-2001    GARANTIA   \n",
       "...                                          ...        ...         ...   \n",
       "169925          JUZGADO DE GARANTIA DE CAUQUENES  1481-2019    GARANTIA   \n",
       "169926          JUZGADO DE GARANTIA DE CAUQUENES  1482-2019    GARANTIA   \n",
       "312327        5º JUZGADO DE GARANTIA DE SANTIAGO  4801-2019    GARANTIA   \n",
       "242084     JUZGADO DE GARANTIA DE NUEVA IMPERIAL  1953-2019    GARANTIA   \n",
       "49898   JUZGADO DE LETRAS Y GARANTIA DE FREIRINA   802-2019    GARANTIA   \n",
       "\n",
       "       TIPO CAUSA  COD. MATERIA  \\\n",
       "967883  Ordinaria             0   \n",
       "234658  Ordinaria         14053   \n",
       "640386  Ordinaria         14053   \n",
       "959792  Ordinaria             0   \n",
       "968718  Ordinaria             0   \n",
       "...           ...           ...   \n",
       "169925  Ordinaria         13097   \n",
       "169926  Ordinaria           802   \n",
       "312327  Ordinaria           710   \n",
       "242084  Ordinaria           710   \n",
       "49898   Ordinaria           524   \n",
       "\n",
       "                                                  MATERIA  \\\n",
       "967883               GIRO DOLOSO DE CHEQUES (SOLO CRIMEN)   \n",
       "234658                   EXPENDIO DE BEBIDA  ALCOHOLICA .   \n",
       "640386                   EXPENDIO DE BEBIDAS ALCOHOLICAS.   \n",
       "959792  CONDUC. ESTADO DE EBRIEDAD CON O SIN DAÑOS O L...   \n",
       "968718               GIRO DOLOSO DE CHEQUES (SOLO CRIMEN)   \n",
       "...                                                   ...   \n",
       "169925                         OTRA  FALTA  CODIGO PENAL.   \n",
       "169926                             ROBO CON INTIMIDACION.   \n",
       "312327                             LE IONE  MENO  GRAVE .   \n",
       "242084                             LE IONE  MENO  GRAVE .   \n",
       "49898   AMENAZAS SIMPLES CONTRA PERSONAS Y PROPIEDADES...   \n",
       "\n",
       "       TIPO ULT. DILIGENCIA FECHA ULT. DILIGENCIA FECHA INGRESO  \\\n",
       "967883            AUDIENCIA            2002-06-25    2001-01-24   \n",
       "234658           RESOLUCION            2004-03-22    2001-03-06   \n",
       "640386           RESOLUCION            2004-03-22    2001-03-06   \n",
       "959792            AUDIENCIA            2001-10-30    2001-04-06   \n",
       "968718           RESOLUCION            2014-12-29    2001-04-10   \n",
       "...                     ...                   ...           ...   \n",
       "169925           RESOLUCION            2019-12-31    2019-12-31   \n",
       "169926           RESOLUCION            2019-12-31    2019-12-31   \n",
       "312327           RESOLUCION            2019-12-31    2019-12-31   \n",
       "242084            AUDIENCIA            2019-12-31    2019-12-31   \n",
       "49898            RESOLUCION            2019-12-31    2019-12-31   \n",
       "\n",
       "        TOTAL INVENTARIO  \n",
       "967883                 1  \n",
       "234658                 1  \n",
       "640386                 1  \n",
       "959792                 1  \n",
       "968718                 1  \n",
       "...                  ...  \n",
       "169925                 1  \n",
       "169926                 1  \n",
       "312327                 1  \n",
       "242084                 1  \n",
       "49898                  1  \n",
       "\n",
       "[1785351 rows x 15 columns]"
      ]
     },
     "execution_count": 4,
     "metadata": {},
     "output_type": "execute_result"
    }
   ],
   "source": [
    "df_inventario = pd.read_feather(f\"{path_interim}/Inventario_feather\")\n",
    "df_inventario.sort_values('FECHA INGRESO')"
   ]
  },
  {
   "cell_type": "code",
   "execution_count": 5,
   "metadata": {},
   "outputs": [
    {
     "name": "stdout",
     "output_type": "stream",
     "text": [
      "Existen 203930 causas ingresadas antes del 01-01-2015\n"
     ]
    }
   ],
   "source": [
    "filtro_fecha = df_inventario[df_inventario['FECHA INGRESO']<='2014-12-31']\n",
    "print(f\"Existen {len(filtro_fecha)} causas ingresadas antes del 01-01-2015\")"
   ]
  },
  {
   "cell_type": "code",
   "execution_count": 6,
   "metadata": {},
   "outputs": [],
   "source": [
    "df_inventario.drop(filtro_fecha.index, axis=0, inplace=True)"
   ]
  },
  {
   "cell_type": "code",
   "execution_count": 7,
   "metadata": {},
   "outputs": [
    {
     "name": "stdout",
     "output_type": "stream",
     "text": [
      "Existen 0 causas sin fecha de ingresos\n"
     ]
    }
   ],
   "source": [
    "filtro_null = df_inventario[df_inventario['FECHA INGRESO'].isnull()]\n",
    "print(f\"Existen {len(filtro_null)} causas sin fecha de ingresos\")"
   ]
  },
  {
   "cell_type": "code",
   "execution_count": 8,
   "metadata": {},
   "outputs": [],
   "source": [
    "df_inventario.drop(filtro_null.index, axis=0, inplace=True)"
   ]
  },
  {
   "cell_type": "code",
   "execution_count": 9,
   "metadata": {},
   "outputs": [
    {
     "name": "stderr",
     "output_type": "stream",
     "text": [
      "100%|██████████| 1581421/1581421 [00:08<00:00, 176172.17it/s]\n"
     ]
    }
   ],
   "source": [
    "# Normalizo nombres\n",
    "\n",
    "df_inventario['TRIBUNAL'] = df_inventario['TRIBUNAL'].progress_apply(cleandata.cambio_nombre_juzgados)"
   ]
  },
  {
   "cell_type": "code",
   "execution_count": 10,
   "metadata": {},
   "outputs": [],
   "source": [
    "# Verifico si coinciden los nombres e imprimo los que estan en conflicto\n",
    "\n",
    "for tribunal in df_inventario['TRIBUNAL'].unique():\n",
    "    if not tribunal in tribunales:\n",
    "        print(tribunal)"
   ]
  },
  {
   "cell_type": "markdown",
   "metadata": {},
   "source": [
    "## Data relacionada a delitos"
   ]
  },
  {
   "cell_type": "code",
   "execution_count": 11,
   "metadata": {},
   "outputs": [
    {
     "data": {
      "text/html": [
       "<div>\n",
       "<style scoped>\n",
       "    .dataframe tbody tr th:only-of-type {\n",
       "        vertical-align: middle;\n",
       "    }\n",
       "\n",
       "    .dataframe tbody tr th {\n",
       "        vertical-align: top;\n",
       "    }\n",
       "\n",
       "    .dataframe thead th {\n",
       "        text-align: right;\n",
       "    }\n",
       "</style>\n",
       "<table border=\"1\" class=\"dataframe\">\n",
       "  <thead>\n",
       "    <tr style=\"text-align: right;\">\n",
       "      <th></th>\n",
       "      <th>index</th>\n",
       "      <th>COD. MATERIA</th>\n",
       "      <th>MATERIA</th>\n",
       "      <th>TIPOLOGIA MATERIA</th>\n",
       "      <th>VIGENCIA MATERIA</th>\n",
       "    </tr>\n",
       "  </thead>\n",
       "  <tbody>\n",
       "    <tr>\n",
       "      <th>0</th>\n",
       "      <td>0</td>\n",
       "      <td>101</td>\n",
       "      <td>QUEBRANTAMIENTO. ART. 90</td>\n",
       "      <td>LIBRO I  TITULO IV   QUEBRANTAMIENTO DE SENTEN...</td>\n",
       "      <td>VIGENTE</td>\n",
       "    </tr>\n",
       "    <tr>\n",
       "      <th>1</th>\n",
       "      <td>1</td>\n",
       "      <td>202</td>\n",
       "      <td>SECUESTRO. ART. 141</td>\n",
       "      <td>LIBRO II  TITULO III  CRIMENES Y SIMPLES DELIT...</td>\n",
       "      <td>VIGENTE</td>\n",
       "    </tr>\n",
       "    <tr>\n",
       "      <th>2</th>\n",
       "      <td>2</td>\n",
       "      <td>203</td>\n",
       "      <td>SUSTRACCION DE MENORES. ART. 142</td>\n",
       "      <td>LIBRO II  TITULO III  CRIMENES Y SIMPLES DELIT...</td>\n",
       "      <td>VIGENTE</td>\n",
       "    </tr>\n",
       "    <tr>\n",
       "      <th>3</th>\n",
       "      <td>3</td>\n",
       "      <td>204</td>\n",
       "      <td>VIOLACION DE MORADA. ART.144</td>\n",
       "      <td>LIBRO II  TITULO III  CRIMENES Y SIMPLES DELIT...</td>\n",
       "      <td>VIGENTE</td>\n",
       "    </tr>\n",
       "    <tr>\n",
       "      <th>4</th>\n",
       "      <td>4</td>\n",
       "      <td>205</td>\n",
       "      <td>APERTURA , REGISTRO O INTERCEPTACION DE CORRE...</td>\n",
       "      <td>LIBRO II  TITULO III  CRIMENES Y SIMPLES DELIT...</td>\n",
       "      <td>VIGENTE</td>\n",
       "    </tr>\n",
       "  </tbody>\n",
       "</table>\n",
       "</div>"
      ],
      "text/plain": [
       "   index  COD. MATERIA                                            MATERIA  \\\n",
       "0      0           101                           QUEBRANTAMIENTO. ART. 90   \n",
       "1      1           202                                SECUESTRO. ART. 141   \n",
       "2      2           203                   SUSTRACCION DE MENORES. ART. 142   \n",
       "3      3           204                       VIOLACION DE MORADA. ART.144   \n",
       "4      4           205   APERTURA , REGISTRO O INTERCEPTACION DE CORRE...   \n",
       "\n",
       "                                   TIPOLOGIA MATERIA VIGENCIA MATERIA  \n",
       "0  LIBRO I  TITULO IV   QUEBRANTAMIENTO DE SENTEN...          VIGENTE  \n",
       "1  LIBRO II  TITULO III  CRIMENES Y SIMPLES DELIT...          VIGENTE  \n",
       "2  LIBRO II  TITULO III  CRIMENES Y SIMPLES DELIT...          VIGENTE  \n",
       "3  LIBRO II  TITULO III  CRIMENES Y SIMPLES DELIT...          VIGENTE  \n",
       "4  LIBRO II  TITULO III  CRIMENES Y SIMPLES DELIT...          VIGENTE  "
      ]
     },
     "execution_count": 11,
     "metadata": {},
     "output_type": "execute_result"
    }
   ],
   "source": [
    "df_delitos = pd.read_feather(f\"{path_processed}/Delitos_feather\")\n",
    "df_delitos.head()"
   ]
  },
  {
   "cell_type": "code",
   "execution_count": 12,
   "metadata": {},
   "outputs": [
    {
     "name": "stdout",
     "output_type": "stream",
     "text": [
      "Existen 541 codigos de delitos\n"
     ]
    }
   ],
   "source": [
    "codigos_cot = df_delitos['COD. MATERIA'].unique()\n",
    "print(f\"Existen {len(codigos_cot)} codigos de delitos\")"
   ]
  },
  {
   "cell_type": "markdown",
   "metadata": {},
   "source": [
    "## Delitos en INVENTARIO"
   ]
  },
  {
   "cell_type": "code",
   "execution_count": 13,
   "metadata": {},
   "outputs": [],
   "source": [
    "codigos_delitos = df_inventario['COD. MATERIA'].unique()"
   ]
  },
  {
   "cell_type": "code",
   "execution_count": 14,
   "metadata": {},
   "outputs": [
    {
     "data": {
      "text/plain": [
       "447"
      ]
     },
     "execution_count": 14,
     "metadata": {},
     "output_type": "execute_result"
    }
   ],
   "source": [
    "len(codigos_delitos)"
   ]
  },
  {
   "cell_type": "code",
   "execution_count": 15,
   "metadata": {},
   "outputs": [],
   "source": [
    "codigos_no_encontrados = []\n",
    "for delito in codigos_delitos:\n",
    "    if not delito in codigos_cot:\n",
    "        codigos_no_encontrados.append(delito)"
   ]
  },
  {
   "cell_type": "code",
   "execution_count": 16,
   "metadata": {},
   "outputs": [
    {
     "data": {
      "text/plain": [
       "[13001, -31075, 4014, 4013, 4010, 4011, 0]"
      ]
     },
     "execution_count": 16,
     "metadata": {},
     "output_type": "execute_result"
    }
   ],
   "source": [
    "codigos_no_encontrados"
   ]
  },
  {
   "cell_type": "code",
   "execution_count": 17,
   "metadata": {},
   "outputs": [],
   "source": [
    "codigos_sin_registro = df_inventario[df_inventario['COD. MATERIA'].isin(codigos_no_encontrados)]\n",
    "\n",
    "# Analizar caso a caso:"
   ]
  },
  {
   "cell_type": "markdown",
   "metadata": {},
   "source": [
    "#### Caso Codigo 13001 -> LESIONES LEVES\n",
    "Este codigo debe tratarse como 13036 identificado como: LESIONES LEVES 494 Nº 5 CÓDIGO PENAL"
   ]
  },
  {
   "cell_type": "code",
   "execution_count": 18,
   "metadata": {},
   "outputs": [],
   "source": [
    "df_inventario['COD. MATERIA'] = df_inventario['COD. MATERIA'].replace(13001,13036)"
   ]
  },
  {
   "cell_type": "markdown",
   "metadata": {},
   "source": [
    "### Codigos 4011, 4014, 4013, 4010, -31075, 0\n",
    "codigos No vigentes, mal cargados en sistemas "
   ]
  },
  {
   "cell_type": "code",
   "execution_count": 19,
   "metadata": {},
   "outputs": [],
   "source": [
    "filtro_codigo_4011 = df_inventario[df_inventario['COD. MATERIA']==4011]\n",
    "filtro_codigo_4014 = df_inventario[df_inventario['COD. MATERIA']==4014]\n",
    "filtro_codigo_4013 = df_inventario[df_inventario['COD. MATERIA']==4013]\n",
    "filtro_codigo_4010 = df_inventario[df_inventario['COD. MATERIA']==4010]\n",
    "filtro_codigo_31075 = df_inventario[df_inventario['COD. MATERIA']==31075]\n",
    "filtro_codigo_0 = df_inventario[df_inventario['COD. MATERIA']==0]"
   ]
  },
  {
   "cell_type": "code",
   "execution_count": 20,
   "metadata": {},
   "outputs": [],
   "source": [
    "df_inventario.drop(filtro_codigo_4011.index, axis = 0, inplace = True)\n",
    "df_inventario.drop(filtro_codigo_4014.index, axis = 0, inplace = True)\n",
    "df_inventario.drop(filtro_codigo_4013.index, axis = 0, inplace = True)\n",
    "df_inventario.drop(filtro_codigo_4010.index, axis = 0, inplace = True)\n",
    "df_inventario.drop(filtro_codigo_31075.index, axis = 0, inplace = True)\n",
    "df_inventario.drop(filtro_codigo_0.index, axis = 0, inplace = True)"
   ]
  },
  {
   "cell_type": "markdown",
   "metadata": {},
   "source": [
    "## CARGA DATA A ARCHIVOS FUTHER"
   ]
  },
  {
   "cell_type": "code",
   "execution_count": 22,
   "metadata": {},
   "outputs": [],
   "source": [
    "# Directorio donde se guardaran archivos feather\n",
    "df_inventario.reset_index(inplace=True, drop=True)\n",
    "os.makedirs(path_processed, exist_ok = True)  \n",
    "# Guardamos dataset como archivo feather\n",
    "df_inventario.to_feather(f'{path_processed}/Inventario_feather')"
   ]
  },
  {
   "cell_type": "code",
   "execution_count": null,
   "metadata": {},
   "outputs": [],
   "source": []
  }
 ],
 "metadata": {
  "kernelspec": {
   "display_name": "Python 3",
   "language": "python",
   "name": "python3"
  },
  "language_info": {
   "codemirror_mode": {
    "name": "ipython",
    "version": 3
   },
   "file_extension": ".py",
   "mimetype": "text/x-python",
   "name": "python",
   "nbconvert_exporter": "python",
   "pygments_lexer": "ipython3",
   "version": "3.7.6"
  }
 },
 "nbformat": 4,
 "nbformat_minor": 4
}
