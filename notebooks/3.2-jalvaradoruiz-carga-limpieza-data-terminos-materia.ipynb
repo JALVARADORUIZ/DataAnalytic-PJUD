{
 "cells": [
  {
   "cell_type": "markdown",
   "metadata": {},
   "source": [
    "# Carga Data TERMINO X MATERIA\n",
    "\n",
    "Creación del DataFrame asociado a los terminos por materia\n",
    "\n",
    "Rev: 29-10-2020"
   ]
  },
  {
   "cell_type": "code",
   "execution_count": 1,
   "metadata": {},
   "outputs": [],
   "source": [
    "import os\n",
    "import pandas as pd\n",
    "import numpy as np\n",
    "from pyarrow import feather\n",
    "from tqdm import tqdm\n",
    "\n",
    "from src.data import cleandata"
   ]
  },
  {
   "cell_type": "code",
   "execution_count": 2,
   "metadata": {},
   "outputs": [
    {
     "name": "stderr",
     "output_type": "stream",
     "text": [
      "/Users/jalvaradoruiz/opt/anaconda3/lib/python3.7/site-packages/tqdm/std.py:658: FutureWarning: The Panel class is removed from pandas. Accessing it from the top-level namespace will also be removed in the next version\n",
      "  from pandas import Panel\n"
     ]
    }
   ],
   "source": [
    "path_raw = \"../data/raw/pjud\" \n",
    "archivos = os.listdir(path_raw) \n",
    "tqdm.pandas()"
   ]
  },
  {
   "cell_type": "code",
   "execution_count": 3,
   "metadata": {},
   "outputs": [],
   "source": [
    "#creacion dataframe con los datos de Términos por Materia Penal de los años 2015 a 2020\n",
    "\n",
    "dataframes = []\n",
    "\n",
    "for archivo in archivos:\n",
    "    if archivo.find(\"Términos por Materia Penal\") != -1:\n",
    "        df = pd.read_csv(f\"{path_raw}/{archivo}\", sep = \";\", encoding = 'cp850', low_memory = True)\n",
    "        dataframes.append(df) \n",
    "        \n",
    "df_termino_materia = pd.concat(dataframes, axis = 0)"
   ]
  },
  {
   "cell_type": "code",
   "execution_count": 4,
   "metadata": {
    "scrolled": true
   },
   "outputs": [
    {
     "data": {
      "text/plain": [
       "Index(['N°', 'CÓD. CORTE', 'CORTE', 'CÓD. TRIBUNAL', 'TRIBUNAL', 'RIT',\n",
       "       'TIPO CAUSA', 'CÓD. MATERIA', 'MATERIA', 'FECHA INGRESO',\n",
       "       'FECHA TÉRMINO', 'MES TÉRMINO', 'AÑO TÉRMINO', 'MOTIVO DE TÉRMINO',\n",
       "       'DURACIÓN CAUSA', 'TOTAL TÉRMINOS', 'SISTEMA'],\n",
       "      dtype='object')"
      ]
     },
     "execution_count": 4,
     "metadata": {},
     "output_type": "execute_result"
    }
   ],
   "source": [
    "df_termino_materia.columns"
   ]
  },
  {
   "cell_type": "code",
   "execution_count": 11,
   "metadata": {},
   "outputs": [
    {
     "data": {
      "text/plain": [
       "array(['SIAGJ', 'METGE'], dtype=object)"
      ]
     },
     "execution_count": 11,
     "metadata": {},
     "output_type": "execute_result"
    }
   ],
   "source": [
    "df_termino_materia['SISTEMA'].unique()"
   ]
  },
  {
   "cell_type": "markdown",
   "metadata": {},
   "source": [
    "Elimino los registros asociados a Sistema METGE (METAS DE GESTION) ya que son causas para realizar cumplimiento de KPI"
   ]
  },
  {
   "cell_type": "code",
   "execution_count": 12,
   "metadata": {},
   "outputs": [],
   "source": [
    "df_metge = df_termino_materia[df_termino_materia['SISTEMA']=='METGE']\n",
    "df_termino_materia.drop(df_metge.index, axis=0, inplace=True)"
   ]
  },
  {
   "cell_type": "code",
   "execution_count": 13,
   "metadata": {},
   "outputs": [],
   "source": [
    "# Estandarización de nombres de variables\n",
    "\n",
    "df_termino_materia.rename(columns = {'CÓD. CORTE':'COD. CORTE',\n",
    "                                     'CÓD. TRIBUNAL':'COD. TRIBUNAL',\n",
    "                                     'CÓD. MATERIA':'COD. MATERIA',\n",
    "                                     'MOTIVO DE TÉRMINO':'MOTIVO TERMINO',\n",
    "                                     'DURACIÓN CAUSA':'DURACION CAUSA',\n",
    "                                     'FECHA TÉRMINO':'FECHA TERMINO',\n",
    "                                     'MES TÉRMINO':'MES TERMINO',\n",
    "                                     'AÑO TÉRMINO':'AÑO TERMINO',\n",
    "                                     'TOTAL TÉRMINOS':'TOTAL TERMINOS'\n",
    "                                    },inplace = True)\n",
    "\n",
    "df_termino_materia.drop(['N°','SISTEMA'], axis = 'columns', inplace = True)"
   ]
  },
  {
   "cell_type": "code",
   "execution_count": 14,
   "metadata": {},
   "outputs": [],
   "source": [
    "# TRANSFORMAMOS DE FLOAT A INTEGER\n",
    "\n",
    "df_termino_materia['COD. CORTE'] = df_termino_materia['COD. CORTE'].fillna(0).astype(np.int16)\n",
    "df_termino_materia['COD. TRIBUNAL'] = df_termino_materia['COD. TRIBUNAL'].fillna(0).astype(np.int16)\n",
    "df_termino_materia['COD. MATERIA'] = df_termino_materia['COD. MATERIA'].fillna(0).astype(np.int16)\n",
    "df_termino_materia['DURACION CAUSA'] = df_termino_materia['DURACION CAUSA'].fillna(0).astype(np.int16)\n",
    "df_termino_materia['AÑO TERMINO'] = df_termino_materia['AÑO TERMINO'].fillna(0).astype(np.int16)\n",
    "df_termino_materia['TOTAL TERMINOS'] = df_termino_materia['TOTAL TERMINOS'].fillna(0).astype(np.int8)"
   ]
  },
  {
   "cell_type": "code",
   "execution_count": 15,
   "metadata": {},
   "outputs": [
    {
     "name": "stderr",
     "output_type": "stream",
     "text": [
      "100%|██████████| 3605987/3605987 [00:06<00:00, 543308.44it/s]\n",
      "100%|██████████| 3605987/3605987 [00:06<00:00, 549472.10it/s]\n"
     ]
    }
   ],
   "source": [
    "# Transformamos formato fecha\n",
    "\n",
    "df_termino_materia['FECHA INGRESO'] = df_termino_materia['FECHA INGRESO'].progress_apply(cleandata.convierte_fecha)\n",
    "df_termino_materia['FECHA TERMINO'] = df_termino_materia['FECHA TERMINO'].progress_apply(cleandata.convierte_fecha)"
   ]
  },
  {
   "cell_type": "code",
   "execution_count": 16,
   "metadata": {},
   "outputs": [
    {
     "name": "stderr",
     "output_type": "stream",
     "text": [
      "100%|██████████| 15/15 [00:32<00:00,  2.18s/it]\n"
     ]
    }
   ],
   "source": [
    "# Elimino espacios en las columnas tipo objetos\n",
    "\n",
    "df_termino_materia = df_termino_materia.progress_apply(cleandata.elimina_espacios, axis=0)"
   ]
  },
  {
   "cell_type": "code",
   "execution_count": 17,
   "metadata": {},
   "outputs": [
    {
     "name": "stderr",
     "output_type": "stream",
     "text": [
      "100%|██████████| 7/7 [01:02<00:00,  8.94s/it]\n"
     ]
    }
   ],
   "source": [
    "# Elimino tildes de object\n",
    "\n",
    "cols = df_termino_materia.select_dtypes(include = [\"object\"]).columns\n",
    "df_termino_materia[cols] = df_termino_materia[cols].progress_apply(cleandata.elimina_tilde)"
   ]
  },
  {
   "cell_type": "code",
   "execution_count": 18,
   "metadata": {},
   "outputs": [],
   "source": [
    "# Categorizar variables\n",
    "\n",
    "df_termino_materia['CORTE'] = df_termino_materia['CORTE'].astype('category')\n",
    "df_termino_materia['MOTIVO TERMINO'] = df_termino_materia['MOTIVO TERMINO'].astype('category')"
   ]
  },
  {
   "cell_type": "markdown",
   "metadata": {},
   "source": [
    "Dejo solo causas Ordinarias"
   ]
  },
  {
   "cell_type": "code",
   "execution_count": 22,
   "metadata": {},
   "outputs": [
    {
     "data": {
      "text/plain": [
       "[Ordinaria, Militar, Extradición]\n",
       "Categories (3, object): [Ordinaria, Militar, Extradición]"
      ]
     },
     "execution_count": 22,
     "metadata": {},
     "output_type": "execute_result"
    }
   ],
   "source": [
    "df_termino_materia['TIPO CAUSA'].unique()"
   ]
  },
  {
   "cell_type": "code",
   "execution_count": 23,
   "metadata": {},
   "outputs": [],
   "source": [
    "tipo_causa = df_termino_materia[df_termino_materia['TIPO CAUSA']!='Ordinaria']"
   ]
  },
  {
   "cell_type": "code",
   "execution_count": 24,
   "metadata": {},
   "outputs": [],
   "source": [
    "df_termino_materia.drop(tipo_causa.index, axis=0, inplace=True)"
   ]
  },
  {
   "cell_type": "code",
   "execution_count": 25,
   "metadata": {},
   "outputs": [],
   "source": [
    "# Reset el index para realizar feather\n",
    "\n",
    "df_termino_materia.reset_index(inplace = True)"
   ]
  },
  {
   "cell_type": "code",
   "execution_count": 26,
   "metadata": {
    "scrolled": true
   },
   "outputs": [
    {
     "data": {
      "text/html": [
       "<div>\n",
       "<style scoped>\n",
       "    .dataframe tbody tr th:only-of-type {\n",
       "        vertical-align: middle;\n",
       "    }\n",
       "\n",
       "    .dataframe tbody tr th {\n",
       "        vertical-align: top;\n",
       "    }\n",
       "\n",
       "    .dataframe thead th {\n",
       "        text-align: right;\n",
       "    }\n",
       "</style>\n",
       "<table border=\"1\" class=\"dataframe\">\n",
       "  <thead>\n",
       "    <tr style=\"text-align: right;\">\n",
       "      <th></th>\n",
       "      <th>level_0</th>\n",
       "      <th>index</th>\n",
       "      <th>COD. CORTE</th>\n",
       "      <th>CORTE</th>\n",
       "      <th>COD. TRIBUNAL</th>\n",
       "      <th>TRIBUNAL</th>\n",
       "      <th>RIT</th>\n",
       "      <th>TIPO CAUSA</th>\n",
       "      <th>COD. MATERIA</th>\n",
       "      <th>MATERIA</th>\n",
       "      <th>FECHA INGRESO</th>\n",
       "      <th>FECHA TERMINO</th>\n",
       "      <th>MES TERMINO</th>\n",
       "      <th>AÑO TERMINO</th>\n",
       "      <th>MOTIVO TERMINO</th>\n",
       "      <th>DURACION CAUSA</th>\n",
       "      <th>TOTAL TERMINOS</th>\n",
       "    </tr>\n",
       "  </thead>\n",
       "  <tbody>\n",
       "    <tr>\n",
       "      <th>0</th>\n",
       "      <td>0</td>\n",
       "      <td>0</td>\n",
       "      <td>10</td>\n",
       "      <td>C.A. DE ARICA</td>\n",
       "      <td>988</td>\n",
       "      <td>TRIBUNAL DE JUICIO ORAL EN LO PENAL DE ARICA</td>\n",
       "      <td>100-2018</td>\n",
       "      <td>Ordinaria</td>\n",
       "      <td>7007</td>\n",
       "      <td>TRAFICO ILICITO DE DROGAS (ART. 3).</td>\n",
       "      <td>2018-04-02</td>\n",
       "      <td>2018-06-01</td>\n",
       "      <td>jun-18</td>\n",
       "      <td>2018</td>\n",
       "      <td>SENTENCIA</td>\n",
       "      <td>60</td>\n",
       "      <td>1</td>\n",
       "    </tr>\n",
       "    <tr>\n",
       "      <th>1</th>\n",
       "      <td>1</td>\n",
       "      <td>1</td>\n",
       "      <td>10</td>\n",
       "      <td>C.A. DE ARICA</td>\n",
       "      <td>988</td>\n",
       "      <td>TRIBUNAL DE JUICIO ORAL EN LO PENAL DE ARICA</td>\n",
       "      <td>100-2018</td>\n",
       "      <td>Ordinaria</td>\n",
       "      <td>10004</td>\n",
       "      <td>PORTE ILEGAL DE ARMA DE FUEGO, MUNICIONES Y OT...</td>\n",
       "      <td>2018-04-02</td>\n",
       "      <td>2018-06-01</td>\n",
       "      <td>jun-18</td>\n",
       "      <td>2018</td>\n",
       "      <td>SENTENCIA</td>\n",
       "      <td>60</td>\n",
       "      <td>1</td>\n",
       "    </tr>\n",
       "    <tr>\n",
       "      <th>2</th>\n",
       "      <td>2</td>\n",
       "      <td>2</td>\n",
       "      <td>10</td>\n",
       "      <td>C.A. DE ARICA</td>\n",
       "      <td>988</td>\n",
       "      <td>TRIBUNAL DE JUICIO ORAL EN LO PENAL DE ARICA</td>\n",
       "      <td>101-2018</td>\n",
       "      <td>Ordinaria</td>\n",
       "      <td>12149</td>\n",
       "      <td>DESACATO (ART. 240 CODIGO DE PROCEDIMIENTO CIV...</td>\n",
       "      <td>2018-04-02</td>\n",
       "      <td>2018-08-29</td>\n",
       "      <td>ago-18</td>\n",
       "      <td>2018</td>\n",
       "      <td>SENTENCIA</td>\n",
       "      <td>149</td>\n",
       "      <td>1</td>\n",
       "    </tr>\n",
       "    <tr>\n",
       "      <th>3</th>\n",
       "      <td>3</td>\n",
       "      <td>3</td>\n",
       "      <td>10</td>\n",
       "      <td>C.A. DE ARICA</td>\n",
       "      <td>988</td>\n",
       "      <td>TRIBUNAL DE JUICIO ORAL EN LO PENAL DE ARICA</td>\n",
       "      <td>10-2018</td>\n",
       "      <td>Ordinaria</td>\n",
       "      <td>7037</td>\n",
       "      <td>TRAFICO DE PEQUEÑAS CANTIDADES (ART. 4).</td>\n",
       "      <td>2018-01-10</td>\n",
       "      <td>2018-03-14</td>\n",
       "      <td>mar-18</td>\n",
       "      <td>2018</td>\n",
       "      <td>SENTENCIA</td>\n",
       "      <td>63</td>\n",
       "      <td>1</td>\n",
       "    </tr>\n",
       "    <tr>\n",
       "      <th>4</th>\n",
       "      <td>4</td>\n",
       "      <td>4</td>\n",
       "      <td>10</td>\n",
       "      <td>C.A. DE ARICA</td>\n",
       "      <td>988</td>\n",
       "      <td>TRIBUNAL DE JUICIO ORAL EN LO PENAL DE ARICA</td>\n",
       "      <td>102-2018</td>\n",
       "      <td>Ordinaria</td>\n",
       "      <td>812</td>\n",
       "      <td>RECEPTACION. ART. 456 BIS A.</td>\n",
       "      <td>2018-04-02</td>\n",
       "      <td>2018-05-29</td>\n",
       "      <td>may-18</td>\n",
       "      <td>2018</td>\n",
       "      <td>SENTENCIA</td>\n",
       "      <td>57</td>\n",
       "      <td>1</td>\n",
       "    </tr>\n",
       "    <tr>\n",
       "      <th>...</th>\n",
       "      <td>...</td>\n",
       "      <td>...</td>\n",
       "      <td>...</td>\n",
       "      <td>...</td>\n",
       "      <td>...</td>\n",
       "      <td>...</td>\n",
       "      <td>...</td>\n",
       "      <td>...</td>\n",
       "      <td>...</td>\n",
       "      <td>...</td>\n",
       "      <td>...</td>\n",
       "      <td>...</td>\n",
       "      <td>...</td>\n",
       "      <td>...</td>\n",
       "      <td>...</td>\n",
       "      <td>...</td>\n",
       "      <td>...</td>\n",
       "    </tr>\n",
       "    <tr>\n",
       "      <th>3605458</th>\n",
       "      <td>3605982</td>\n",
       "      <td>721902</td>\n",
       "      <td>91</td>\n",
       "      <td>C.A. DE SAN MIGUEL</td>\n",
       "      <td>1355</td>\n",
       "      <td>TRIBUNAL DE JUICIO ORAL EN LO PENAL DE MELIPILLA</td>\n",
       "      <td>98-2015</td>\n",
       "      <td>Ordinaria</td>\n",
       "      <td>901</td>\n",
       "      <td>CUASIDELITO DE LESIONES: ART 490, 491 INC 2° Y...</td>\n",
       "      <td>2015-12-17</td>\n",
       "      <td>2016-05-21</td>\n",
       "      <td>may-16</td>\n",
       "      <td>2016</td>\n",
       "      <td>SENTENCIA</td>\n",
       "      <td>156</td>\n",
       "      <td>1</td>\n",
       "    </tr>\n",
       "    <tr>\n",
       "      <th>3605459</th>\n",
       "      <td>3605983</td>\n",
       "      <td>721903</td>\n",
       "      <td>91</td>\n",
       "      <td>C.A. DE SAN MIGUEL</td>\n",
       "      <td>1355</td>\n",
       "      <td>TRIBUNAL DE JUICIO ORAL EN LO PENAL DE MELIPILLA</td>\n",
       "      <td>98-2015</td>\n",
       "      <td>Ordinaria</td>\n",
       "      <td>12077</td>\n",
       "      <td>NO DAR CUENTA DE ACCIDENTE DE TRANSITOART. 195...</td>\n",
       "      <td>2015-12-17</td>\n",
       "      <td>2016-05-21</td>\n",
       "      <td>may-16</td>\n",
       "      <td>2016</td>\n",
       "      <td>SENTENCIA</td>\n",
       "      <td>156</td>\n",
       "      <td>1</td>\n",
       "    </tr>\n",
       "    <tr>\n",
       "      <th>3605460</th>\n",
       "      <td>3605984</td>\n",
       "      <td>721904</td>\n",
       "      <td>91</td>\n",
       "      <td>C.A. DE SAN MIGUEL</td>\n",
       "      <td>1355</td>\n",
       "      <td>TRIBUNAL DE JUICIO ORAL EN LO PENAL DE MELIPILLA</td>\n",
       "      <td>98-2016</td>\n",
       "      <td>Ordinaria</td>\n",
       "      <td>10008</td>\n",
       "      <td>PORTE DE ARMA PROHIBIDA (ART. 14 INC. 1°)</td>\n",
       "      <td>2016-07-27</td>\n",
       "      <td>2016-11-08</td>\n",
       "      <td>nov-16</td>\n",
       "      <td>2016</td>\n",
       "      <td>SENTENCIA</td>\n",
       "      <td>104</td>\n",
       "      <td>1</td>\n",
       "    </tr>\n",
       "    <tr>\n",
       "      <th>3605461</th>\n",
       "      <td>3605985</td>\n",
       "      <td>721905</td>\n",
       "      <td>91</td>\n",
       "      <td>C.A. DE SAN MIGUEL</td>\n",
       "      <td>1355</td>\n",
       "      <td>TRIBUNAL DE JUICIO ORAL EN LO PENAL DE MELIPILLA</td>\n",
       "      <td>99-2015</td>\n",
       "      <td>Ordinaria</td>\n",
       "      <td>12082</td>\n",
       "      <td>AMENAZASA CARABINEROS (ART. 417 COD. J.MILITAR).</td>\n",
       "      <td>2015-12-17</td>\n",
       "      <td>2016-01-18</td>\n",
       "      <td>ene-16</td>\n",
       "      <td>2016</td>\n",
       "      <td>SENTENCIA</td>\n",
       "      <td>32</td>\n",
       "      <td>1</td>\n",
       "    </tr>\n",
       "    <tr>\n",
       "      <th>3605462</th>\n",
       "      <td>3605986</td>\n",
       "      <td>721906</td>\n",
       "      <td>91</td>\n",
       "      <td>C.A. DE SAN MIGUEL</td>\n",
       "      <td>1355</td>\n",
       "      <td>TRIBUNAL DE JUICIO ORAL EN LO PENAL DE MELIPILLA</td>\n",
       "      <td>99-2016</td>\n",
       "      <td>Ordinaria</td>\n",
       "      <td>812</td>\n",
       "      <td>RECEPTACION. ART. 456 BIS A.</td>\n",
       "      <td>2016-08-03</td>\n",
       "      <td>2016-09-16</td>\n",
       "      <td>sept-16</td>\n",
       "      <td>2016</td>\n",
       "      <td>SENTENCIA</td>\n",
       "      <td>44</td>\n",
       "      <td>1</td>\n",
       "    </tr>\n",
       "  </tbody>\n",
       "</table>\n",
       "<p>3605463 rows × 17 columns</p>\n",
       "</div>"
      ],
      "text/plain": [
       "         level_0   index  COD. CORTE               CORTE  COD. TRIBUNAL  \\\n",
       "0              0       0          10       C.A. DE ARICA            988   \n",
       "1              1       1          10       C.A. DE ARICA            988   \n",
       "2              2       2          10       C.A. DE ARICA            988   \n",
       "3              3       3          10       C.A. DE ARICA            988   \n",
       "4              4       4          10       C.A. DE ARICA            988   \n",
       "...          ...     ...         ...                 ...            ...   \n",
       "3605458  3605982  721902          91  C.A. DE SAN MIGUEL           1355   \n",
       "3605459  3605983  721903          91  C.A. DE SAN MIGUEL           1355   \n",
       "3605460  3605984  721904          91  C.A. DE SAN MIGUEL           1355   \n",
       "3605461  3605985  721905          91  C.A. DE SAN MIGUEL           1355   \n",
       "3605462  3605986  721906          91  C.A. DE SAN MIGUEL           1355   \n",
       "\n",
       "                                                 TRIBUNAL       RIT  \\\n",
       "0            TRIBUNAL DE JUICIO ORAL EN LO PENAL DE ARICA  100-2018   \n",
       "1            TRIBUNAL DE JUICIO ORAL EN LO PENAL DE ARICA  100-2018   \n",
       "2            TRIBUNAL DE JUICIO ORAL EN LO PENAL DE ARICA  101-2018   \n",
       "3            TRIBUNAL DE JUICIO ORAL EN LO PENAL DE ARICA   10-2018   \n",
       "4            TRIBUNAL DE JUICIO ORAL EN LO PENAL DE ARICA  102-2018   \n",
       "...                                                   ...       ...   \n",
       "3605458  TRIBUNAL DE JUICIO ORAL EN LO PENAL DE MELIPILLA   98-2015   \n",
       "3605459  TRIBUNAL DE JUICIO ORAL EN LO PENAL DE MELIPILLA   98-2015   \n",
       "3605460  TRIBUNAL DE JUICIO ORAL EN LO PENAL DE MELIPILLA   98-2016   \n",
       "3605461  TRIBUNAL DE JUICIO ORAL EN LO PENAL DE MELIPILLA   99-2015   \n",
       "3605462  TRIBUNAL DE JUICIO ORAL EN LO PENAL DE MELIPILLA   99-2016   \n",
       "\n",
       "        TIPO CAUSA  COD. MATERIA  \\\n",
       "0        Ordinaria          7007   \n",
       "1        Ordinaria         10004   \n",
       "2        Ordinaria         12149   \n",
       "3        Ordinaria          7037   \n",
       "4        Ordinaria           812   \n",
       "...            ...           ...   \n",
       "3605458  Ordinaria           901   \n",
       "3605459  Ordinaria         12077   \n",
       "3605460  Ordinaria         10008   \n",
       "3605461  Ordinaria         12082   \n",
       "3605462  Ordinaria           812   \n",
       "\n",
       "                                                   MATERIA FECHA INGRESO  \\\n",
       "0                      TRAFICO ILICITO DE DROGAS (ART. 3).    2018-04-02   \n",
       "1        PORTE ILEGAL DE ARMA DE FUEGO, MUNICIONES Y OT...    2018-04-02   \n",
       "2        DESACATO (ART. 240 CODIGO DE PROCEDIMIENTO CIV...    2018-04-02   \n",
       "3                 TRAFICO DE PEQUEÑAS CANTIDADES (ART. 4).    2018-01-10   \n",
       "4                             RECEPTACION. ART. 456 BIS A.    2018-04-02   \n",
       "...                                                    ...           ...   \n",
       "3605458  CUASIDELITO DE LESIONES: ART 490, 491 INC 2° Y...    2015-12-17   \n",
       "3605459  NO DAR CUENTA DE ACCIDENTE DE TRANSITOART. 195...    2015-12-17   \n",
       "3605460          PORTE DE ARMA PROHIBIDA (ART. 14 INC. 1°)    2016-07-27   \n",
       "3605461   AMENAZASA CARABINEROS (ART. 417 COD. J.MILITAR).    2015-12-17   \n",
       "3605462                       RECEPTACION. ART. 456 BIS A.    2016-08-03   \n",
       "\n",
       "        FECHA TERMINO MES TERMINO  AÑO TERMINO MOTIVO TERMINO  DURACION CAUSA  \\\n",
       "0          2018-06-01      jun-18         2018      SENTENCIA              60   \n",
       "1          2018-06-01      jun-18         2018      SENTENCIA              60   \n",
       "2          2018-08-29      ago-18         2018      SENTENCIA             149   \n",
       "3          2018-03-14      mar-18         2018      SENTENCIA              63   \n",
       "4          2018-05-29      may-18         2018      SENTENCIA              57   \n",
       "...               ...         ...          ...            ...             ...   \n",
       "3605458    2016-05-21      may-16         2016      SENTENCIA             156   \n",
       "3605459    2016-05-21      may-16         2016      SENTENCIA             156   \n",
       "3605460    2016-11-08      nov-16         2016      SENTENCIA             104   \n",
       "3605461    2016-01-18      ene-16         2016      SENTENCIA              32   \n",
       "3605462    2016-09-16     sept-16         2016      SENTENCIA              44   \n",
       "\n",
       "         TOTAL TERMINOS  \n",
       "0                     1  \n",
       "1                     1  \n",
       "2                     1  \n",
       "3                     1  \n",
       "4                     1  \n",
       "...                 ...  \n",
       "3605458               1  \n",
       "3605459               1  \n",
       "3605460               1  \n",
       "3605461               1  \n",
       "3605462               1  \n",
       "\n",
       "[3605463 rows x 17 columns]"
      ]
     },
     "execution_count": 26,
     "metadata": {},
     "output_type": "execute_result"
    }
   ],
   "source": [
    "df_termino_materia"
   ]
  },
  {
   "cell_type": "code",
   "execution_count": 27,
   "metadata": {},
   "outputs": [],
   "source": [
    "# Guardamos dataset como archivo feather\n",
    "path_interim = \"../data/interim/pjud\"\n",
    "os.makedirs(path_interim, exist_ok = True) \n",
    "\n",
    "df_termino_materia.to_feather(f'{path_interim}/TerminoMateria.feather')"
   ]
  },
  {
   "cell_type": "code",
   "execution_count": null,
   "metadata": {},
   "outputs": [],
   "source": []
  }
 ],
 "metadata": {
  "kernelspec": {
   "display_name": "Python 3",
   "language": "python",
   "name": "python3"
  },
  "language_info": {
   "codemirror_mode": {
    "name": "ipython",
    "version": 3
   },
   "file_extension": ".py",
   "mimetype": "text/x-python",
   "name": "python",
   "nbconvert_exporter": "python",
   "pygments_lexer": "ipython3",
   "version": "3.7.6"
  }
 },
 "nbformat": 4,
 "nbformat_minor": 4
}
