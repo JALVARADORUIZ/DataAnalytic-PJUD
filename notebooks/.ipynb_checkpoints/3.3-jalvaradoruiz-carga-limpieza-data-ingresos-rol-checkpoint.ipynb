{
 "cells": [
  {
   "cell_type": "markdown",
   "metadata": {},
   "source": [
    "# Carga Data INGRESOS X ROL\n",
    "\n",
    "Creación del DataFrame asociado a los Ingresos por rol\n",
    "\n",
    "Rev: 29-10-2020"
   ]
  },
  {
   "cell_type": "code",
   "execution_count": 1,
   "metadata": {},
   "outputs": [],
   "source": [
    "import os\n",
    "import pandas as pd\n",
    "import numpy as np\n",
    "from pyarrow import feather\n",
    "from tqdm import tqdm\n",
    "\n",
    "from src.data import cleandata"
   ]
  },
  {
   "cell_type": "code",
   "execution_count": 2,
   "metadata": {},
   "outputs": [
    {
     "name": "stderr",
     "output_type": "stream",
     "text": [
      "/Users/jalvaradoruiz/opt/anaconda3/lib/python3.7/site-packages/tqdm/std.py:658: FutureWarning: The Panel class is removed from pandas. Accessing it from the top-level namespace will also be removed in the next version\n",
      "  from pandas import Panel\n"
     ]
    }
   ],
   "source": [
    "path_raw = \"../data/raw/pjud\" \n",
    "archivos = os.listdir(path_raw) \n",
    "tqdm.pandas()"
   ]
  },
  {
   "cell_type": "code",
   "execution_count": 3,
   "metadata": {},
   "outputs": [
    {
     "data": {
      "text/plain": [
       "N°                int64\n",
       "COD. CORTE        int64\n",
       "CORTE            object\n",
       "COD. TRIBUNAL     int64\n",
       "TRIBUNAL         object\n",
       "RIT              object\n",
       "TIPO CAUSA       object\n",
       "FECHA INGRESO    object\n",
       "MES INGRESO      object\n",
       "AÑO INGRESO       int64\n",
       "dtype: object"
      ]
     },
     "execution_count": 3,
     "metadata": {},
     "output_type": "execute_result"
    }
   ],
   "source": [
    "# Creacion dataframe con los datos de Ingresos por Rol Penal de los años 2015 a 2019\n",
    "dataframes = []\n",
    "\n",
    "for archivo in archivos:\n",
    "    if archivo.find(\"Ingresos por Rol Penal\") != -1:\n",
    "        df = pd.read_csv(f\"{path_raw}/{archivo}\", sep = \";\", encoding = 'cp850', low_memory = True)\n",
    "        dataframes.append(df) \n",
    "        \n",
    "df_ingresos_rol = pd.concat(dataframes, axis = 0)\n",
    "df_ingresos_rol.dtypes"
   ]
  },
  {
   "cell_type": "code",
   "execution_count": 4,
   "metadata": {},
   "outputs": [],
   "source": [
    "# Transformamos variables float64 a int16\n",
    "\n",
    "df_ingresos_rol['COD. CORTE'] = df_ingresos_rol['COD. CORTE'].fillna(0).astype(np.int16)\n",
    "df_ingresos_rol['COD. TRIBUNAL'] = df_ingresos_rol['COD. TRIBUNAL'].fillna(0).astype(np.int16)\n",
    "df_ingresos_rol['AÑO INGRESO'] = df_ingresos_rol['AÑO INGRESO'].fillna(0).astype(np.int16)\n",
    "df_ingresos_rol.drop(['N°'], axis = 'columns', inplace = True)"
   ]
  },
  {
   "cell_type": "code",
   "execution_count": 5,
   "metadata": {},
   "outputs": [
    {
     "name": "stderr",
     "output_type": "stream",
     "text": [
      "100%|██████████| 2980977/2980977 [00:05<00:00, 557521.57it/s]\n"
     ]
    }
   ],
   "source": [
    "df_ingresos_rol['FECHA INGRESO'] = df_ingresos_rol['FECHA INGRESO'].progress_apply(cleandata.convierte_fecha)"
   ]
  },
  {
   "cell_type": "code",
   "execution_count": 6,
   "metadata": {},
   "outputs": [
    {
     "name": "stderr",
     "output_type": "stream",
     "text": [
      "100%|██████████| 9/9 [00:14<00:00,  1.64s/it]\n"
     ]
    }
   ],
   "source": [
    "# Elimino espacios en las columnas tipo objetos\n",
    "\n",
    "df_ingresos_rol = df_ingresos_rol.progress_apply(cleandata.elimina_espacios, axis=0)"
   ]
  },
  {
   "cell_type": "code",
   "execution_count": 7,
   "metadata": {},
   "outputs": [
    {
     "name": "stderr",
     "output_type": "stream",
     "text": [
      "100%|██████████| 5/5 [00:38<00:00,  7.62s/it]\n"
     ]
    }
   ],
   "source": [
    "# Elimino tildes de las columnas object\n",
    "\n",
    "cols = df_ingresos_rol.select_dtypes(include = [\"object\"]).columns\n",
    "df_ingresos_rol[cols] = df_ingresos_rol[cols].progress_apply(cleandata.elimina_tilde)"
   ]
  },
  {
   "cell_type": "code",
   "execution_count": 11,
   "metadata": {},
   "outputs": [],
   "source": [
    "# Transformamos en variables categoricas\n",
    "\n",
    "df_ingresos_rol['CORTE'] = df_ingresos_rol['CORTE'].astype('category')"
   ]
  },
  {
   "cell_type": "markdown",
   "metadata": {},
   "source": [
    "Dejo solo causas Ordinarias"
   ]
  },
  {
   "cell_type": "code",
   "execution_count": 12,
   "metadata": {},
   "outputs": [
    {
     "data": {
      "text/plain": [
       "[Ordinaria, Militar, Extradición]\n",
       "Categories (3, object): [Ordinaria, Militar, Extradición]"
      ]
     },
     "execution_count": 12,
     "metadata": {},
     "output_type": "execute_result"
    }
   ],
   "source": [
    "df_ingresos_rol['TIPO CAUSA'].unique()"
   ]
  },
  {
   "cell_type": "code",
   "execution_count": 13,
   "metadata": {},
   "outputs": [],
   "source": [
    "tipo_causa = df_ingresos_rol[df_ingresos_rol['TIPO CAUSA']!='Ordinaria']"
   ]
  },
  {
   "cell_type": "code",
   "execution_count": 14,
   "metadata": {},
   "outputs": [],
   "source": [
    "df_ingresos_rol.drop(tipo_causa.index, axis=0, inplace=True)"
   ]
  },
  {
   "cell_type": "code",
   "execution_count": 15,
   "metadata": {},
   "outputs": [
    {
     "data": {
      "text/html": [
       "<div>\n",
       "<style scoped>\n",
       "    .dataframe tbody tr th:only-of-type {\n",
       "        vertical-align: middle;\n",
       "    }\n",
       "\n",
       "    .dataframe tbody tr th {\n",
       "        vertical-align: top;\n",
       "    }\n",
       "\n",
       "    .dataframe thead th {\n",
       "        text-align: right;\n",
       "    }\n",
       "</style>\n",
       "<table border=\"1\" class=\"dataframe\">\n",
       "  <thead>\n",
       "    <tr style=\"text-align: right;\">\n",
       "      <th></th>\n",
       "      <th>level_0</th>\n",
       "      <th>index</th>\n",
       "      <th>COD. CORTE</th>\n",
       "      <th>CORTE</th>\n",
       "      <th>COD. TRIBUNAL</th>\n",
       "      <th>TRIBUNAL</th>\n",
       "      <th>RIT</th>\n",
       "      <th>TIPO CAUSA</th>\n",
       "      <th>FECHA INGRESO</th>\n",
       "      <th>MES INGRESO</th>\n",
       "      <th>AÑO INGRESO</th>\n",
       "    </tr>\n",
       "  </thead>\n",
       "  <tbody>\n",
       "    <tr>\n",
       "      <th>0</th>\n",
       "      <td>0</td>\n",
       "      <td>0</td>\n",
       "      <td>10</td>\n",
       "      <td>C.A. DE ARICA</td>\n",
       "      <td>988</td>\n",
       "      <td>TRIBUNAL DE JUICIO ORAL EN LO PENAL DE ARICA</td>\n",
       "      <td>1-2018</td>\n",
       "      <td>Ordinaria</td>\n",
       "      <td>2018-01-02</td>\n",
       "      <td>ene-18</td>\n",
       "      <td>2018</td>\n",
       "    </tr>\n",
       "    <tr>\n",
       "      <th>1</th>\n",
       "      <td>1</td>\n",
       "      <td>1</td>\n",
       "      <td>10</td>\n",
       "      <td>C.A. DE ARICA</td>\n",
       "      <td>988</td>\n",
       "      <td>TRIBUNAL DE JUICIO ORAL EN LO PENAL DE ARICA</td>\n",
       "      <td>2-2018</td>\n",
       "      <td>Ordinaria</td>\n",
       "      <td>2018-01-03</td>\n",
       "      <td>ene-18</td>\n",
       "      <td>2018</td>\n",
       "    </tr>\n",
       "    <tr>\n",
       "      <th>2</th>\n",
       "      <td>2</td>\n",
       "      <td>2</td>\n",
       "      <td>10</td>\n",
       "      <td>C.A. DE ARICA</td>\n",
       "      <td>988</td>\n",
       "      <td>TRIBUNAL DE JUICIO ORAL EN LO PENAL DE ARICA</td>\n",
       "      <td>3-2018</td>\n",
       "      <td>Ordinaria</td>\n",
       "      <td>2018-01-03</td>\n",
       "      <td>ene-18</td>\n",
       "      <td>2018</td>\n",
       "    </tr>\n",
       "    <tr>\n",
       "      <th>3</th>\n",
       "      <td>3</td>\n",
       "      <td>3</td>\n",
       "      <td>10</td>\n",
       "      <td>C.A. DE ARICA</td>\n",
       "      <td>988</td>\n",
       "      <td>TRIBUNAL DE JUICIO ORAL EN LO PENAL DE ARICA</td>\n",
       "      <td>4-2018</td>\n",
       "      <td>Ordinaria</td>\n",
       "      <td>2018-01-03</td>\n",
       "      <td>ene-18</td>\n",
       "      <td>2018</td>\n",
       "    </tr>\n",
       "    <tr>\n",
       "      <th>4</th>\n",
       "      <td>4</td>\n",
       "      <td>4</td>\n",
       "      <td>10</td>\n",
       "      <td>C.A. DE ARICA</td>\n",
       "      <td>988</td>\n",
       "      <td>TRIBUNAL DE JUICIO ORAL EN LO PENAL DE ARICA</td>\n",
       "      <td>5-2018</td>\n",
       "      <td>Ordinaria</td>\n",
       "      <td>2018-01-03</td>\n",
       "      <td>ene-18</td>\n",
       "      <td>2018</td>\n",
       "    </tr>\n",
       "    <tr>\n",
       "      <th>...</th>\n",
       "      <td>...</td>\n",
       "      <td>...</td>\n",
       "      <td>...</td>\n",
       "      <td>...</td>\n",
       "      <td>...</td>\n",
       "      <td>...</td>\n",
       "      <td>...</td>\n",
       "      <td>...</td>\n",
       "      <td>...</td>\n",
       "      <td>...</td>\n",
       "      <td>...</td>\n",
       "    </tr>\n",
       "    <tr>\n",
       "      <th>2980478</th>\n",
       "      <td>2980972</td>\n",
       "      <td>583609</td>\n",
       "      <td>91</td>\n",
       "      <td>C.A. DE SAN MIGUEL</td>\n",
       "      <td>1355</td>\n",
       "      <td>TRIBUNAL DE JUICIO ORAL EN LO PENAL DE MELIPILLA</td>\n",
       "      <td>167-2016</td>\n",
       "      <td>Ordinaria</td>\n",
       "      <td>2016-12-21</td>\n",
       "      <td>dic-16</td>\n",
       "      <td>2016</td>\n",
       "    </tr>\n",
       "    <tr>\n",
       "      <th>2980479</th>\n",
       "      <td>2980973</td>\n",
       "      <td>583610</td>\n",
       "      <td>91</td>\n",
       "      <td>C.A. DE SAN MIGUEL</td>\n",
       "      <td>1355</td>\n",
       "      <td>TRIBUNAL DE JUICIO ORAL EN LO PENAL DE MELIPILLA</td>\n",
       "      <td>168-2016</td>\n",
       "      <td>Ordinaria</td>\n",
       "      <td>2016-12-22</td>\n",
       "      <td>dic-16</td>\n",
       "      <td>2016</td>\n",
       "    </tr>\n",
       "    <tr>\n",
       "      <th>2980480</th>\n",
       "      <td>2980974</td>\n",
       "      <td>583611</td>\n",
       "      <td>91</td>\n",
       "      <td>C.A. DE SAN MIGUEL</td>\n",
       "      <td>1355</td>\n",
       "      <td>TRIBUNAL DE JUICIO ORAL EN LO PENAL DE MELIPILLA</td>\n",
       "      <td>169-2016</td>\n",
       "      <td>Ordinaria</td>\n",
       "      <td>2016-12-22</td>\n",
       "      <td>dic-16</td>\n",
       "      <td>2016</td>\n",
       "    </tr>\n",
       "    <tr>\n",
       "      <th>2980481</th>\n",
       "      <td>2980975</td>\n",
       "      <td>583612</td>\n",
       "      <td>91</td>\n",
       "      <td>C.A. DE SAN MIGUEL</td>\n",
       "      <td>1355</td>\n",
       "      <td>TRIBUNAL DE JUICIO ORAL EN LO PENAL DE MELIPILLA</td>\n",
       "      <td>170-2016</td>\n",
       "      <td>Ordinaria</td>\n",
       "      <td>2016-12-27</td>\n",
       "      <td>dic-16</td>\n",
       "      <td>2016</td>\n",
       "    </tr>\n",
       "    <tr>\n",
       "      <th>2980482</th>\n",
       "      <td>2980976</td>\n",
       "      <td>583613</td>\n",
       "      <td>91</td>\n",
       "      <td>C.A. DE SAN MIGUEL</td>\n",
       "      <td>1355</td>\n",
       "      <td>TRIBUNAL DE JUICIO ORAL EN LO PENAL DE MELIPILLA</td>\n",
       "      <td>171-2016</td>\n",
       "      <td>Ordinaria</td>\n",
       "      <td>2016-12-29</td>\n",
       "      <td>dic-16</td>\n",
       "      <td>2016</td>\n",
       "    </tr>\n",
       "  </tbody>\n",
       "</table>\n",
       "<p>2980483 rows × 11 columns</p>\n",
       "</div>"
      ],
      "text/plain": [
       "         level_0   index  COD. CORTE               CORTE  COD. TRIBUNAL  \\\n",
       "0              0       0          10       C.A. DE ARICA            988   \n",
       "1              1       1          10       C.A. DE ARICA            988   \n",
       "2              2       2          10       C.A. DE ARICA            988   \n",
       "3              3       3          10       C.A. DE ARICA            988   \n",
       "4              4       4          10       C.A. DE ARICA            988   \n",
       "...          ...     ...         ...                 ...            ...   \n",
       "2980478  2980972  583609          91  C.A. DE SAN MIGUEL           1355   \n",
       "2980479  2980973  583610          91  C.A. DE SAN MIGUEL           1355   \n",
       "2980480  2980974  583611          91  C.A. DE SAN MIGUEL           1355   \n",
       "2980481  2980975  583612          91  C.A. DE SAN MIGUEL           1355   \n",
       "2980482  2980976  583613          91  C.A. DE SAN MIGUEL           1355   \n",
       "\n",
       "                                                 TRIBUNAL       RIT  \\\n",
       "0            TRIBUNAL DE JUICIO ORAL EN LO PENAL DE ARICA    1-2018   \n",
       "1            TRIBUNAL DE JUICIO ORAL EN LO PENAL DE ARICA    2-2018   \n",
       "2            TRIBUNAL DE JUICIO ORAL EN LO PENAL DE ARICA    3-2018   \n",
       "3            TRIBUNAL DE JUICIO ORAL EN LO PENAL DE ARICA    4-2018   \n",
       "4            TRIBUNAL DE JUICIO ORAL EN LO PENAL DE ARICA    5-2018   \n",
       "...                                                   ...       ...   \n",
       "2980478  TRIBUNAL DE JUICIO ORAL EN LO PENAL DE MELIPILLA  167-2016   \n",
       "2980479  TRIBUNAL DE JUICIO ORAL EN LO PENAL DE MELIPILLA  168-2016   \n",
       "2980480  TRIBUNAL DE JUICIO ORAL EN LO PENAL DE MELIPILLA  169-2016   \n",
       "2980481  TRIBUNAL DE JUICIO ORAL EN LO PENAL DE MELIPILLA  170-2016   \n",
       "2980482  TRIBUNAL DE JUICIO ORAL EN LO PENAL DE MELIPILLA  171-2016   \n",
       "\n",
       "        TIPO CAUSA FECHA INGRESO MES INGRESO  AÑO INGRESO  \n",
       "0        Ordinaria    2018-01-02      ene-18         2018  \n",
       "1        Ordinaria    2018-01-03      ene-18         2018  \n",
       "2        Ordinaria    2018-01-03      ene-18         2018  \n",
       "3        Ordinaria    2018-01-03      ene-18         2018  \n",
       "4        Ordinaria    2018-01-03      ene-18         2018  \n",
       "...            ...           ...         ...          ...  \n",
       "2980478  Ordinaria    2016-12-21      dic-16         2016  \n",
       "2980479  Ordinaria    2016-12-22      dic-16         2016  \n",
       "2980480  Ordinaria    2016-12-22      dic-16         2016  \n",
       "2980481  Ordinaria    2016-12-27      dic-16         2016  \n",
       "2980482  Ordinaria    2016-12-29      dic-16         2016  \n",
       "\n",
       "[2980483 rows x 11 columns]"
      ]
     },
     "execution_count": 15,
     "metadata": {},
     "output_type": "execute_result"
    }
   ],
   "source": [
    "# Reset el index para realizar feather\n",
    "\n",
    "df_ingresos_rol.reset_index(inplace = True)\n",
    "df_ingresos_rol"
   ]
  },
  {
   "cell_type": "code",
   "execution_count": 16,
   "metadata": {},
   "outputs": [],
   "source": [
    "# Guardamos dataset como archivo feather\n",
    "path_interim = \"../data/interim/pjud\"\n",
    "os.makedirs(path_interim, exist_ok = True) \n",
    "\n",
    "df_ingresos_rol.to_feather(f'{path_interim}/IngresosRol_feather')"
   ]
  },
  {
   "cell_type": "code",
   "execution_count": null,
   "metadata": {},
   "outputs": [],
   "source": []
  }
 ],
 "metadata": {
  "kernelspec": {
   "display_name": "Python 3",
   "language": "python",
   "name": "python3"
  },
  "language_info": {
   "codemirror_mode": {
    "name": "ipython",
    "version": 3
   },
   "file_extension": ".py",
   "mimetype": "text/x-python",
   "name": "python",
   "nbconvert_exporter": "python",
   "pygments_lexer": "ipython3",
   "version": "3.7.6"
  }
 },
 "nbformat": 4,
 "nbformat_minor": 4
}
