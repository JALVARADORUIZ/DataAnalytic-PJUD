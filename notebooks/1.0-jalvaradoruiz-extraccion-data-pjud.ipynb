{
 "cells": [
  {
   "cell_type": "markdown",
   "metadata": {},
   "source": [
    "# Extraccion datos desde https://numeros.pjud.cl/Descargas\n",
    "\n",
    "### Extraccion de los datos referentes a causas penales desde 2015 a 2019\n",
    "\n",
    "#### REV: 16-10-2020 "
   ]
  },
  {
   "cell_type": "code",
   "execution_count": 1,
   "metadata": {},
   "outputs": [
    {
     "data": {
      "text/plain": [
       "<multiprocessing.pool.IMapUnorderedIterator at 0x7fee5bcd2290>"
      ]
     },
     "execution_count": 1,
     "metadata": {},
     "output_type": "execute_result"
    }
   ],
   "source": [
    "import requests\n",
    "from multiprocessing.pool import ThreadPool\n",
    "\n",
    "\n",
    "materias = ['penal']\n",
    "categorias = ['Ingresos','Terminos','Inventario','Duracion','Audiencias']\n",
    "\n",
    "\n",
    "años = list(range(2015,2020))\n",
    "files = []\n",
    "\n",
    "\n",
    "def url_response(url):\n",
    "    path, url = url\n",
    "    descarga = requests.get(url, stream = True)\n",
    "    with open(path, 'wb') as f:\n",
    "        for chunk in descarga:\n",
    "            f.write(chunk)\n",
    "\n",
    "for año in años:\n",
    "    for materia in materias:\n",
    "        for categoria in categorias:           \n",
    "            url = f\"https://numeros.pjud.cl/descargas/{materia}/{categoria}/{categoria}-{año}-CSV.zip\"\n",
    "            name_file = f\"{materia}-{categoria}-{año}.zip\"\n",
    "            files.append((name_file,url))\n",
    "     \n",
    "    \n",
    "# Descargo archivos           \n",
    "ThreadPool(9).imap_unordered(url_response, files)\n",
    "\n"
   ]
  },
  {
   "cell_type": "code",
   "execution_count": 2,
   "metadata": {},
   "outputs": [],
   "source": [
    "# Mover los archivos zip a Carpeta Download (se dejan afuera los archivos zip vacios)\n",
    "import os\n",
    "import shutil\n",
    "\n",
    "os.mkdir(\"../data/external/zip\")\n",
    "\n",
    "archivos = os.listdir(\".\")\n",
    "\n",
    "for archivo in archivos:\n",
    "    path = os.getcwd() + \"/\" + archivo\n",
    "    tamaño_archivo = os.path.getsize(path)\n",
    "    if archivo.find(\".zip\") != -1 and tamaño_archivo != 2487:\n",
    "        shutil.move(archivo,'../data/external/zip/'+archivo)\n"
   ]
  },
  {
   "cell_type": "code",
   "execution_count": null,
   "metadata": {},
   "outputs": [],
   "source": []
  }
 ],
 "metadata": {
  "kernelspec": {
   "display_name": "Python 3",
   "language": "python",
   "name": "python3"
  },
  "language_info": {
   "codemirror_mode": {
    "name": "ipython",
    "version": 3
   },
   "file_extension": ".py",
   "mimetype": "text/x-python",
   "name": "python",
   "nbconvert_exporter": "python",
   "pygments_lexer": "ipython3",
   "version": "3.7.6"
  }
 },
 "nbformat": 4,
 "nbformat_minor": 4
}
